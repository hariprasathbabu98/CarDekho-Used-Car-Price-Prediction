{
 "cells": [
  {
   "cell_type": "code",
   "execution_count": 12,
   "metadata": {},
   "outputs": [],
   "source": [
    "import pandas as pd\n",
    "import numpy as np\n",
    "import json\n",
    "import glob\n",
    "import os\n",
    "import seaborn as sns\n",
    "import matplotlib.pyplot as plt\n",
    "\n",
    "import warnings\n",
    "\n",
    "warnings.filterwarnings(\"ignore\", category=FutureWarning)\n",
    "pd.set_option('display.max_column', 50)"
   ]
  },
  {
   "cell_type": "code",
   "execution_count": null,
   "metadata": {},
   "outputs": [],
   "source": [
    "pip install openpyxl"
   ]
  },
  {
   "cell_type": "code",
   "execution_count": 73,
   "metadata": {},
   "outputs": [],
   "source": [
    "def read_file(): #reading files inside the folders\n",
    "    \n",
    "    import glob\n",
    "    directory_path = r'src/Dataset' #\n",
    "\n",
    "    # filenames = glob.glob(path + \"\\*.xlsx\")\n",
    "    excel_files = glob.glob(os.path.join(directory_path, '*.xlsx'))\n",
    "    excel_files.sort()\n",
    "#     print('File names:', csv_filenames)\n",
    "    \n",
    "    return excel_files"
   ]
  },
  {
   "cell_type": "code",
   "execution_count": 74,
   "metadata": {},
   "outputs": [],
   "source": [
    "def create_frames(excel_files):\n",
    "    files = []\n",
    "    dict_data = {'new_car_detail': [], 'new_car_overview': [], 'new_car_feature': [],\n",
    "                      'new_car_specs': [], 'car_links': [], 'place': []}\n",
    "    main_frame = pd.DataFrame(dict_data)\n",
    "    \n",
    "    for index, file in enumerate(excel_files):\n",
    "        df = pd.read_excel(file)\n",
    "        \n",
    "        # Extract the filename without extension\n",
    "        f = os.path.splitext(os.path.basename(file))[0]\n",
    "        \n",
    "        files.append(f'{index},{f}')\n",
    "        city_name = f.split(\"_\")[0]\n",
    "        df['place'] = city_name\n",
    "        main_frame = pd.concat([main_frame, df], axis=0)\n",
    "        \n",
    "    return files, main_frame\n",
    "\n",
    "\n",
    "\n"
   ]
  },
  {
   "cell_type": "code",
   "execution_count": 75,
   "metadata": {},
   "outputs": [
    {
     "name": "stdout",
     "output_type": "stream",
     "text": [
      "Cities Available ['0,bangalore_cars', '1,chennai_cars', '2,delhi_cars', '3,hyderabad_cars', '4,jaipur_cars', '5,kolkata_cars']\n"
     ]
    },
    {
     "data": {
      "text/html": [
       "<div>\n",
       "<style scoped>\n",
       "    .dataframe tbody tr th:only-of-type {\n",
       "        vertical-align: middle;\n",
       "    }\n",
       "\n",
       "    .dataframe tbody tr th {\n",
       "        vertical-align: top;\n",
       "    }\n",
       "\n",
       "    .dataframe thead th {\n",
       "        text-align: right;\n",
       "    }\n",
       "</style>\n",
       "<table border=\"1\" class=\"dataframe\">\n",
       "  <thead>\n",
       "    <tr style=\"text-align: right;\">\n",
       "      <th></th>\n",
       "      <th>new_car_detail</th>\n",
       "      <th>new_car_overview</th>\n",
       "      <th>new_car_feature</th>\n",
       "      <th>new_car_specs</th>\n",
       "      <th>car_links</th>\n",
       "      <th>place</th>\n",
       "    </tr>\n",
       "  </thead>\n",
       "  <tbody>\n",
       "    <tr>\n",
       "      <th>0</th>\n",
       "      <td>{'it': 0, 'ft': 'Petrol', 'bt': 'Hatchback', '...</td>\n",
       "      <td>{'heading': 'Car overview', 'top': [{'key': 'R...</td>\n",
       "      <td>{'heading': 'Features', 'top': [{'value': 'Pow...</td>\n",
       "      <td>{'heading': 'Specifications', 'top': [{'key': ...</td>\n",
       "      <td>https://www.cardekho.com/used-car-details/used...</td>\n",
       "      <td>bangalore</td>\n",
       "    </tr>\n",
       "    <tr>\n",
       "      <th>1</th>\n",
       "      <td>{'it': 0, 'ft': 'Petrol', 'bt': 'SUV', 'km': '...</td>\n",
       "      <td>{'heading': 'Car overview', 'top': [{'key': 'R...</td>\n",
       "      <td>{'heading': 'Features', 'top': [{'value': 'Pow...</td>\n",
       "      <td>{'heading': 'Specifications', 'top': [{'key': ...</td>\n",
       "      <td>https://www.cardekho.com/buy-used-car-details/...</td>\n",
       "      <td>bangalore</td>\n",
       "    </tr>\n",
       "    <tr>\n",
       "      <th>2</th>\n",
       "      <td>{'it': 0, 'ft': 'Petrol', 'bt': 'Hatchback', '...</td>\n",
       "      <td>{'heading': 'Car overview', 'top': [{'key': 'R...</td>\n",
       "      <td>{'heading': 'Features', 'top': [{'value': 'Pow...</td>\n",
       "      <td>{'heading': 'Specifications', 'top': [{'key': ...</td>\n",
       "      <td>https://www.cardekho.com/used-car-details/used...</td>\n",
       "      <td>bangalore</td>\n",
       "    </tr>\n",
       "    <tr>\n",
       "      <th>3</th>\n",
       "      <td>{'it': 0, 'ft': 'Petrol', 'bt': 'Sedan', 'km':...</td>\n",
       "      <td>{'heading': 'Car overview', 'top': [{'key': 'R...</td>\n",
       "      <td>{'heading': 'Features', 'top': [{'value': 'Pow...</td>\n",
       "      <td>{'heading': 'Specifications', 'top': [{'key': ...</td>\n",
       "      <td>https://www.cardekho.com/buy-used-car-details/...</td>\n",
       "      <td>bangalore</td>\n",
       "    </tr>\n",
       "    <tr>\n",
       "      <th>4</th>\n",
       "      <td>{'it': 0, 'ft': 'Diesel', 'bt': 'SUV', 'km': '...</td>\n",
       "      <td>{'heading': 'Car overview', 'top': [{'key': 'R...</td>\n",
       "      <td>{'heading': 'Features', 'top': [{'value': 'Pow...</td>\n",
       "      <td>{'heading': 'Specifications', 'top': [{'key': ...</td>\n",
       "      <td>https://www.cardekho.com/used-car-details/used...</td>\n",
       "      <td>bangalore</td>\n",
       "    </tr>\n",
       "  </tbody>\n",
       "</table>\n",
       "</div>"
      ],
      "text/plain": [
       "                                      new_car_detail  \\\n",
       "0  {'it': 0, 'ft': 'Petrol', 'bt': 'Hatchback', '...   \n",
       "1  {'it': 0, 'ft': 'Petrol', 'bt': 'SUV', 'km': '...   \n",
       "2  {'it': 0, 'ft': 'Petrol', 'bt': 'Hatchback', '...   \n",
       "3  {'it': 0, 'ft': 'Petrol', 'bt': 'Sedan', 'km':...   \n",
       "4  {'it': 0, 'ft': 'Diesel', 'bt': 'SUV', 'km': '...   \n",
       "\n",
       "                                    new_car_overview  \\\n",
       "0  {'heading': 'Car overview', 'top': [{'key': 'R...   \n",
       "1  {'heading': 'Car overview', 'top': [{'key': 'R...   \n",
       "2  {'heading': 'Car overview', 'top': [{'key': 'R...   \n",
       "3  {'heading': 'Car overview', 'top': [{'key': 'R...   \n",
       "4  {'heading': 'Car overview', 'top': [{'key': 'R...   \n",
       "\n",
       "                                     new_car_feature  \\\n",
       "0  {'heading': 'Features', 'top': [{'value': 'Pow...   \n",
       "1  {'heading': 'Features', 'top': [{'value': 'Pow...   \n",
       "2  {'heading': 'Features', 'top': [{'value': 'Pow...   \n",
       "3  {'heading': 'Features', 'top': [{'value': 'Pow...   \n",
       "4  {'heading': 'Features', 'top': [{'value': 'Pow...   \n",
       "\n",
       "                                       new_car_specs  \\\n",
       "0  {'heading': 'Specifications', 'top': [{'key': ...   \n",
       "1  {'heading': 'Specifications', 'top': [{'key': ...   \n",
       "2  {'heading': 'Specifications', 'top': [{'key': ...   \n",
       "3  {'heading': 'Specifications', 'top': [{'key': ...   \n",
       "4  {'heading': 'Specifications', 'top': [{'key': ...   \n",
       "\n",
       "                                           car_links      place  \n",
       "0  https://www.cardekho.com/used-car-details/used...  bangalore  \n",
       "1  https://www.cardekho.com/buy-used-car-details/...  bangalore  \n",
       "2  https://www.cardekho.com/used-car-details/used...  bangalore  \n",
       "3  https://www.cardekho.com/buy-used-car-details/...  bangalore  \n",
       "4  https://www.cardekho.com/used-car-details/used...  bangalore  "
      ]
     },
     "execution_count": 75,
     "metadata": {},
     "output_type": "execute_result"
    }
   ],
   "source": [
    "main_frame = create_frames(read_file())\n",
    "\n",
    "print('Cities Available', main_frame[0])\n",
    "\n",
    "cardf = main_frame[1]\n",
    "cardf.head()"
   ]
  },
  {
   "cell_type": "code",
   "execution_count": 88,
   "metadata": {},
   "outputs": [],
   "source": [
    "\n",
    "def cardetail(df):\n",
    "     \n",
    "    \n",
    "    #replace single quote with double quote to make everything as json and replace none with 1\n",
    "    df.new_car_detail=df['new_car_detail'].apply(lambda x : json.loads(x.replace(\"'\",'\"').replace('None',\"1\")))\n",
    "    \n",
    "    cars_detail = {'it': [], 'ft': [], 'bt': [], 'km': [], 'transmission': [], 'ownerNo': [], 'owner': [],\n",
    "                  'oem': [], 'model': [], 'modelYear': [], 'centralVariantId': [], 'variantName': [],\n",
    "                  'price': [], 'priceActual': [], 'priceSaving': [],\n",
    "                  'priceFixedText': [], 'trendingText': [] } #dict.fromkeys(unique_detail_keys, [])\n",
    "\n",
    "    #taking out all the values and appending them in cars_detail\n",
    "    for detail in df['new_car_detail']:\n",
    "\n",
    "        for key in cars_detail.keys():\n",
    "            \n",
    "            if key in detail.keys():\n",
    "                cars_detail[key].append(detail[key])\n",
    "        \n",
    "    return pd.DataFrame(cars_detail)\n",
    "\n",
    "\n"
   ]
  },
  {
   "cell_type": "code",
   "execution_count": 90,
   "metadata": {},
   "outputs": [
    {
     "data": {
      "text/html": [
       "<div>\n",
       "<style scoped>\n",
       "    .dataframe tbody tr th:only-of-type {\n",
       "        vertical-align: middle;\n",
       "    }\n",
       "\n",
       "    .dataframe tbody tr th {\n",
       "        vertical-align: top;\n",
       "    }\n",
       "\n",
       "    .dataframe thead th {\n",
       "        text-align: right;\n",
       "    }\n",
       "</style>\n",
       "<table border=\"1\" class=\"dataframe\">\n",
       "  <thead>\n",
       "    <tr style=\"text-align: right;\">\n",
       "      <th></th>\n",
       "      <th>it</th>\n",
       "      <th>ft</th>\n",
       "      <th>bt</th>\n",
       "      <th>km</th>\n",
       "      <th>transmission</th>\n",
       "      <th>ownerNo</th>\n",
       "      <th>owner</th>\n",
       "      <th>oem</th>\n",
       "      <th>model</th>\n",
       "      <th>modelYear</th>\n",
       "      <th>centralVariantId</th>\n",
       "      <th>variantName</th>\n",
       "      <th>price</th>\n",
       "      <th>priceActual</th>\n",
       "      <th>priceSaving</th>\n",
       "      <th>priceFixedText</th>\n",
       "      <th>trendingText</th>\n",
       "      <th>place</th>\n",
       "    </tr>\n",
       "  </thead>\n",
       "  <tbody>\n",
       "    <tr>\n",
       "      <th>0</th>\n",
       "      <td>0</td>\n",
       "      <td>Petrol</td>\n",
       "      <td>Hatchback</td>\n",
       "      <td>1,20,000</td>\n",
       "      <td>Manual</td>\n",
       "      <td>3</td>\n",
       "      <td>3rd Owner</td>\n",
       "      <td>Maruti</td>\n",
       "      <td>Maruti Celerio</td>\n",
       "      <td>2015</td>\n",
       "      <td>3979</td>\n",
       "      <td>VXI</td>\n",
       "      <td>₹ 4 Lakh</td>\n",
       "      <td></td>\n",
       "      <td></td>\n",
       "      <td>1</td>\n",
       "      <td>{'imgUrl': 'https://stimg.cardekho.com/used-ca...</td>\n",
       "      <td>bangalore</td>\n",
       "    </tr>\n",
       "    <tr>\n",
       "      <th>1</th>\n",
       "      <td>0</td>\n",
       "      <td>Petrol</td>\n",
       "      <td>SUV</td>\n",
       "      <td>32,706</td>\n",
       "      <td>Manual</td>\n",
       "      <td>2</td>\n",
       "      <td>2nd Owner</td>\n",
       "      <td>Ford</td>\n",
       "      <td>Ford Ecosport</td>\n",
       "      <td>2018</td>\n",
       "      <td>6087</td>\n",
       "      <td>1.5 Petrol Titanium BSIV</td>\n",
       "      <td>₹ 8.11 Lakh</td>\n",
       "      <td></td>\n",
       "      <td></td>\n",
       "      <td>1</td>\n",
       "      <td>{'imgUrl': 'https://stimg.cardekho.com/used-ca...</td>\n",
       "      <td>bangalore</td>\n",
       "    </tr>\n",
       "    <tr>\n",
       "      <th>2</th>\n",
       "      <td>0</td>\n",
       "      <td>Petrol</td>\n",
       "      <td>Hatchback</td>\n",
       "      <td>11,949</td>\n",
       "      <td>Manual</td>\n",
       "      <td>1</td>\n",
       "      <td>1st Owner</td>\n",
       "      <td>Tata</td>\n",
       "      <td>Tata Tiago</td>\n",
       "      <td>2018</td>\n",
       "      <td>2983</td>\n",
       "      <td>1.2 Revotron XZ</td>\n",
       "      <td>₹ 5.85 Lakh</td>\n",
       "      <td></td>\n",
       "      <td></td>\n",
       "      <td>1</td>\n",
       "      <td>{'imgUrl': 'https://stimg.cardekho.com/used-ca...</td>\n",
       "      <td>bangalore</td>\n",
       "    </tr>\n",
       "    <tr>\n",
       "      <th>3</th>\n",
       "      <td>0</td>\n",
       "      <td>Petrol</td>\n",
       "      <td>Sedan</td>\n",
       "      <td>17,794</td>\n",
       "      <td>Manual</td>\n",
       "      <td>1</td>\n",
       "      <td>1st Owner</td>\n",
       "      <td>Hyundai</td>\n",
       "      <td>Hyundai Xcent</td>\n",
       "      <td>2014</td>\n",
       "      <td>1867</td>\n",
       "      <td>1.2 Kappa S Option</td>\n",
       "      <td>₹ 4.62 Lakh</td>\n",
       "      <td></td>\n",
       "      <td></td>\n",
       "      <td>1</td>\n",
       "      <td>{'imgUrl': 'https://stimg.cardekho.com/used-ca...</td>\n",
       "      <td>bangalore</td>\n",
       "    </tr>\n",
       "    <tr>\n",
       "      <th>4</th>\n",
       "      <td>0</td>\n",
       "      <td>Diesel</td>\n",
       "      <td>SUV</td>\n",
       "      <td>60,000</td>\n",
       "      <td>Manual</td>\n",
       "      <td>1</td>\n",
       "      <td>1st Owner</td>\n",
       "      <td>Maruti</td>\n",
       "      <td>Maruti SX4 S Cross</td>\n",
       "      <td>2015</td>\n",
       "      <td>4277</td>\n",
       "      <td>DDiS 200 Zeta</td>\n",
       "      <td>₹ 7.90 Lakh</td>\n",
       "      <td></td>\n",
       "      <td></td>\n",
       "      <td>1</td>\n",
       "      <td>{'imgUrl': 'https://stimg.cardekho.com/used-ca...</td>\n",
       "      <td>bangalore</td>\n",
       "    </tr>\n",
       "  </tbody>\n",
       "</table>\n",
       "</div>"
      ],
      "text/plain": [
       "   it      ft         bt        km transmission  ownerNo      owner      oem  \\\n",
       "0   0  Petrol  Hatchback  1,20,000       Manual        3  3rd Owner   Maruti   \n",
       "1   0  Petrol        SUV    32,706       Manual        2  2nd Owner     Ford   \n",
       "2   0  Petrol  Hatchback    11,949       Manual        1  1st Owner     Tata   \n",
       "3   0  Petrol      Sedan    17,794       Manual        1  1st Owner  Hyundai   \n",
       "4   0  Diesel        SUV    60,000       Manual        1  1st Owner   Maruti   \n",
       "\n",
       "                model  modelYear  centralVariantId               variantName  \\\n",
       "0      Maruti Celerio       2015              3979                       VXI   \n",
       "1       Ford Ecosport       2018              6087  1.5 Petrol Titanium BSIV   \n",
       "2          Tata Tiago       2018              2983           1.2 Revotron XZ   \n",
       "3       Hyundai Xcent       2014              1867        1.2 Kappa S Option   \n",
       "4  Maruti SX4 S Cross       2015              4277             DDiS 200 Zeta   \n",
       "\n",
       "         price priceActual priceSaving  priceFixedText  \\\n",
       "0     ₹ 4 Lakh                                       1   \n",
       "1  ₹ 8.11 Lakh                                       1   \n",
       "2  ₹ 5.85 Lakh                                       1   \n",
       "3  ₹ 4.62 Lakh                                       1   \n",
       "4  ₹ 7.90 Lakh                                       1   \n",
       "\n",
       "                                        trendingText      place  \n",
       "0  {'imgUrl': 'https://stimg.cardekho.com/used-ca...  bangalore  \n",
       "1  {'imgUrl': 'https://stimg.cardekho.com/used-ca...  bangalore  \n",
       "2  {'imgUrl': 'https://stimg.cardekho.com/used-ca...  bangalore  \n",
       "3  {'imgUrl': 'https://stimg.cardekho.com/used-ca...  bangalore  \n",
       "4  {'imgUrl': 'https://stimg.cardekho.com/used-ca...  bangalore  "
      ]
     },
     "execution_count": 90,
     "metadata": {},
     "output_type": "execute_result"
    }
   ],
   "source": [
    "cardf['new_car_detail'] = cardf['new_car_detail'].apply(lambda x: json.loads(str(x).replace(\"'\", '\"').replace('None', '1')))\n",
    "detail_frame = cardetail(df.loc[:, ['new_car_detail']])\n",
    "\n",
    "detail_frame['place'] = cardf.place.to_list()\n",
    "detail_frame.head()"
   ]
  },
  {
   "cell_type": "code",
   "execution_count": 102,
   "metadata": {},
   "outputs": [
    {
     "name": "stdout",
     "output_type": "stream",
     "text": [
      "converted dictionary ----> {}\n",
      "all overview keys ----> []\n"
     ]
    },
    {
     "data": {
      "text/html": [
       "<div>\n",
       "<style scoped>\n",
       "    .dataframe tbody tr th:only-of-type {\n",
       "        vertical-align: middle;\n",
       "    }\n",
       "\n",
       "    .dataframe tbody tr th {\n",
       "        vertical-align: top;\n",
       "    }\n",
       "\n",
       "    .dataframe thead th {\n",
       "        text-align: right;\n",
       "    }\n",
       "</style>\n",
       "<table border=\"1\" class=\"dataframe\">\n",
       "  <thead>\n",
       "    <tr style=\"text-align: right;\">\n",
       "      <th></th>\n",
       "      <th>Registration Year</th>\n",
       "      <th>Insurance Validity</th>\n",
       "      <th>Fuel Type</th>\n",
       "      <th>Seats</th>\n",
       "      <th>Kms Driven</th>\n",
       "      <th>RTO</th>\n",
       "      <th>Ownership</th>\n",
       "      <th>Engine Displacement</th>\n",
       "      <th>Transmission</th>\n",
       "      <th>Year of Manufacture</th>\n",
       "    </tr>\n",
       "  </thead>\n",
       "  <tbody>\n",
       "    <tr>\n",
       "      <th>0</th>\n",
       "      <td>None</td>\n",
       "      <td>None</td>\n",
       "      <td>None</td>\n",
       "      <td>None</td>\n",
       "      <td>None</td>\n",
       "      <td>None</td>\n",
       "      <td>None</td>\n",
       "      <td>None</td>\n",
       "      <td>None</td>\n",
       "      <td>None</td>\n",
       "    </tr>\n",
       "    <tr>\n",
       "      <th>1</th>\n",
       "      <td>None</td>\n",
       "      <td>None</td>\n",
       "      <td>None</td>\n",
       "      <td>None</td>\n",
       "      <td>None</td>\n",
       "      <td>None</td>\n",
       "      <td>None</td>\n",
       "      <td>None</td>\n",
       "      <td>None</td>\n",
       "      <td>None</td>\n",
       "    </tr>\n",
       "    <tr>\n",
       "      <th>2</th>\n",
       "      <td>None</td>\n",
       "      <td>None</td>\n",
       "      <td>None</td>\n",
       "      <td>None</td>\n",
       "      <td>None</td>\n",
       "      <td>None</td>\n",
       "      <td>None</td>\n",
       "      <td>None</td>\n",
       "      <td>None</td>\n",
       "      <td>None</td>\n",
       "    </tr>\n",
       "    <tr>\n",
       "      <th>3</th>\n",
       "      <td>None</td>\n",
       "      <td>None</td>\n",
       "      <td>None</td>\n",
       "      <td>None</td>\n",
       "      <td>None</td>\n",
       "      <td>None</td>\n",
       "      <td>None</td>\n",
       "      <td>None</td>\n",
       "      <td>None</td>\n",
       "      <td>None</td>\n",
       "    </tr>\n",
       "    <tr>\n",
       "      <th>4</th>\n",
       "      <td>None</td>\n",
       "      <td>None</td>\n",
       "      <td>None</td>\n",
       "      <td>None</td>\n",
       "      <td>None</td>\n",
       "      <td>None</td>\n",
       "      <td>None</td>\n",
       "      <td>None</td>\n",
       "      <td>None</td>\n",
       "      <td>None</td>\n",
       "    </tr>\n",
       "    <tr>\n",
       "      <th>...</th>\n",
       "      <td>...</td>\n",
       "      <td>...</td>\n",
       "      <td>...</td>\n",
       "      <td>...</td>\n",
       "      <td>...</td>\n",
       "      <td>...</td>\n",
       "      <td>...</td>\n",
       "      <td>...</td>\n",
       "      <td>...</td>\n",
       "      <td>...</td>\n",
       "    </tr>\n",
       "    <tr>\n",
       "      <th>8364</th>\n",
       "      <td>None</td>\n",
       "      <td>None</td>\n",
       "      <td>None</td>\n",
       "      <td>None</td>\n",
       "      <td>None</td>\n",
       "      <td>None</td>\n",
       "      <td>None</td>\n",
       "      <td>None</td>\n",
       "      <td>None</td>\n",
       "      <td>None</td>\n",
       "    </tr>\n",
       "    <tr>\n",
       "      <th>8365</th>\n",
       "      <td>None</td>\n",
       "      <td>None</td>\n",
       "      <td>None</td>\n",
       "      <td>None</td>\n",
       "      <td>None</td>\n",
       "      <td>None</td>\n",
       "      <td>None</td>\n",
       "      <td>None</td>\n",
       "      <td>None</td>\n",
       "      <td>None</td>\n",
       "    </tr>\n",
       "    <tr>\n",
       "      <th>8366</th>\n",
       "      <td>None</td>\n",
       "      <td>None</td>\n",
       "      <td>None</td>\n",
       "      <td>None</td>\n",
       "      <td>None</td>\n",
       "      <td>None</td>\n",
       "      <td>None</td>\n",
       "      <td>None</td>\n",
       "      <td>None</td>\n",
       "      <td>None</td>\n",
       "    </tr>\n",
       "    <tr>\n",
       "      <th>8367</th>\n",
       "      <td>None</td>\n",
       "      <td>None</td>\n",
       "      <td>None</td>\n",
       "      <td>None</td>\n",
       "      <td>None</td>\n",
       "      <td>None</td>\n",
       "      <td>None</td>\n",
       "      <td>None</td>\n",
       "      <td>None</td>\n",
       "      <td>None</td>\n",
       "    </tr>\n",
       "    <tr>\n",
       "      <th>8368</th>\n",
       "      <td>None</td>\n",
       "      <td>None</td>\n",
       "      <td>None</td>\n",
       "      <td>None</td>\n",
       "      <td>None</td>\n",
       "      <td>None</td>\n",
       "      <td>None</td>\n",
       "      <td>None</td>\n",
       "      <td>None</td>\n",
       "      <td>None</td>\n",
       "    </tr>\n",
       "  </tbody>\n",
       "</table>\n",
       "<p>8369 rows × 10 columns</p>\n",
       "</div>"
      ],
      "text/plain": [
       "     Registration Year Insurance Validity Fuel Type Seats Kms Driven   RTO  \\\n",
       "0                 None               None      None  None       None  None   \n",
       "1                 None               None      None  None       None  None   \n",
       "2                 None               None      None  None       None  None   \n",
       "3                 None               None      None  None       None  None   \n",
       "4                 None               None      None  None       None  None   \n",
       "...                ...                ...       ...   ...        ...   ...   \n",
       "8364              None               None      None  None       None  None   \n",
       "8365              None               None      None  None       None  None   \n",
       "8366              None               None      None  None       None  None   \n",
       "8367              None               None      None  None       None  None   \n",
       "8368              None               None      None  None       None  None   \n",
       "\n",
       "     Ownership Engine Displacement Transmission Year of Manufacture  \n",
       "0         None                None         None                None  \n",
       "1         None                None         None                None  \n",
       "2         None                None         None                None  \n",
       "3         None                None         None                None  \n",
       "4         None                None         None                None  \n",
       "...        ...                 ...          ...                 ...  \n",
       "8364      None                None         None                None  \n",
       "8365      None                None         None                None  \n",
       "8366      None                None         None                None  \n",
       "8367      None                None         None                None  \n",
       "8368      None                None         None                None  \n",
       "\n",
       "[8369 rows x 10 columns]"
      ]
     },
     "execution_count": 102,
     "metadata": {},
     "output_type": "execute_result"
    }
   ],
   "source": [
    "def caroverview(df):\n",
    "    # Convert dictionary objects to JSON strings\n",
    "    df.new_car_overview = df['new_car_overview'].apply(lambda x: json.dumps(x))\n",
    "    \n",
    "    # Replace single quote with double quote to ensure valid JSON syntax\n",
    "    df.new_car_overview = df.new_car_overview.str.replace(\"'\", '\"')\n",
    "    \n",
    "    # Replace 'None' with '1' to ensure valid JSON syntax\n",
    "    df.new_car_overview = df.new_car_overview.str.replace('None', '1')\n",
    "    \n",
    "    # Convert JSON strings back to dictionaries\n",
    "    df.new_car_overview = df.new_car_overview.apply(lambda x: json.loads(x))\n",
    "    \n",
    "    # Dictionary creator for overview column\n",
    "    def overview_dict_creator(overview):\n",
    "        all_overviews = {}\n",
    "        if 'top' in overview:\n",
    "            for dictionary in overview['top']:\n",
    "                all_overviews.update({dictionary['key']: dictionary['value']})\n",
    "        return all_overviews\n",
    "\n",
    "\n",
    "    df.new_car_overview = df.new_car_overview.apply(lambda overview: overview_dict_creator(overview))\n",
    "    \n",
    "    print(\"converted dictionary ---->\", df.new_car_overview.to_list()[0])\n",
    "\n",
    "    # Find unique keys\n",
    "    unique_overview_keys = []\n",
    "    for dictionary in df.new_car_overview:\n",
    "        for key in dictionary:\n",
    "            if key not in unique_overview_keys:\n",
    "                unique_overview_keys.append(key)\n",
    "\n",
    "    print('all overview keys ---->', unique_overview_keys)\n",
    "    \n",
    "    # Create a dictionary for overview columns\n",
    "    overview_dict = {'Registration Year': [], 'Insurance Validity': [], 'Fuel Type': [], 'Seats': [], \n",
    "                     'Kms Driven': [], 'RTO': [], 'Ownership': [], 'Engine Displacement': [], 'Transmission': [],\n",
    "                     'Year of Manufacture': []}\n",
    "\n",
    "    # Populate overview dictionary\n",
    "    for view in df.new_car_overview:\n",
    "        for key in overview_dict:\n",
    "            if key in view.keys():\n",
    "                overview_dict[key].append(view[key])\n",
    "            else:\n",
    "                overview_dict[key].append(None)\n",
    "    \n",
    "    return pd.DataFrame(overview_dict)\n",
    "\n",
    "df2 = caroverview(cardf)\n",
    "df2\n"
   ]
  },
  {
   "cell_type": "code",
   "execution_count": 103,
   "metadata": {},
   "outputs": [
    {
     "data": {
      "text/html": [
       "<div>\n",
       "<style scoped>\n",
       "    .dataframe tbody tr th:only-of-type {\n",
       "        vertical-align: middle;\n",
       "    }\n",
       "\n",
       "    .dataframe tbody tr th {\n",
       "        vertical-align: top;\n",
       "    }\n",
       "\n",
       "    .dataframe thead th {\n",
       "        text-align: right;\n",
       "    }\n",
       "</style>\n",
       "<table border=\"1\" class=\"dataframe\">\n",
       "  <thead>\n",
       "    <tr style=\"text-align: right;\">\n",
       "      <th></th>\n",
       "      <th>Features</th>\n",
       "      <th>Comfort</th>\n",
       "      <th>Interior</th>\n",
       "      <th>Exterior</th>\n",
       "    </tr>\n",
       "  </thead>\n",
       "  <tbody>\n",
       "    <tr>\n",
       "      <th>0</th>\n",
       "      <td>[Power Steering, Power Windows Front, Air Cond...</td>\n",
       "      <td>[Power Steering, Power Windows Front, Power Wi...</td>\n",
       "      <td>[Air Conditioner, Heater, Digital Odometer, El...</td>\n",
       "      <td>[Adjustable Head Lights, Manually Adjustable E...</td>\n",
       "    </tr>\n",
       "    <tr>\n",
       "      <th>1</th>\n",
       "      <td>[Power Steering, Power Windows Front, Air Cond...</td>\n",
       "      <td>[Power Steering, Power Windows Front, Power Wi...</td>\n",
       "      <td>[Air Conditioner, Heater, Adjustable Steering,...</td>\n",
       "      <td>[Adjustable Head Lights, Fog Lights Front, Pow...</td>\n",
       "    </tr>\n",
       "    <tr>\n",
       "      <th>2</th>\n",
       "      <td>[Power Steering, Power Windows Front, Air Cond...</td>\n",
       "      <td>[Power Steering, Power Windows Front, Power Wi...</td>\n",
       "      <td>[Air Conditioner, Heater, Adjustable Steering,...</td>\n",
       "      <td>[Adjustable Head Lights, Fog Lights Front, Pow...</td>\n",
       "    </tr>\n",
       "    <tr>\n",
       "      <th>3</th>\n",
       "      <td>[Power Steering, Power Windows Front, Air Cond...</td>\n",
       "      <td>[Power Steering, Power Windows Front, Power Wi...</td>\n",
       "      <td>[Air Conditioner, Heater, Adjustable Steering,...</td>\n",
       "      <td>[Adjustable Head Lights, Fog Lights Front, Pow...</td>\n",
       "    </tr>\n",
       "    <tr>\n",
       "      <th>4</th>\n",
       "      <td>[Power Steering, Power Windows Front, Air Cond...</td>\n",
       "      <td>[Power Steering, Power Windows Front, Power Wi...</td>\n",
       "      <td>[Air Conditioner, Heater, Adjustable Steering,...</td>\n",
       "      <td>[Adjustable Head Lights, Fog Lights Front, Pow...</td>\n",
       "    </tr>\n",
       "    <tr>\n",
       "      <th>...</th>\n",
       "      <td>...</td>\n",
       "      <td>...</td>\n",
       "      <td>...</td>\n",
       "      <td>...</td>\n",
       "    </tr>\n",
       "    <tr>\n",
       "      <th>8364</th>\n",
       "      <td>[Power Steering, Power Windows Front, Air Cond...</td>\n",
       "      <td>[Power Steering, Power Windows Front, Power Wi...</td>\n",
       "      <td>[Air Conditioner, Heater, Adjustable Steering,...</td>\n",
       "      <td>[Adjustable Head Lights, Power Adjustable Exte...</td>\n",
       "    </tr>\n",
       "    <tr>\n",
       "      <th>8365</th>\n",
       "      <td>[Power Steering, Power Windows Front, Air Cond...</td>\n",
       "      <td>[Power Steering, Power Windows Front, Remote T...</td>\n",
       "      <td>[Air Conditioner, Heater, Digital Odometer, El...</td>\n",
       "      <td>[Adjustable Head Lights, Manually Adjustable E...</td>\n",
       "    </tr>\n",
       "    <tr>\n",
       "      <th>8366</th>\n",
       "      <td>[Power Steering, Power Windows Front, Air Cond...</td>\n",
       "      <td>[Power Steering, Power Windows Front, Power Wi...</td>\n",
       "      <td>[Air Conditioner, Heater, Adjustable Steering,...</td>\n",
       "      <td>[Adjustable Head Lights, Fog Lights Front, Fog...</td>\n",
       "    </tr>\n",
       "    <tr>\n",
       "      <th>8367</th>\n",
       "      <td>[Power Steering, Power Windows Front, Air Cond...</td>\n",
       "      <td>[Power Steering, Power Windows Front, Power Wi...</td>\n",
       "      <td>[Air Conditioner, Heater, Adjustable Steering,...</td>\n",
       "      <td>[Adjustable Head Lights, Fog Lights Front, Fog...</td>\n",
       "    </tr>\n",
       "    <tr>\n",
       "      <th>8368</th>\n",
       "      <td>[Power Steering, Power Windows Front, Air Cond...</td>\n",
       "      <td>[Power Steering, Power Windows Front, Power Wi...</td>\n",
       "      <td>[Air Conditioner, Heater, Adjustable Steering,...</td>\n",
       "      <td>[Adjustable Head Lights, Fog Lights Front, Pow...</td>\n",
       "    </tr>\n",
       "  </tbody>\n",
       "</table>\n",
       "<p>8369 rows × 4 columns</p>\n",
       "</div>"
      ],
      "text/plain": [
       "                                               Features  \\\n",
       "0     [Power Steering, Power Windows Front, Air Cond...   \n",
       "1     [Power Steering, Power Windows Front, Air Cond...   \n",
       "2     [Power Steering, Power Windows Front, Air Cond...   \n",
       "3     [Power Steering, Power Windows Front, Air Cond...   \n",
       "4     [Power Steering, Power Windows Front, Air Cond...   \n",
       "...                                                 ...   \n",
       "8364  [Power Steering, Power Windows Front, Air Cond...   \n",
       "8365  [Power Steering, Power Windows Front, Air Cond...   \n",
       "8366  [Power Steering, Power Windows Front, Air Cond...   \n",
       "8367  [Power Steering, Power Windows Front, Air Cond...   \n",
       "8368  [Power Steering, Power Windows Front, Air Cond...   \n",
       "\n",
       "                                                Comfort  \\\n",
       "0     [Power Steering, Power Windows Front, Power Wi...   \n",
       "1     [Power Steering, Power Windows Front, Power Wi...   \n",
       "2     [Power Steering, Power Windows Front, Power Wi...   \n",
       "3     [Power Steering, Power Windows Front, Power Wi...   \n",
       "4     [Power Steering, Power Windows Front, Power Wi...   \n",
       "...                                                 ...   \n",
       "8364  [Power Steering, Power Windows Front, Power Wi...   \n",
       "8365  [Power Steering, Power Windows Front, Remote T...   \n",
       "8366  [Power Steering, Power Windows Front, Power Wi...   \n",
       "8367  [Power Steering, Power Windows Front, Power Wi...   \n",
       "8368  [Power Steering, Power Windows Front, Power Wi...   \n",
       "\n",
       "                                               Interior  \\\n",
       "0     [Air Conditioner, Heater, Digital Odometer, El...   \n",
       "1     [Air Conditioner, Heater, Adjustable Steering,...   \n",
       "2     [Air Conditioner, Heater, Adjustable Steering,...   \n",
       "3     [Air Conditioner, Heater, Adjustable Steering,...   \n",
       "4     [Air Conditioner, Heater, Adjustable Steering,...   \n",
       "...                                                 ...   \n",
       "8364  [Air Conditioner, Heater, Adjustable Steering,...   \n",
       "8365  [Air Conditioner, Heater, Digital Odometer, El...   \n",
       "8366  [Air Conditioner, Heater, Adjustable Steering,...   \n",
       "8367  [Air Conditioner, Heater, Adjustable Steering,...   \n",
       "8368  [Air Conditioner, Heater, Adjustable Steering,...   \n",
       "\n",
       "                                               Exterior  \n",
       "0     [Adjustable Head Lights, Manually Adjustable E...  \n",
       "1     [Adjustable Head Lights, Fog Lights Front, Pow...  \n",
       "2     [Adjustable Head Lights, Fog Lights Front, Pow...  \n",
       "3     [Adjustable Head Lights, Fog Lights Front, Pow...  \n",
       "4     [Adjustable Head Lights, Fog Lights Front, Pow...  \n",
       "...                                                 ...  \n",
       "8364  [Adjustable Head Lights, Power Adjustable Exte...  \n",
       "8365  [Adjustable Head Lights, Manually Adjustable E...  \n",
       "8366  [Adjustable Head Lights, Fog Lights Front, Fog...  \n",
       "8367  [Adjustable Head Lights, Fog Lights Front, Fog...  \n",
       "8368  [Adjustable Head Lights, Fog Lights Front, Pow...  \n",
       "\n",
       "[8369 rows x 4 columns]"
      ]
     },
     "execution_count": 103,
     "metadata": {},
     "output_type": "execute_result"
    }
   ],
   "source": [
    "def to_get_features(data):\n",
    "    extract = {'Features': [],\n",
    "               \"Comfort\": [],\n",
    "               \"Interior\":[],\n",
    "               \"Exterior\": []\n",
    "               }\n",
    "    \n",
    "    for features in data['top']:\n",
    "        extract['Features'].append(features['value'])\n",
    "    try:\n",
    "        for comfort in data['data'][0]['list']:\n",
    "            extract['Comfort'].append(comfort['value'])\n",
    "    except:\n",
    "        extract['Comfort'].append('Not-Specified')\n",
    "\n",
    "\n",
    "    try:\n",
    "        for interior in data['data'][1]['list']:\n",
    "            extract['Interior'].append(interior['value'])\n",
    "    except:\n",
    "        extract['Interior'].append('Not-Specified')\n",
    "    \n",
    "    try:\n",
    "        for exterior in data['data'][2]['list']:\n",
    "            extract['Exterior'].append(exterior['value'])\n",
    "    except:\n",
    "        extract['Exterior'].append(None)\n",
    "    # print(extract)\n",
    "    return extract\n",
    "\n",
    "cardf.new_car_feature = cardf.new_car_feature.apply(lambda x: to_get_features(eval(x)))\n",
    "df3 =pd.DataFrame(cardf.new_car_feature.tolist())\n",
    "df3"
   ]
  },
  {
   "cell_type": "code",
   "execution_count": 104,
   "metadata": {},
   "outputs": [
    {
     "data": {
      "text/html": [
       "<div>\n",
       "<style scoped>\n",
       "    .dataframe tbody tr th:only-of-type {\n",
       "        vertical-align: middle;\n",
       "    }\n",
       "\n",
       "    .dataframe tbody tr th {\n",
       "        vertical-align: top;\n",
       "    }\n",
       "\n",
       "    .dataframe thead th {\n",
       "        text-align: right;\n",
       "    }\n",
       "</style>\n",
       "<table border=\"1\" class=\"dataframe\">\n",
       "  <thead>\n",
       "    <tr style=\"text-align: right;\">\n",
       "      <th></th>\n",
       "      <th>it</th>\n",
       "      <th>ft</th>\n",
       "      <th>bt</th>\n",
       "      <th>km</th>\n",
       "      <th>transmission</th>\n",
       "      <th>ownerNo</th>\n",
       "      <th>owner</th>\n",
       "      <th>oem</th>\n",
       "      <th>model</th>\n",
       "      <th>modelYear</th>\n",
       "      <th>centralVariantId</th>\n",
       "      <th>variantName</th>\n",
       "      <th>price</th>\n",
       "      <th>priceActual</th>\n",
       "      <th>priceSaving</th>\n",
       "      <th>priceFixedText</th>\n",
       "      <th>trendingText</th>\n",
       "      <th>place</th>\n",
       "      <th>Registration Year</th>\n",
       "      <th>Insurance Validity</th>\n",
       "      <th>Fuel Type</th>\n",
       "      <th>Seats</th>\n",
       "      <th>Kms Driven</th>\n",
       "      <th>RTO</th>\n",
       "      <th>Ownership</th>\n",
       "      <th>Engine Displacement</th>\n",
       "      <th>Transmission</th>\n",
       "      <th>Year of Manufacture</th>\n",
       "      <th>Features</th>\n",
       "      <th>Comfort</th>\n",
       "      <th>Interior</th>\n",
       "      <th>Exterior</th>\n",
       "    </tr>\n",
       "  </thead>\n",
       "  <tbody>\n",
       "    <tr>\n",
       "      <th>0</th>\n",
       "      <td>0</td>\n",
       "      <td>Petrol</td>\n",
       "      <td>Hatchback</td>\n",
       "      <td>1,20,000</td>\n",
       "      <td>Manual</td>\n",
       "      <td>3</td>\n",
       "      <td>3rd Owner</td>\n",
       "      <td>Maruti</td>\n",
       "      <td>Maruti Celerio</td>\n",
       "      <td>2015</td>\n",
       "      <td>3979</td>\n",
       "      <td>VXI</td>\n",
       "      <td>₹ 4 Lakh</td>\n",
       "      <td></td>\n",
       "      <td></td>\n",
       "      <td>1</td>\n",
       "      <td>{'imgUrl': 'https://stimg.cardekho.com/used-ca...</td>\n",
       "      <td>bangalore</td>\n",
       "      <td>None</td>\n",
       "      <td>None</td>\n",
       "      <td>None</td>\n",
       "      <td>None</td>\n",
       "      <td>None</td>\n",
       "      <td>None</td>\n",
       "      <td>None</td>\n",
       "      <td>None</td>\n",
       "      <td>None</td>\n",
       "      <td>None</td>\n",
       "      <td>[Power Steering, Power Windows Front, Air Cond...</td>\n",
       "      <td>[Power Steering, Power Windows Front, Power Wi...</td>\n",
       "      <td>[Air Conditioner, Heater, Digital Odometer, El...</td>\n",
       "      <td>[Adjustable Head Lights, Manually Adjustable E...</td>\n",
       "    </tr>\n",
       "    <tr>\n",
       "      <th>1</th>\n",
       "      <td>0</td>\n",
       "      <td>Petrol</td>\n",
       "      <td>SUV</td>\n",
       "      <td>32,706</td>\n",
       "      <td>Manual</td>\n",
       "      <td>2</td>\n",
       "      <td>2nd Owner</td>\n",
       "      <td>Ford</td>\n",
       "      <td>Ford Ecosport</td>\n",
       "      <td>2018</td>\n",
       "      <td>6087</td>\n",
       "      <td>1.5 Petrol Titanium BSIV</td>\n",
       "      <td>₹ 8.11 Lakh</td>\n",
       "      <td></td>\n",
       "      <td></td>\n",
       "      <td>1</td>\n",
       "      <td>{'imgUrl': 'https://stimg.cardekho.com/used-ca...</td>\n",
       "      <td>bangalore</td>\n",
       "      <td>None</td>\n",
       "      <td>None</td>\n",
       "      <td>None</td>\n",
       "      <td>None</td>\n",
       "      <td>None</td>\n",
       "      <td>None</td>\n",
       "      <td>None</td>\n",
       "      <td>None</td>\n",
       "      <td>None</td>\n",
       "      <td>None</td>\n",
       "      <td>[Power Steering, Power Windows Front, Air Cond...</td>\n",
       "      <td>[Power Steering, Power Windows Front, Power Wi...</td>\n",
       "      <td>[Air Conditioner, Heater, Adjustable Steering,...</td>\n",
       "      <td>[Adjustable Head Lights, Fog Lights Front, Pow...</td>\n",
       "    </tr>\n",
       "    <tr>\n",
       "      <th>2</th>\n",
       "      <td>0</td>\n",
       "      <td>Petrol</td>\n",
       "      <td>Hatchback</td>\n",
       "      <td>11,949</td>\n",
       "      <td>Manual</td>\n",
       "      <td>1</td>\n",
       "      <td>1st Owner</td>\n",
       "      <td>Tata</td>\n",
       "      <td>Tata Tiago</td>\n",
       "      <td>2018</td>\n",
       "      <td>2983</td>\n",
       "      <td>1.2 Revotron XZ</td>\n",
       "      <td>₹ 5.85 Lakh</td>\n",
       "      <td></td>\n",
       "      <td></td>\n",
       "      <td>1</td>\n",
       "      <td>{'imgUrl': 'https://stimg.cardekho.com/used-ca...</td>\n",
       "      <td>bangalore</td>\n",
       "      <td>None</td>\n",
       "      <td>None</td>\n",
       "      <td>None</td>\n",
       "      <td>None</td>\n",
       "      <td>None</td>\n",
       "      <td>None</td>\n",
       "      <td>None</td>\n",
       "      <td>None</td>\n",
       "      <td>None</td>\n",
       "      <td>None</td>\n",
       "      <td>[Power Steering, Power Windows Front, Air Cond...</td>\n",
       "      <td>[Power Steering, Power Windows Front, Power Wi...</td>\n",
       "      <td>[Air Conditioner, Heater, Adjustable Steering,...</td>\n",
       "      <td>[Adjustable Head Lights, Fog Lights Front, Pow...</td>\n",
       "    </tr>\n",
       "    <tr>\n",
       "      <th>3</th>\n",
       "      <td>0</td>\n",
       "      <td>Petrol</td>\n",
       "      <td>Sedan</td>\n",
       "      <td>17,794</td>\n",
       "      <td>Manual</td>\n",
       "      <td>1</td>\n",
       "      <td>1st Owner</td>\n",
       "      <td>Hyundai</td>\n",
       "      <td>Hyundai Xcent</td>\n",
       "      <td>2014</td>\n",
       "      <td>1867</td>\n",
       "      <td>1.2 Kappa S Option</td>\n",
       "      <td>₹ 4.62 Lakh</td>\n",
       "      <td></td>\n",
       "      <td></td>\n",
       "      <td>1</td>\n",
       "      <td>{'imgUrl': 'https://stimg.cardekho.com/used-ca...</td>\n",
       "      <td>bangalore</td>\n",
       "      <td>None</td>\n",
       "      <td>None</td>\n",
       "      <td>None</td>\n",
       "      <td>None</td>\n",
       "      <td>None</td>\n",
       "      <td>None</td>\n",
       "      <td>None</td>\n",
       "      <td>None</td>\n",
       "      <td>None</td>\n",
       "      <td>None</td>\n",
       "      <td>[Power Steering, Power Windows Front, Air Cond...</td>\n",
       "      <td>[Power Steering, Power Windows Front, Power Wi...</td>\n",
       "      <td>[Air Conditioner, Heater, Adjustable Steering,...</td>\n",
       "      <td>[Adjustable Head Lights, Fog Lights Front, Pow...</td>\n",
       "    </tr>\n",
       "    <tr>\n",
       "      <th>4</th>\n",
       "      <td>0</td>\n",
       "      <td>Diesel</td>\n",
       "      <td>SUV</td>\n",
       "      <td>60,000</td>\n",
       "      <td>Manual</td>\n",
       "      <td>1</td>\n",
       "      <td>1st Owner</td>\n",
       "      <td>Maruti</td>\n",
       "      <td>Maruti SX4 S Cross</td>\n",
       "      <td>2015</td>\n",
       "      <td>4277</td>\n",
       "      <td>DDiS 200 Zeta</td>\n",
       "      <td>₹ 7.90 Lakh</td>\n",
       "      <td></td>\n",
       "      <td></td>\n",
       "      <td>1</td>\n",
       "      <td>{'imgUrl': 'https://stimg.cardekho.com/used-ca...</td>\n",
       "      <td>bangalore</td>\n",
       "      <td>None</td>\n",
       "      <td>None</td>\n",
       "      <td>None</td>\n",
       "      <td>None</td>\n",
       "      <td>None</td>\n",
       "      <td>None</td>\n",
       "      <td>None</td>\n",
       "      <td>None</td>\n",
       "      <td>None</td>\n",
       "      <td>None</td>\n",
       "      <td>[Power Steering, Power Windows Front, Air Cond...</td>\n",
       "      <td>[Power Steering, Power Windows Front, Power Wi...</td>\n",
       "      <td>[Air Conditioner, Heater, Adjustable Steering,...</td>\n",
       "      <td>[Adjustable Head Lights, Fog Lights Front, Pow...</td>\n",
       "    </tr>\n",
       "    <tr>\n",
       "      <th>...</th>\n",
       "      <td>...</td>\n",
       "      <td>...</td>\n",
       "      <td>...</td>\n",
       "      <td>...</td>\n",
       "      <td>...</td>\n",
       "      <td>...</td>\n",
       "      <td>...</td>\n",
       "      <td>...</td>\n",
       "      <td>...</td>\n",
       "      <td>...</td>\n",
       "      <td>...</td>\n",
       "      <td>...</td>\n",
       "      <td>...</td>\n",
       "      <td>...</td>\n",
       "      <td>...</td>\n",
       "      <td>...</td>\n",
       "      <td>...</td>\n",
       "      <td>...</td>\n",
       "      <td>...</td>\n",
       "      <td>...</td>\n",
       "      <td>...</td>\n",
       "      <td>...</td>\n",
       "      <td>...</td>\n",
       "      <td>...</td>\n",
       "      <td>...</td>\n",
       "      <td>...</td>\n",
       "      <td>...</td>\n",
       "      <td>...</td>\n",
       "      <td>...</td>\n",
       "      <td>...</td>\n",
       "      <td>...</td>\n",
       "      <td>...</td>\n",
       "    </tr>\n",
       "    <tr>\n",
       "      <th>8364</th>\n",
       "      <td>0</td>\n",
       "      <td>Petrol</td>\n",
       "      <td>Hatchback</td>\n",
       "      <td>10,000</td>\n",
       "      <td>Manual</td>\n",
       "      <td>1</td>\n",
       "      <td>1st Owner</td>\n",
       "      <td>Maruti</td>\n",
       "      <td>Maruti Celerio</td>\n",
       "      <td>2022</td>\n",
       "      <td>8682</td>\n",
       "      <td>ZXI BSVI</td>\n",
       "      <td>₹ 5.10 Lakh</td>\n",
       "      <td></td>\n",
       "      <td></td>\n",
       "      <td>1</td>\n",
       "      <td>{'imgUrl': 'https://stimg.cardekho.com/used-ca...</td>\n",
       "      <td>kolkata</td>\n",
       "      <td>None</td>\n",
       "      <td>None</td>\n",
       "      <td>None</td>\n",
       "      <td>None</td>\n",
       "      <td>None</td>\n",
       "      <td>None</td>\n",
       "      <td>None</td>\n",
       "      <td>None</td>\n",
       "      <td>None</td>\n",
       "      <td>None</td>\n",
       "      <td>[Power Steering, Power Windows Front, Air Cond...</td>\n",
       "      <td>[Power Steering, Power Windows Front, Power Wi...</td>\n",
       "      <td>[Air Conditioner, Heater, Adjustable Steering,...</td>\n",
       "      <td>[Adjustable Head Lights, Power Adjustable Exte...</td>\n",
       "    </tr>\n",
       "    <tr>\n",
       "      <th>8365</th>\n",
       "      <td>0</td>\n",
       "      <td>Petrol</td>\n",
       "      <td>Hatchback</td>\n",
       "      <td>1,20,000</td>\n",
       "      <td>Manual</td>\n",
       "      <td>1</td>\n",
       "      <td>1st Owner</td>\n",
       "      <td>Maruti</td>\n",
       "      <td>Maruti Alto 800</td>\n",
       "      <td>2014</td>\n",
       "      <td>3943</td>\n",
       "      <td>LXI</td>\n",
       "      <td>₹ 1.80 Lakh</td>\n",
       "      <td></td>\n",
       "      <td></td>\n",
       "      <td>1</td>\n",
       "      <td>{'imgUrl': 'https://stimg.cardekho.com/used-ca...</td>\n",
       "      <td>kolkata</td>\n",
       "      <td>None</td>\n",
       "      <td>None</td>\n",
       "      <td>None</td>\n",
       "      <td>None</td>\n",
       "      <td>None</td>\n",
       "      <td>None</td>\n",
       "      <td>None</td>\n",
       "      <td>None</td>\n",
       "      <td>None</td>\n",
       "      <td>None</td>\n",
       "      <td>[Power Steering, Power Windows Front, Air Cond...</td>\n",
       "      <td>[Power Steering, Power Windows Front, Remote T...</td>\n",
       "      <td>[Air Conditioner, Heater, Digital Odometer, El...</td>\n",
       "      <td>[Adjustable Head Lights, Manually Adjustable E...</td>\n",
       "    </tr>\n",
       "    <tr>\n",
       "      <th>8366</th>\n",
       "      <td>0</td>\n",
       "      <td>Petrol</td>\n",
       "      <td>Sedan</td>\n",
       "      <td>50,000</td>\n",
       "      <td>Automatic</td>\n",
       "      <td>3</td>\n",
       "      <td>3rd Owner</td>\n",
       "      <td>Mercedes-Benz</td>\n",
       "      <td>Mercedes-Benz C-Class</td>\n",
       "      <td>2011</td>\n",
       "      <td>4672</td>\n",
       "      <td>C 200 CGI Elegance</td>\n",
       "      <td>₹ 5.50 Lakh</td>\n",
       "      <td></td>\n",
       "      <td></td>\n",
       "      <td>1</td>\n",
       "      <td>{'imgUrl': 'https://stimg.cardekho.com/used-ca...</td>\n",
       "      <td>kolkata</td>\n",
       "      <td>None</td>\n",
       "      <td>None</td>\n",
       "      <td>None</td>\n",
       "      <td>None</td>\n",
       "      <td>None</td>\n",
       "      <td>None</td>\n",
       "      <td>None</td>\n",
       "      <td>None</td>\n",
       "      <td>None</td>\n",
       "      <td>None</td>\n",
       "      <td>[Power Steering, Power Windows Front, Air Cond...</td>\n",
       "      <td>[Power Steering, Power Windows Front, Power Wi...</td>\n",
       "      <td>[Air Conditioner, Heater, Adjustable Steering,...</td>\n",
       "      <td>[Adjustable Head Lights, Fog Lights Front, Fog...</td>\n",
       "    </tr>\n",
       "    <tr>\n",
       "      <th>8367</th>\n",
       "      <td>0</td>\n",
       "      <td>Petrol</td>\n",
       "      <td>Hatchback</td>\n",
       "      <td>40,000</td>\n",
       "      <td>Manual</td>\n",
       "      <td>1</td>\n",
       "      <td>1st Owner</td>\n",
       "      <td>Maruti</td>\n",
       "      <td>Maruti Ritz</td>\n",
       "      <td>2012</td>\n",
       "      <td>4144</td>\n",
       "      <td>ZXi</td>\n",
       "      <td>₹ 1.40 Lakh</td>\n",
       "      <td></td>\n",
       "      <td></td>\n",
       "      <td>1</td>\n",
       "      <td>{'imgUrl': 'https://stimg.cardekho.com/used-ca...</td>\n",
       "      <td>kolkata</td>\n",
       "      <td>None</td>\n",
       "      <td>None</td>\n",
       "      <td>None</td>\n",
       "      <td>None</td>\n",
       "      <td>None</td>\n",
       "      <td>None</td>\n",
       "      <td>None</td>\n",
       "      <td>None</td>\n",
       "      <td>None</td>\n",
       "      <td>None</td>\n",
       "      <td>[Power Steering, Power Windows Front, Air Cond...</td>\n",
       "      <td>[Power Steering, Power Windows Front, Power Wi...</td>\n",
       "      <td>[Air Conditioner, Heater, Adjustable Steering,...</td>\n",
       "      <td>[Adjustable Head Lights, Fog Lights Front, Fog...</td>\n",
       "    </tr>\n",
       "    <tr>\n",
       "      <th>8368</th>\n",
       "      <td>0</td>\n",
       "      <td>Diesel</td>\n",
       "      <td>SUV</td>\n",
       "      <td>1,20,000</td>\n",
       "      <td>Manual</td>\n",
       "      <td>2</td>\n",
       "      <td>2nd Owner</td>\n",
       "      <td>Renault</td>\n",
       "      <td>Renault Duster</td>\n",
       "      <td>2017</td>\n",
       "      <td>5048</td>\n",
       "      <td>110PS Diesel RxZ AWD</td>\n",
       "      <td>₹ 5 Lakh</td>\n",
       "      <td></td>\n",
       "      <td></td>\n",
       "      <td>1</td>\n",
       "      <td>{'imgUrl': 'https://stimg.cardekho.com/used-ca...</td>\n",
       "      <td>kolkata</td>\n",
       "      <td>None</td>\n",
       "      <td>None</td>\n",
       "      <td>None</td>\n",
       "      <td>None</td>\n",
       "      <td>None</td>\n",
       "      <td>None</td>\n",
       "      <td>None</td>\n",
       "      <td>None</td>\n",
       "      <td>None</td>\n",
       "      <td>None</td>\n",
       "      <td>[Power Steering, Power Windows Front, Air Cond...</td>\n",
       "      <td>[Power Steering, Power Windows Front, Power Wi...</td>\n",
       "      <td>[Air Conditioner, Heater, Adjustable Steering,...</td>\n",
       "      <td>[Adjustable Head Lights, Fog Lights Front, Pow...</td>\n",
       "    </tr>\n",
       "  </tbody>\n",
       "</table>\n",
       "<p>8369 rows × 32 columns</p>\n",
       "</div>"
      ],
      "text/plain": [
       "      it      ft         bt        km transmission  ownerNo      owner  \\\n",
       "0      0  Petrol  Hatchback  1,20,000       Manual        3  3rd Owner   \n",
       "1      0  Petrol        SUV    32,706       Manual        2  2nd Owner   \n",
       "2      0  Petrol  Hatchback    11,949       Manual        1  1st Owner   \n",
       "3      0  Petrol      Sedan    17,794       Manual        1  1st Owner   \n",
       "4      0  Diesel        SUV    60,000       Manual        1  1st Owner   \n",
       "...   ..     ...        ...       ...          ...      ...        ...   \n",
       "8364   0  Petrol  Hatchback    10,000       Manual        1  1st Owner   \n",
       "8365   0  Petrol  Hatchback  1,20,000       Manual        1  1st Owner   \n",
       "8366   0  Petrol      Sedan    50,000    Automatic        3  3rd Owner   \n",
       "8367   0  Petrol  Hatchback    40,000       Manual        1  1st Owner   \n",
       "8368   0  Diesel        SUV  1,20,000       Manual        2  2nd Owner   \n",
       "\n",
       "                oem                  model  modelYear  centralVariantId  \\\n",
       "0            Maruti         Maruti Celerio       2015              3979   \n",
       "1              Ford          Ford Ecosport       2018              6087   \n",
       "2              Tata             Tata Tiago       2018              2983   \n",
       "3           Hyundai          Hyundai Xcent       2014              1867   \n",
       "4            Maruti     Maruti SX4 S Cross       2015              4277   \n",
       "...             ...                    ...        ...               ...   \n",
       "8364         Maruti         Maruti Celerio       2022              8682   \n",
       "8365         Maruti        Maruti Alto 800       2014              3943   \n",
       "8366  Mercedes-Benz  Mercedes-Benz C-Class       2011              4672   \n",
       "8367         Maruti            Maruti Ritz       2012              4144   \n",
       "8368        Renault         Renault Duster       2017              5048   \n",
       "\n",
       "                   variantName        price priceActual priceSaving  \\\n",
       "0                          VXI     ₹ 4 Lakh                           \n",
       "1     1.5 Petrol Titanium BSIV  ₹ 8.11 Lakh                           \n",
       "2              1.2 Revotron XZ  ₹ 5.85 Lakh                           \n",
       "3           1.2 Kappa S Option  ₹ 4.62 Lakh                           \n",
       "4                DDiS 200 Zeta  ₹ 7.90 Lakh                           \n",
       "...                        ...          ...         ...         ...   \n",
       "8364                  ZXI BSVI  ₹ 5.10 Lakh                           \n",
       "8365                       LXI  ₹ 1.80 Lakh                           \n",
       "8366        C 200 CGI Elegance  ₹ 5.50 Lakh                           \n",
       "8367                       ZXi  ₹ 1.40 Lakh                           \n",
       "8368      110PS Diesel RxZ AWD     ₹ 5 Lakh                           \n",
       "\n",
       "      priceFixedText                                       trendingText  \\\n",
       "0                  1  {'imgUrl': 'https://stimg.cardekho.com/used-ca...   \n",
       "1                  1  {'imgUrl': 'https://stimg.cardekho.com/used-ca...   \n",
       "2                  1  {'imgUrl': 'https://stimg.cardekho.com/used-ca...   \n",
       "3                  1  {'imgUrl': 'https://stimg.cardekho.com/used-ca...   \n",
       "4                  1  {'imgUrl': 'https://stimg.cardekho.com/used-ca...   \n",
       "...              ...                                                ...   \n",
       "8364               1  {'imgUrl': 'https://stimg.cardekho.com/used-ca...   \n",
       "8365               1  {'imgUrl': 'https://stimg.cardekho.com/used-ca...   \n",
       "8366               1  {'imgUrl': 'https://stimg.cardekho.com/used-ca...   \n",
       "8367               1  {'imgUrl': 'https://stimg.cardekho.com/used-ca...   \n",
       "8368               1  {'imgUrl': 'https://stimg.cardekho.com/used-ca...   \n",
       "\n",
       "          place Registration Year Insurance Validity Fuel Type Seats  \\\n",
       "0     bangalore              None               None      None  None   \n",
       "1     bangalore              None               None      None  None   \n",
       "2     bangalore              None               None      None  None   \n",
       "3     bangalore              None               None      None  None   \n",
       "4     bangalore              None               None      None  None   \n",
       "...         ...               ...                ...       ...   ...   \n",
       "8364    kolkata              None               None      None  None   \n",
       "8365    kolkata              None               None      None  None   \n",
       "8366    kolkata              None               None      None  None   \n",
       "8367    kolkata              None               None      None  None   \n",
       "8368    kolkata              None               None      None  None   \n",
       "\n",
       "     Kms Driven   RTO Ownership Engine Displacement Transmission  \\\n",
       "0          None  None      None                None         None   \n",
       "1          None  None      None                None         None   \n",
       "2          None  None      None                None         None   \n",
       "3          None  None      None                None         None   \n",
       "4          None  None      None                None         None   \n",
       "...         ...   ...       ...                 ...          ...   \n",
       "8364       None  None      None                None         None   \n",
       "8365       None  None      None                None         None   \n",
       "8366       None  None      None                None         None   \n",
       "8367       None  None      None                None         None   \n",
       "8368       None  None      None                None         None   \n",
       "\n",
       "     Year of Manufacture                                           Features  \\\n",
       "0                   None  [Power Steering, Power Windows Front, Air Cond...   \n",
       "1                   None  [Power Steering, Power Windows Front, Air Cond...   \n",
       "2                   None  [Power Steering, Power Windows Front, Air Cond...   \n",
       "3                   None  [Power Steering, Power Windows Front, Air Cond...   \n",
       "4                   None  [Power Steering, Power Windows Front, Air Cond...   \n",
       "...                  ...                                                ...   \n",
       "8364                None  [Power Steering, Power Windows Front, Air Cond...   \n",
       "8365                None  [Power Steering, Power Windows Front, Air Cond...   \n",
       "8366                None  [Power Steering, Power Windows Front, Air Cond...   \n",
       "8367                None  [Power Steering, Power Windows Front, Air Cond...   \n",
       "8368                None  [Power Steering, Power Windows Front, Air Cond...   \n",
       "\n",
       "                                                Comfort  \\\n",
       "0     [Power Steering, Power Windows Front, Power Wi...   \n",
       "1     [Power Steering, Power Windows Front, Power Wi...   \n",
       "2     [Power Steering, Power Windows Front, Power Wi...   \n",
       "3     [Power Steering, Power Windows Front, Power Wi...   \n",
       "4     [Power Steering, Power Windows Front, Power Wi...   \n",
       "...                                                 ...   \n",
       "8364  [Power Steering, Power Windows Front, Power Wi...   \n",
       "8365  [Power Steering, Power Windows Front, Remote T...   \n",
       "8366  [Power Steering, Power Windows Front, Power Wi...   \n",
       "8367  [Power Steering, Power Windows Front, Power Wi...   \n",
       "8368  [Power Steering, Power Windows Front, Power Wi...   \n",
       "\n",
       "                                               Interior  \\\n",
       "0     [Air Conditioner, Heater, Digital Odometer, El...   \n",
       "1     [Air Conditioner, Heater, Adjustable Steering,...   \n",
       "2     [Air Conditioner, Heater, Adjustable Steering,...   \n",
       "3     [Air Conditioner, Heater, Adjustable Steering,...   \n",
       "4     [Air Conditioner, Heater, Adjustable Steering,...   \n",
       "...                                                 ...   \n",
       "8364  [Air Conditioner, Heater, Adjustable Steering,...   \n",
       "8365  [Air Conditioner, Heater, Digital Odometer, El...   \n",
       "8366  [Air Conditioner, Heater, Adjustable Steering,...   \n",
       "8367  [Air Conditioner, Heater, Adjustable Steering,...   \n",
       "8368  [Air Conditioner, Heater, Adjustable Steering,...   \n",
       "\n",
       "                                               Exterior  \n",
       "0     [Adjustable Head Lights, Manually Adjustable E...  \n",
       "1     [Adjustable Head Lights, Fog Lights Front, Pow...  \n",
       "2     [Adjustable Head Lights, Fog Lights Front, Pow...  \n",
       "3     [Adjustable Head Lights, Fog Lights Front, Pow...  \n",
       "4     [Adjustable Head Lights, Fog Lights Front, Pow...  \n",
       "...                                                 ...  \n",
       "8364  [Adjustable Head Lights, Power Adjustable Exte...  \n",
       "8365  [Adjustable Head Lights, Manually Adjustable E...  \n",
       "8366  [Adjustable Head Lights, Fog Lights Front, Fog...  \n",
       "8367  [Adjustable Head Lights, Fog Lights Front, Fog...  \n",
       "8368  [Adjustable Head Lights, Fog Lights Front, Pow...  \n",
       "\n",
       "[8369 rows x 32 columns]"
      ]
     },
     "execution_count": 104,
     "metadata": {},
     "output_type": "execute_result"
    }
   ],
   "source": [
    "final_df =pd.concat([detail_frame, df2, df3], axis=1)\n",
    "final_df"
   ]
  },
  {
   "cell_type": "code",
   "execution_count": 105,
   "metadata": {},
   "outputs": [
    {
     "data": {
      "text/plain": [
       "it                        0\n",
       "ft                        0\n",
       "bt                        0\n",
       "km                        0\n",
       "transmission              0\n",
       "ownerNo                   0\n",
       "owner                     0\n",
       "oem                       0\n",
       "model                     0\n",
       "modelYear                 0\n",
       "centralVariantId          0\n",
       "variantName               0\n",
       "price                     0\n",
       "priceActual               0\n",
       "priceSaving               0\n",
       "priceFixedText            0\n",
       "trendingText              0\n",
       "place                     0\n",
       "Registration Year      8369\n",
       "Insurance Validity     8369\n",
       "Fuel Type              8369\n",
       "Seats                  8369\n",
       "Kms Driven             8369\n",
       "RTO                    8369\n",
       "Ownership              8369\n",
       "Engine Displacement    8369\n",
       "Transmission           8369\n",
       "Year of Manufacture    8369\n",
       "Features                  0\n",
       "Comfort                   0\n",
       "Interior                  0\n",
       "Exterior                  0\n",
       "dtype: int64"
      ]
     },
     "execution_count": 105,
     "metadata": {},
     "output_type": "execute_result"
    }
   ],
   "source": [
    "final_df.isna().sum()"
   ]
  },
  {
   "cell_type": "code",
   "execution_count": 106,
   "metadata": {},
   "outputs": [
    {
     "name": "stdout",
     "output_type": "stream",
     "text": [
      "<class 'pandas.core.frame.DataFrame'>\n",
      "RangeIndex: 8369 entries, 0 to 8368\n",
      "Data columns (total 32 columns):\n",
      " #   Column               Non-Null Count  Dtype \n",
      "---  ------               --------------  ----- \n",
      " 0   it                   8369 non-null   int64 \n",
      " 1   ft                   8369 non-null   object\n",
      " 2   bt                   8369 non-null   object\n",
      " 3   km                   8369 non-null   object\n",
      " 4   transmission         8369 non-null   object\n",
      " 5   ownerNo              8369 non-null   int64 \n",
      " 6   owner                8369 non-null   object\n",
      " 7   oem                  8369 non-null   object\n",
      " 8   model                8369 non-null   object\n",
      " 9   modelYear            8369 non-null   int64 \n",
      " 10  centralVariantId     8369 non-null   int64 \n",
      " 11  variantName          8369 non-null   object\n",
      " 12  price                8369 non-null   object\n",
      " 13  priceActual          8369 non-null   object\n",
      " 14  priceSaving          8369 non-null   object\n",
      " 15  priceFixedText       8369 non-null   int64 \n",
      " 16  trendingText         8369 non-null   object\n",
      " 17  place                8369 non-null   object\n",
      " 18  Registration Year    0 non-null      object\n",
      " 19  Insurance Validity   0 non-null      object\n",
      " 20  Fuel Type            0 non-null      object\n",
      " 21  Seats                0 non-null      object\n",
      " 22  Kms Driven           0 non-null      object\n",
      " 23  RTO                  0 non-null      object\n",
      " 24  Ownership            0 non-null      object\n",
      " 25  Engine Displacement  0 non-null      object\n",
      " 26  Transmission         0 non-null      object\n",
      " 27  Year of Manufacture  0 non-null      object\n",
      " 28  Features             8369 non-null   object\n",
      " 29  Comfort              8369 non-null   object\n",
      " 30  Interior             8369 non-null   object\n",
      " 31  Exterior             8369 non-null   object\n",
      "dtypes: int64(5), object(27)\n",
      "memory usage: 2.0+ MB\n"
     ]
    }
   ],
   "source": [
    "final_df.info()"
   ]
  },
  {
   "cell_type": "code",
   "execution_count": 25,
   "metadata": {},
   "outputs": [
    {
     "name": "stdout",
     "output_type": "stream",
     "text": [
      "it 1\n",
      "ft 5\n",
      "bt 11\n",
      "km 4090\n",
      "transmission 2\n",
      "ownerNo 6\n",
      "owner 6\n",
      "oem 33\n",
      "model 315\n",
      "modelYear 29\n",
      "centralVariantId 2713\n",
      "variantName 2157\n",
      "price 1400\n",
      "priceActual 722\n",
      "priceSaving 1\n",
      "priceFixedText 0\n",
      "Registration Year 233\n",
      "Insurance Validity 7\n",
      "Fuel Type 5\n",
      "Seats 8\n",
      "Kms Driven 4089\n",
      "RTO 465\n",
      "Ownership 5\n",
      "Engine Displacement 150\n",
      "Transmission 2\n",
      "Year of Manufacture 22\n"
     ]
    }
   ],
   "source": [
    "for i in final_df.columns:\n",
    "    # print(i)\n",
    "    if i not in ['Features','Comfort', 'Interior', 'Exterior', 'trendingText']:\n",
    "        print(i, final_df[i].nunique())\n",
    "        "
   ]
  },
  {
   "cell_type": "code",
   "execution_count": 107,
   "metadata": {},
   "outputs": [
    {
     "name": "stdout",
     "output_type": "stream",
     "text": [
      "price denominations >>>>>>>>>>>  {'Lakh', 'Crore'}\n"
     ]
    }
   ],
   "source": [
    "price_colvalues = final_df.price.str.replace(\"₹\",\"\").str.strip().to_list() #replacing rupee sign to empty string\n",
    "\n",
    "#to find the denominators\n",
    "text = []\n",
    "for PriceString in price_colvalues:\n",
    "    \n",
    "    try:\n",
    "        if (PriceString.split()[1]).isalpha(): #splitting prices \"8.11 Lakh\" by spaces\n",
    "            text.append(PriceString.split()[1])\n",
    "    except:\n",
    "        pass\n",
    "    \n",
    "print(\"price denominations >>>>>>>>>>> \",set(text))"
   ]
  },
  {
   "cell_type": "code",
   "execution_count": 108,
   "metadata": {},
   "outputs": [
    {
     "data": {
      "text/html": [
       "<div>\n",
       "<style scoped>\n",
       "    .dataframe tbody tr th:only-of-type {\n",
       "        vertical-align: middle;\n",
       "    }\n",
       "\n",
       "    .dataframe tbody tr th {\n",
       "        vertical-align: top;\n",
       "    }\n",
       "\n",
       "    .dataframe thead th {\n",
       "        text-align: right;\n",
       "    }\n",
       "</style>\n",
       "<table border=\"1\" class=\"dataframe\">\n",
       "  <thead>\n",
       "    <tr style=\"text-align: right;\">\n",
       "      <th></th>\n",
       "      <th>place</th>\n",
       "      <th>km</th>\n",
       "      <th>model</th>\n",
       "      <th>modelYear</th>\n",
       "      <th>price</th>\n",
       "    </tr>\n",
       "  </thead>\n",
       "  <tbody>\n",
       "    <tr>\n",
       "      <th>0</th>\n",
       "      <td>delhi</td>\n",
       "      <td>1,600</td>\n",
       "      <td>Land Rover Defender</td>\n",
       "      <td>2023</td>\n",
       "      <td>₹ 1.32 Crore</td>\n",
       "    </tr>\n",
       "    <tr>\n",
       "      <th>1</th>\n",
       "      <td>bangalore</td>\n",
       "      <td>10,000</td>\n",
       "      <td>BMW X7</td>\n",
       "      <td>2022</td>\n",
       "      <td>₹ 1.30 Crore</td>\n",
       "    </tr>\n",
       "    <tr>\n",
       "      <th>2</th>\n",
       "      <td>delhi</td>\n",
       "      <td>10,500</td>\n",
       "      <td>Toyota Vellfire</td>\n",
       "      <td>2023</td>\n",
       "      <td>₹ 1.19 Crore</td>\n",
       "    </tr>\n",
       "    <tr>\n",
       "      <th>3</th>\n",
       "      <td>delhi</td>\n",
       "      <td>101</td>\n",
       "      <td>Land Rover Defender</td>\n",
       "      <td>2023</td>\n",
       "      <td>₹ 1.32 Crore</td>\n",
       "    </tr>\n",
       "    <tr>\n",
       "      <th>4</th>\n",
       "      <td>chennai</td>\n",
       "      <td>14,000</td>\n",
       "      <td>Mercedes-Benz S-Class</td>\n",
       "      <td>2020</td>\n",
       "      <td>₹ 1.18 Crore</td>\n",
       "    </tr>\n",
       "    <tr>\n",
       "      <th>5</th>\n",
       "      <td>delhi</td>\n",
       "      <td>16,000</td>\n",
       "      <td>Mercedes-Benz GLS</td>\n",
       "      <td>2022</td>\n",
       "      <td>₹ 1.38 Crore</td>\n",
       "    </tr>\n",
       "    <tr>\n",
       "      <th>6</th>\n",
       "      <td>delhi</td>\n",
       "      <td>3,500</td>\n",
       "      <td>Toyota Land Cruiser 300</td>\n",
       "      <td>2023</td>\n",
       "      <td>₹ 2.69 Crore</td>\n",
       "    </tr>\n",
       "    <tr>\n",
       "      <th>7</th>\n",
       "      <td>delhi</td>\n",
       "      <td>3,500</td>\n",
       "      <td>Mercedes-Benz AMG G 63</td>\n",
       "      <td>2023</td>\n",
       "      <td>₹ 4.15 Crore</td>\n",
       "    </tr>\n",
       "    <tr>\n",
       "      <th>8</th>\n",
       "      <td>jaipur</td>\n",
       "      <td>30,000</td>\n",
       "      <td>Porsche 911</td>\n",
       "      <td>2020</td>\n",
       "      <td>₹ 1.50 Crore</td>\n",
       "    </tr>\n",
       "    <tr>\n",
       "      <th>9</th>\n",
       "      <td>kolkata</td>\n",
       "      <td>30,000</td>\n",
       "      <td>Mercedes-Benz AMG GT</td>\n",
       "      <td>2016</td>\n",
       "      <td>₹ 2.10 Crore</td>\n",
       "    </tr>\n",
       "    <tr>\n",
       "      <th>10</th>\n",
       "      <td>hyderabad</td>\n",
       "      <td>31,614</td>\n",
       "      <td>Land Rover Range Rover</td>\n",
       "      <td>2020</td>\n",
       "      <td>₹ 2.60 Crore</td>\n",
       "    </tr>\n",
       "    <tr>\n",
       "      <th>11</th>\n",
       "      <td>delhi</td>\n",
       "      <td>34,000</td>\n",
       "      <td>Mercedes-Benz S-Class</td>\n",
       "      <td>2019</td>\n",
       "      <td>₹ 1.59 Crore</td>\n",
       "    </tr>\n",
       "    <tr>\n",
       "      <th>12</th>\n",
       "      <td>delhi</td>\n",
       "      <td>35,000</td>\n",
       "      <td>Land Rover Range Rover Sport</td>\n",
       "      <td>2018</td>\n",
       "      <td>₹ 1.03 Crore</td>\n",
       "    </tr>\n",
       "    <tr>\n",
       "      <th>13</th>\n",
       "      <td>delhi</td>\n",
       "      <td>38,000</td>\n",
       "      <td>Mercedes-Benz G</td>\n",
       "      <td>2021</td>\n",
       "      <td>₹ 2.45 Crore</td>\n",
       "    </tr>\n",
       "    <tr>\n",
       "      <th>14</th>\n",
       "      <td>delhi</td>\n",
       "      <td>4,000</td>\n",
       "      <td>Mercedes-Benz AMG G 63</td>\n",
       "      <td>2022</td>\n",
       "      <td>₹ 3.95 Crore</td>\n",
       "    </tr>\n",
       "    <tr>\n",
       "      <th>15</th>\n",
       "      <td>jaipur</td>\n",
       "      <td>44,210</td>\n",
       "      <td>BMW 7 Series</td>\n",
       "      <td>2020</td>\n",
       "      <td>₹ 1.05 Crore</td>\n",
       "    </tr>\n",
       "    <tr>\n",
       "      <th>16</th>\n",
       "      <td>chennai</td>\n",
       "      <td>52,000</td>\n",
       "      <td>Mercedes-Benz GLS</td>\n",
       "      <td>2021</td>\n",
       "      <td>₹ 1.13 Crore</td>\n",
       "    </tr>\n",
       "    <tr>\n",
       "      <th>17</th>\n",
       "      <td>chennai</td>\n",
       "      <td>68,000</td>\n",
       "      <td>Mercedes-Benz S-Class</td>\n",
       "      <td>2018</td>\n",
       "      <td>₹ 1.10 Crore</td>\n",
       "    </tr>\n",
       "    <tr>\n",
       "      <th>18</th>\n",
       "      <td>delhi</td>\n",
       "      <td>7,900</td>\n",
       "      <td>Mercedes-Benz S-Class</td>\n",
       "      <td>2021</td>\n",
       "      <td>₹ 1.55 Crore</td>\n",
       "    </tr>\n",
       "    <tr>\n",
       "      <th>19</th>\n",
       "      <td>delhi</td>\n",
       "      <td>9,500</td>\n",
       "      <td>BMW X7</td>\n",
       "      <td>2019</td>\n",
       "      <td>₹ 1.10 Crore</td>\n",
       "    </tr>\n",
       "  </tbody>\n",
       "</table>\n",
       "</div>"
      ],
      "text/plain": [
       "        place      km                         model  modelYear         price\n",
       "0       delhi   1,600           Land Rover Defender       2023  ₹ 1.32 Crore\n",
       "1   bangalore  10,000                        BMW X7       2022  ₹ 1.30 Crore\n",
       "2       delhi  10,500               Toyota Vellfire       2023  ₹ 1.19 Crore\n",
       "3       delhi     101           Land Rover Defender       2023  ₹ 1.32 Crore\n",
       "4     chennai  14,000         Mercedes-Benz S-Class       2020  ₹ 1.18 Crore\n",
       "5       delhi  16,000             Mercedes-Benz GLS       2022  ₹ 1.38 Crore\n",
       "6       delhi   3,500       Toyota Land Cruiser 300       2023  ₹ 2.69 Crore\n",
       "7       delhi   3,500        Mercedes-Benz AMG G 63       2023  ₹ 4.15 Crore\n",
       "8      jaipur  30,000                   Porsche 911       2020  ₹ 1.50 Crore\n",
       "9     kolkata  30,000          Mercedes-Benz AMG GT       2016  ₹ 2.10 Crore\n",
       "10  hyderabad  31,614        Land Rover Range Rover       2020  ₹ 2.60 Crore\n",
       "11      delhi  34,000         Mercedes-Benz S-Class       2019  ₹ 1.59 Crore\n",
       "12      delhi  35,000  Land Rover Range Rover Sport       2018  ₹ 1.03 Crore\n",
       "13      delhi  38,000               Mercedes-Benz G       2021  ₹ 2.45 Crore\n",
       "14      delhi   4,000        Mercedes-Benz AMG G 63       2022  ₹ 3.95 Crore\n",
       "15     jaipur  44,210                  BMW 7 Series       2020  ₹ 1.05 Crore\n",
       "16    chennai  52,000             Mercedes-Benz GLS       2021  ₹ 1.13 Crore\n",
       "17    chennai  68,000         Mercedes-Benz S-Class       2018  ₹ 1.10 Crore\n",
       "18      delhi   7,900         Mercedes-Benz S-Class       2021  ₹ 1.55 Crore\n",
       "19      delhi   9,500                        BMW X7       2019  ₹ 1.10 Crore"
      ]
     },
     "execution_count": 108,
     "metadata": {},
     "output_type": "execute_result"
    }
   ],
   "source": [
    "CroreCarsFrame = final_df[final_df.price.str.contains('Crore')]\n",
    "CroreCarsFrame.loc[:,['place','km','model','modelYear','price']].sort_values(by = 'km').reset_index(drop=True)"
   ]
  },
  {
   "cell_type": "code",
   "execution_count": 114,
   "metadata": {},
   "outputs": [
    {
     "name": "stdout",
     "output_type": "stream",
     "text": [
      "1st row value-----> {'it': 0, 'ft': 'Petrol', 'bt': 'Hatchback', 'km': '1,20,000', 'transmission': 'Manual', 'ownerNo': 3, 'owner': '3rd Owner', 'oem': 'Maruti', 'model': 'Maruti Celerio', 'modelYear': 2015, 'centralVariantId': 3979, 'variantName': 'VXI', 'price': '₹ 4 Lakh', 'priceActual': '', 'priceSaving': '', 'priceFixedText': 1, 'trendingText': {'imgUrl': 'https://stimg.cardekho.com/used-cars/common/icons/trending.svg', 'heading': 'Trending Car!', 'desc': 'High chances of sale in next 6 days'}}\n"
     ]
    }
   ],
   "source": [
    "if len(cardf['new_car_detail'].to_list()) > 0:\n",
    "    print(\"1st row value----->\", cardf['new_car_detail'].to_list()[0])\n",
    "else:\n",
    "    print(\"The 'new_car_detail' column is empty.\")"
   ]
  },
  {
   "cell_type": "code",
   "execution_count": 115,
   "metadata": {},
   "outputs": [
    {
     "data": {
      "text/html": [
       "<div>\n",
       "<style scoped>\n",
       "    .dataframe tbody tr th:only-of-type {\n",
       "        vertical-align: middle;\n",
       "    }\n",
       "\n",
       "    .dataframe tbody tr th {\n",
       "        vertical-align: top;\n",
       "    }\n",
       "\n",
       "    .dataframe thead th {\n",
       "        text-align: right;\n",
       "    }\n",
       "</style>\n",
       "<table border=\"1\" class=\"dataframe\">\n",
       "  <thead>\n",
       "    <tr style=\"text-align: right;\">\n",
       "      <th></th>\n",
       "      <th>ft</th>\n",
       "      <th>bt</th>\n",
       "      <th>km</th>\n",
       "      <th>transmission</th>\n",
       "      <th>owner</th>\n",
       "      <th>oem</th>\n",
       "      <th>model</th>\n",
       "      <th>modelYear</th>\n",
       "      <th>variantName</th>\n",
       "      <th>price</th>\n",
       "      <th>place</th>\n",
       "    </tr>\n",
       "  </thead>\n",
       "  <tbody>\n",
       "    <tr>\n",
       "      <th>0</th>\n",
       "      <td>Petrol</td>\n",
       "      <td>Hatchback</td>\n",
       "      <td>120000.0</td>\n",
       "      <td>Manual</td>\n",
       "      <td>3rd Owner</td>\n",
       "      <td>Maruti</td>\n",
       "      <td>Maruti Celerio</td>\n",
       "      <td>2015</td>\n",
       "      <td>VXI</td>\n",
       "      <td>400000.0</td>\n",
       "      <td>bangalore</td>\n",
       "    </tr>\n",
       "    <tr>\n",
       "      <th>1</th>\n",
       "      <td>Petrol</td>\n",
       "      <td>SUV</td>\n",
       "      <td>32706.0</td>\n",
       "      <td>Manual</td>\n",
       "      <td>2nd Owner</td>\n",
       "      <td>Ford</td>\n",
       "      <td>Ford Ecosport</td>\n",
       "      <td>2018</td>\n",
       "      <td>1.5 Petrol Titanium BSIV</td>\n",
       "      <td>811000.0</td>\n",
       "      <td>bangalore</td>\n",
       "    </tr>\n",
       "    <tr>\n",
       "      <th>2</th>\n",
       "      <td>Petrol</td>\n",
       "      <td>Hatchback</td>\n",
       "      <td>11949.0</td>\n",
       "      <td>Manual</td>\n",
       "      <td>1st Owner</td>\n",
       "      <td>Tata</td>\n",
       "      <td>Tata Tiago</td>\n",
       "      <td>2018</td>\n",
       "      <td>1.2 Revotron XZ</td>\n",
       "      <td>585000.0</td>\n",
       "      <td>bangalore</td>\n",
       "    </tr>\n",
       "  </tbody>\n",
       "</table>\n",
       "</div>"
      ],
      "text/plain": [
       "       ft         bt        km transmission      owner     oem  \\\n",
       "0  Petrol  Hatchback  120000.0       Manual  3rd Owner  Maruti   \n",
       "1  Petrol        SUV   32706.0       Manual  2nd Owner    Ford   \n",
       "2  Petrol  Hatchback   11949.0       Manual  1st Owner    Tata   \n",
       "\n",
       "            model  modelYear               variantName     price      place  \n",
       "0  Maruti Celerio       2015                       VXI  400000.0  bangalore  \n",
       "1   Ford Ecosport       2018  1.5 Petrol Titanium BSIV  811000.0  bangalore  \n",
       "2      Tata Tiago       2018           1.2 Revotron XZ  585000.0  bangalore  "
      ]
     },
     "execution_count": 115,
     "metadata": {},
     "output_type": "execute_result"
    }
   ],
   "source": [
    "detail_frame.drop(['it','ownerNo','centralVariantId','priceActual','priceSaving','priceFixedText','trendingText'],axis = 1,inplace = True)\n",
    "\n",
    "detail_frame.km = detail_frame.km.apply(lambda x : x.replace(\",\",\"\")).astype(float)\n",
    "\n",
    "detail_frame.head(3)"
   ]
  },
  {
   "cell_type": "code",
   "execution_count": 116,
   "metadata": {},
   "outputs": [
    {
     "data": {
      "text/html": [
       "<div>\n",
       "<style scoped>\n",
       "    .dataframe tbody tr th:only-of-type {\n",
       "        vertical-align: middle;\n",
       "    }\n",
       "\n",
       "    .dataframe tbody tr th {\n",
       "        vertical-align: top;\n",
       "    }\n",
       "\n",
       "    .dataframe thead th {\n",
       "        text-align: right;\n",
       "    }\n",
       "</style>\n",
       "<table border=\"1\" class=\"dataframe\">\n",
       "  <thead>\n",
       "    <tr style=\"text-align: right;\">\n",
       "      <th></th>\n",
       "      <th>ft</th>\n",
       "      <th>bt</th>\n",
       "      <th>km</th>\n",
       "      <th>transmission</th>\n",
       "      <th>owner</th>\n",
       "      <th>oem</th>\n",
       "      <th>model</th>\n",
       "      <th>modelYear</th>\n",
       "      <th>variantName</th>\n",
       "      <th>price</th>\n",
       "      <th>place</th>\n",
       "    </tr>\n",
       "  </thead>\n",
       "  <tbody>\n",
       "    <tr>\n",
       "      <th>0</th>\n",
       "      <td>Petrol</td>\n",
       "      <td>Hatchback</td>\n",
       "      <td>120000.0</td>\n",
       "      <td>Manual</td>\n",
       "      <td>3rd Owner</td>\n",
       "      <td>Maruti</td>\n",
       "      <td>Maruti Celerio</td>\n",
       "      <td>2015</td>\n",
       "      <td>VXI</td>\n",
       "      <td>400000.0</td>\n",
       "      <td>bangalore</td>\n",
       "    </tr>\n",
       "    <tr>\n",
       "      <th>1</th>\n",
       "      <td>Petrol</td>\n",
       "      <td>SUV</td>\n",
       "      <td>32706.0</td>\n",
       "      <td>Manual</td>\n",
       "      <td>2nd Owner</td>\n",
       "      <td>Ford</td>\n",
       "      <td>Ford Ecosport</td>\n",
       "      <td>2018</td>\n",
       "      <td>1.5 Petrol Titanium BSIV</td>\n",
       "      <td>811000.0</td>\n",
       "      <td>bangalore</td>\n",
       "    </tr>\n",
       "    <tr>\n",
       "      <th>2</th>\n",
       "      <td>Petrol</td>\n",
       "      <td>Hatchback</td>\n",
       "      <td>11949.0</td>\n",
       "      <td>Manual</td>\n",
       "      <td>1st Owner</td>\n",
       "      <td>Tata</td>\n",
       "      <td>Tata Tiago</td>\n",
       "      <td>2018</td>\n",
       "      <td>1.2 Revotron XZ</td>\n",
       "      <td>585000.0</td>\n",
       "      <td>bangalore</td>\n",
       "    </tr>\n",
       "    <tr>\n",
       "      <th>3</th>\n",
       "      <td>Petrol</td>\n",
       "      <td>Sedan</td>\n",
       "      <td>17794.0</td>\n",
       "      <td>Manual</td>\n",
       "      <td>1st Owner</td>\n",
       "      <td>Hyundai</td>\n",
       "      <td>Hyundai Xcent</td>\n",
       "      <td>2014</td>\n",
       "      <td>1.2 Kappa S Option</td>\n",
       "      <td>462000.0</td>\n",
       "      <td>bangalore</td>\n",
       "    </tr>\n",
       "    <tr>\n",
       "      <th>4</th>\n",
       "      <td>Diesel</td>\n",
       "      <td>SUV</td>\n",
       "      <td>60000.0</td>\n",
       "      <td>Manual</td>\n",
       "      <td>1st Owner</td>\n",
       "      <td>Maruti</td>\n",
       "      <td>Maruti SX4 S Cross</td>\n",
       "      <td>2015</td>\n",
       "      <td>DDiS 200 Zeta</td>\n",
       "      <td>790000.0</td>\n",
       "      <td>bangalore</td>\n",
       "    </tr>\n",
       "  </tbody>\n",
       "</table>\n",
       "</div>"
      ],
      "text/plain": [
       "       ft         bt        km transmission      owner      oem  \\\n",
       "0  Petrol  Hatchback  120000.0       Manual  3rd Owner   Maruti   \n",
       "1  Petrol        SUV   32706.0       Manual  2nd Owner     Ford   \n",
       "2  Petrol  Hatchback   11949.0       Manual  1st Owner     Tata   \n",
       "3  Petrol      Sedan   17794.0       Manual  1st Owner  Hyundai   \n",
       "4  Diesel        SUV   60000.0       Manual  1st Owner   Maruti   \n",
       "\n",
       "                model  modelYear               variantName     price  \\\n",
       "0      Maruti Celerio       2015                       VXI  400000.0   \n",
       "1       Ford Ecosport       2018  1.5 Petrol Titanium BSIV  811000.0   \n",
       "2          Tata Tiago       2018           1.2 Revotron XZ  585000.0   \n",
       "3       Hyundai Xcent       2014        1.2 Kappa S Option  462000.0   \n",
       "4  Maruti SX4 S Cross       2015             DDiS 200 Zeta  790000.0   \n",
       "\n",
       "       place  \n",
       "0  bangalore  \n",
       "1  bangalore  \n",
       "2  bangalore  \n",
       "3  bangalore  \n",
       "4  bangalore  "
      ]
     },
     "execution_count": 116,
     "metadata": {},
     "output_type": "execute_result"
    }
   ],
   "source": [
    "# Define the GetPrice function\n",
    "def GetPrice(PriceString):\n",
    "    try:\n",
    "        if (PriceString.split()[1]).isalpha():\n",
    "            if PriceString.split()[1] == \"Crore\":\n",
    "                return float(PriceString.split()[0]) * 10000000\n",
    "            elif PriceString.split()[1] == \"Lakh\":\n",
    "                return float(PriceString.split()[0]) * 100000\n",
    "    except:\n",
    "        return float(PriceString.replace(\",\", \"\"))\n",
    "\n",
    "# Convert 'price' column to string type\n",
    "detail_frame['price'] = detail_frame['price'].astype(str)\n",
    "\n",
    "# Apply string operations to the 'price' column\n",
    "detail_frame['price'] = detail_frame['price'].str.replace(\"₹\", \"\").str.strip()\n",
    "detail_frame['price'] = detail_frame['price'].apply(GetPrice)\n",
    "detail_frame.head()\n",
    "\n"
   ]
  },
  {
   "cell_type": "markdown",
   "metadata": {},
   "source": [
    "### Fuel Type Vs OEM Vs Price"
   ]
  },
  {
   "cell_type": "code",
   "execution_count": 123,
   "metadata": {},
   "outputs": [
    {
     "data": {
      "application/vnd.plotly.v1+json": {
       "config": {
        "plotlyServerURL": "https://plot.ly"
       },
       "data": [
        {
         "hoverinfo": "label+percent",
         "labels": [
          "Petrol",
          "Diesel",
          "Cng",
          "Electric",
          "Lpg"
         ],
         "marker": {
          "colors": [
           "red",
           "mediumturquoise",
           "darkorange",
           "lightgreen"
          ],
          "line": {
           "color": "#000006",
           "width": 2
          }
         },
         "pull": [
          0,
          0,
          0.3,
          0
         ],
         "textfont": {
          "size": 20
         },
         "textinfo": "value",
         "type": "pie",
         "values": [
          5554,
          2673,
          98,
          28,
          16
         ]
        }
       ],
       "layout": {
        "font": {
         "color": "white"
        },
        "paper_bgcolor": "black",
        "plot_bgcolor": "black",
        "template": {
         "data": {
          "bar": [
           {
            "error_x": {
             "color": "#2a3f5f"
            },
            "error_y": {
             "color": "#2a3f5f"
            },
            "marker": {
             "line": {
              "color": "#E5ECF6",
              "width": 0.5
             },
             "pattern": {
              "fillmode": "overlay",
              "size": 10,
              "solidity": 0.2
             }
            },
            "type": "bar"
           }
          ],
          "barpolar": [
           {
            "marker": {
             "line": {
              "color": "#E5ECF6",
              "width": 0.5
             },
             "pattern": {
              "fillmode": "overlay",
              "size": 10,
              "solidity": 0.2
             }
            },
            "type": "barpolar"
           }
          ],
          "carpet": [
           {
            "aaxis": {
             "endlinecolor": "#2a3f5f",
             "gridcolor": "white",
             "linecolor": "white",
             "minorgridcolor": "white",
             "startlinecolor": "#2a3f5f"
            },
            "baxis": {
             "endlinecolor": "#2a3f5f",
             "gridcolor": "white",
             "linecolor": "white",
             "minorgridcolor": "white",
             "startlinecolor": "#2a3f5f"
            },
            "type": "carpet"
           }
          ],
          "choropleth": [
           {
            "colorbar": {
             "outlinewidth": 0,
             "ticks": ""
            },
            "type": "choropleth"
           }
          ],
          "contour": [
           {
            "colorbar": {
             "outlinewidth": 0,
             "ticks": ""
            },
            "colorscale": [
             [
              0,
              "#0d0887"
             ],
             [
              0.1111111111111111,
              "#46039f"
             ],
             [
              0.2222222222222222,
              "#7201a8"
             ],
             [
              0.3333333333333333,
              "#9c179e"
             ],
             [
              0.4444444444444444,
              "#bd3786"
             ],
             [
              0.5555555555555556,
              "#d8576b"
             ],
             [
              0.6666666666666666,
              "#ed7953"
             ],
             [
              0.7777777777777778,
              "#fb9f3a"
             ],
             [
              0.8888888888888888,
              "#fdca26"
             ],
             [
              1,
              "#f0f921"
             ]
            ],
            "type": "contour"
           }
          ],
          "contourcarpet": [
           {
            "colorbar": {
             "outlinewidth": 0,
             "ticks": ""
            },
            "type": "contourcarpet"
           }
          ],
          "heatmap": [
           {
            "colorbar": {
             "outlinewidth": 0,
             "ticks": ""
            },
            "colorscale": [
             [
              0,
              "#0d0887"
             ],
             [
              0.1111111111111111,
              "#46039f"
             ],
             [
              0.2222222222222222,
              "#7201a8"
             ],
             [
              0.3333333333333333,
              "#9c179e"
             ],
             [
              0.4444444444444444,
              "#bd3786"
             ],
             [
              0.5555555555555556,
              "#d8576b"
             ],
             [
              0.6666666666666666,
              "#ed7953"
             ],
             [
              0.7777777777777778,
              "#fb9f3a"
             ],
             [
              0.8888888888888888,
              "#fdca26"
             ],
             [
              1,
              "#f0f921"
             ]
            ],
            "type": "heatmap"
           }
          ],
          "heatmapgl": [
           {
            "colorbar": {
             "outlinewidth": 0,
             "ticks": ""
            },
            "colorscale": [
             [
              0,
              "#0d0887"
             ],
             [
              0.1111111111111111,
              "#46039f"
             ],
             [
              0.2222222222222222,
              "#7201a8"
             ],
             [
              0.3333333333333333,
              "#9c179e"
             ],
             [
              0.4444444444444444,
              "#bd3786"
             ],
             [
              0.5555555555555556,
              "#d8576b"
             ],
             [
              0.6666666666666666,
              "#ed7953"
             ],
             [
              0.7777777777777778,
              "#fb9f3a"
             ],
             [
              0.8888888888888888,
              "#fdca26"
             ],
             [
              1,
              "#f0f921"
             ]
            ],
            "type": "heatmapgl"
           }
          ],
          "histogram": [
           {
            "marker": {
             "pattern": {
              "fillmode": "overlay",
              "size": 10,
              "solidity": 0.2
             }
            },
            "type": "histogram"
           }
          ],
          "histogram2d": [
           {
            "colorbar": {
             "outlinewidth": 0,
             "ticks": ""
            },
            "colorscale": [
             [
              0,
              "#0d0887"
             ],
             [
              0.1111111111111111,
              "#46039f"
             ],
             [
              0.2222222222222222,
              "#7201a8"
             ],
             [
              0.3333333333333333,
              "#9c179e"
             ],
             [
              0.4444444444444444,
              "#bd3786"
             ],
             [
              0.5555555555555556,
              "#d8576b"
             ],
             [
              0.6666666666666666,
              "#ed7953"
             ],
             [
              0.7777777777777778,
              "#fb9f3a"
             ],
             [
              0.8888888888888888,
              "#fdca26"
             ],
             [
              1,
              "#f0f921"
             ]
            ],
            "type": "histogram2d"
           }
          ],
          "histogram2dcontour": [
           {
            "colorbar": {
             "outlinewidth": 0,
             "ticks": ""
            },
            "colorscale": [
             [
              0,
              "#0d0887"
             ],
             [
              0.1111111111111111,
              "#46039f"
             ],
             [
              0.2222222222222222,
              "#7201a8"
             ],
             [
              0.3333333333333333,
              "#9c179e"
             ],
             [
              0.4444444444444444,
              "#bd3786"
             ],
             [
              0.5555555555555556,
              "#d8576b"
             ],
             [
              0.6666666666666666,
              "#ed7953"
             ],
             [
              0.7777777777777778,
              "#fb9f3a"
             ],
             [
              0.8888888888888888,
              "#fdca26"
             ],
             [
              1,
              "#f0f921"
             ]
            ],
            "type": "histogram2dcontour"
           }
          ],
          "mesh3d": [
           {
            "colorbar": {
             "outlinewidth": 0,
             "ticks": ""
            },
            "type": "mesh3d"
           }
          ],
          "parcoords": [
           {
            "line": {
             "colorbar": {
              "outlinewidth": 0,
              "ticks": ""
             }
            },
            "type": "parcoords"
           }
          ],
          "pie": [
           {
            "automargin": true,
            "type": "pie"
           }
          ],
          "scatter": [
           {
            "fillpattern": {
             "fillmode": "overlay",
             "size": 10,
             "solidity": 0.2
            },
            "type": "scatter"
           }
          ],
          "scatter3d": [
           {
            "line": {
             "colorbar": {
              "outlinewidth": 0,
              "ticks": ""
             }
            },
            "marker": {
             "colorbar": {
              "outlinewidth": 0,
              "ticks": ""
             }
            },
            "type": "scatter3d"
           }
          ],
          "scattercarpet": [
           {
            "marker": {
             "colorbar": {
              "outlinewidth": 0,
              "ticks": ""
             }
            },
            "type": "scattercarpet"
           }
          ],
          "scattergeo": [
           {
            "marker": {
             "colorbar": {
              "outlinewidth": 0,
              "ticks": ""
             }
            },
            "type": "scattergeo"
           }
          ],
          "scattergl": [
           {
            "marker": {
             "colorbar": {
              "outlinewidth": 0,
              "ticks": ""
             }
            },
            "type": "scattergl"
           }
          ],
          "scattermapbox": [
           {
            "marker": {
             "colorbar": {
              "outlinewidth": 0,
              "ticks": ""
             }
            },
            "type": "scattermapbox"
           }
          ],
          "scatterpolar": [
           {
            "marker": {
             "colorbar": {
              "outlinewidth": 0,
              "ticks": ""
             }
            },
            "type": "scatterpolar"
           }
          ],
          "scatterpolargl": [
           {
            "marker": {
             "colorbar": {
              "outlinewidth": 0,
              "ticks": ""
             }
            },
            "type": "scatterpolargl"
           }
          ],
          "scatterternary": [
           {
            "marker": {
             "colorbar": {
              "outlinewidth": 0,
              "ticks": ""
             }
            },
            "type": "scatterternary"
           }
          ],
          "surface": [
           {
            "colorbar": {
             "outlinewidth": 0,
             "ticks": ""
            },
            "colorscale": [
             [
              0,
              "#0d0887"
             ],
             [
              0.1111111111111111,
              "#46039f"
             ],
             [
              0.2222222222222222,
              "#7201a8"
             ],
             [
              0.3333333333333333,
              "#9c179e"
             ],
             [
              0.4444444444444444,
              "#bd3786"
             ],
             [
              0.5555555555555556,
              "#d8576b"
             ],
             [
              0.6666666666666666,
              "#ed7953"
             ],
             [
              0.7777777777777778,
              "#fb9f3a"
             ],
             [
              0.8888888888888888,
              "#fdca26"
             ],
             [
              1,
              "#f0f921"
             ]
            ],
            "type": "surface"
           }
          ],
          "table": [
           {
            "cells": {
             "fill": {
              "color": "#EBF0F8"
             },
             "line": {
              "color": "white"
             }
            },
            "header": {
             "fill": {
              "color": "#C8D4E3"
             },
             "line": {
              "color": "white"
             }
            },
            "type": "table"
           }
          ]
         },
         "layout": {
          "annotationdefaults": {
           "arrowcolor": "#2a3f5f",
           "arrowhead": 0,
           "arrowwidth": 1
          },
          "autotypenumbers": "strict",
          "coloraxis": {
           "colorbar": {
            "outlinewidth": 0,
            "ticks": ""
           }
          },
          "colorscale": {
           "diverging": [
            [
             0,
             "#8e0152"
            ],
            [
             0.1,
             "#c51b7d"
            ],
            [
             0.2,
             "#de77ae"
            ],
            [
             0.3,
             "#f1b6da"
            ],
            [
             0.4,
             "#fde0ef"
            ],
            [
             0.5,
             "#f7f7f7"
            ],
            [
             0.6,
             "#e6f5d0"
            ],
            [
             0.7,
             "#b8e186"
            ],
            [
             0.8,
             "#7fbc41"
            ],
            [
             0.9,
             "#4d9221"
            ],
            [
             1,
             "#276419"
            ]
           ],
           "sequential": [
            [
             0,
             "#0d0887"
            ],
            [
             0.1111111111111111,
             "#46039f"
            ],
            [
             0.2222222222222222,
             "#7201a8"
            ],
            [
             0.3333333333333333,
             "#9c179e"
            ],
            [
             0.4444444444444444,
             "#bd3786"
            ],
            [
             0.5555555555555556,
             "#d8576b"
            ],
            [
             0.6666666666666666,
             "#ed7953"
            ],
            [
             0.7777777777777778,
             "#fb9f3a"
            ],
            [
             0.8888888888888888,
             "#fdca26"
            ],
            [
             1,
             "#f0f921"
            ]
           ],
           "sequentialminus": [
            [
             0,
             "#0d0887"
            ],
            [
             0.1111111111111111,
             "#46039f"
            ],
            [
             0.2222222222222222,
             "#7201a8"
            ],
            [
             0.3333333333333333,
             "#9c179e"
            ],
            [
             0.4444444444444444,
             "#bd3786"
            ],
            [
             0.5555555555555556,
             "#d8576b"
            ],
            [
             0.6666666666666666,
             "#ed7953"
            ],
            [
             0.7777777777777778,
             "#fb9f3a"
            ],
            [
             0.8888888888888888,
             "#fdca26"
            ],
            [
             1,
             "#f0f921"
            ]
           ]
          },
          "colorway": [
           "#636efa",
           "#EF553B",
           "#00cc96",
           "#ab63fa",
           "#FFA15A",
           "#19d3f3",
           "#FF6692",
           "#B6E880",
           "#FF97FF",
           "#FECB52"
          ],
          "font": {
           "color": "#2a3f5f"
          },
          "geo": {
           "bgcolor": "white",
           "lakecolor": "white",
           "landcolor": "#E5ECF6",
           "showlakes": true,
           "showland": true,
           "subunitcolor": "white"
          },
          "hoverlabel": {
           "align": "left"
          },
          "hovermode": "closest",
          "mapbox": {
           "style": "light"
          },
          "paper_bgcolor": "white",
          "plot_bgcolor": "#E5ECF6",
          "polar": {
           "angularaxis": {
            "gridcolor": "white",
            "linecolor": "white",
            "ticks": ""
           },
           "bgcolor": "#E5ECF6",
           "radialaxis": {
            "gridcolor": "white",
            "linecolor": "white",
            "ticks": ""
           }
          },
          "scene": {
           "xaxis": {
            "backgroundcolor": "#E5ECF6",
            "gridcolor": "white",
            "gridwidth": 2,
            "linecolor": "white",
            "showbackground": true,
            "ticks": "",
            "zerolinecolor": "white"
           },
           "yaxis": {
            "backgroundcolor": "#E5ECF6",
            "gridcolor": "white",
            "gridwidth": 2,
            "linecolor": "white",
            "showbackground": true,
            "ticks": "",
            "zerolinecolor": "white"
           },
           "zaxis": {
            "backgroundcolor": "#E5ECF6",
            "gridcolor": "white",
            "gridwidth": 2,
            "linecolor": "white",
            "showbackground": true,
            "ticks": "",
            "zerolinecolor": "white"
           }
          },
          "shapedefaults": {
           "line": {
            "color": "#2a3f5f"
           }
          },
          "ternary": {
           "aaxis": {
            "gridcolor": "white",
            "linecolor": "white",
            "ticks": ""
           },
           "baxis": {
            "gridcolor": "white",
            "linecolor": "white",
            "ticks": ""
           },
           "bgcolor": "#E5ECF6",
           "caxis": {
            "gridcolor": "white",
            "linecolor": "white",
            "ticks": ""
           }
          },
          "title": {
           "x": 0.05
          },
          "xaxis": {
           "automargin": true,
           "gridcolor": "white",
           "linecolor": "white",
           "ticks": "",
           "title": {
            "standoff": 15
           },
           "zerolinecolor": "white",
           "zerolinewidth": 2
          },
          "yaxis": {
           "automargin": true,
           "gridcolor": "white",
           "linecolor": "white",
           "ticks": "",
           "title": {
            "standoff": 15
           },
           "zerolinecolor": "white",
           "zerolinewidth": 2
          }
         }
        },
        "title": {
         "text": "Total No Of Cars In Each Fuel Type",
         "x": 0.5,
         "y": 0.9
        }
       }
      }
     },
     "metadata": {},
     "output_type": "display_data"
    }
   ],
   "source": [
    "import plotly.graph_objects as go\n",
    "\n",
    "FuelCountFrame = detail_frame['ft'].value_counts().to_frame().reset_index()\n",
    "\n",
    "labels = FuelCountFrame['ft'].tolist()\n",
    "values = FuelCountFrame['count'].tolist()\n",
    "\n",
    "colors = ['red', 'mediumturquoise', 'darkorange', 'lightgreen']\n",
    "\n",
    "fig = go.Figure(data=[go.Pie(labels=labels, values=values, pull=[0, 0, 0.3, 0])])\n",
    "\n",
    "fig.update_traces(hoverinfo='label+percent', textinfo='value', textfont_size=20,\n",
    "                  marker=dict(colors=colors, line=dict(color='#000006', width=2)))\n",
    "\n",
    "fig.update_layout(title_text=\"Total No Of Cars In Each Fuel Type\")\n",
    "fig.update_layout(title=dict(x=0.5, y=0.9))\n",
    "fig.update_layout(\n",
    "    plot_bgcolor='black',  # Set background color to black\n",
    "    paper_bgcolor='black',  # Set paper (outside plot area) color to black\n",
    "    font=dict(color='white')  # Set text color to white\n",
    ")\n",
    "\n",
    "fig.show()\n"
   ]
  },
  {
   "cell_type": "code",
   "execution_count": 124,
   "metadata": {},
   "outputs": [
    {
     "data": {
      "application/vnd.plotly.v1+json": {
       "config": {
        "plotlyServerURL": "https://plot.ly"
       },
       "data": [
        {
         "hole": 0.3,
         "insidetextorientation": "radial",
         "labels": [
          "Maruti",
          "Hyundai",
          "Honda",
          "Tata",
          "Mahindra",
          "Toyota",
          "Renault",
          "Ford",
          "Volkswagen",
          "Mercedes-Benz",
          "BMW",
          "Skoda",
          "Kia",
          "Audi",
          "Jeep",
          "MG",
          "Nissan",
          "Chevrolet",
          "Datsun",
          "Land Rover",
          "Volvo",
          "Jaguar",
          "Fiat",
          "Mitsubishi",
          "Mini",
          "Citroen",
          "Porsche",
          "Lexus",
          "Mahindra Renault",
          "Isuzu",
          "Mahindra Ssangyong",
          "Hindustan Motors",
          "Opel"
         ],
         "textinfo": "label+percent",
         "textposition": "inside",
         "type": "pie",
         "values": [
          2252,
          1651,
          865,
          431,
          377,
          325,
          312,
          311,
          294,
          245,
          184,
          161,
          158,
          156,
          112,
          90,
          78,
          76,
          74,
          44,
          41,
          35,
          31,
          14,
          12,
          8,
          6,
          5,
          5,
          5,
          4,
          4,
          3
         ]
        }
       ],
       "layout": {
        "font": {
         "color": "white"
        },
        "paper_bgcolor": "black",
        "plot_bgcolor": "black",
        "template": {
         "data": {
          "bar": [
           {
            "error_x": {
             "color": "#2a3f5f"
            },
            "error_y": {
             "color": "#2a3f5f"
            },
            "marker": {
             "line": {
              "color": "#E5ECF6",
              "width": 0.5
             },
             "pattern": {
              "fillmode": "overlay",
              "size": 10,
              "solidity": 0.2
             }
            },
            "type": "bar"
           }
          ],
          "barpolar": [
           {
            "marker": {
             "line": {
              "color": "#E5ECF6",
              "width": 0.5
             },
             "pattern": {
              "fillmode": "overlay",
              "size": 10,
              "solidity": 0.2
             }
            },
            "type": "barpolar"
           }
          ],
          "carpet": [
           {
            "aaxis": {
             "endlinecolor": "#2a3f5f",
             "gridcolor": "white",
             "linecolor": "white",
             "minorgridcolor": "white",
             "startlinecolor": "#2a3f5f"
            },
            "baxis": {
             "endlinecolor": "#2a3f5f",
             "gridcolor": "white",
             "linecolor": "white",
             "minorgridcolor": "white",
             "startlinecolor": "#2a3f5f"
            },
            "type": "carpet"
           }
          ],
          "choropleth": [
           {
            "colorbar": {
             "outlinewidth": 0,
             "ticks": ""
            },
            "type": "choropleth"
           }
          ],
          "contour": [
           {
            "colorbar": {
             "outlinewidth": 0,
             "ticks": ""
            },
            "colorscale": [
             [
              0,
              "#0d0887"
             ],
             [
              0.1111111111111111,
              "#46039f"
             ],
             [
              0.2222222222222222,
              "#7201a8"
             ],
             [
              0.3333333333333333,
              "#9c179e"
             ],
             [
              0.4444444444444444,
              "#bd3786"
             ],
             [
              0.5555555555555556,
              "#d8576b"
             ],
             [
              0.6666666666666666,
              "#ed7953"
             ],
             [
              0.7777777777777778,
              "#fb9f3a"
             ],
             [
              0.8888888888888888,
              "#fdca26"
             ],
             [
              1,
              "#f0f921"
             ]
            ],
            "type": "contour"
           }
          ],
          "contourcarpet": [
           {
            "colorbar": {
             "outlinewidth": 0,
             "ticks": ""
            },
            "type": "contourcarpet"
           }
          ],
          "heatmap": [
           {
            "colorbar": {
             "outlinewidth": 0,
             "ticks": ""
            },
            "colorscale": [
             [
              0,
              "#0d0887"
             ],
             [
              0.1111111111111111,
              "#46039f"
             ],
             [
              0.2222222222222222,
              "#7201a8"
             ],
             [
              0.3333333333333333,
              "#9c179e"
             ],
             [
              0.4444444444444444,
              "#bd3786"
             ],
             [
              0.5555555555555556,
              "#d8576b"
             ],
             [
              0.6666666666666666,
              "#ed7953"
             ],
             [
              0.7777777777777778,
              "#fb9f3a"
             ],
             [
              0.8888888888888888,
              "#fdca26"
             ],
             [
              1,
              "#f0f921"
             ]
            ],
            "type": "heatmap"
           }
          ],
          "heatmapgl": [
           {
            "colorbar": {
             "outlinewidth": 0,
             "ticks": ""
            },
            "colorscale": [
             [
              0,
              "#0d0887"
             ],
             [
              0.1111111111111111,
              "#46039f"
             ],
             [
              0.2222222222222222,
              "#7201a8"
             ],
             [
              0.3333333333333333,
              "#9c179e"
             ],
             [
              0.4444444444444444,
              "#bd3786"
             ],
             [
              0.5555555555555556,
              "#d8576b"
             ],
             [
              0.6666666666666666,
              "#ed7953"
             ],
             [
              0.7777777777777778,
              "#fb9f3a"
             ],
             [
              0.8888888888888888,
              "#fdca26"
             ],
             [
              1,
              "#f0f921"
             ]
            ],
            "type": "heatmapgl"
           }
          ],
          "histogram": [
           {
            "marker": {
             "pattern": {
              "fillmode": "overlay",
              "size": 10,
              "solidity": 0.2
             }
            },
            "type": "histogram"
           }
          ],
          "histogram2d": [
           {
            "colorbar": {
             "outlinewidth": 0,
             "ticks": ""
            },
            "colorscale": [
             [
              0,
              "#0d0887"
             ],
             [
              0.1111111111111111,
              "#46039f"
             ],
             [
              0.2222222222222222,
              "#7201a8"
             ],
             [
              0.3333333333333333,
              "#9c179e"
             ],
             [
              0.4444444444444444,
              "#bd3786"
             ],
             [
              0.5555555555555556,
              "#d8576b"
             ],
             [
              0.6666666666666666,
              "#ed7953"
             ],
             [
              0.7777777777777778,
              "#fb9f3a"
             ],
             [
              0.8888888888888888,
              "#fdca26"
             ],
             [
              1,
              "#f0f921"
             ]
            ],
            "type": "histogram2d"
           }
          ],
          "histogram2dcontour": [
           {
            "colorbar": {
             "outlinewidth": 0,
             "ticks": ""
            },
            "colorscale": [
             [
              0,
              "#0d0887"
             ],
             [
              0.1111111111111111,
              "#46039f"
             ],
             [
              0.2222222222222222,
              "#7201a8"
             ],
             [
              0.3333333333333333,
              "#9c179e"
             ],
             [
              0.4444444444444444,
              "#bd3786"
             ],
             [
              0.5555555555555556,
              "#d8576b"
             ],
             [
              0.6666666666666666,
              "#ed7953"
             ],
             [
              0.7777777777777778,
              "#fb9f3a"
             ],
             [
              0.8888888888888888,
              "#fdca26"
             ],
             [
              1,
              "#f0f921"
             ]
            ],
            "type": "histogram2dcontour"
           }
          ],
          "mesh3d": [
           {
            "colorbar": {
             "outlinewidth": 0,
             "ticks": ""
            },
            "type": "mesh3d"
           }
          ],
          "parcoords": [
           {
            "line": {
             "colorbar": {
              "outlinewidth": 0,
              "ticks": ""
             }
            },
            "type": "parcoords"
           }
          ],
          "pie": [
           {
            "automargin": true,
            "type": "pie"
           }
          ],
          "scatter": [
           {
            "fillpattern": {
             "fillmode": "overlay",
             "size": 10,
             "solidity": 0.2
            },
            "type": "scatter"
           }
          ],
          "scatter3d": [
           {
            "line": {
             "colorbar": {
              "outlinewidth": 0,
              "ticks": ""
             }
            },
            "marker": {
             "colorbar": {
              "outlinewidth": 0,
              "ticks": ""
             }
            },
            "type": "scatter3d"
           }
          ],
          "scattercarpet": [
           {
            "marker": {
             "colorbar": {
              "outlinewidth": 0,
              "ticks": ""
             }
            },
            "type": "scattercarpet"
           }
          ],
          "scattergeo": [
           {
            "marker": {
             "colorbar": {
              "outlinewidth": 0,
              "ticks": ""
             }
            },
            "type": "scattergeo"
           }
          ],
          "scattergl": [
           {
            "marker": {
             "colorbar": {
              "outlinewidth": 0,
              "ticks": ""
             }
            },
            "type": "scattergl"
           }
          ],
          "scattermapbox": [
           {
            "marker": {
             "colorbar": {
              "outlinewidth": 0,
              "ticks": ""
             }
            },
            "type": "scattermapbox"
           }
          ],
          "scatterpolar": [
           {
            "marker": {
             "colorbar": {
              "outlinewidth": 0,
              "ticks": ""
             }
            },
            "type": "scatterpolar"
           }
          ],
          "scatterpolargl": [
           {
            "marker": {
             "colorbar": {
              "outlinewidth": 0,
              "ticks": ""
             }
            },
            "type": "scatterpolargl"
           }
          ],
          "scatterternary": [
           {
            "marker": {
             "colorbar": {
              "outlinewidth": 0,
              "ticks": ""
             }
            },
            "type": "scatterternary"
           }
          ],
          "surface": [
           {
            "colorbar": {
             "outlinewidth": 0,
             "ticks": ""
            },
            "colorscale": [
             [
              0,
              "#0d0887"
             ],
             [
              0.1111111111111111,
              "#46039f"
             ],
             [
              0.2222222222222222,
              "#7201a8"
             ],
             [
              0.3333333333333333,
              "#9c179e"
             ],
             [
              0.4444444444444444,
              "#bd3786"
             ],
             [
              0.5555555555555556,
              "#d8576b"
             ],
             [
              0.6666666666666666,
              "#ed7953"
             ],
             [
              0.7777777777777778,
              "#fb9f3a"
             ],
             [
              0.8888888888888888,
              "#fdca26"
             ],
             [
              1,
              "#f0f921"
             ]
            ],
            "type": "surface"
           }
          ],
          "table": [
           {
            "cells": {
             "fill": {
              "color": "#EBF0F8"
             },
             "line": {
              "color": "white"
             }
            },
            "header": {
             "fill": {
              "color": "#C8D4E3"
             },
             "line": {
              "color": "white"
             }
            },
            "type": "table"
           }
          ]
         },
         "layout": {
          "annotationdefaults": {
           "arrowcolor": "#2a3f5f",
           "arrowhead": 0,
           "arrowwidth": 1
          },
          "autotypenumbers": "strict",
          "coloraxis": {
           "colorbar": {
            "outlinewidth": 0,
            "ticks": ""
           }
          },
          "colorscale": {
           "diverging": [
            [
             0,
             "#8e0152"
            ],
            [
             0.1,
             "#c51b7d"
            ],
            [
             0.2,
             "#de77ae"
            ],
            [
             0.3,
             "#f1b6da"
            ],
            [
             0.4,
             "#fde0ef"
            ],
            [
             0.5,
             "#f7f7f7"
            ],
            [
             0.6,
             "#e6f5d0"
            ],
            [
             0.7,
             "#b8e186"
            ],
            [
             0.8,
             "#7fbc41"
            ],
            [
             0.9,
             "#4d9221"
            ],
            [
             1,
             "#276419"
            ]
           ],
           "sequential": [
            [
             0,
             "#0d0887"
            ],
            [
             0.1111111111111111,
             "#46039f"
            ],
            [
             0.2222222222222222,
             "#7201a8"
            ],
            [
             0.3333333333333333,
             "#9c179e"
            ],
            [
             0.4444444444444444,
             "#bd3786"
            ],
            [
             0.5555555555555556,
             "#d8576b"
            ],
            [
             0.6666666666666666,
             "#ed7953"
            ],
            [
             0.7777777777777778,
             "#fb9f3a"
            ],
            [
             0.8888888888888888,
             "#fdca26"
            ],
            [
             1,
             "#f0f921"
            ]
           ],
           "sequentialminus": [
            [
             0,
             "#0d0887"
            ],
            [
             0.1111111111111111,
             "#46039f"
            ],
            [
             0.2222222222222222,
             "#7201a8"
            ],
            [
             0.3333333333333333,
             "#9c179e"
            ],
            [
             0.4444444444444444,
             "#bd3786"
            ],
            [
             0.5555555555555556,
             "#d8576b"
            ],
            [
             0.6666666666666666,
             "#ed7953"
            ],
            [
             0.7777777777777778,
             "#fb9f3a"
            ],
            [
             0.8888888888888888,
             "#fdca26"
            ],
            [
             1,
             "#f0f921"
            ]
           ]
          },
          "colorway": [
           "#636efa",
           "#EF553B",
           "#00cc96",
           "#ab63fa",
           "#FFA15A",
           "#19d3f3",
           "#FF6692",
           "#B6E880",
           "#FF97FF",
           "#FECB52"
          ],
          "font": {
           "color": "#2a3f5f"
          },
          "geo": {
           "bgcolor": "white",
           "lakecolor": "white",
           "landcolor": "#E5ECF6",
           "showlakes": true,
           "showland": true,
           "subunitcolor": "white"
          },
          "hoverlabel": {
           "align": "left"
          },
          "hovermode": "closest",
          "mapbox": {
           "style": "light"
          },
          "paper_bgcolor": "white",
          "plot_bgcolor": "#E5ECF6",
          "polar": {
           "angularaxis": {
            "gridcolor": "white",
            "linecolor": "white",
            "ticks": ""
           },
           "bgcolor": "#E5ECF6",
           "radialaxis": {
            "gridcolor": "white",
            "linecolor": "white",
            "ticks": ""
           }
          },
          "scene": {
           "xaxis": {
            "backgroundcolor": "#E5ECF6",
            "gridcolor": "white",
            "gridwidth": 2,
            "linecolor": "white",
            "showbackground": true,
            "ticks": "",
            "zerolinecolor": "white"
           },
           "yaxis": {
            "backgroundcolor": "#E5ECF6",
            "gridcolor": "white",
            "gridwidth": 2,
            "linecolor": "white",
            "showbackground": true,
            "ticks": "",
            "zerolinecolor": "white"
           },
           "zaxis": {
            "backgroundcolor": "#E5ECF6",
            "gridcolor": "white",
            "gridwidth": 2,
            "linecolor": "white",
            "showbackground": true,
            "ticks": "",
            "zerolinecolor": "white"
           }
          },
          "shapedefaults": {
           "line": {
            "color": "#2a3f5f"
           }
          },
          "ternary": {
           "aaxis": {
            "gridcolor": "white",
            "linecolor": "white",
            "ticks": ""
           },
           "baxis": {
            "gridcolor": "white",
            "linecolor": "white",
            "ticks": ""
           },
           "bgcolor": "#E5ECF6",
           "caxis": {
            "gridcolor": "white",
            "linecolor": "white",
            "ticks": ""
           }
          },
          "title": {
           "x": 0.05
          },
          "xaxis": {
           "automargin": true,
           "gridcolor": "white",
           "linecolor": "white",
           "ticks": "",
           "title": {
            "standoff": 15
           },
           "zerolinecolor": "white",
           "zerolinewidth": 2
          },
          "yaxis": {
           "automargin": true,
           "gridcolor": "white",
           "linecolor": "white",
           "ticks": "",
           "title": {
            "standoff": 15
           },
           "zerolinecolor": "white",
           "zerolinewidth": 2
          }
         }
        },
        "title": {
         "text": "OEM Wise Percentage Of Cars",
         "x": 0.45,
         "y": 0.9
        },
        "uniformtext": {
         "minsize": 9,
         "mode": "hide"
        }
       }
      }
     },
     "metadata": {},
     "output_type": "display_data"
    }
   ],
   "source": [
    "OemCountFrame = detail_frame.oem.value_counts().to_frame().reset_index()\n",
    "\n",
    "labels = OemCountFrame.oem.to_list()\n",
    "values = OemCountFrame['count'].to_list()\n",
    "\n",
    "fig = go.Figure(data=[go.Pie(labels=labels, values=values, textinfo='label+percent',\n",
    "                             insidetextorientation='radial',hole =.3\n",
    "                            )])\n",
    "\n",
    "fig.update_traces(textposition='inside')\n",
    "fig.update_layout(uniformtext_minsize=9, uniformtext_mode='hide')\n",
    "\n",
    "fig.update_layout(title_text=\"OEM Wise Percentage Of Cars\")\n",
    "fig.update_layout(title=dict(x=0.45, y=0.9))\n",
    "fig.update_layout(\n",
    "    plot_bgcolor='black',  # Set background color to black\n",
    "    paper_bgcolor='black',  # Set paper (outside plot area) color to black\n",
    "    font=dict(color='white')  # Set text color to white\n",
    ")\n",
    "fig.show()\n",
    "\n",
    "# The 4 OEMs with highest percentage of cars are Maruti, Hyundai, Honda and TATA\n",
    "# We can see the costliest cars are having less percentage of cars and few cars collaborated with different OEM"
   ]
  },
  {
   "cell_type": "code",
   "execution_count": 125,
   "metadata": {},
   "outputs": [
    {
     "data": {
      "application/vnd.plotly.v1+json": {
       "config": {
        "plotlyServerURL": "https://plot.ly"
       },
       "data": [
        {
         "alignmentgroup": "True",
         "hovertemplate": "ft=Petrol<br>oem=%{x}<br>Total Cars=%{y}<extra></extra>",
         "legendgroup": "Petrol",
         "marker": {
          "color": "#636efa",
          "pattern": {
           "shape": ""
          }
         },
         "name": "Petrol",
         "offsetgroup": "Petrol",
         "orientation": "v",
         "showlegend": true,
         "textposition": "auto",
         "type": "bar",
         "x": [
          "Maruti",
          "Hyundai",
          "Honda",
          "Renault",
          "Tata",
          "Volkswagen",
          "Ford",
          "Toyota",
          "Kia",
          "Skoda",
          "Mercedes-Benz",
          "Datsun",
          "Mahindra",
          "MG",
          "Nissan",
          "Jeep",
          "Audi",
          "Chevrolet",
          "BMW",
          "Fiat",
          "Land Rover",
          "Mini",
          "Volvo",
          "Jaguar",
          "Mitsubishi",
          "Lexus",
          "Citroen",
          "Opel",
          "Porsche",
          "Mahindra Renault",
          "Hindustan Motors"
         ],
         "xaxis": "x",
         "y": [
          1789,
          1296,
          737,
          245,
          234,
          202,
          148,
          143,
          101,
          93,
          78,
          74,
          65,
          62,
          57,
          41,
          38,
          36,
          34,
          20,
          11,
          9,
          9,
          7,
          6,
          5,
          4,
          3,
          3,
          2,
          2
         ],
         "yaxis": "y"
        },
        {
         "alignmentgroup": "True",
         "hovertemplate": "ft=Diesel<br>oem=%{x}<br>Total Cars=%{y}<extra></extra>",
         "legendgroup": "Diesel",
         "marker": {
          "color": "#EF553B",
          "pattern": {
           "shape": ""
          }
         },
         "name": "Diesel",
         "offsetgroup": "Diesel",
         "orientation": "v",
         "showlegend": true,
         "textposition": "auto",
         "type": "bar",
         "x": [
          "Maruti",
          "Hyundai",
          "Mahindra",
          "Toyota",
          "Tata",
          "Mercedes-Benz",
          "Ford",
          "BMW",
          "Honda",
          "Audi",
          "Volkswagen",
          "Jeep",
          "Skoda",
          "Renault",
          "Kia",
          "Chevrolet",
          "Land Rover",
          "Volvo",
          "Jaguar",
          "MG",
          "Nissan",
          "Fiat",
          "Mitsubishi",
          "Isuzu",
          "Citroen",
          "Mahindra Ssangyong",
          "Porsche",
          "Mahindra Renault",
          "Hindustan Motors",
          "Mini"
         ],
         "xaxis": "x",
         "y": [
          388,
          330,
          307,
          180,
          171,
          166,
          163,
          150,
          127,
          118,
          92,
          71,
          68,
          67,
          57,
          39,
          33,
          32,
          28,
          23,
          21,
          11,
          8,
          5,
          4,
          4,
          3,
          3,
          2,
          2
         ],
         "yaxis": "y"
        },
        {
         "alignmentgroup": "True",
         "hovertemplate": "ft=Cng<br>oem=%{x}<br>Total Cars=%{y}<extra></extra>",
         "legendgroup": "Cng",
         "marker": {
          "color": "#00cc96",
          "pattern": {
           "shape": ""
          }
         },
         "name": "Cng",
         "offsetgroup": "Cng",
         "orientation": "v",
         "showlegend": true,
         "textposition": "auto",
         "type": "bar",
         "x": [
          "Maruti",
          "Hyundai",
          "Tata",
          "Toyota",
          "Mahindra",
          "Honda"
         ],
         "xaxis": "x",
         "y": [
          69,
          15,
          10,
          2,
          1,
          1
         ],
         "yaxis": "y"
        },
        {
         "alignmentgroup": "True",
         "hovertemplate": "ft=Electric<br>oem=%{x}<br>Total Cars=%{y}<extra></extra>",
         "legendgroup": "Electric",
         "marker": {
          "color": "#ab63fa",
          "pattern": {
           "shape": ""
          }
         },
         "name": "Electric",
         "offsetgroup": "Electric",
         "orientation": "v",
         "showlegend": true,
         "textposition": "auto",
         "type": "bar",
         "x": [
          "Tata",
          "MG",
          "Mahindra",
          "Hyundai",
          "Mercedes-Benz",
          "Mini"
         ],
         "xaxis": "x",
         "y": [
          16,
          5,
          4,
          1,
          1,
          1
         ],
         "yaxis": "y"
        },
        {
         "alignmentgroup": "True",
         "hovertemplate": "ft=Lpg<br>oem=%{x}<br>Total Cars=%{y}<extra></extra>",
         "legendgroup": "Lpg",
         "marker": {
          "color": "#FFA15A",
          "pattern": {
           "shape": ""
          }
         },
         "name": "Lpg",
         "offsetgroup": "Lpg",
         "orientation": "v",
         "showlegend": true,
         "textposition": "auto",
         "type": "bar",
         "x": [
          "Hyundai",
          "Maruti",
          "Chevrolet"
         ],
         "xaxis": "x",
         "y": [
          9,
          6,
          1
         ],
         "yaxis": "y"
        }
       ],
       "layout": {
        "barmode": "relative",
        "font": {
         "color": "white"
        },
        "legend": {
         "title": {
          "text": "ft"
         },
         "tracegroupgap": 0
        },
        "margin": {
         "t": 60
        },
        "paper_bgcolor": "black",
        "plot_bgcolor": "black",
        "template": {
         "data": {
          "bar": [
           {
            "error_x": {
             "color": "#2a3f5f"
            },
            "error_y": {
             "color": "#2a3f5f"
            },
            "marker": {
             "line": {
              "color": "#E5ECF6",
              "width": 0.5
             },
             "pattern": {
              "fillmode": "overlay",
              "size": 10,
              "solidity": 0.2
             }
            },
            "type": "bar"
           }
          ],
          "barpolar": [
           {
            "marker": {
             "line": {
              "color": "#E5ECF6",
              "width": 0.5
             },
             "pattern": {
              "fillmode": "overlay",
              "size": 10,
              "solidity": 0.2
             }
            },
            "type": "barpolar"
           }
          ],
          "carpet": [
           {
            "aaxis": {
             "endlinecolor": "#2a3f5f",
             "gridcolor": "white",
             "linecolor": "white",
             "minorgridcolor": "white",
             "startlinecolor": "#2a3f5f"
            },
            "baxis": {
             "endlinecolor": "#2a3f5f",
             "gridcolor": "white",
             "linecolor": "white",
             "minorgridcolor": "white",
             "startlinecolor": "#2a3f5f"
            },
            "type": "carpet"
           }
          ],
          "choropleth": [
           {
            "colorbar": {
             "outlinewidth": 0,
             "ticks": ""
            },
            "type": "choropleth"
           }
          ],
          "contour": [
           {
            "colorbar": {
             "outlinewidth": 0,
             "ticks": ""
            },
            "colorscale": [
             [
              0,
              "#0d0887"
             ],
             [
              0.1111111111111111,
              "#46039f"
             ],
             [
              0.2222222222222222,
              "#7201a8"
             ],
             [
              0.3333333333333333,
              "#9c179e"
             ],
             [
              0.4444444444444444,
              "#bd3786"
             ],
             [
              0.5555555555555556,
              "#d8576b"
             ],
             [
              0.6666666666666666,
              "#ed7953"
             ],
             [
              0.7777777777777778,
              "#fb9f3a"
             ],
             [
              0.8888888888888888,
              "#fdca26"
             ],
             [
              1,
              "#f0f921"
             ]
            ],
            "type": "contour"
           }
          ],
          "contourcarpet": [
           {
            "colorbar": {
             "outlinewidth": 0,
             "ticks": ""
            },
            "type": "contourcarpet"
           }
          ],
          "heatmap": [
           {
            "colorbar": {
             "outlinewidth": 0,
             "ticks": ""
            },
            "colorscale": [
             [
              0,
              "#0d0887"
             ],
             [
              0.1111111111111111,
              "#46039f"
             ],
             [
              0.2222222222222222,
              "#7201a8"
             ],
             [
              0.3333333333333333,
              "#9c179e"
             ],
             [
              0.4444444444444444,
              "#bd3786"
             ],
             [
              0.5555555555555556,
              "#d8576b"
             ],
             [
              0.6666666666666666,
              "#ed7953"
             ],
             [
              0.7777777777777778,
              "#fb9f3a"
             ],
             [
              0.8888888888888888,
              "#fdca26"
             ],
             [
              1,
              "#f0f921"
             ]
            ],
            "type": "heatmap"
           }
          ],
          "heatmapgl": [
           {
            "colorbar": {
             "outlinewidth": 0,
             "ticks": ""
            },
            "colorscale": [
             [
              0,
              "#0d0887"
             ],
             [
              0.1111111111111111,
              "#46039f"
             ],
             [
              0.2222222222222222,
              "#7201a8"
             ],
             [
              0.3333333333333333,
              "#9c179e"
             ],
             [
              0.4444444444444444,
              "#bd3786"
             ],
             [
              0.5555555555555556,
              "#d8576b"
             ],
             [
              0.6666666666666666,
              "#ed7953"
             ],
             [
              0.7777777777777778,
              "#fb9f3a"
             ],
             [
              0.8888888888888888,
              "#fdca26"
             ],
             [
              1,
              "#f0f921"
             ]
            ],
            "type": "heatmapgl"
           }
          ],
          "histogram": [
           {
            "marker": {
             "pattern": {
              "fillmode": "overlay",
              "size": 10,
              "solidity": 0.2
             }
            },
            "type": "histogram"
           }
          ],
          "histogram2d": [
           {
            "colorbar": {
             "outlinewidth": 0,
             "ticks": ""
            },
            "colorscale": [
             [
              0,
              "#0d0887"
             ],
             [
              0.1111111111111111,
              "#46039f"
             ],
             [
              0.2222222222222222,
              "#7201a8"
             ],
             [
              0.3333333333333333,
              "#9c179e"
             ],
             [
              0.4444444444444444,
              "#bd3786"
             ],
             [
              0.5555555555555556,
              "#d8576b"
             ],
             [
              0.6666666666666666,
              "#ed7953"
             ],
             [
              0.7777777777777778,
              "#fb9f3a"
             ],
             [
              0.8888888888888888,
              "#fdca26"
             ],
             [
              1,
              "#f0f921"
             ]
            ],
            "type": "histogram2d"
           }
          ],
          "histogram2dcontour": [
           {
            "colorbar": {
             "outlinewidth": 0,
             "ticks": ""
            },
            "colorscale": [
             [
              0,
              "#0d0887"
             ],
             [
              0.1111111111111111,
              "#46039f"
             ],
             [
              0.2222222222222222,
              "#7201a8"
             ],
             [
              0.3333333333333333,
              "#9c179e"
             ],
             [
              0.4444444444444444,
              "#bd3786"
             ],
             [
              0.5555555555555556,
              "#d8576b"
             ],
             [
              0.6666666666666666,
              "#ed7953"
             ],
             [
              0.7777777777777778,
              "#fb9f3a"
             ],
             [
              0.8888888888888888,
              "#fdca26"
             ],
             [
              1,
              "#f0f921"
             ]
            ],
            "type": "histogram2dcontour"
           }
          ],
          "mesh3d": [
           {
            "colorbar": {
             "outlinewidth": 0,
             "ticks": ""
            },
            "type": "mesh3d"
           }
          ],
          "parcoords": [
           {
            "line": {
             "colorbar": {
              "outlinewidth": 0,
              "ticks": ""
             }
            },
            "type": "parcoords"
           }
          ],
          "pie": [
           {
            "automargin": true,
            "type": "pie"
           }
          ],
          "scatter": [
           {
            "fillpattern": {
             "fillmode": "overlay",
             "size": 10,
             "solidity": 0.2
            },
            "type": "scatter"
           }
          ],
          "scatter3d": [
           {
            "line": {
             "colorbar": {
              "outlinewidth": 0,
              "ticks": ""
             }
            },
            "marker": {
             "colorbar": {
              "outlinewidth": 0,
              "ticks": ""
             }
            },
            "type": "scatter3d"
           }
          ],
          "scattercarpet": [
           {
            "marker": {
             "colorbar": {
              "outlinewidth": 0,
              "ticks": ""
             }
            },
            "type": "scattercarpet"
           }
          ],
          "scattergeo": [
           {
            "marker": {
             "colorbar": {
              "outlinewidth": 0,
              "ticks": ""
             }
            },
            "type": "scattergeo"
           }
          ],
          "scattergl": [
           {
            "marker": {
             "colorbar": {
              "outlinewidth": 0,
              "ticks": ""
             }
            },
            "type": "scattergl"
           }
          ],
          "scattermapbox": [
           {
            "marker": {
             "colorbar": {
              "outlinewidth": 0,
              "ticks": ""
             }
            },
            "type": "scattermapbox"
           }
          ],
          "scatterpolar": [
           {
            "marker": {
             "colorbar": {
              "outlinewidth": 0,
              "ticks": ""
             }
            },
            "type": "scatterpolar"
           }
          ],
          "scatterpolargl": [
           {
            "marker": {
             "colorbar": {
              "outlinewidth": 0,
              "ticks": ""
             }
            },
            "type": "scatterpolargl"
           }
          ],
          "scatterternary": [
           {
            "marker": {
             "colorbar": {
              "outlinewidth": 0,
              "ticks": ""
             }
            },
            "type": "scatterternary"
           }
          ],
          "surface": [
           {
            "colorbar": {
             "outlinewidth": 0,
             "ticks": ""
            },
            "colorscale": [
             [
              0,
              "#0d0887"
             ],
             [
              0.1111111111111111,
              "#46039f"
             ],
             [
              0.2222222222222222,
              "#7201a8"
             ],
             [
              0.3333333333333333,
              "#9c179e"
             ],
             [
              0.4444444444444444,
              "#bd3786"
             ],
             [
              0.5555555555555556,
              "#d8576b"
             ],
             [
              0.6666666666666666,
              "#ed7953"
             ],
             [
              0.7777777777777778,
              "#fb9f3a"
             ],
             [
              0.8888888888888888,
              "#fdca26"
             ],
             [
              1,
              "#f0f921"
             ]
            ],
            "type": "surface"
           }
          ],
          "table": [
           {
            "cells": {
             "fill": {
              "color": "#EBF0F8"
             },
             "line": {
              "color": "white"
             }
            },
            "header": {
             "fill": {
              "color": "#C8D4E3"
             },
             "line": {
              "color": "white"
             }
            },
            "type": "table"
           }
          ]
         },
         "layout": {
          "annotationdefaults": {
           "arrowcolor": "#2a3f5f",
           "arrowhead": 0,
           "arrowwidth": 1
          },
          "autotypenumbers": "strict",
          "coloraxis": {
           "colorbar": {
            "outlinewidth": 0,
            "ticks": ""
           }
          },
          "colorscale": {
           "diverging": [
            [
             0,
             "#8e0152"
            ],
            [
             0.1,
             "#c51b7d"
            ],
            [
             0.2,
             "#de77ae"
            ],
            [
             0.3,
             "#f1b6da"
            ],
            [
             0.4,
             "#fde0ef"
            ],
            [
             0.5,
             "#f7f7f7"
            ],
            [
             0.6,
             "#e6f5d0"
            ],
            [
             0.7,
             "#b8e186"
            ],
            [
             0.8,
             "#7fbc41"
            ],
            [
             0.9,
             "#4d9221"
            ],
            [
             1,
             "#276419"
            ]
           ],
           "sequential": [
            [
             0,
             "#0d0887"
            ],
            [
             0.1111111111111111,
             "#46039f"
            ],
            [
             0.2222222222222222,
             "#7201a8"
            ],
            [
             0.3333333333333333,
             "#9c179e"
            ],
            [
             0.4444444444444444,
             "#bd3786"
            ],
            [
             0.5555555555555556,
             "#d8576b"
            ],
            [
             0.6666666666666666,
             "#ed7953"
            ],
            [
             0.7777777777777778,
             "#fb9f3a"
            ],
            [
             0.8888888888888888,
             "#fdca26"
            ],
            [
             1,
             "#f0f921"
            ]
           ],
           "sequentialminus": [
            [
             0,
             "#0d0887"
            ],
            [
             0.1111111111111111,
             "#46039f"
            ],
            [
             0.2222222222222222,
             "#7201a8"
            ],
            [
             0.3333333333333333,
             "#9c179e"
            ],
            [
             0.4444444444444444,
             "#bd3786"
            ],
            [
             0.5555555555555556,
             "#d8576b"
            ],
            [
             0.6666666666666666,
             "#ed7953"
            ],
            [
             0.7777777777777778,
             "#fb9f3a"
            ],
            [
             0.8888888888888888,
             "#fdca26"
            ],
            [
             1,
             "#f0f921"
            ]
           ]
          },
          "colorway": [
           "#636efa",
           "#EF553B",
           "#00cc96",
           "#ab63fa",
           "#FFA15A",
           "#19d3f3",
           "#FF6692",
           "#B6E880",
           "#FF97FF",
           "#FECB52"
          ],
          "font": {
           "color": "#2a3f5f"
          },
          "geo": {
           "bgcolor": "white",
           "lakecolor": "white",
           "landcolor": "#E5ECF6",
           "showlakes": true,
           "showland": true,
           "subunitcolor": "white"
          },
          "hoverlabel": {
           "align": "left"
          },
          "hovermode": "closest",
          "mapbox": {
           "style": "light"
          },
          "paper_bgcolor": "white",
          "plot_bgcolor": "#E5ECF6",
          "polar": {
           "angularaxis": {
            "gridcolor": "white",
            "linecolor": "white",
            "ticks": ""
           },
           "bgcolor": "#E5ECF6",
           "radialaxis": {
            "gridcolor": "white",
            "linecolor": "white",
            "ticks": ""
           }
          },
          "scene": {
           "xaxis": {
            "backgroundcolor": "#E5ECF6",
            "gridcolor": "white",
            "gridwidth": 2,
            "linecolor": "white",
            "showbackground": true,
            "ticks": "",
            "zerolinecolor": "white"
           },
           "yaxis": {
            "backgroundcolor": "#E5ECF6",
            "gridcolor": "white",
            "gridwidth": 2,
            "linecolor": "white",
            "showbackground": true,
            "ticks": "",
            "zerolinecolor": "white"
           },
           "zaxis": {
            "backgroundcolor": "#E5ECF6",
            "gridcolor": "white",
            "gridwidth": 2,
            "linecolor": "white",
            "showbackground": true,
            "ticks": "",
            "zerolinecolor": "white"
           }
          },
          "shapedefaults": {
           "line": {
            "color": "#2a3f5f"
           }
          },
          "ternary": {
           "aaxis": {
            "gridcolor": "white",
            "linecolor": "white",
            "ticks": ""
           },
           "baxis": {
            "gridcolor": "white",
            "linecolor": "white",
            "ticks": ""
           },
           "bgcolor": "#E5ECF6",
           "caxis": {
            "gridcolor": "white",
            "linecolor": "white",
            "ticks": ""
           }
          },
          "title": {
           "x": 0.05
          },
          "xaxis": {
           "automargin": true,
           "gridcolor": "white",
           "linecolor": "white",
           "ticks": "",
           "title": {
            "standoff": 15
           },
           "zerolinecolor": "white",
           "zerolinewidth": 2
          },
          "yaxis": {
           "automargin": true,
           "gridcolor": "white",
           "linecolor": "white",
           "ticks": "",
           "title": {
            "standoff": 15
           },
           "zerolinecolor": "white",
           "zerolinewidth": 2
          }
         }
        },
        "title": {
         "text": "OEM Wise Total No Of Cars In Each Fuel Type",
         "x": 0.45,
         "y": 0.95
        },
        "xaxis": {
         "anchor": "y",
         "domain": [
          0,
          1
         ],
         "tickangle": -45,
         "title": {
          "text": "OEM Names"
         }
        },
        "yaxis": {
         "anchor": "x",
         "domain": [
          0,
          1
         ],
         "title": {
          "text": "Total Cars Counts"
         }
        }
       }
      }
     },
     "metadata": {},
     "output_type": "display_data"
    }
   ],
   "source": [
    "#Available Cars counts in each Fuel Type in each oem\n",
    "\n",
    "OemCountFrame = detail_frame.groupby(['oem','ft']).price.agg(['count']).sort_values(by = 'count',ascending = False).reset_index()\n",
    "\n",
    "OemCountFrame.rename(columns = {'count':'Total Cars'}, inplace = True)\n",
    "fig = px.bar(OemCountFrame, x=\"oem\", y=\"Total Cars\",color = 'ft', orientation='v')\n",
    "fig.update_layout( xaxis_tickangle=-45)\n",
    "\n",
    "fig.update_layout(title_text=\"OEM Wise Total No Of Cars In Each Fuel Type\")\n",
    "fig.update_layout(title=dict(x=0.45, y=0.95))\n",
    "\n",
    "fig.update_xaxes(title_text=\"OEM Names\")\n",
    "fig.update_yaxes(title_text=\"Total Cars Counts\")\n",
    "fig.update_layout(\n",
    "    plot_bgcolor='black',  # Set background color to black\n",
    "    paper_bgcolor='black',  # Set paper (outside plot area) color to black\n",
    "    font=dict(color='white')  # Set text color to white\n",
    ")\n",
    "fig.show()\n",
    "\n",
    "#Maximum cars are available from Maruti and Hyundai\n",
    "#More No of petrol cars are available from Maruti and no cars of Electric, LPG\n",
    "#CNG vechiles are only available from Maruti, Hyundai, TATA, Toyota, Mahindra, Honda\n",
    "#LPG vechiles are only available from Hyundai, Marutia and Chevrolet\n",
    "#Electric vechiles are only available from Tata, MG, Mahindra, Hyundai, Mercedes-benz and Mini\n",
    "#Only Hyundai is having all Fuel type variant\n",
    "#Datsun and Lexus cars are having only petrol type vehicles"
   ]
  },
  {
   "cell_type": "code",
   "execution_count": 126,
   "metadata": {},
   "outputs": [
    {
     "data": {
      "application/vnd.plotly.v1+json": {
       "config": {
        "plotlyServerURL": "https://plot.ly"
       },
       "data": [
        {
         "alignmentgroup": "True",
         "hovertemplate": "ft=Petrol<br>oem=%{x}<br>Avg Price=%{y}<extra></extra>",
         "legendgroup": "Petrol",
         "marker": {
          "color": "#636efa",
          "pattern": {
           "shape": ""
          }
         },
         "name": "Petrol",
         "offsetgroup": "Petrol",
         "orientation": "v",
         "showlegend": true,
         "textposition": "auto",
         "type": "bar",
         "x": [
          "Porsche",
          "Land Rover",
          "Lexus",
          "Mercedes-Benz",
          "BMW",
          "Volvo",
          "Audi",
          "Jaguar",
          "Mini",
          "Jeep",
          "MG",
          "Kia",
          "Skoda",
          "Mahindra",
          "Toyota",
          "Citroen",
          "Volkswagen",
          "Tata",
          "Honda",
          "Nissan",
          "Hyundai",
          "Ford",
          "Mitsubishi",
          "Renault",
          "Maruti",
          "Hindustan Motors",
          "Datsun",
          "Fiat",
          "Chevrolet",
          "Mahindra Renault",
          "Opel"
         ],
         "xaxis": "x",
         "y": [
          8900000,
          8485818.181818182,
          6835000,
          5217666.666666667,
          5211176.470588235,
          4977222.222222222,
          3385500,
          3307142.8571428573,
          3011111.111111111,
          2121585.3658536584,
          1673661.2903225806,
          1343742.5742574257,
          1172053.7634408602,
          1088507.6923076923,
          1003440.5594405595,
          790000,
          784732.6732673268,
          640388.8888888889,
          631557.4491180461,
          606684.2105263158,
          565361.8834876543,
          540777.027027027,
          538166.6666666666,
          526551.0204081633,
          486451.8814980436,
          460000,
          347810.8108108108,
          248250,
          152749.97222222222,
          106500,
          73333.33333333333
         ],
         "yaxis": "y"
        },
        {
         "alignmentgroup": "True",
         "hovertemplate": "ft=Electric<br>oem=%{x}<br>Avg Price=%{y}<extra></extra>",
         "legendgroup": "Electric",
         "marker": {
          "color": "#EF553B",
          "pattern": {
           "shape": ""
          }
         },
         "name": "Electric",
         "offsetgroup": "Electric",
         "orientation": "v",
         "showlegend": true,
         "textposition": "auto",
         "type": "bar",
         "x": [
          "Mercedes-Benz",
          "Mini",
          "MG",
          "Hyundai",
          "Tata",
          "Mahindra"
         ],
         "xaxis": "x",
         "y": [
          7500000,
          4600000,
          2240000,
          1600000,
          1375500,
          428750
         ],
         "yaxis": "y"
        },
        {
         "alignmentgroup": "True",
         "hovertemplate": "ft=Diesel<br>oem=%{x}<br>Avg Price=%{y}<extra></extra>",
         "legendgroup": "Diesel",
         "marker": {
          "color": "#00cc96",
          "pattern": {
           "shape": ""
          }
         },
         "name": "Diesel",
         "offsetgroup": "Diesel",
         "orientation": "v",
         "showlegend": true,
         "textposition": "auto",
         "type": "bar",
         "x": [
          "Land Rover",
          "Porsche",
          "Mercedes-Benz",
          "Jaguar",
          "Citroen",
          "BMW",
          "MG",
          "Volvo",
          "Mini",
          "Audi",
          "Jeep",
          "Toyota",
          "Kia",
          "Isuzu",
          "Mahindra",
          "Mahindra Ssangyong",
          "Tata",
          "Ford",
          "Hyundai",
          "Skoda",
          "Mitsubishi",
          "Maruti",
          "Honda",
          "Renault",
          "Volkswagen",
          "Nissan",
          "Fiat",
          "Chevrolet",
          "Mahindra Renault",
          "Hindustan Motors"
         ],
         "xaxis": "x",
         "y": [
          4741969.696969697,
          4583333.333333333,
          3785036.1445783135,
          3273392.8571428573,
          3112500,
          3105673.3333333335,
          2686130.434782609,
          2685718.75,
          2175000,
          2048177.9661016949,
          1811760.5633802817,
          1709250,
          1632403.50877193,
          1463800,
          961280.1302931596,
          950000,
          900981.6608187135,
          891552.1472392638,
          779057.5757575758,
          740647.0588235294,
          632875,
          588422.6804123712,
          584645.6692913385,
          571044.776119403,
          523576.0869565217,
          505047.61904761905,
          368636.36363636365,
          349589.74358974356,
          131666.66666666666,
          110000
         ],
         "yaxis": "y"
        },
        {
         "alignmentgroup": "True",
         "hovertemplate": "ft=Cng<br>oem=%{x}<br>Avg Price=%{y}<extra></extra>",
         "legendgroup": "Cng",
         "marker": {
          "color": "#ab63fa",
          "pattern": {
           "shape": ""
          }
         },
         "name": "Cng",
         "offsetgroup": "Cng",
         "orientation": "v",
         "showlegend": true,
         "textposition": "auto",
         "type": "bar",
         "x": [
          "Tata",
          "Maruti",
          "Hyundai",
          "Mahindra",
          "Honda",
          "Toyota"
         ],
         "xaxis": "x",
         "y": [
          720000,
          539260.8695652174,
          458133.3333333333,
          434999.99999999994,
          365000,
          265000
         ],
         "yaxis": "y"
        },
        {
         "alignmentgroup": "True",
         "hovertemplate": "ft=Lpg<br>oem=%{x}<br>Avg Price=%{y}<extra></extra>",
         "legendgroup": "Lpg",
         "marker": {
          "color": "#FFA15A",
          "pattern": {
           "shape": ""
          }
         },
         "name": "Lpg",
         "offsetgroup": "Lpg",
         "orientation": "v",
         "showlegend": true,
         "textposition": "auto",
         "type": "bar",
         "x": [
          "Hyundai",
          "Maruti",
          "Chevrolet"
         ],
         "xaxis": "x",
         "y": [
          239444.44444444444,
          163449.5,
          160000
         ],
         "yaxis": "y"
        }
       ],
       "layout": {
        "barmode": "relative",
        "font": {
         "color": "white"
        },
        "legend": {
         "title": {
          "text": "ft"
         },
         "tracegroupgap": 0
        },
        "margin": {
         "t": 60
        },
        "paper_bgcolor": "black",
        "plot_bgcolor": "black",
        "template": {
         "data": {
          "bar": [
           {
            "error_x": {
             "color": "#2a3f5f"
            },
            "error_y": {
             "color": "#2a3f5f"
            },
            "marker": {
             "line": {
              "color": "#E5ECF6",
              "width": 0.5
             },
             "pattern": {
              "fillmode": "overlay",
              "size": 10,
              "solidity": 0.2
             }
            },
            "type": "bar"
           }
          ],
          "barpolar": [
           {
            "marker": {
             "line": {
              "color": "#E5ECF6",
              "width": 0.5
             },
             "pattern": {
              "fillmode": "overlay",
              "size": 10,
              "solidity": 0.2
             }
            },
            "type": "barpolar"
           }
          ],
          "carpet": [
           {
            "aaxis": {
             "endlinecolor": "#2a3f5f",
             "gridcolor": "white",
             "linecolor": "white",
             "minorgridcolor": "white",
             "startlinecolor": "#2a3f5f"
            },
            "baxis": {
             "endlinecolor": "#2a3f5f",
             "gridcolor": "white",
             "linecolor": "white",
             "minorgridcolor": "white",
             "startlinecolor": "#2a3f5f"
            },
            "type": "carpet"
           }
          ],
          "choropleth": [
           {
            "colorbar": {
             "outlinewidth": 0,
             "ticks": ""
            },
            "type": "choropleth"
           }
          ],
          "contour": [
           {
            "colorbar": {
             "outlinewidth": 0,
             "ticks": ""
            },
            "colorscale": [
             [
              0,
              "#0d0887"
             ],
             [
              0.1111111111111111,
              "#46039f"
             ],
             [
              0.2222222222222222,
              "#7201a8"
             ],
             [
              0.3333333333333333,
              "#9c179e"
             ],
             [
              0.4444444444444444,
              "#bd3786"
             ],
             [
              0.5555555555555556,
              "#d8576b"
             ],
             [
              0.6666666666666666,
              "#ed7953"
             ],
             [
              0.7777777777777778,
              "#fb9f3a"
             ],
             [
              0.8888888888888888,
              "#fdca26"
             ],
             [
              1,
              "#f0f921"
             ]
            ],
            "type": "contour"
           }
          ],
          "contourcarpet": [
           {
            "colorbar": {
             "outlinewidth": 0,
             "ticks": ""
            },
            "type": "contourcarpet"
           }
          ],
          "heatmap": [
           {
            "colorbar": {
             "outlinewidth": 0,
             "ticks": ""
            },
            "colorscale": [
             [
              0,
              "#0d0887"
             ],
             [
              0.1111111111111111,
              "#46039f"
             ],
             [
              0.2222222222222222,
              "#7201a8"
             ],
             [
              0.3333333333333333,
              "#9c179e"
             ],
             [
              0.4444444444444444,
              "#bd3786"
             ],
             [
              0.5555555555555556,
              "#d8576b"
             ],
             [
              0.6666666666666666,
              "#ed7953"
             ],
             [
              0.7777777777777778,
              "#fb9f3a"
             ],
             [
              0.8888888888888888,
              "#fdca26"
             ],
             [
              1,
              "#f0f921"
             ]
            ],
            "type": "heatmap"
           }
          ],
          "heatmapgl": [
           {
            "colorbar": {
             "outlinewidth": 0,
             "ticks": ""
            },
            "colorscale": [
             [
              0,
              "#0d0887"
             ],
             [
              0.1111111111111111,
              "#46039f"
             ],
             [
              0.2222222222222222,
              "#7201a8"
             ],
             [
              0.3333333333333333,
              "#9c179e"
             ],
             [
              0.4444444444444444,
              "#bd3786"
             ],
             [
              0.5555555555555556,
              "#d8576b"
             ],
             [
              0.6666666666666666,
              "#ed7953"
             ],
             [
              0.7777777777777778,
              "#fb9f3a"
             ],
             [
              0.8888888888888888,
              "#fdca26"
             ],
             [
              1,
              "#f0f921"
             ]
            ],
            "type": "heatmapgl"
           }
          ],
          "histogram": [
           {
            "marker": {
             "pattern": {
              "fillmode": "overlay",
              "size": 10,
              "solidity": 0.2
             }
            },
            "type": "histogram"
           }
          ],
          "histogram2d": [
           {
            "colorbar": {
             "outlinewidth": 0,
             "ticks": ""
            },
            "colorscale": [
             [
              0,
              "#0d0887"
             ],
             [
              0.1111111111111111,
              "#46039f"
             ],
             [
              0.2222222222222222,
              "#7201a8"
             ],
             [
              0.3333333333333333,
              "#9c179e"
             ],
             [
              0.4444444444444444,
              "#bd3786"
             ],
             [
              0.5555555555555556,
              "#d8576b"
             ],
             [
              0.6666666666666666,
              "#ed7953"
             ],
             [
              0.7777777777777778,
              "#fb9f3a"
             ],
             [
              0.8888888888888888,
              "#fdca26"
             ],
             [
              1,
              "#f0f921"
             ]
            ],
            "type": "histogram2d"
           }
          ],
          "histogram2dcontour": [
           {
            "colorbar": {
             "outlinewidth": 0,
             "ticks": ""
            },
            "colorscale": [
             [
              0,
              "#0d0887"
             ],
             [
              0.1111111111111111,
              "#46039f"
             ],
             [
              0.2222222222222222,
              "#7201a8"
             ],
             [
              0.3333333333333333,
              "#9c179e"
             ],
             [
              0.4444444444444444,
              "#bd3786"
             ],
             [
              0.5555555555555556,
              "#d8576b"
             ],
             [
              0.6666666666666666,
              "#ed7953"
             ],
             [
              0.7777777777777778,
              "#fb9f3a"
             ],
             [
              0.8888888888888888,
              "#fdca26"
             ],
             [
              1,
              "#f0f921"
             ]
            ],
            "type": "histogram2dcontour"
           }
          ],
          "mesh3d": [
           {
            "colorbar": {
             "outlinewidth": 0,
             "ticks": ""
            },
            "type": "mesh3d"
           }
          ],
          "parcoords": [
           {
            "line": {
             "colorbar": {
              "outlinewidth": 0,
              "ticks": ""
             }
            },
            "type": "parcoords"
           }
          ],
          "pie": [
           {
            "automargin": true,
            "type": "pie"
           }
          ],
          "scatter": [
           {
            "fillpattern": {
             "fillmode": "overlay",
             "size": 10,
             "solidity": 0.2
            },
            "type": "scatter"
           }
          ],
          "scatter3d": [
           {
            "line": {
             "colorbar": {
              "outlinewidth": 0,
              "ticks": ""
             }
            },
            "marker": {
             "colorbar": {
              "outlinewidth": 0,
              "ticks": ""
             }
            },
            "type": "scatter3d"
           }
          ],
          "scattercarpet": [
           {
            "marker": {
             "colorbar": {
              "outlinewidth": 0,
              "ticks": ""
             }
            },
            "type": "scattercarpet"
           }
          ],
          "scattergeo": [
           {
            "marker": {
             "colorbar": {
              "outlinewidth": 0,
              "ticks": ""
             }
            },
            "type": "scattergeo"
           }
          ],
          "scattergl": [
           {
            "marker": {
             "colorbar": {
              "outlinewidth": 0,
              "ticks": ""
             }
            },
            "type": "scattergl"
           }
          ],
          "scattermapbox": [
           {
            "marker": {
             "colorbar": {
              "outlinewidth": 0,
              "ticks": ""
             }
            },
            "type": "scattermapbox"
           }
          ],
          "scatterpolar": [
           {
            "marker": {
             "colorbar": {
              "outlinewidth": 0,
              "ticks": ""
             }
            },
            "type": "scatterpolar"
           }
          ],
          "scatterpolargl": [
           {
            "marker": {
             "colorbar": {
              "outlinewidth": 0,
              "ticks": ""
             }
            },
            "type": "scatterpolargl"
           }
          ],
          "scatterternary": [
           {
            "marker": {
             "colorbar": {
              "outlinewidth": 0,
              "ticks": ""
             }
            },
            "type": "scatterternary"
           }
          ],
          "surface": [
           {
            "colorbar": {
             "outlinewidth": 0,
             "ticks": ""
            },
            "colorscale": [
             [
              0,
              "#0d0887"
             ],
             [
              0.1111111111111111,
              "#46039f"
             ],
             [
              0.2222222222222222,
              "#7201a8"
             ],
             [
              0.3333333333333333,
              "#9c179e"
             ],
             [
              0.4444444444444444,
              "#bd3786"
             ],
             [
              0.5555555555555556,
              "#d8576b"
             ],
             [
              0.6666666666666666,
              "#ed7953"
             ],
             [
              0.7777777777777778,
              "#fb9f3a"
             ],
             [
              0.8888888888888888,
              "#fdca26"
             ],
             [
              1,
              "#f0f921"
             ]
            ],
            "type": "surface"
           }
          ],
          "table": [
           {
            "cells": {
             "fill": {
              "color": "#EBF0F8"
             },
             "line": {
              "color": "white"
             }
            },
            "header": {
             "fill": {
              "color": "#C8D4E3"
             },
             "line": {
              "color": "white"
             }
            },
            "type": "table"
           }
          ]
         },
         "layout": {
          "annotationdefaults": {
           "arrowcolor": "#2a3f5f",
           "arrowhead": 0,
           "arrowwidth": 1
          },
          "autotypenumbers": "strict",
          "coloraxis": {
           "colorbar": {
            "outlinewidth": 0,
            "ticks": ""
           }
          },
          "colorscale": {
           "diverging": [
            [
             0,
             "#8e0152"
            ],
            [
             0.1,
             "#c51b7d"
            ],
            [
             0.2,
             "#de77ae"
            ],
            [
             0.3,
             "#f1b6da"
            ],
            [
             0.4,
             "#fde0ef"
            ],
            [
             0.5,
             "#f7f7f7"
            ],
            [
             0.6,
             "#e6f5d0"
            ],
            [
             0.7,
             "#b8e186"
            ],
            [
             0.8,
             "#7fbc41"
            ],
            [
             0.9,
             "#4d9221"
            ],
            [
             1,
             "#276419"
            ]
           ],
           "sequential": [
            [
             0,
             "#0d0887"
            ],
            [
             0.1111111111111111,
             "#46039f"
            ],
            [
             0.2222222222222222,
             "#7201a8"
            ],
            [
             0.3333333333333333,
             "#9c179e"
            ],
            [
             0.4444444444444444,
             "#bd3786"
            ],
            [
             0.5555555555555556,
             "#d8576b"
            ],
            [
             0.6666666666666666,
             "#ed7953"
            ],
            [
             0.7777777777777778,
             "#fb9f3a"
            ],
            [
             0.8888888888888888,
             "#fdca26"
            ],
            [
             1,
             "#f0f921"
            ]
           ],
           "sequentialminus": [
            [
             0,
             "#0d0887"
            ],
            [
             0.1111111111111111,
             "#46039f"
            ],
            [
             0.2222222222222222,
             "#7201a8"
            ],
            [
             0.3333333333333333,
             "#9c179e"
            ],
            [
             0.4444444444444444,
             "#bd3786"
            ],
            [
             0.5555555555555556,
             "#d8576b"
            ],
            [
             0.6666666666666666,
             "#ed7953"
            ],
            [
             0.7777777777777778,
             "#fb9f3a"
            ],
            [
             0.8888888888888888,
             "#fdca26"
            ],
            [
             1,
             "#f0f921"
            ]
           ]
          },
          "colorway": [
           "#636efa",
           "#EF553B",
           "#00cc96",
           "#ab63fa",
           "#FFA15A",
           "#19d3f3",
           "#FF6692",
           "#B6E880",
           "#FF97FF",
           "#FECB52"
          ],
          "font": {
           "color": "#2a3f5f"
          },
          "geo": {
           "bgcolor": "white",
           "lakecolor": "white",
           "landcolor": "#E5ECF6",
           "showlakes": true,
           "showland": true,
           "subunitcolor": "white"
          },
          "hoverlabel": {
           "align": "left"
          },
          "hovermode": "closest",
          "mapbox": {
           "style": "light"
          },
          "paper_bgcolor": "white",
          "plot_bgcolor": "#E5ECF6",
          "polar": {
           "angularaxis": {
            "gridcolor": "white",
            "linecolor": "white",
            "ticks": ""
           },
           "bgcolor": "#E5ECF6",
           "radialaxis": {
            "gridcolor": "white",
            "linecolor": "white",
            "ticks": ""
           }
          },
          "scene": {
           "xaxis": {
            "backgroundcolor": "#E5ECF6",
            "gridcolor": "white",
            "gridwidth": 2,
            "linecolor": "white",
            "showbackground": true,
            "ticks": "",
            "zerolinecolor": "white"
           },
           "yaxis": {
            "backgroundcolor": "#E5ECF6",
            "gridcolor": "white",
            "gridwidth": 2,
            "linecolor": "white",
            "showbackground": true,
            "ticks": "",
            "zerolinecolor": "white"
           },
           "zaxis": {
            "backgroundcolor": "#E5ECF6",
            "gridcolor": "white",
            "gridwidth": 2,
            "linecolor": "white",
            "showbackground": true,
            "ticks": "",
            "zerolinecolor": "white"
           }
          },
          "shapedefaults": {
           "line": {
            "color": "#2a3f5f"
           }
          },
          "ternary": {
           "aaxis": {
            "gridcolor": "white",
            "linecolor": "white",
            "ticks": ""
           },
           "baxis": {
            "gridcolor": "white",
            "linecolor": "white",
            "ticks": ""
           },
           "bgcolor": "#E5ECF6",
           "caxis": {
            "gridcolor": "white",
            "linecolor": "white",
            "ticks": ""
           }
          },
          "title": {
           "x": 0.05
          },
          "xaxis": {
           "automargin": true,
           "gridcolor": "white",
           "linecolor": "white",
           "ticks": "",
           "title": {
            "standoff": 15
           },
           "zerolinecolor": "white",
           "zerolinewidth": 2
          },
          "yaxis": {
           "automargin": true,
           "gridcolor": "white",
           "linecolor": "white",
           "ticks": "",
           "title": {
            "standoff": 15
           },
           "zerolinecolor": "white",
           "zerolinewidth": 2
          }
         }
        },
        "title": {
         "text": "OEM Wise Average Price Of Cars In Each Fuel Type",
         "x": 0.45,
         "y": 0.95
        },
        "xaxis": {
         "anchor": "y",
         "domain": [
          0,
          1
         ],
         "tickangle": -45,
         "title": {
          "text": "OEM Names"
         }
        },
        "yaxis": {
         "anchor": "x",
         "domain": [
          0,
          1
         ],
         "title": {
          "text": "Average Price Of Cars"
         }
        }
       }
      }
     },
     "metadata": {},
     "output_type": "display_data"
    }
   ],
   "source": [
    "\n",
    "#Available Car Price in each Fuel Type in each oem\n",
    "\n",
    "OemPriceFrame = detail_frame.groupby(['oem','ft']).price.agg(['mean']).sort_values(by = 'mean',ascending = False).reset_index()\n",
    "#OemPriceFrame['mean'] = OemPriceFrame[\"mean\"].apply(lambda x : x/100000)\n",
    "\n",
    "OemPriceFrame.rename(columns = {'mean':'Avg Price'}, inplace = True)\n",
    "fig = px.bar(OemPriceFrame, x=\"oem\", y=\"Avg Price\",color = 'ft', orientation='v')\n",
    "fig.update_layout( xaxis_tickangle=-45)\n",
    "\n",
    "fig.update_layout(title_text=\"OEM Wise Average Price Of Cars In Each Fuel Type\")\n",
    "fig.update_layout(title=dict(x=0.45, y=0.95))\n",
    "\n",
    "fig.update_xaxes(title_text=\"OEM Names\")\n",
    "fig.update_yaxes(title_text=\"Average Price Of Cars\")\n",
    "fig.update_layout(\n",
    "    plot_bgcolor='black',  # Set background color to black\n",
    "    paper_bgcolor='black',  # Set paper (outside plot area) color to black\n",
    "    font=dict(color='white')  # Set text color to white\n",
    ")\n",
    "fig.show()\n",
    "\n",
    "#Considerable increase in price in Petrol cars\n",
    "#There is a lot of price difference in Electric cars\n"
   ]
  },
  {
   "cell_type": "code",
   "execution_count": 127,
   "metadata": {},
   "outputs": [
    {
     "data": {
      "application/vnd.plotly.v1+json": {
       "config": {
        "plotlyServerURL": "https://plot.ly"
       },
       "data": [
        {
         "alignmentgroup": "True",
         "hovertemplate": "ft=Diesel<br>oem=%{x}<br>Avg KM=%{y}<extra></extra>",
         "legendgroup": "Diesel",
         "marker": {
          "color": "#636efa",
          "pattern": {
           "shape": ""
          }
         },
         "name": "Diesel",
         "offsetgroup": "Diesel",
         "orientation": "v",
         "showlegend": true,
         "textposition": "auto",
         "type": "bar",
         "x": [
          "Hindustan Motors",
          "Toyota",
          "Mitsubishi",
          "Chevrolet",
          "Fiat",
          "Skoda",
          "Nissan",
          "Mercedes-Benz",
          "Volkswagen",
          "Isuzu",
          "Maruti",
          "Renault",
          "Ford",
          "Honda",
          "Mahindra Ssangyong",
          "Hyundai",
          "Volvo",
          "Mahindra",
          "Tata",
          "Mahindra Renault",
          "Audi",
          "Jaguar",
          "Mini",
          "Land Rover",
          "BMW",
          "Jeep",
          "Kia",
          "Porsche",
          "MG",
          "Citroen"
         ],
         "xaxis": "x",
         "y": [
          135000,
          109627.94444444444,
          101259.625,
          96459.15384615384,
          92892.18181818182,
          92578.0294117647,
          90754.28571428571,
          89231.86144578313,
          87531.85869565218,
          87442,
          87037.87113402062,
          82018.05970149254,
          79095.59509202454,
          78948.91338582677,
          77509,
          76178.11818181818,
          73056.78125,
          72062.02931596091,
          68163.1812865497,
          67374.66666666667,
          65891.59322033898,
          58623.96428571428,
          57500,
          56903.333333333336,
          56255.8,
          49240.59154929577,
          44833.929824561405,
          40682.333333333336,
          31999.739130434784,
          22585
         ],
         "yaxis": "y"
        },
        {
         "alignmentgroup": "True",
         "hovertemplate": "ft=Cng<br>oem=%{x}<br>Avg KM=%{y}<extra></extra>",
         "legendgroup": "Cng",
         "marker": {
          "color": "#EF553B",
          "pattern": {
           "shape": ""
          }
         },
         "name": "Cng",
         "offsetgroup": "Cng",
         "orientation": "v",
         "showlegend": true,
         "textposition": "auto",
         "type": "bar",
         "x": [
          "Toyota",
          "Mahindra",
          "Honda",
          "Hyundai",
          "Maruti",
          "Tata"
         ],
         "xaxis": "x",
         "y": [
          105000,
          76500,
          69650,
          60185.066666666666,
          53595.188405797104,
          18657.9
         ],
         "yaxis": "y"
        },
        {
         "alignmentgroup": "True",
         "hovertemplate": "ft=Petrol<br>oem=%{x}<br>Avg KM=%{y}<extra></extra>",
         "legendgroup": "Petrol",
         "marker": {
          "color": "#00cc96",
          "pattern": {
           "shape": ""
          }
         },
         "name": "Petrol",
         "offsetgroup": "Petrol",
         "orientation": "v",
         "showlegend": true,
         "textposition": "auto",
         "type": "bar",
         "x": [
          "Opel",
          "Mitsubishi",
          "Hindustan Motors",
          "Mahindra Renault",
          "Chevrolet",
          "Fiat",
          "Honda",
          "Volkswagen",
          "Ford",
          "Hyundai",
          "Maruti",
          "Jaguar",
          "Toyota",
          "Skoda",
          "Nissan",
          "Datsun",
          "Tata",
          "Kia",
          "Mercedes-Benz",
          "Audi",
          "Jeep",
          "Renault",
          "Mini",
          "Land Rover",
          "Citroen",
          "Mahindra",
          "Lexus",
          "MG",
          "BMW",
          "Porsche",
          "Volvo"
         ],
         "xaxis": "x",
         "y": [
          100000,
          93464.66666666667,
          85000,
          72408,
          70220.38888888889,
          65298,
          57120.10854816825,
          56392.9702970297,
          54493.94594594595,
          52514.92901234568,
          52170.82448295137,
          51123,
          51112.67832167832,
          49064.021505376346,
          42300.38596491228,
          40998.28378378379,
          39902.794871794875,
          38143.33663366337,
          37362.5,
          36293.63157894737,
          34998.34146341463,
          34062.88979591837,
          33179.333333333336,
          32062,
          30000,
          29644.63076923077,
          27247.2,
          26729.8064516129,
          24766.941176470587,
          23866.666666666668,
          14747.111111111111
         ],
         "yaxis": "y"
        },
        {
         "alignmentgroup": "True",
         "hovertemplate": "ft=Lpg<br>oem=%{x}<br>Avg KM=%{y}<extra></extra>",
         "legendgroup": "Lpg",
         "marker": {
          "color": "#ab63fa",
          "pattern": {
           "shape": ""
          }
         },
         "name": "Lpg",
         "offsetgroup": "Lpg",
         "orientation": "v",
         "showlegend": true,
         "textposition": "auto",
         "type": "bar",
         "x": [
          "Hyundai",
          "Maruti",
          "Chevrolet"
         ],
         "xaxis": "x",
         "y": [
          86000,
          77571,
          70000
         ],
         "yaxis": "y"
        },
        {
         "alignmentgroup": "True",
         "hovertemplate": "ft=Electric<br>oem=%{x}<br>Avg KM=%{y}<extra></extra>",
         "legendgroup": "Electric",
         "marker": {
          "color": "#FFA15A",
          "pattern": {
           "shape": ""
          }
         },
         "name": "Electric",
         "offsetgroup": "Electric",
         "orientation": "v",
         "showlegend": true,
         "textposition": "auto",
         "type": "bar",
         "x": [
          "Hyundai",
          "Mahindra",
          "Tata",
          "Mercedes-Benz",
          "MG",
          "Mini"
         ],
         "xaxis": "x",
         "y": [
          75000,
          39300,
          27357.625,
          20000,
          14578.4,
          6000
         ],
         "yaxis": "y"
        }
       ],
       "layout": {
        "barmode": "relative",
        "font": {
         "color": "white"
        },
        "legend": {
         "title": {
          "text": "ft"
         },
         "tracegroupgap": 0
        },
        "margin": {
         "t": 60
        },
        "paper_bgcolor": "black",
        "plot_bgcolor": "black",
        "template": {
         "data": {
          "bar": [
           {
            "error_x": {
             "color": "#2a3f5f"
            },
            "error_y": {
             "color": "#2a3f5f"
            },
            "marker": {
             "line": {
              "color": "#E5ECF6",
              "width": 0.5
             },
             "pattern": {
              "fillmode": "overlay",
              "size": 10,
              "solidity": 0.2
             }
            },
            "type": "bar"
           }
          ],
          "barpolar": [
           {
            "marker": {
             "line": {
              "color": "#E5ECF6",
              "width": 0.5
             },
             "pattern": {
              "fillmode": "overlay",
              "size": 10,
              "solidity": 0.2
             }
            },
            "type": "barpolar"
           }
          ],
          "carpet": [
           {
            "aaxis": {
             "endlinecolor": "#2a3f5f",
             "gridcolor": "white",
             "linecolor": "white",
             "minorgridcolor": "white",
             "startlinecolor": "#2a3f5f"
            },
            "baxis": {
             "endlinecolor": "#2a3f5f",
             "gridcolor": "white",
             "linecolor": "white",
             "minorgridcolor": "white",
             "startlinecolor": "#2a3f5f"
            },
            "type": "carpet"
           }
          ],
          "choropleth": [
           {
            "colorbar": {
             "outlinewidth": 0,
             "ticks": ""
            },
            "type": "choropleth"
           }
          ],
          "contour": [
           {
            "colorbar": {
             "outlinewidth": 0,
             "ticks": ""
            },
            "colorscale": [
             [
              0,
              "#0d0887"
             ],
             [
              0.1111111111111111,
              "#46039f"
             ],
             [
              0.2222222222222222,
              "#7201a8"
             ],
             [
              0.3333333333333333,
              "#9c179e"
             ],
             [
              0.4444444444444444,
              "#bd3786"
             ],
             [
              0.5555555555555556,
              "#d8576b"
             ],
             [
              0.6666666666666666,
              "#ed7953"
             ],
             [
              0.7777777777777778,
              "#fb9f3a"
             ],
             [
              0.8888888888888888,
              "#fdca26"
             ],
             [
              1,
              "#f0f921"
             ]
            ],
            "type": "contour"
           }
          ],
          "contourcarpet": [
           {
            "colorbar": {
             "outlinewidth": 0,
             "ticks": ""
            },
            "type": "contourcarpet"
           }
          ],
          "heatmap": [
           {
            "colorbar": {
             "outlinewidth": 0,
             "ticks": ""
            },
            "colorscale": [
             [
              0,
              "#0d0887"
             ],
             [
              0.1111111111111111,
              "#46039f"
             ],
             [
              0.2222222222222222,
              "#7201a8"
             ],
             [
              0.3333333333333333,
              "#9c179e"
             ],
             [
              0.4444444444444444,
              "#bd3786"
             ],
             [
              0.5555555555555556,
              "#d8576b"
             ],
             [
              0.6666666666666666,
              "#ed7953"
             ],
             [
              0.7777777777777778,
              "#fb9f3a"
             ],
             [
              0.8888888888888888,
              "#fdca26"
             ],
             [
              1,
              "#f0f921"
             ]
            ],
            "type": "heatmap"
           }
          ],
          "heatmapgl": [
           {
            "colorbar": {
             "outlinewidth": 0,
             "ticks": ""
            },
            "colorscale": [
             [
              0,
              "#0d0887"
             ],
             [
              0.1111111111111111,
              "#46039f"
             ],
             [
              0.2222222222222222,
              "#7201a8"
             ],
             [
              0.3333333333333333,
              "#9c179e"
             ],
             [
              0.4444444444444444,
              "#bd3786"
             ],
             [
              0.5555555555555556,
              "#d8576b"
             ],
             [
              0.6666666666666666,
              "#ed7953"
             ],
             [
              0.7777777777777778,
              "#fb9f3a"
             ],
             [
              0.8888888888888888,
              "#fdca26"
             ],
             [
              1,
              "#f0f921"
             ]
            ],
            "type": "heatmapgl"
           }
          ],
          "histogram": [
           {
            "marker": {
             "pattern": {
              "fillmode": "overlay",
              "size": 10,
              "solidity": 0.2
             }
            },
            "type": "histogram"
           }
          ],
          "histogram2d": [
           {
            "colorbar": {
             "outlinewidth": 0,
             "ticks": ""
            },
            "colorscale": [
             [
              0,
              "#0d0887"
             ],
             [
              0.1111111111111111,
              "#46039f"
             ],
             [
              0.2222222222222222,
              "#7201a8"
             ],
             [
              0.3333333333333333,
              "#9c179e"
             ],
             [
              0.4444444444444444,
              "#bd3786"
             ],
             [
              0.5555555555555556,
              "#d8576b"
             ],
             [
              0.6666666666666666,
              "#ed7953"
             ],
             [
              0.7777777777777778,
              "#fb9f3a"
             ],
             [
              0.8888888888888888,
              "#fdca26"
             ],
             [
              1,
              "#f0f921"
             ]
            ],
            "type": "histogram2d"
           }
          ],
          "histogram2dcontour": [
           {
            "colorbar": {
             "outlinewidth": 0,
             "ticks": ""
            },
            "colorscale": [
             [
              0,
              "#0d0887"
             ],
             [
              0.1111111111111111,
              "#46039f"
             ],
             [
              0.2222222222222222,
              "#7201a8"
             ],
             [
              0.3333333333333333,
              "#9c179e"
             ],
             [
              0.4444444444444444,
              "#bd3786"
             ],
             [
              0.5555555555555556,
              "#d8576b"
             ],
             [
              0.6666666666666666,
              "#ed7953"
             ],
             [
              0.7777777777777778,
              "#fb9f3a"
             ],
             [
              0.8888888888888888,
              "#fdca26"
             ],
             [
              1,
              "#f0f921"
             ]
            ],
            "type": "histogram2dcontour"
           }
          ],
          "mesh3d": [
           {
            "colorbar": {
             "outlinewidth": 0,
             "ticks": ""
            },
            "type": "mesh3d"
           }
          ],
          "parcoords": [
           {
            "line": {
             "colorbar": {
              "outlinewidth": 0,
              "ticks": ""
             }
            },
            "type": "parcoords"
           }
          ],
          "pie": [
           {
            "automargin": true,
            "type": "pie"
           }
          ],
          "scatter": [
           {
            "fillpattern": {
             "fillmode": "overlay",
             "size": 10,
             "solidity": 0.2
            },
            "type": "scatter"
           }
          ],
          "scatter3d": [
           {
            "line": {
             "colorbar": {
              "outlinewidth": 0,
              "ticks": ""
             }
            },
            "marker": {
             "colorbar": {
              "outlinewidth": 0,
              "ticks": ""
             }
            },
            "type": "scatter3d"
           }
          ],
          "scattercarpet": [
           {
            "marker": {
             "colorbar": {
              "outlinewidth": 0,
              "ticks": ""
             }
            },
            "type": "scattercarpet"
           }
          ],
          "scattergeo": [
           {
            "marker": {
             "colorbar": {
              "outlinewidth": 0,
              "ticks": ""
             }
            },
            "type": "scattergeo"
           }
          ],
          "scattergl": [
           {
            "marker": {
             "colorbar": {
              "outlinewidth": 0,
              "ticks": ""
             }
            },
            "type": "scattergl"
           }
          ],
          "scattermapbox": [
           {
            "marker": {
             "colorbar": {
              "outlinewidth": 0,
              "ticks": ""
             }
            },
            "type": "scattermapbox"
           }
          ],
          "scatterpolar": [
           {
            "marker": {
             "colorbar": {
              "outlinewidth": 0,
              "ticks": ""
             }
            },
            "type": "scatterpolar"
           }
          ],
          "scatterpolargl": [
           {
            "marker": {
             "colorbar": {
              "outlinewidth": 0,
              "ticks": ""
             }
            },
            "type": "scatterpolargl"
           }
          ],
          "scatterternary": [
           {
            "marker": {
             "colorbar": {
              "outlinewidth": 0,
              "ticks": ""
             }
            },
            "type": "scatterternary"
           }
          ],
          "surface": [
           {
            "colorbar": {
             "outlinewidth": 0,
             "ticks": ""
            },
            "colorscale": [
             [
              0,
              "#0d0887"
             ],
             [
              0.1111111111111111,
              "#46039f"
             ],
             [
              0.2222222222222222,
              "#7201a8"
             ],
             [
              0.3333333333333333,
              "#9c179e"
             ],
             [
              0.4444444444444444,
              "#bd3786"
             ],
             [
              0.5555555555555556,
              "#d8576b"
             ],
             [
              0.6666666666666666,
              "#ed7953"
             ],
             [
              0.7777777777777778,
              "#fb9f3a"
             ],
             [
              0.8888888888888888,
              "#fdca26"
             ],
             [
              1,
              "#f0f921"
             ]
            ],
            "type": "surface"
           }
          ],
          "table": [
           {
            "cells": {
             "fill": {
              "color": "#EBF0F8"
             },
             "line": {
              "color": "white"
             }
            },
            "header": {
             "fill": {
              "color": "#C8D4E3"
             },
             "line": {
              "color": "white"
             }
            },
            "type": "table"
           }
          ]
         },
         "layout": {
          "annotationdefaults": {
           "arrowcolor": "#2a3f5f",
           "arrowhead": 0,
           "arrowwidth": 1
          },
          "autotypenumbers": "strict",
          "coloraxis": {
           "colorbar": {
            "outlinewidth": 0,
            "ticks": ""
           }
          },
          "colorscale": {
           "diverging": [
            [
             0,
             "#8e0152"
            ],
            [
             0.1,
             "#c51b7d"
            ],
            [
             0.2,
             "#de77ae"
            ],
            [
             0.3,
             "#f1b6da"
            ],
            [
             0.4,
             "#fde0ef"
            ],
            [
             0.5,
             "#f7f7f7"
            ],
            [
             0.6,
             "#e6f5d0"
            ],
            [
             0.7,
             "#b8e186"
            ],
            [
             0.8,
             "#7fbc41"
            ],
            [
             0.9,
             "#4d9221"
            ],
            [
             1,
             "#276419"
            ]
           ],
           "sequential": [
            [
             0,
             "#0d0887"
            ],
            [
             0.1111111111111111,
             "#46039f"
            ],
            [
             0.2222222222222222,
             "#7201a8"
            ],
            [
             0.3333333333333333,
             "#9c179e"
            ],
            [
             0.4444444444444444,
             "#bd3786"
            ],
            [
             0.5555555555555556,
             "#d8576b"
            ],
            [
             0.6666666666666666,
             "#ed7953"
            ],
            [
             0.7777777777777778,
             "#fb9f3a"
            ],
            [
             0.8888888888888888,
             "#fdca26"
            ],
            [
             1,
             "#f0f921"
            ]
           ],
           "sequentialminus": [
            [
             0,
             "#0d0887"
            ],
            [
             0.1111111111111111,
             "#46039f"
            ],
            [
             0.2222222222222222,
             "#7201a8"
            ],
            [
             0.3333333333333333,
             "#9c179e"
            ],
            [
             0.4444444444444444,
             "#bd3786"
            ],
            [
             0.5555555555555556,
             "#d8576b"
            ],
            [
             0.6666666666666666,
             "#ed7953"
            ],
            [
             0.7777777777777778,
             "#fb9f3a"
            ],
            [
             0.8888888888888888,
             "#fdca26"
            ],
            [
             1,
             "#f0f921"
            ]
           ]
          },
          "colorway": [
           "#636efa",
           "#EF553B",
           "#00cc96",
           "#ab63fa",
           "#FFA15A",
           "#19d3f3",
           "#FF6692",
           "#B6E880",
           "#FF97FF",
           "#FECB52"
          ],
          "font": {
           "color": "#2a3f5f"
          },
          "geo": {
           "bgcolor": "white",
           "lakecolor": "white",
           "landcolor": "#E5ECF6",
           "showlakes": true,
           "showland": true,
           "subunitcolor": "white"
          },
          "hoverlabel": {
           "align": "left"
          },
          "hovermode": "closest",
          "mapbox": {
           "style": "light"
          },
          "paper_bgcolor": "white",
          "plot_bgcolor": "#E5ECF6",
          "polar": {
           "angularaxis": {
            "gridcolor": "white",
            "linecolor": "white",
            "ticks": ""
           },
           "bgcolor": "#E5ECF6",
           "radialaxis": {
            "gridcolor": "white",
            "linecolor": "white",
            "ticks": ""
           }
          },
          "scene": {
           "xaxis": {
            "backgroundcolor": "#E5ECF6",
            "gridcolor": "white",
            "gridwidth": 2,
            "linecolor": "white",
            "showbackground": true,
            "ticks": "",
            "zerolinecolor": "white"
           },
           "yaxis": {
            "backgroundcolor": "#E5ECF6",
            "gridcolor": "white",
            "gridwidth": 2,
            "linecolor": "white",
            "showbackground": true,
            "ticks": "",
            "zerolinecolor": "white"
           },
           "zaxis": {
            "backgroundcolor": "#E5ECF6",
            "gridcolor": "white",
            "gridwidth": 2,
            "linecolor": "white",
            "showbackground": true,
            "ticks": "",
            "zerolinecolor": "white"
           }
          },
          "shapedefaults": {
           "line": {
            "color": "#2a3f5f"
           }
          },
          "ternary": {
           "aaxis": {
            "gridcolor": "white",
            "linecolor": "white",
            "ticks": ""
           },
           "baxis": {
            "gridcolor": "white",
            "linecolor": "white",
            "ticks": ""
           },
           "bgcolor": "#E5ECF6",
           "caxis": {
            "gridcolor": "white",
            "linecolor": "white",
            "ticks": ""
           }
          },
          "title": {
           "x": 0.05
          },
          "xaxis": {
           "automargin": true,
           "gridcolor": "white",
           "linecolor": "white",
           "ticks": "",
           "title": {
            "standoff": 15
           },
           "zerolinecolor": "white",
           "zerolinewidth": 2
          },
          "yaxis": {
           "automargin": true,
           "gridcolor": "white",
           "linecolor": "white",
           "ticks": "",
           "title": {
            "standoff": 15
           },
           "zerolinecolor": "white",
           "zerolinewidth": 2
          }
         }
        },
        "title": {
         "text": "OEM Wise Average Kilometers Driven In Each Fuel Type",
         "x": 0.45,
         "y": 0.95
        },
        "xaxis": {
         "anchor": "y",
         "domain": [
          0,
          1
         ],
         "tickangle": -45,
         "title": {
          "text": "OEM Names"
         }
        },
        "yaxis": {
         "anchor": "x",
         "domain": [
          0,
          1
         ],
         "title": {
          "text": "Average Kilometers Driven"
         }
        }
       }
      }
     },
     "metadata": {},
     "output_type": "display_data"
    }
   ],
   "source": [
    "#Available KM's driven in each Fuel Type in each oem\n",
    "\n",
    "OemKMFrame = detail_frame.groupby(['oem','ft']).km.agg(['mean']).sort_values(by = 'mean',ascending = False).reset_index()\n",
    "#OemPriceFrame['mean'] = OemPriceFrame[\"mean\"].apply(lambda x : x/100000)\n",
    "\n",
    "OemKMFrame.rename(columns = {'mean':'Avg KM'}, inplace = True)\n",
    "fig = px.bar(OemKMFrame, x=\"oem\", y=\"Avg KM\",color = 'ft', orientation='v')\n",
    "fig.update_layout( xaxis_tickangle=-45)\n",
    "\n",
    "fig.update_layout(title_text=\"OEM Wise Average Kilometers Driven In Each Fuel Type\")\n",
    "fig.update_layout(title=dict(x=0.45, y=0.95))\n",
    "\n",
    "fig.update_xaxes(title_text=\"OEM Names\")\n",
    "fig.update_yaxes(title_text=\"Average Kilometers Driven\")\n",
    "fig.update_layout(\n",
    "    plot_bgcolor='black',  # Set background color to black\n",
    "    paper_bgcolor='black',  # Set paper (outside plot area) color to black\n",
    "    font=dict(color='white')  # Set text color to white\n",
    ")\n",
    "fig.show()\n",
    "\n",
    "#There is a lot of increase in KM's driven in Petrol cars\n",
    "#Since count of electric cars are less. So it is not used much.\n"
   ]
  },
  {
   "cell_type": "markdown",
   "metadata": {},
   "source": [
    "### BT Type Vs OEM Vs Price"
   ]
  },
  {
   "cell_type": "code",
   "execution_count": 128,
   "metadata": {},
   "outputs": [
    {
     "data": {
      "application/vnd.plotly.v1+json": {
       "config": {
        "plotlyServerURL": "https://plot.ly"
       },
       "data": [
        {
         "insidetextorientation": "radial",
         "labels": [
          "Hatchback",
          "SUV",
          "Sedan",
          "MUV",
          "Minivans",
          "Coupe",
          "Pickup Trucks",
          "Convertibles",
          "",
          "Hybrids",
          "Wagon"
         ],
         "textinfo": "label+percent",
         "textposition": "inside",
         "type": "pie",
         "values": [
          3567,
          2225,
          2174,
          352,
          23,
          10,
          6,
          6,
          4,
          1,
          1
         ]
        }
       ],
       "layout": {
        "font": {
         "color": "white"
        },
        "paper_bgcolor": "black",
        "plot_bgcolor": "black",
        "template": {
         "data": {
          "bar": [
           {
            "error_x": {
             "color": "#2a3f5f"
            },
            "error_y": {
             "color": "#2a3f5f"
            },
            "marker": {
             "line": {
              "color": "#E5ECF6",
              "width": 0.5
             },
             "pattern": {
              "fillmode": "overlay",
              "size": 10,
              "solidity": 0.2
             }
            },
            "type": "bar"
           }
          ],
          "barpolar": [
           {
            "marker": {
             "line": {
              "color": "#E5ECF6",
              "width": 0.5
             },
             "pattern": {
              "fillmode": "overlay",
              "size": 10,
              "solidity": 0.2
             }
            },
            "type": "barpolar"
           }
          ],
          "carpet": [
           {
            "aaxis": {
             "endlinecolor": "#2a3f5f",
             "gridcolor": "white",
             "linecolor": "white",
             "minorgridcolor": "white",
             "startlinecolor": "#2a3f5f"
            },
            "baxis": {
             "endlinecolor": "#2a3f5f",
             "gridcolor": "white",
             "linecolor": "white",
             "minorgridcolor": "white",
             "startlinecolor": "#2a3f5f"
            },
            "type": "carpet"
           }
          ],
          "choropleth": [
           {
            "colorbar": {
             "outlinewidth": 0,
             "ticks": ""
            },
            "type": "choropleth"
           }
          ],
          "contour": [
           {
            "colorbar": {
             "outlinewidth": 0,
             "ticks": ""
            },
            "colorscale": [
             [
              0,
              "#0d0887"
             ],
             [
              0.1111111111111111,
              "#46039f"
             ],
             [
              0.2222222222222222,
              "#7201a8"
             ],
             [
              0.3333333333333333,
              "#9c179e"
             ],
             [
              0.4444444444444444,
              "#bd3786"
             ],
             [
              0.5555555555555556,
              "#d8576b"
             ],
             [
              0.6666666666666666,
              "#ed7953"
             ],
             [
              0.7777777777777778,
              "#fb9f3a"
             ],
             [
              0.8888888888888888,
              "#fdca26"
             ],
             [
              1,
              "#f0f921"
             ]
            ],
            "type": "contour"
           }
          ],
          "contourcarpet": [
           {
            "colorbar": {
             "outlinewidth": 0,
             "ticks": ""
            },
            "type": "contourcarpet"
           }
          ],
          "heatmap": [
           {
            "colorbar": {
             "outlinewidth": 0,
             "ticks": ""
            },
            "colorscale": [
             [
              0,
              "#0d0887"
             ],
             [
              0.1111111111111111,
              "#46039f"
             ],
             [
              0.2222222222222222,
              "#7201a8"
             ],
             [
              0.3333333333333333,
              "#9c179e"
             ],
             [
              0.4444444444444444,
              "#bd3786"
             ],
             [
              0.5555555555555556,
              "#d8576b"
             ],
             [
              0.6666666666666666,
              "#ed7953"
             ],
             [
              0.7777777777777778,
              "#fb9f3a"
             ],
             [
              0.8888888888888888,
              "#fdca26"
             ],
             [
              1,
              "#f0f921"
             ]
            ],
            "type": "heatmap"
           }
          ],
          "heatmapgl": [
           {
            "colorbar": {
             "outlinewidth": 0,
             "ticks": ""
            },
            "colorscale": [
             [
              0,
              "#0d0887"
             ],
             [
              0.1111111111111111,
              "#46039f"
             ],
             [
              0.2222222222222222,
              "#7201a8"
             ],
             [
              0.3333333333333333,
              "#9c179e"
             ],
             [
              0.4444444444444444,
              "#bd3786"
             ],
             [
              0.5555555555555556,
              "#d8576b"
             ],
             [
              0.6666666666666666,
              "#ed7953"
             ],
             [
              0.7777777777777778,
              "#fb9f3a"
             ],
             [
              0.8888888888888888,
              "#fdca26"
             ],
             [
              1,
              "#f0f921"
             ]
            ],
            "type": "heatmapgl"
           }
          ],
          "histogram": [
           {
            "marker": {
             "pattern": {
              "fillmode": "overlay",
              "size": 10,
              "solidity": 0.2
             }
            },
            "type": "histogram"
           }
          ],
          "histogram2d": [
           {
            "colorbar": {
             "outlinewidth": 0,
             "ticks": ""
            },
            "colorscale": [
             [
              0,
              "#0d0887"
             ],
             [
              0.1111111111111111,
              "#46039f"
             ],
             [
              0.2222222222222222,
              "#7201a8"
             ],
             [
              0.3333333333333333,
              "#9c179e"
             ],
             [
              0.4444444444444444,
              "#bd3786"
             ],
             [
              0.5555555555555556,
              "#d8576b"
             ],
             [
              0.6666666666666666,
              "#ed7953"
             ],
             [
              0.7777777777777778,
              "#fb9f3a"
             ],
             [
              0.8888888888888888,
              "#fdca26"
             ],
             [
              1,
              "#f0f921"
             ]
            ],
            "type": "histogram2d"
           }
          ],
          "histogram2dcontour": [
           {
            "colorbar": {
             "outlinewidth": 0,
             "ticks": ""
            },
            "colorscale": [
             [
              0,
              "#0d0887"
             ],
             [
              0.1111111111111111,
              "#46039f"
             ],
             [
              0.2222222222222222,
              "#7201a8"
             ],
             [
              0.3333333333333333,
              "#9c179e"
             ],
             [
              0.4444444444444444,
              "#bd3786"
             ],
             [
              0.5555555555555556,
              "#d8576b"
             ],
             [
              0.6666666666666666,
              "#ed7953"
             ],
             [
              0.7777777777777778,
              "#fb9f3a"
             ],
             [
              0.8888888888888888,
              "#fdca26"
             ],
             [
              1,
              "#f0f921"
             ]
            ],
            "type": "histogram2dcontour"
           }
          ],
          "mesh3d": [
           {
            "colorbar": {
             "outlinewidth": 0,
             "ticks": ""
            },
            "type": "mesh3d"
           }
          ],
          "parcoords": [
           {
            "line": {
             "colorbar": {
              "outlinewidth": 0,
              "ticks": ""
             }
            },
            "type": "parcoords"
           }
          ],
          "pie": [
           {
            "automargin": true,
            "type": "pie"
           }
          ],
          "scatter": [
           {
            "fillpattern": {
             "fillmode": "overlay",
             "size": 10,
             "solidity": 0.2
            },
            "type": "scatter"
           }
          ],
          "scatter3d": [
           {
            "line": {
             "colorbar": {
              "outlinewidth": 0,
              "ticks": ""
             }
            },
            "marker": {
             "colorbar": {
              "outlinewidth": 0,
              "ticks": ""
             }
            },
            "type": "scatter3d"
           }
          ],
          "scattercarpet": [
           {
            "marker": {
             "colorbar": {
              "outlinewidth": 0,
              "ticks": ""
             }
            },
            "type": "scattercarpet"
           }
          ],
          "scattergeo": [
           {
            "marker": {
             "colorbar": {
              "outlinewidth": 0,
              "ticks": ""
             }
            },
            "type": "scattergeo"
           }
          ],
          "scattergl": [
           {
            "marker": {
             "colorbar": {
              "outlinewidth": 0,
              "ticks": ""
             }
            },
            "type": "scattergl"
           }
          ],
          "scattermapbox": [
           {
            "marker": {
             "colorbar": {
              "outlinewidth": 0,
              "ticks": ""
             }
            },
            "type": "scattermapbox"
           }
          ],
          "scatterpolar": [
           {
            "marker": {
             "colorbar": {
              "outlinewidth": 0,
              "ticks": ""
             }
            },
            "type": "scatterpolar"
           }
          ],
          "scatterpolargl": [
           {
            "marker": {
             "colorbar": {
              "outlinewidth": 0,
              "ticks": ""
             }
            },
            "type": "scatterpolargl"
           }
          ],
          "scatterternary": [
           {
            "marker": {
             "colorbar": {
              "outlinewidth": 0,
              "ticks": ""
             }
            },
            "type": "scatterternary"
           }
          ],
          "surface": [
           {
            "colorbar": {
             "outlinewidth": 0,
             "ticks": ""
            },
            "colorscale": [
             [
              0,
              "#0d0887"
             ],
             [
              0.1111111111111111,
              "#46039f"
             ],
             [
              0.2222222222222222,
              "#7201a8"
             ],
             [
              0.3333333333333333,
              "#9c179e"
             ],
             [
              0.4444444444444444,
              "#bd3786"
             ],
             [
              0.5555555555555556,
              "#d8576b"
             ],
             [
              0.6666666666666666,
              "#ed7953"
             ],
             [
              0.7777777777777778,
              "#fb9f3a"
             ],
             [
              0.8888888888888888,
              "#fdca26"
             ],
             [
              1,
              "#f0f921"
             ]
            ],
            "type": "surface"
           }
          ],
          "table": [
           {
            "cells": {
             "fill": {
              "color": "#EBF0F8"
             },
             "line": {
              "color": "white"
             }
            },
            "header": {
             "fill": {
              "color": "#C8D4E3"
             },
             "line": {
              "color": "white"
             }
            },
            "type": "table"
           }
          ]
         },
         "layout": {
          "annotationdefaults": {
           "arrowcolor": "#2a3f5f",
           "arrowhead": 0,
           "arrowwidth": 1
          },
          "autotypenumbers": "strict",
          "coloraxis": {
           "colorbar": {
            "outlinewidth": 0,
            "ticks": ""
           }
          },
          "colorscale": {
           "diverging": [
            [
             0,
             "#8e0152"
            ],
            [
             0.1,
             "#c51b7d"
            ],
            [
             0.2,
             "#de77ae"
            ],
            [
             0.3,
             "#f1b6da"
            ],
            [
             0.4,
             "#fde0ef"
            ],
            [
             0.5,
             "#f7f7f7"
            ],
            [
             0.6,
             "#e6f5d0"
            ],
            [
             0.7,
             "#b8e186"
            ],
            [
             0.8,
             "#7fbc41"
            ],
            [
             0.9,
             "#4d9221"
            ],
            [
             1,
             "#276419"
            ]
           ],
           "sequential": [
            [
             0,
             "#0d0887"
            ],
            [
             0.1111111111111111,
             "#46039f"
            ],
            [
             0.2222222222222222,
             "#7201a8"
            ],
            [
             0.3333333333333333,
             "#9c179e"
            ],
            [
             0.4444444444444444,
             "#bd3786"
            ],
            [
             0.5555555555555556,
             "#d8576b"
            ],
            [
             0.6666666666666666,
             "#ed7953"
            ],
            [
             0.7777777777777778,
             "#fb9f3a"
            ],
            [
             0.8888888888888888,
             "#fdca26"
            ],
            [
             1,
             "#f0f921"
            ]
           ],
           "sequentialminus": [
            [
             0,
             "#0d0887"
            ],
            [
             0.1111111111111111,
             "#46039f"
            ],
            [
             0.2222222222222222,
             "#7201a8"
            ],
            [
             0.3333333333333333,
             "#9c179e"
            ],
            [
             0.4444444444444444,
             "#bd3786"
            ],
            [
             0.5555555555555556,
             "#d8576b"
            ],
            [
             0.6666666666666666,
             "#ed7953"
            ],
            [
             0.7777777777777778,
             "#fb9f3a"
            ],
            [
             0.8888888888888888,
             "#fdca26"
            ],
            [
             1,
             "#f0f921"
            ]
           ]
          },
          "colorway": [
           "#636efa",
           "#EF553B",
           "#00cc96",
           "#ab63fa",
           "#FFA15A",
           "#19d3f3",
           "#FF6692",
           "#B6E880",
           "#FF97FF",
           "#FECB52"
          ],
          "font": {
           "color": "#2a3f5f"
          },
          "geo": {
           "bgcolor": "white",
           "lakecolor": "white",
           "landcolor": "#E5ECF6",
           "showlakes": true,
           "showland": true,
           "subunitcolor": "white"
          },
          "hoverlabel": {
           "align": "left"
          },
          "hovermode": "closest",
          "mapbox": {
           "style": "light"
          },
          "paper_bgcolor": "white",
          "plot_bgcolor": "#E5ECF6",
          "polar": {
           "angularaxis": {
            "gridcolor": "white",
            "linecolor": "white",
            "ticks": ""
           },
           "bgcolor": "#E5ECF6",
           "radialaxis": {
            "gridcolor": "white",
            "linecolor": "white",
            "ticks": ""
           }
          },
          "scene": {
           "xaxis": {
            "backgroundcolor": "#E5ECF6",
            "gridcolor": "white",
            "gridwidth": 2,
            "linecolor": "white",
            "showbackground": true,
            "ticks": "",
            "zerolinecolor": "white"
           },
           "yaxis": {
            "backgroundcolor": "#E5ECF6",
            "gridcolor": "white",
            "gridwidth": 2,
            "linecolor": "white",
            "showbackground": true,
            "ticks": "",
            "zerolinecolor": "white"
           },
           "zaxis": {
            "backgroundcolor": "#E5ECF6",
            "gridcolor": "white",
            "gridwidth": 2,
            "linecolor": "white",
            "showbackground": true,
            "ticks": "",
            "zerolinecolor": "white"
           }
          },
          "shapedefaults": {
           "line": {
            "color": "#2a3f5f"
           }
          },
          "ternary": {
           "aaxis": {
            "gridcolor": "white",
            "linecolor": "white",
            "ticks": ""
           },
           "baxis": {
            "gridcolor": "white",
            "linecolor": "white",
            "ticks": ""
           },
           "bgcolor": "#E5ECF6",
           "caxis": {
            "gridcolor": "white",
            "linecolor": "white",
            "ticks": ""
           }
          },
          "title": {
           "x": 0.05
          },
          "xaxis": {
           "automargin": true,
           "gridcolor": "white",
           "linecolor": "white",
           "ticks": "",
           "title": {
            "standoff": 15
           },
           "zerolinecolor": "white",
           "zerolinewidth": 2
          },
          "yaxis": {
           "automargin": true,
           "gridcolor": "white",
           "linecolor": "white",
           "ticks": "",
           "title": {
            "standoff": 15
           },
           "zerolinecolor": "white",
           "zerolinewidth": 2
          }
         }
        },
        "title": {
         "text": "BT Type Percentage Of Cars",
         "x": 0.45,
         "y": 0.9
        },
        "uniformtext": {
         "minsize": 9,
         "mode": "hide"
        }
       }
      }
     },
     "metadata": {},
     "output_type": "display_data"
    }
   ],
   "source": [
    "# Percentage of cars in each BT Type\n",
    "\n",
    "import plotly.graph_objects as go\n",
    "\n",
    "FuelCountFrame = detail_frame.bt.value_counts().to_frame().reset_index()\n",
    "\n",
    "labels = FuelCountFrame.bt.to_list()\n",
    "values = FuelCountFrame['count'].to_list()\n",
    "\n",
    "colors = ['gold', 'mediumturquoise', 'darkorange', 'lightgreen']\n",
    "\n",
    "fig = go.Figure(data=[go.Pie(labels=labels, values=values, textinfo='label+percent',\n",
    "                             insidetextorientation='radial'\n",
    "                            )])\n",
    "\n",
    "fig.update_traces(textposition='inside')\n",
    "fig.update_layout(uniformtext_minsize=9, uniformtext_mode='hide')\n",
    "\n",
    "fig.update_layout(title_text=\"BT Type Percentage Of Cars\")\n",
    "fig.update_layout(title=dict(x=0.45, y=0.9))\n",
    "fig.update_layout(\n",
    "    plot_bgcolor='black',  # Set background color to black\n",
    "    paper_bgcolor='black',  # Set paper (outside plot area) color to black\n",
    "    font=dict(color='white')  # Set text color to white\n",
    ")\n",
    "fig.show()\n",
    "\n",
    "#Hatchback, SUV, Sedan cars are available in maximum\n",
    "#only one Hybrids car is available"
   ]
  },
  {
   "cell_type": "code",
   "execution_count": 129,
   "metadata": {},
   "outputs": [
    {
     "data": {
      "application/vnd.plotly.v1+json": {
       "config": {
        "plotlyServerURL": "https://plot.ly"
       },
       "data": [
        {
         "alignmentgroup": "True",
         "hovertemplate": "bt=Hatchback<br>oem=%{x}<br>Total Cars=%{y}<extra></extra>",
         "legendgroup": "Hatchback",
         "marker": {
          "color": "#636efa",
          "pattern": {
           "shape": ""
          }
         },
         "name": "Hatchback",
         "offsetgroup": "Hatchback",
         "orientation": "v",
         "showlegend": true,
         "textposition": "auto",
         "type": "bar",
         "x": [
          "Maruti",
          "Hyundai",
          "Honda",
          "Tata",
          "Renault",
          "Volkswagen",
          "Ford",
          "Datsun",
          "Chevrolet",
          "Toyota",
          "Nissan",
          "Fiat",
          "Mahindra",
          "Skoda",
          "Mini",
          "Mercedes-Benz",
          "Citroen",
          "Volvo",
          "BMW",
          "MG"
         ],
         "xaxis": "x",
         "y": [
          1576,
          1053,
          174,
          172,
          152,
          148,
          73,
          61,
          36,
          33,
          22,
          19,
          15,
          9,
          8,
          7,
          4,
          2,
          2,
          1
         ],
         "yaxis": "y"
        },
        {
         "alignmentgroup": "True",
         "hovertemplate": "bt=Sedan<br>oem=%{x}<br>Total Cars=%{y}<extra></extra>",
         "legendgroup": "Sedan",
         "marker": {
          "color": "#EF553B",
          "pattern": {
           "shape": ""
          }
         },
         "name": "Sedan",
         "offsetgroup": "Sedan",
         "orientation": "v",
         "showlegend": true,
         "textposition": "auto",
         "type": "bar",
         "x": [
          "Honda",
          "Maruti",
          "Hyundai",
          "Mercedes-Benz",
          "Skoda",
          "Volkswagen",
          "BMW",
          "Toyota",
          "Audi",
          "Tata",
          "Ford",
          "Chevrolet",
          "Jaguar",
          "Volvo",
          "Fiat",
          "Renault",
          "Nissan",
          "Mahindra Renault",
          "Mitsubishi",
          "Hindustan Motors",
          "Mahindra",
          "Opel",
          "Porsche",
          "Lexus"
         ],
         "xaxis": "x",
         "y": [
          572,
          404,
          298,
          144,
          128,
          117,
          108,
          91,
          77,
          68,
          41,
          31,
          29,
          14,
          12,
          8,
          8,
          5,
          5,
          4,
          3,
          3,
          2,
          2
         ],
         "yaxis": "y"
        },
        {
         "alignmentgroup": "True",
         "hovertemplate": "bt=SUV<br>oem=%{x}<br>Total Cars=%{y}<extra></extra>",
         "legendgroup": "SUV",
         "marker": {
          "color": "#00cc96",
          "pattern": {
           "shape": ""
          }
         },
         "name": "SUV",
         "offsetgroup": "SUV",
         "orientation": "v",
         "showlegend": true,
         "textposition": "auto",
         "type": "bar",
         "x": [
          "Mahindra",
          "Hyundai",
          "Ford",
          "Tata",
          "Maruti",
          "Kia",
          "Jeep",
          "Renault",
          "Honda",
          "MG",
          "Mercedes-Benz",
          "Toyota",
          "Audi",
          "BMW",
          "Nissan",
          "Land Rover",
          "Volkswagen",
          "Volvo",
          "Skoda",
          "Mitsubishi",
          "Jaguar",
          "Mahindra Ssangyong",
          "Citroen",
          "Mini",
          "Isuzu",
          "Lexus",
          "Porsche",
          "Chevrolet"
         ],
         "xaxis": "x",
         "y": [
          337,
          300,
          197,
          180,
          145,
          132,
          112,
          106,
          105,
          89,
          87,
          83,
          77,
          71,
          48,
          43,
          29,
          24,
          24,
          9,
          5,
          4,
          4,
          3,
          3,
          3,
          3,
          2
         ],
         "yaxis": "y"
        },
        {
         "alignmentgroup": "True",
         "hovertemplate": "bt=MUV<br>oem=%{x}<br>Total Cars=%{y}<extra></extra>",
         "legendgroup": "MUV",
         "marker": {
          "color": "#ab63fa",
          "pattern": {
           "shape": ""
          }
         },
         "name": "MUV",
         "offsetgroup": "MUV",
         "orientation": "v",
         "showlegend": true,
         "textposition": "auto",
         "type": "bar",
         "x": [
          "Toyota",
          "Maruti",
          "Renault",
          "Kia",
          "Mahindra",
          "Honda",
          "Datsun",
          "Tata",
          "Chevrolet"
         ],
         "xaxis": "x",
         "y": [
          117,
          100,
          46,
          26,
          19,
          14,
          13,
          10,
          7
         ],
         "yaxis": "y"
        },
        {
         "alignmentgroup": "True",
         "hovertemplate": "bt=Minivans<br>oem=%{x}<br>Total Cars=%{y}<extra></extra>",
         "legendgroup": "Minivans",
         "marker": {
          "color": "#FFA15A",
          "pattern": {
           "shape": ""
          }
         },
         "name": "Minivans",
         "offsetgroup": "Minivans",
         "orientation": "v",
         "showlegend": true,
         "textposition": "auto",
         "type": "bar",
         "x": [
          "Maruti"
         ],
         "xaxis": "x",
         "y": [
          23
         ],
         "yaxis": "y"
        },
        {
         "alignmentgroup": "True",
         "hovertemplate": "bt=Coupe<br>oem=%{x}<br>Total Cars=%{y}<extra></extra>",
         "legendgroup": "Coupe",
         "marker": {
          "color": "#19d3f3",
          "pattern": {
           "shape": ""
          }
         },
         "name": "Coupe",
         "offsetgroup": "Coupe",
         "orientation": "v",
         "showlegend": true,
         "textposition": "auto",
         "type": "bar",
         "x": [
          "Mercedes-Benz",
          "BMW",
          "Porsche",
          "Audi",
          "Land Rover"
         ],
         "xaxis": "x",
         "y": [
          4,
          3,
          1,
          1,
          1
         ],
         "yaxis": "y"
        },
        {
         "alignmentgroup": "True",
         "hovertemplate": "bt=Pickup Trucks<br>oem=%{x}<br>Total Cars=%{y}<extra></extra>",
         "legendgroup": "Pickup Trucks",
         "marker": {
          "color": "#FF6692",
          "pattern": {
           "shape": ""
          }
         },
         "name": "Pickup Trucks",
         "offsetgroup": "Pickup Trucks",
         "orientation": "v",
         "showlegend": true,
         "textposition": "auto",
         "type": "bar",
         "x": [
          "Mahindra",
          "Isuzu",
          "Tata"
         ],
         "xaxis": "x",
         "y": [
          3,
          2,
          1
         ],
         "yaxis": "y"
        },
        {
         "alignmentgroup": "True",
         "hovertemplate": "bt=Convertibles<br>oem=%{x}<br>Total Cars=%{y}<extra></extra>",
         "legendgroup": "Convertibles",
         "marker": {
          "color": "#B6E880",
          "pattern": {
           "shape": ""
          }
         },
         "name": "Convertibles",
         "offsetgroup": "Convertibles",
         "orientation": "v",
         "showlegend": true,
         "textposition": "auto",
         "type": "bar",
         "x": [
          "Mercedes-Benz",
          "Jaguar",
          "Mini",
          "Audi"
         ],
         "xaxis": "x",
         "y": [
          3,
          1,
          1,
          1
         ],
         "yaxis": "y"
        },
        {
         "alignmentgroup": "True",
         "hovertemplate": "bt=<br>oem=%{x}<br>Total Cars=%{y}<extra></extra>",
         "legendgroup": "",
         "marker": {
          "color": "#FF97FF",
          "pattern": {
           "shape": ""
          }
         },
         "name": "",
         "offsetgroup": "",
         "orientation": "v",
         "showlegend": false,
         "textposition": "auto",
         "type": "bar",
         "x": [
          "Maruti",
          "Toyota"
         ],
         "xaxis": "x",
         "y": [
          3,
          1
         ],
         "yaxis": "y"
        },
        {
         "alignmentgroup": "True",
         "hovertemplate": "bt=Hybrids<br>oem=%{x}<br>Total Cars=%{y}<extra></extra>",
         "legendgroup": "Hybrids",
         "marker": {
          "color": "#FECB52",
          "pattern": {
           "shape": ""
          }
         },
         "name": "Hybrids",
         "offsetgroup": "Hybrids",
         "orientation": "v",
         "showlegend": true,
         "textposition": "auto",
         "type": "bar",
         "x": [
          "Volvo"
         ],
         "xaxis": "x",
         "y": [
          1
         ],
         "yaxis": "y"
        },
        {
         "alignmentgroup": "True",
         "hovertemplate": "bt=Wagon<br>oem=%{x}<br>Total Cars=%{y}<extra></extra>",
         "legendgroup": "Wagon",
         "marker": {
          "color": "#636efa",
          "pattern": {
           "shape": ""
          }
         },
         "name": "Wagon",
         "offsetgroup": "Wagon",
         "orientation": "v",
         "showlegend": true,
         "textposition": "auto",
         "type": "bar",
         "x": [
          "Maruti"
         ],
         "xaxis": "x",
         "y": [
          1
         ],
         "yaxis": "y"
        }
       ],
       "layout": {
        "barmode": "relative",
        "font": {
         "color": "white"
        },
        "legend": {
         "title": {
          "text": "bt"
         },
         "tracegroupgap": 0
        },
        "margin": {
         "t": 60
        },
        "paper_bgcolor": "black",
        "plot_bgcolor": "black",
        "template": {
         "data": {
          "bar": [
           {
            "error_x": {
             "color": "#2a3f5f"
            },
            "error_y": {
             "color": "#2a3f5f"
            },
            "marker": {
             "line": {
              "color": "#E5ECF6",
              "width": 0.5
             },
             "pattern": {
              "fillmode": "overlay",
              "size": 10,
              "solidity": 0.2
             }
            },
            "type": "bar"
           }
          ],
          "barpolar": [
           {
            "marker": {
             "line": {
              "color": "#E5ECF6",
              "width": 0.5
             },
             "pattern": {
              "fillmode": "overlay",
              "size": 10,
              "solidity": 0.2
             }
            },
            "type": "barpolar"
           }
          ],
          "carpet": [
           {
            "aaxis": {
             "endlinecolor": "#2a3f5f",
             "gridcolor": "white",
             "linecolor": "white",
             "minorgridcolor": "white",
             "startlinecolor": "#2a3f5f"
            },
            "baxis": {
             "endlinecolor": "#2a3f5f",
             "gridcolor": "white",
             "linecolor": "white",
             "minorgridcolor": "white",
             "startlinecolor": "#2a3f5f"
            },
            "type": "carpet"
           }
          ],
          "choropleth": [
           {
            "colorbar": {
             "outlinewidth": 0,
             "ticks": ""
            },
            "type": "choropleth"
           }
          ],
          "contour": [
           {
            "colorbar": {
             "outlinewidth": 0,
             "ticks": ""
            },
            "colorscale": [
             [
              0,
              "#0d0887"
             ],
             [
              0.1111111111111111,
              "#46039f"
             ],
             [
              0.2222222222222222,
              "#7201a8"
             ],
             [
              0.3333333333333333,
              "#9c179e"
             ],
             [
              0.4444444444444444,
              "#bd3786"
             ],
             [
              0.5555555555555556,
              "#d8576b"
             ],
             [
              0.6666666666666666,
              "#ed7953"
             ],
             [
              0.7777777777777778,
              "#fb9f3a"
             ],
             [
              0.8888888888888888,
              "#fdca26"
             ],
             [
              1,
              "#f0f921"
             ]
            ],
            "type": "contour"
           }
          ],
          "contourcarpet": [
           {
            "colorbar": {
             "outlinewidth": 0,
             "ticks": ""
            },
            "type": "contourcarpet"
           }
          ],
          "heatmap": [
           {
            "colorbar": {
             "outlinewidth": 0,
             "ticks": ""
            },
            "colorscale": [
             [
              0,
              "#0d0887"
             ],
             [
              0.1111111111111111,
              "#46039f"
             ],
             [
              0.2222222222222222,
              "#7201a8"
             ],
             [
              0.3333333333333333,
              "#9c179e"
             ],
             [
              0.4444444444444444,
              "#bd3786"
             ],
             [
              0.5555555555555556,
              "#d8576b"
             ],
             [
              0.6666666666666666,
              "#ed7953"
             ],
             [
              0.7777777777777778,
              "#fb9f3a"
             ],
             [
              0.8888888888888888,
              "#fdca26"
             ],
             [
              1,
              "#f0f921"
             ]
            ],
            "type": "heatmap"
           }
          ],
          "heatmapgl": [
           {
            "colorbar": {
             "outlinewidth": 0,
             "ticks": ""
            },
            "colorscale": [
             [
              0,
              "#0d0887"
             ],
             [
              0.1111111111111111,
              "#46039f"
             ],
             [
              0.2222222222222222,
              "#7201a8"
             ],
             [
              0.3333333333333333,
              "#9c179e"
             ],
             [
              0.4444444444444444,
              "#bd3786"
             ],
             [
              0.5555555555555556,
              "#d8576b"
             ],
             [
              0.6666666666666666,
              "#ed7953"
             ],
             [
              0.7777777777777778,
              "#fb9f3a"
             ],
             [
              0.8888888888888888,
              "#fdca26"
             ],
             [
              1,
              "#f0f921"
             ]
            ],
            "type": "heatmapgl"
           }
          ],
          "histogram": [
           {
            "marker": {
             "pattern": {
              "fillmode": "overlay",
              "size": 10,
              "solidity": 0.2
             }
            },
            "type": "histogram"
           }
          ],
          "histogram2d": [
           {
            "colorbar": {
             "outlinewidth": 0,
             "ticks": ""
            },
            "colorscale": [
             [
              0,
              "#0d0887"
             ],
             [
              0.1111111111111111,
              "#46039f"
             ],
             [
              0.2222222222222222,
              "#7201a8"
             ],
             [
              0.3333333333333333,
              "#9c179e"
             ],
             [
              0.4444444444444444,
              "#bd3786"
             ],
             [
              0.5555555555555556,
              "#d8576b"
             ],
             [
              0.6666666666666666,
              "#ed7953"
             ],
             [
              0.7777777777777778,
              "#fb9f3a"
             ],
             [
              0.8888888888888888,
              "#fdca26"
             ],
             [
              1,
              "#f0f921"
             ]
            ],
            "type": "histogram2d"
           }
          ],
          "histogram2dcontour": [
           {
            "colorbar": {
             "outlinewidth": 0,
             "ticks": ""
            },
            "colorscale": [
             [
              0,
              "#0d0887"
             ],
             [
              0.1111111111111111,
              "#46039f"
             ],
             [
              0.2222222222222222,
              "#7201a8"
             ],
             [
              0.3333333333333333,
              "#9c179e"
             ],
             [
              0.4444444444444444,
              "#bd3786"
             ],
             [
              0.5555555555555556,
              "#d8576b"
             ],
             [
              0.6666666666666666,
              "#ed7953"
             ],
             [
              0.7777777777777778,
              "#fb9f3a"
             ],
             [
              0.8888888888888888,
              "#fdca26"
             ],
             [
              1,
              "#f0f921"
             ]
            ],
            "type": "histogram2dcontour"
           }
          ],
          "mesh3d": [
           {
            "colorbar": {
             "outlinewidth": 0,
             "ticks": ""
            },
            "type": "mesh3d"
           }
          ],
          "parcoords": [
           {
            "line": {
             "colorbar": {
              "outlinewidth": 0,
              "ticks": ""
             }
            },
            "type": "parcoords"
           }
          ],
          "pie": [
           {
            "automargin": true,
            "type": "pie"
           }
          ],
          "scatter": [
           {
            "fillpattern": {
             "fillmode": "overlay",
             "size": 10,
             "solidity": 0.2
            },
            "type": "scatter"
           }
          ],
          "scatter3d": [
           {
            "line": {
             "colorbar": {
              "outlinewidth": 0,
              "ticks": ""
             }
            },
            "marker": {
             "colorbar": {
              "outlinewidth": 0,
              "ticks": ""
             }
            },
            "type": "scatter3d"
           }
          ],
          "scattercarpet": [
           {
            "marker": {
             "colorbar": {
              "outlinewidth": 0,
              "ticks": ""
             }
            },
            "type": "scattercarpet"
           }
          ],
          "scattergeo": [
           {
            "marker": {
             "colorbar": {
              "outlinewidth": 0,
              "ticks": ""
             }
            },
            "type": "scattergeo"
           }
          ],
          "scattergl": [
           {
            "marker": {
             "colorbar": {
              "outlinewidth": 0,
              "ticks": ""
             }
            },
            "type": "scattergl"
           }
          ],
          "scattermapbox": [
           {
            "marker": {
             "colorbar": {
              "outlinewidth": 0,
              "ticks": ""
             }
            },
            "type": "scattermapbox"
           }
          ],
          "scatterpolar": [
           {
            "marker": {
             "colorbar": {
              "outlinewidth": 0,
              "ticks": ""
             }
            },
            "type": "scatterpolar"
           }
          ],
          "scatterpolargl": [
           {
            "marker": {
             "colorbar": {
              "outlinewidth": 0,
              "ticks": ""
             }
            },
            "type": "scatterpolargl"
           }
          ],
          "scatterternary": [
           {
            "marker": {
             "colorbar": {
              "outlinewidth": 0,
              "ticks": ""
             }
            },
            "type": "scatterternary"
           }
          ],
          "surface": [
           {
            "colorbar": {
             "outlinewidth": 0,
             "ticks": ""
            },
            "colorscale": [
             [
              0,
              "#0d0887"
             ],
             [
              0.1111111111111111,
              "#46039f"
             ],
             [
              0.2222222222222222,
              "#7201a8"
             ],
             [
              0.3333333333333333,
              "#9c179e"
             ],
             [
              0.4444444444444444,
              "#bd3786"
             ],
             [
              0.5555555555555556,
              "#d8576b"
             ],
             [
              0.6666666666666666,
              "#ed7953"
             ],
             [
              0.7777777777777778,
              "#fb9f3a"
             ],
             [
              0.8888888888888888,
              "#fdca26"
             ],
             [
              1,
              "#f0f921"
             ]
            ],
            "type": "surface"
           }
          ],
          "table": [
           {
            "cells": {
             "fill": {
              "color": "#EBF0F8"
             },
             "line": {
              "color": "white"
             }
            },
            "header": {
             "fill": {
              "color": "#C8D4E3"
             },
             "line": {
              "color": "white"
             }
            },
            "type": "table"
           }
          ]
         },
         "layout": {
          "annotationdefaults": {
           "arrowcolor": "#2a3f5f",
           "arrowhead": 0,
           "arrowwidth": 1
          },
          "autotypenumbers": "strict",
          "coloraxis": {
           "colorbar": {
            "outlinewidth": 0,
            "ticks": ""
           }
          },
          "colorscale": {
           "diverging": [
            [
             0,
             "#8e0152"
            ],
            [
             0.1,
             "#c51b7d"
            ],
            [
             0.2,
             "#de77ae"
            ],
            [
             0.3,
             "#f1b6da"
            ],
            [
             0.4,
             "#fde0ef"
            ],
            [
             0.5,
             "#f7f7f7"
            ],
            [
             0.6,
             "#e6f5d0"
            ],
            [
             0.7,
             "#b8e186"
            ],
            [
             0.8,
             "#7fbc41"
            ],
            [
             0.9,
             "#4d9221"
            ],
            [
             1,
             "#276419"
            ]
           ],
           "sequential": [
            [
             0,
             "#0d0887"
            ],
            [
             0.1111111111111111,
             "#46039f"
            ],
            [
             0.2222222222222222,
             "#7201a8"
            ],
            [
             0.3333333333333333,
             "#9c179e"
            ],
            [
             0.4444444444444444,
             "#bd3786"
            ],
            [
             0.5555555555555556,
             "#d8576b"
            ],
            [
             0.6666666666666666,
             "#ed7953"
            ],
            [
             0.7777777777777778,
             "#fb9f3a"
            ],
            [
             0.8888888888888888,
             "#fdca26"
            ],
            [
             1,
             "#f0f921"
            ]
           ],
           "sequentialminus": [
            [
             0,
             "#0d0887"
            ],
            [
             0.1111111111111111,
             "#46039f"
            ],
            [
             0.2222222222222222,
             "#7201a8"
            ],
            [
             0.3333333333333333,
             "#9c179e"
            ],
            [
             0.4444444444444444,
             "#bd3786"
            ],
            [
             0.5555555555555556,
             "#d8576b"
            ],
            [
             0.6666666666666666,
             "#ed7953"
            ],
            [
             0.7777777777777778,
             "#fb9f3a"
            ],
            [
             0.8888888888888888,
             "#fdca26"
            ],
            [
             1,
             "#f0f921"
            ]
           ]
          },
          "colorway": [
           "#636efa",
           "#EF553B",
           "#00cc96",
           "#ab63fa",
           "#FFA15A",
           "#19d3f3",
           "#FF6692",
           "#B6E880",
           "#FF97FF",
           "#FECB52"
          ],
          "font": {
           "color": "#2a3f5f"
          },
          "geo": {
           "bgcolor": "white",
           "lakecolor": "white",
           "landcolor": "#E5ECF6",
           "showlakes": true,
           "showland": true,
           "subunitcolor": "white"
          },
          "hoverlabel": {
           "align": "left"
          },
          "hovermode": "closest",
          "mapbox": {
           "style": "light"
          },
          "paper_bgcolor": "white",
          "plot_bgcolor": "#E5ECF6",
          "polar": {
           "angularaxis": {
            "gridcolor": "white",
            "linecolor": "white",
            "ticks": ""
           },
           "bgcolor": "#E5ECF6",
           "radialaxis": {
            "gridcolor": "white",
            "linecolor": "white",
            "ticks": ""
           }
          },
          "scene": {
           "xaxis": {
            "backgroundcolor": "#E5ECF6",
            "gridcolor": "white",
            "gridwidth": 2,
            "linecolor": "white",
            "showbackground": true,
            "ticks": "",
            "zerolinecolor": "white"
           },
           "yaxis": {
            "backgroundcolor": "#E5ECF6",
            "gridcolor": "white",
            "gridwidth": 2,
            "linecolor": "white",
            "showbackground": true,
            "ticks": "",
            "zerolinecolor": "white"
           },
           "zaxis": {
            "backgroundcolor": "#E5ECF6",
            "gridcolor": "white",
            "gridwidth": 2,
            "linecolor": "white",
            "showbackground": true,
            "ticks": "",
            "zerolinecolor": "white"
           }
          },
          "shapedefaults": {
           "line": {
            "color": "#2a3f5f"
           }
          },
          "ternary": {
           "aaxis": {
            "gridcolor": "white",
            "linecolor": "white",
            "ticks": ""
           },
           "baxis": {
            "gridcolor": "white",
            "linecolor": "white",
            "ticks": ""
           },
           "bgcolor": "#E5ECF6",
           "caxis": {
            "gridcolor": "white",
            "linecolor": "white",
            "ticks": ""
           }
          },
          "title": {
           "x": 0.05
          },
          "xaxis": {
           "automargin": true,
           "gridcolor": "white",
           "linecolor": "white",
           "ticks": "",
           "title": {
            "standoff": 15
           },
           "zerolinecolor": "white",
           "zerolinewidth": 2
          },
          "yaxis": {
           "automargin": true,
           "gridcolor": "white",
           "linecolor": "white",
           "ticks": "",
           "title": {
            "standoff": 15
           },
           "zerolinecolor": "white",
           "zerolinewidth": 2
          }
         }
        },
        "title": {
         "text": "OEM Wise Total No Of Cars In Each BT Type",
         "x": 0.45,
         "y": 0.95
        },
        "xaxis": {
         "anchor": "y",
         "domain": [
          0,
          1
         ],
         "tickangle": -45,
         "title": {
          "text": "OEM Names"
         }
        },
        "yaxis": {
         "anchor": "x",
         "domain": [
          0,
          1
         ],
         "title": {
          "text": "Total Cars Counts"
         }
        }
       }
      }
     },
     "metadata": {},
     "output_type": "display_data"
    }
   ],
   "source": [
    "#Available Cars counts in each BT Type in each oem\n",
    "\n",
    "OemCountFrameBT = detail_frame.groupby(['oem','bt']).price.agg(['count']).sort_values(by = 'count',ascending = False).reset_index()\n",
    "\n",
    "OemCountFrameBT.rename(columns = {'count':'Total Cars'}, inplace = True)\n",
    "fig = px.bar(OemCountFrameBT, x=\"oem\", y=\"Total Cars\",color = 'bt', orientation='v')\n",
    "fig.update_layout( xaxis_tickangle=-45)\n",
    "\n",
    "fig.update_layout(title_text=\"OEM Wise Total No Of Cars In Each BT Type\")\n",
    "fig.update_layout(title=dict(x=0.45, y=0.95))\n",
    "\n",
    "fig.update_xaxes(title_text=\"OEM Names\")\n",
    "fig.update_yaxes(title_text=\"Total Cars Counts\")\n",
    "fig.update_layout(\n",
    "    plot_bgcolor='black',  # Set background color to black\n",
    "    paper_bgcolor='black',  # Set paper (outside plot area) color to black\n",
    "    font=dict(color='white')  # Set text color to white\n",
    ")\n",
    "fig.show()\n",
    "\n",
    "\n",
    "#Mostly Hatchback cars are available in maximum in Maruti, Hyundai, TATA, Renault \n",
    "#Honda is having sedan cars in more numbers\n",
    "#Mahindra, Isuzu and Tata are having Pickup Trucks cars\n",
    "#Convertibles only availble in Mercedes-benz, Jaguar, Mini, Audi\n",
    "#Only Volvo is having Hybrid type cars. Model name is Volvo XC 90"
   ]
  },
  {
   "cell_type": "code",
   "execution_count": 130,
   "metadata": {},
   "outputs": [
    {
     "data": {
      "application/vnd.plotly.v1+json": {
       "config": {
        "plotlyServerURL": "https://plot.ly"
       },
       "data": [
        {
         "alignmentgroup": "True",
         "hovertemplate": "bt=Coupe<br>oem=%{x}<br>Avg Price=%{y}<extra></extra>",
         "legendgroup": "Coupe",
         "marker": {
          "color": "#636efa",
          "pattern": {
           "shape": ""
          }
         },
         "name": "Coupe",
         "offsetgroup": "Coupe",
         "orientation": "v",
         "showlegend": true,
         "textposition": "auto",
         "type": "bar",
         "x": [
          "Porsche",
          "Mercedes-Benz",
          "Audi",
          "Land Rover",
          "BMW"
         ],
         "xaxis": "x",
         "y": [
          15000000,
          10662500,
          5950000,
          3300000,
          2498333.3333333335
         ],
         "yaxis": "y"
        },
        {
         "alignmentgroup": "True",
         "hovertemplate": "bt=<br>oem=%{x}<br>Avg Price=%{y}<extra></extra>",
         "legendgroup": "",
         "marker": {
          "color": "#EF553B",
          "pattern": {
           "shape": ""
          }
         },
         "name": "",
         "offsetgroup": "",
         "orientation": "v",
         "showlegend": false,
         "textposition": "auto",
         "type": "bar",
         "x": [
          "Toyota",
          "Maruti"
         ],
         "xaxis": "x",
         "y": [
          11900000,
          470000
         ],
         "yaxis": "y"
        },
        {
         "alignmentgroup": "True",
         "hovertemplate": "bt=Hybrids<br>oem=%{x}<br>Avg Price=%{y}<extra></extra>",
         "legendgroup": "Hybrids",
         "marker": {
          "color": "#00cc96",
          "pattern": {
           "shape": ""
          }
         },
         "name": "Hybrids",
         "offsetgroup": "Hybrids",
         "orientation": "v",
         "showlegend": true,
         "textposition": "auto",
         "type": "bar",
         "x": [
          "Volvo"
         ],
         "xaxis": "x",
         "y": [
          8200000
         ],
         "yaxis": "y"
        },
        {
         "alignmentgroup": "True",
         "hovertemplate": "bt=SUV<br>oem=%{x}<br>Avg Price=%{y}<extra></extra>",
         "legendgroup": "SUV",
         "marker": {
          "color": "#ab63fa",
          "pattern": {
           "shape": ""
          }
         },
         "name": "SUV",
         "offsetgroup": "SUV",
         "orientation": "v",
         "showlegend": true,
         "textposition": "auto",
         "type": "bar",
         "x": [
          "Lexus",
          "Porsche",
          "Mercedes-Benz",
          "Land Rover",
          "Jaguar",
          "Volvo",
          "BMW",
          "Mini",
          "Citroen",
          "Audi",
          "Toyota",
          "MG",
          "Jeep",
          "Volkswagen",
          "Skoda",
          "Isuzu",
          "Kia",
          "Tata",
          "Hyundai",
          "Mahindra",
          "Ford",
          "Mahindra Ssangyong",
          "Maruti",
          "Mitsubishi",
          "Honda",
          "Nissan",
          "Renault",
          "Chevrolet"
         ],
         "xaxis": "x",
         "y": [
          8066666.666666667,
          5766666.666666667,
          5750862.068965517,
          5733232.558139535,
          4425000,
          3874791.6666666665,
          3693704.2253521127,
          3166666.6666666665,
          3112500,
          2692753.2467532465,
          2190987.951807229,
          1975258.426966292,
          1925178.5714285714,
          1853517.2413793104,
          1635166.6666666667,
          1516333.3333333333,
          1337651.5151515151,
          1170316.6666666667,
          1123243.3333333333,
          1022281.8991097923,
          965005.0761421319,
          950000,
          875282.7586206896,
          819666.6666666666,
          764114.2857142857,
          724250,
          693830.1886792453,
          472500
         ],
         "yaxis": "y"
        },
        {
         "alignmentgroup": "True",
         "hovertemplate": "bt=Convertibles<br>oem=%{x}<br>Avg Price=%{y}<extra></extra>",
         "legendgroup": "Convertibles",
         "marker": {
          "color": "#FFA15A",
          "pattern": {
           "shape": ""
          }
         },
         "name": "Convertibles",
         "offsetgroup": "Convertibles",
         "orientation": "v",
         "showlegend": true,
         "textposition": "auto",
         "type": "bar",
         "x": [
          "Jaguar",
          "Mini",
          "Audi",
          "Mercedes-Benz"
         ],
         "xaxis": "x",
         "y": [
          6400000,
          4450000,
          3495000.0000000005,
          3338333.3333333335
         ],
         "yaxis": "y"
        },
        {
         "alignmentgroup": "True",
         "hovertemplate": "bt=Sedan<br>oem=%{x}<br>Avg Price=%{y}<extra></extra>",
         "legendgroup": "Sedan",
         "marker": {
          "color": "#19d3f3",
          "pattern": {
           "shape": ""
          }
         },
         "name": "Sedan",
         "offsetgroup": "Sedan",
         "orientation": "v",
         "showlegend": true,
         "textposition": "auto",
         "type": "bar",
         "x": [
          "Lexus",
          "Porsche",
          "BMW",
          "Mercedes-Benz",
          "Jaguar",
          "Audi",
          "Volvo",
          "Skoda",
          "Toyota",
          "Hyundai",
          "Honda",
          "Volkswagen",
          "Maruti",
          "Tata",
          "Nissan",
          "Renault",
          "Mahindra",
          "Chevrolet",
          "Hindustan Motors",
          "Ford",
          "Fiat",
          "Mitsubishi",
          "Mahindra Renault",
          "Opel"
         ],
         "xaxis": "x",
         "y": [
          4987500,
          4075000,
          3428787.037037037,
          3336208.3333333335,
          2975172.4137931033,
          1994116.8831168832,
          1853071.4285714286,
          922242.1875,
          724318.6813186813,
          659191.2751677852,
          641608.1118881119,
          615239.3162393162,
          563257.4257425743,
          438561.1911764706,
          357500,
          342625,
          321666.6666666667,
          298870.96774193546,
          285000,
          282414.6341463415,
          272916.6666666667,
          183000,
          121600,
          73333.33333333333
         ],
         "yaxis": "y"
        },
        {
         "alignmentgroup": "True",
         "hovertemplate": "bt=Hatchback<br>oem=%{x}<br>Avg Price=%{y}<extra></extra>",
         "legendgroup": "Hatchback",
         "marker": {
          "color": "#FF6692",
          "pattern": {
           "shape": ""
          }
         },
         "name": "Hatchback",
         "offsetgroup": "Hatchback",
         "orientation": "v",
         "showlegend": true,
         "textposition": "auto",
         "type": "bar",
         "x": [
          "Mini",
          "Volvo",
          "BMW",
          "Mercedes-Benz",
          "MG",
          "Citroen",
          "Toyota",
          "Volkswagen",
          "Honda",
          "Tata",
          "Hyundai",
          "Maruti",
          "Mahindra",
          "Renault",
          "Nissan",
          "Datsun",
          "Ford",
          "Fiat",
          "Skoda",
          "Chevrolet"
         ],
         "xaxis": "x",
         "y": [
          2762500,
          1800000,
          1487000,
          1341428.5714285714,
          950000,
          790000,
          579575.7575757576,
          546959.4594594594,
          494965.5172413793,
          485434.31976744183,
          443507.1234567901,
          436339.3147208122,
          425466.6666666667,
          395269.7368421053,
          343772.7272727273,
          334540.98360655736,
          324287.6712328767,
          302368.4210526316,
          230444.44444444444,
          163277.75
         ],
         "yaxis": "y"
        },
        {
         "alignmentgroup": "True",
         "hovertemplate": "bt=MUV<br>oem=%{x}<br>Avg Price=%{y}<extra></extra>",
         "legendgroup": "MUV",
         "marker": {
          "color": "#B6E880",
          "pattern": {
           "shape": ""
          }
         },
         "name": "MUV",
         "offsetgroup": "MUV",
         "orientation": "v",
         "showlegend": true,
         "textposition": "auto",
         "type": "bar",
         "x": [
          "Kia",
          "Toyota",
          "Maruti",
          "Tata",
          "Mahindra",
          "Renault",
          "Honda",
          "Chevrolet",
          "Datsun"
         ],
         "xaxis": "x",
         "y": [
          2007500,
          1477743.5897435897,
          847740,
          832800,
          711631.5789473684,
          671673.9130434783,
          479785.71428571426,
          457857.14285714284,
          410076.92307692306
         ],
         "yaxis": "y"
        },
        {
         "alignmentgroup": "True",
         "hovertemplate": "bt=Pickup Trucks<br>oem=%{x}<br>Avg Price=%{y}<extra></extra>",
         "legendgroup": "Pickup Trucks",
         "marker": {
          "color": "#FF97FF",
          "pattern": {
           "shape": ""
          }
         },
         "name": "Pickup Trucks",
         "offsetgroup": "Pickup Trucks",
         "orientation": "v",
         "showlegend": true,
         "textposition": "auto",
         "type": "bar",
         "x": [
          "Isuzu",
          "Mahindra",
          "Tata"
         ],
         "xaxis": "x",
         "y": [
          1385000,
          879666.6666666666,
          825000
         ],
         "yaxis": "y"
        },
        {
         "alignmentgroup": "True",
         "hovertemplate": "bt=Wagon<br>oem=%{x}<br>Avg Price=%{y}<extra></extra>",
         "legendgroup": "Wagon",
         "marker": {
          "color": "#FECB52",
          "pattern": {
           "shape": ""
          }
         },
         "name": "Wagon",
         "offsetgroup": "Wagon",
         "orientation": "v",
         "showlegend": true,
         "textposition": "auto",
         "type": "bar",
         "x": [
          "Maruti"
         ],
         "xaxis": "x",
         "y": [
          565000
         ],
         "yaxis": "y"
        },
        {
         "alignmentgroup": "True",
         "hovertemplate": "bt=Minivans<br>oem=%{x}<br>Avg Price=%{y}<extra></extra>",
         "legendgroup": "Minivans",
         "marker": {
          "color": "#636efa",
          "pattern": {
           "shape": ""
          }
         },
         "name": "Minivans",
         "offsetgroup": "Minivans",
         "orientation": "v",
         "showlegend": true,
         "textposition": "auto",
         "type": "bar",
         "x": [
          "Maruti"
         ],
         "xaxis": "x",
         "y": [
          342102.3043478261
         ],
         "yaxis": "y"
        }
       ],
       "layout": {
        "barmode": "relative",
        "font": {
         "color": "white"
        },
        "legend": {
         "title": {
          "text": "bt"
         },
         "tracegroupgap": 0
        },
        "margin": {
         "t": 60
        },
        "paper_bgcolor": "black",
        "plot_bgcolor": "black",
        "template": {
         "data": {
          "bar": [
           {
            "error_x": {
             "color": "#2a3f5f"
            },
            "error_y": {
             "color": "#2a3f5f"
            },
            "marker": {
             "line": {
              "color": "#E5ECF6",
              "width": 0.5
             },
             "pattern": {
              "fillmode": "overlay",
              "size": 10,
              "solidity": 0.2
             }
            },
            "type": "bar"
           }
          ],
          "barpolar": [
           {
            "marker": {
             "line": {
              "color": "#E5ECF6",
              "width": 0.5
             },
             "pattern": {
              "fillmode": "overlay",
              "size": 10,
              "solidity": 0.2
             }
            },
            "type": "barpolar"
           }
          ],
          "carpet": [
           {
            "aaxis": {
             "endlinecolor": "#2a3f5f",
             "gridcolor": "white",
             "linecolor": "white",
             "minorgridcolor": "white",
             "startlinecolor": "#2a3f5f"
            },
            "baxis": {
             "endlinecolor": "#2a3f5f",
             "gridcolor": "white",
             "linecolor": "white",
             "minorgridcolor": "white",
             "startlinecolor": "#2a3f5f"
            },
            "type": "carpet"
           }
          ],
          "choropleth": [
           {
            "colorbar": {
             "outlinewidth": 0,
             "ticks": ""
            },
            "type": "choropleth"
           }
          ],
          "contour": [
           {
            "colorbar": {
             "outlinewidth": 0,
             "ticks": ""
            },
            "colorscale": [
             [
              0,
              "#0d0887"
             ],
             [
              0.1111111111111111,
              "#46039f"
             ],
             [
              0.2222222222222222,
              "#7201a8"
             ],
             [
              0.3333333333333333,
              "#9c179e"
             ],
             [
              0.4444444444444444,
              "#bd3786"
             ],
             [
              0.5555555555555556,
              "#d8576b"
             ],
             [
              0.6666666666666666,
              "#ed7953"
             ],
             [
              0.7777777777777778,
              "#fb9f3a"
             ],
             [
              0.8888888888888888,
              "#fdca26"
             ],
             [
              1,
              "#f0f921"
             ]
            ],
            "type": "contour"
           }
          ],
          "contourcarpet": [
           {
            "colorbar": {
             "outlinewidth": 0,
             "ticks": ""
            },
            "type": "contourcarpet"
           }
          ],
          "heatmap": [
           {
            "colorbar": {
             "outlinewidth": 0,
             "ticks": ""
            },
            "colorscale": [
             [
              0,
              "#0d0887"
             ],
             [
              0.1111111111111111,
              "#46039f"
             ],
             [
              0.2222222222222222,
              "#7201a8"
             ],
             [
              0.3333333333333333,
              "#9c179e"
             ],
             [
              0.4444444444444444,
              "#bd3786"
             ],
             [
              0.5555555555555556,
              "#d8576b"
             ],
             [
              0.6666666666666666,
              "#ed7953"
             ],
             [
              0.7777777777777778,
              "#fb9f3a"
             ],
             [
              0.8888888888888888,
              "#fdca26"
             ],
             [
              1,
              "#f0f921"
             ]
            ],
            "type": "heatmap"
           }
          ],
          "heatmapgl": [
           {
            "colorbar": {
             "outlinewidth": 0,
             "ticks": ""
            },
            "colorscale": [
             [
              0,
              "#0d0887"
             ],
             [
              0.1111111111111111,
              "#46039f"
             ],
             [
              0.2222222222222222,
              "#7201a8"
             ],
             [
              0.3333333333333333,
              "#9c179e"
             ],
             [
              0.4444444444444444,
              "#bd3786"
             ],
             [
              0.5555555555555556,
              "#d8576b"
             ],
             [
              0.6666666666666666,
              "#ed7953"
             ],
             [
              0.7777777777777778,
              "#fb9f3a"
             ],
             [
              0.8888888888888888,
              "#fdca26"
             ],
             [
              1,
              "#f0f921"
             ]
            ],
            "type": "heatmapgl"
           }
          ],
          "histogram": [
           {
            "marker": {
             "pattern": {
              "fillmode": "overlay",
              "size": 10,
              "solidity": 0.2
             }
            },
            "type": "histogram"
           }
          ],
          "histogram2d": [
           {
            "colorbar": {
             "outlinewidth": 0,
             "ticks": ""
            },
            "colorscale": [
             [
              0,
              "#0d0887"
             ],
             [
              0.1111111111111111,
              "#46039f"
             ],
             [
              0.2222222222222222,
              "#7201a8"
             ],
             [
              0.3333333333333333,
              "#9c179e"
             ],
             [
              0.4444444444444444,
              "#bd3786"
             ],
             [
              0.5555555555555556,
              "#d8576b"
             ],
             [
              0.6666666666666666,
              "#ed7953"
             ],
             [
              0.7777777777777778,
              "#fb9f3a"
             ],
             [
              0.8888888888888888,
              "#fdca26"
             ],
             [
              1,
              "#f0f921"
             ]
            ],
            "type": "histogram2d"
           }
          ],
          "histogram2dcontour": [
           {
            "colorbar": {
             "outlinewidth": 0,
             "ticks": ""
            },
            "colorscale": [
             [
              0,
              "#0d0887"
             ],
             [
              0.1111111111111111,
              "#46039f"
             ],
             [
              0.2222222222222222,
              "#7201a8"
             ],
             [
              0.3333333333333333,
              "#9c179e"
             ],
             [
              0.4444444444444444,
              "#bd3786"
             ],
             [
              0.5555555555555556,
              "#d8576b"
             ],
             [
              0.6666666666666666,
              "#ed7953"
             ],
             [
              0.7777777777777778,
              "#fb9f3a"
             ],
             [
              0.8888888888888888,
              "#fdca26"
             ],
             [
              1,
              "#f0f921"
             ]
            ],
            "type": "histogram2dcontour"
           }
          ],
          "mesh3d": [
           {
            "colorbar": {
             "outlinewidth": 0,
             "ticks": ""
            },
            "type": "mesh3d"
           }
          ],
          "parcoords": [
           {
            "line": {
             "colorbar": {
              "outlinewidth": 0,
              "ticks": ""
             }
            },
            "type": "parcoords"
           }
          ],
          "pie": [
           {
            "automargin": true,
            "type": "pie"
           }
          ],
          "scatter": [
           {
            "fillpattern": {
             "fillmode": "overlay",
             "size": 10,
             "solidity": 0.2
            },
            "type": "scatter"
           }
          ],
          "scatter3d": [
           {
            "line": {
             "colorbar": {
              "outlinewidth": 0,
              "ticks": ""
             }
            },
            "marker": {
             "colorbar": {
              "outlinewidth": 0,
              "ticks": ""
             }
            },
            "type": "scatter3d"
           }
          ],
          "scattercarpet": [
           {
            "marker": {
             "colorbar": {
              "outlinewidth": 0,
              "ticks": ""
             }
            },
            "type": "scattercarpet"
           }
          ],
          "scattergeo": [
           {
            "marker": {
             "colorbar": {
              "outlinewidth": 0,
              "ticks": ""
             }
            },
            "type": "scattergeo"
           }
          ],
          "scattergl": [
           {
            "marker": {
             "colorbar": {
              "outlinewidth": 0,
              "ticks": ""
             }
            },
            "type": "scattergl"
           }
          ],
          "scattermapbox": [
           {
            "marker": {
             "colorbar": {
              "outlinewidth": 0,
              "ticks": ""
             }
            },
            "type": "scattermapbox"
           }
          ],
          "scatterpolar": [
           {
            "marker": {
             "colorbar": {
              "outlinewidth": 0,
              "ticks": ""
             }
            },
            "type": "scatterpolar"
           }
          ],
          "scatterpolargl": [
           {
            "marker": {
             "colorbar": {
              "outlinewidth": 0,
              "ticks": ""
             }
            },
            "type": "scatterpolargl"
           }
          ],
          "scatterternary": [
           {
            "marker": {
             "colorbar": {
              "outlinewidth": 0,
              "ticks": ""
             }
            },
            "type": "scatterternary"
           }
          ],
          "surface": [
           {
            "colorbar": {
             "outlinewidth": 0,
             "ticks": ""
            },
            "colorscale": [
             [
              0,
              "#0d0887"
             ],
             [
              0.1111111111111111,
              "#46039f"
             ],
             [
              0.2222222222222222,
              "#7201a8"
             ],
             [
              0.3333333333333333,
              "#9c179e"
             ],
             [
              0.4444444444444444,
              "#bd3786"
             ],
             [
              0.5555555555555556,
              "#d8576b"
             ],
             [
              0.6666666666666666,
              "#ed7953"
             ],
             [
              0.7777777777777778,
              "#fb9f3a"
             ],
             [
              0.8888888888888888,
              "#fdca26"
             ],
             [
              1,
              "#f0f921"
             ]
            ],
            "type": "surface"
           }
          ],
          "table": [
           {
            "cells": {
             "fill": {
              "color": "#EBF0F8"
             },
             "line": {
              "color": "white"
             }
            },
            "header": {
             "fill": {
              "color": "#C8D4E3"
             },
             "line": {
              "color": "white"
             }
            },
            "type": "table"
           }
          ]
         },
         "layout": {
          "annotationdefaults": {
           "arrowcolor": "#2a3f5f",
           "arrowhead": 0,
           "arrowwidth": 1
          },
          "autotypenumbers": "strict",
          "coloraxis": {
           "colorbar": {
            "outlinewidth": 0,
            "ticks": ""
           }
          },
          "colorscale": {
           "diverging": [
            [
             0,
             "#8e0152"
            ],
            [
             0.1,
             "#c51b7d"
            ],
            [
             0.2,
             "#de77ae"
            ],
            [
             0.3,
             "#f1b6da"
            ],
            [
             0.4,
             "#fde0ef"
            ],
            [
             0.5,
             "#f7f7f7"
            ],
            [
             0.6,
             "#e6f5d0"
            ],
            [
             0.7,
             "#b8e186"
            ],
            [
             0.8,
             "#7fbc41"
            ],
            [
             0.9,
             "#4d9221"
            ],
            [
             1,
             "#276419"
            ]
           ],
           "sequential": [
            [
             0,
             "#0d0887"
            ],
            [
             0.1111111111111111,
             "#46039f"
            ],
            [
             0.2222222222222222,
             "#7201a8"
            ],
            [
             0.3333333333333333,
             "#9c179e"
            ],
            [
             0.4444444444444444,
             "#bd3786"
            ],
            [
             0.5555555555555556,
             "#d8576b"
            ],
            [
             0.6666666666666666,
             "#ed7953"
            ],
            [
             0.7777777777777778,
             "#fb9f3a"
            ],
            [
             0.8888888888888888,
             "#fdca26"
            ],
            [
             1,
             "#f0f921"
            ]
           ],
           "sequentialminus": [
            [
             0,
             "#0d0887"
            ],
            [
             0.1111111111111111,
             "#46039f"
            ],
            [
             0.2222222222222222,
             "#7201a8"
            ],
            [
             0.3333333333333333,
             "#9c179e"
            ],
            [
             0.4444444444444444,
             "#bd3786"
            ],
            [
             0.5555555555555556,
             "#d8576b"
            ],
            [
             0.6666666666666666,
             "#ed7953"
            ],
            [
             0.7777777777777778,
             "#fb9f3a"
            ],
            [
             0.8888888888888888,
             "#fdca26"
            ],
            [
             1,
             "#f0f921"
            ]
           ]
          },
          "colorway": [
           "#636efa",
           "#EF553B",
           "#00cc96",
           "#ab63fa",
           "#FFA15A",
           "#19d3f3",
           "#FF6692",
           "#B6E880",
           "#FF97FF",
           "#FECB52"
          ],
          "font": {
           "color": "#2a3f5f"
          },
          "geo": {
           "bgcolor": "white",
           "lakecolor": "white",
           "landcolor": "#E5ECF6",
           "showlakes": true,
           "showland": true,
           "subunitcolor": "white"
          },
          "hoverlabel": {
           "align": "left"
          },
          "hovermode": "closest",
          "mapbox": {
           "style": "light"
          },
          "paper_bgcolor": "white",
          "plot_bgcolor": "#E5ECF6",
          "polar": {
           "angularaxis": {
            "gridcolor": "white",
            "linecolor": "white",
            "ticks": ""
           },
           "bgcolor": "#E5ECF6",
           "radialaxis": {
            "gridcolor": "white",
            "linecolor": "white",
            "ticks": ""
           }
          },
          "scene": {
           "xaxis": {
            "backgroundcolor": "#E5ECF6",
            "gridcolor": "white",
            "gridwidth": 2,
            "linecolor": "white",
            "showbackground": true,
            "ticks": "",
            "zerolinecolor": "white"
           },
           "yaxis": {
            "backgroundcolor": "#E5ECF6",
            "gridcolor": "white",
            "gridwidth": 2,
            "linecolor": "white",
            "showbackground": true,
            "ticks": "",
            "zerolinecolor": "white"
           },
           "zaxis": {
            "backgroundcolor": "#E5ECF6",
            "gridcolor": "white",
            "gridwidth": 2,
            "linecolor": "white",
            "showbackground": true,
            "ticks": "",
            "zerolinecolor": "white"
           }
          },
          "shapedefaults": {
           "line": {
            "color": "#2a3f5f"
           }
          },
          "ternary": {
           "aaxis": {
            "gridcolor": "white",
            "linecolor": "white",
            "ticks": ""
           },
           "baxis": {
            "gridcolor": "white",
            "linecolor": "white",
            "ticks": ""
           },
           "bgcolor": "#E5ECF6",
           "caxis": {
            "gridcolor": "white",
            "linecolor": "white",
            "ticks": ""
           }
          },
          "title": {
           "x": 0.05
          },
          "xaxis": {
           "automargin": true,
           "gridcolor": "white",
           "linecolor": "white",
           "ticks": "",
           "title": {
            "standoff": 15
           },
           "zerolinecolor": "white",
           "zerolinewidth": 2
          },
          "yaxis": {
           "automargin": true,
           "gridcolor": "white",
           "linecolor": "white",
           "ticks": "",
           "title": {
            "standoff": 15
           },
           "zerolinecolor": "white",
           "zerolinewidth": 2
          }
         }
        },
        "title": {
         "text": "OEM Wise Average Price Of Cars In Each BT Type",
         "x": 0.45,
         "y": 0.95
        },
        "xaxis": {
         "anchor": "y",
         "domain": [
          0,
          1
         ],
         "tickangle": -45,
         "title": {
          "text": "OEM Names"
         }
        },
        "yaxis": {
         "anchor": "x",
         "domain": [
          0,
          1
         ],
         "title": {
          "text": "Average Price Of Cars"
         }
        }
       }
      }
     },
     "metadata": {},
     "output_type": "display_data"
    }
   ],
   "source": [
    "#Available Car Price in each BT Type in each oem\n",
    "\n",
    "OemPriceFrameBT = detail_frame.groupby(['oem','bt']).price.agg(['mean']).sort_values(by = 'mean',ascending = False).reset_index()\n",
    "#OemPriceFrameBT['mean'] = OemPriceFrameBT[\"mean\"].apply(lambda x : x/100000)\n",
    "\n",
    "OemPriceFrameBT.rename(columns = {'mean':'Avg Price'}, inplace = True)\n",
    "fig = px.bar(OemPriceFrameBT, x=\"oem\", y=\"Avg Price\",color = 'bt', orientation='v')\n",
    "fig.update_layout( xaxis_tickangle=-45)\n",
    "\n",
    "fig.update_layout(title_text=\"OEM Wise Average Price Of Cars In Each BT Type\")\n",
    "fig.update_layout(title=dict(x=0.45, y=0.95))\n",
    "\n",
    "fig.update_xaxes(title_text=\"OEM Names\")\n",
    "fig.update_yaxes(title_text=\"Average Price Of Cars\")\n",
    "fig.update_layout(\n",
    "    plot_bgcolor='black',  # Set background color to black\n",
    "    paper_bgcolor='black',  # Set paper (outside plot area) color to black\n",
    "    font=dict(color='white')  # Set text color to white\n",
    ")\n",
    "fig.show()\n",
    "\n",
    "#Coupe, electric and SUV price is always been higher.\n",
    "# Mercedes, Toyota, Maruti, Tata, Hyundai, Mahindra, Honda, Renault and Chevrolet are having multi variant cars more than 3"
   ]
  },
  {
   "cell_type": "code",
   "execution_count": 131,
   "metadata": {},
   "outputs": [
    {
     "data": {
      "application/vnd.plotly.v1+json": {
       "config": {
        "plotlyServerURL": "https://plot.ly"
       },
       "data": [
        {
         "alignmentgroup": "True",
         "hovertemplate": "bt=SUV<br>oem=%{x}<br>Avg KM=%{y}<extra></extra>",
         "legendgroup": "SUV",
         "marker": {
          "color": "#636efa",
          "pattern": {
           "shape": ""
          }
         },
         "name": "SUV",
         "offsetgroup": "SUV",
         "orientation": "v",
         "showlegend": true,
         "textposition": "auto",
         "type": "bar",
         "x": [
          "Chevrolet",
          "Mitsubishi",
          "Isuzu",
          "Toyota",
          "Mahindra Ssangyong",
          "Audi",
          "Mahindra",
          "Ford",
          "Volvo",
          "Renault",
          "Maruti",
          "Jaguar",
          "Mercedes-Benz",
          "BMW",
          "Honda",
          "Land Rover",
          "Hyundai",
          "Nissan",
          "Jeep",
          "Skoda",
          "Kia",
          "Tata",
          "Porsche",
          "MG",
          "Mini",
          "Volkswagen",
          "Citroen",
          "Lexus"
         ],
         "xaxis": "x",
         "y": [
          129016.5,
          96540.55555555556,
          80666.66666666667,
          80063.1686746988,
          77509,
          64358.12987012987,
          63854.626112759644,
          63709.446700507615,
          57183.375,
          56236.518867924526,
          56056.10344827586,
          54400,
          52599.73563218391,
          52131.57746478873,
          50792.73333333333,
          50476.558139534885,
          50066.50666666667,
          45246.291666666664,
          44026.91071428572,
          42638,
          41902.416666666664,
          41432.183333333334,
          30533.333333333332,
          27707.685393258427,
          27704.666666666668,
          26751.206896551725,
          22585,
          16333.333333333334
         ],
         "yaxis": "y"
        },
        {
         "alignmentgroup": "True",
         "hovertemplate": "bt=Sedan<br>oem=%{x}<br>Avg KM=%{y}<extra></extra>",
         "legendgroup": "Sedan",
         "marker": {
          "color": "#EF553B",
          "pattern": {
           "shape": ""
          }
         },
         "name": "Sedan",
         "offsetgroup": "Sedan",
         "orientation": "v",
         "showlegend": true,
         "textposition": "auto",
         "type": "bar",
         "x": [
          "Hindustan Motors",
          "Mitsubishi",
          "Opel",
          "Chevrolet",
          "Mercedes-Benz",
          "Renault",
          "Ford",
          "Mahindra",
          "Volkswagen",
          "Nissan",
          "Volvo",
          "Tata",
          "Skoda",
          "Mahindra Renault",
          "Maruti",
          "Toyota",
          "Fiat",
          "Hyundai",
          "Honda",
          "Jaguar",
          "Audi",
          "BMW",
          "Lexus",
          "Porsche"
         ],
         "xaxis": "x",
         "y": [
          110000,
          100400,
          100000,
          92397,
          86562.01388888889,
          86291.875,
          79931.58536585367,
          79066.66666666667,
          73752.75213675214,
          72566.875,
          71938.5,
          69944.10294117648,
          69635.8828125,
          69388,
          68645.5099009901,
          67686.72527472528,
          66820.83333333333,
          64207.536912751675,
          62780.42832167832,
          58465.65517241379,
          54084.28571428572,
          49296.61111111111,
          43618,
          36023.5
         ],
         "yaxis": "y"
        },
        {
         "alignmentgroup": "True",
         "hovertemplate": "bt=MUV<br>oem=%{x}<br>Avg KM=%{y}<extra></extra>",
         "legendgroup": "MUV",
         "marker": {
          "color": "#00cc96",
          "pattern": {
           "shape": ""
          }
         },
         "name": "MUV",
         "offsetgroup": "MUV",
         "orientation": "v",
         "showlegend": true,
         "textposition": "auto",
         "type": "bar",
         "x": [
          "Toyota",
          "Chevrolet",
          "Mahindra",
          "Tata",
          "Honda",
          "Maruti",
          "Datsun",
          "Renault",
          "Kia"
         ],
         "xaxis": "x",
         "y": [
          108798.20512820513,
          108573,
          83022.21052631579,
          81237.5,
          74826.5,
          56196.27,
          42623.38461538462,
          40146.47826086957,
          33726.61538461538
         ],
         "yaxis": "y"
        },
        {
         "alignmentgroup": "True",
         "hovertemplate": "bt=Hatchback<br>oem=%{x}<br>Avg KM=%{y}<extra></extra>",
         "legendgroup": "Hatchback",
         "marker": {
          "color": "#ab63fa",
          "pattern": {
           "shape": ""
          }
         },
         "name": "Hatchback",
         "offsetgroup": "Hatchback",
         "orientation": "v",
         "showlegend": true,
         "textposition": "auto",
         "type": "bar",
         "x": [
          "Skoda",
          "BMW",
          "Fiat",
          "Nissan",
          "Ford",
          "Chevrolet",
          "Volkswagen",
          "Mercedes-Benz",
          "Hyundai",
          "Honda",
          "Mahindra",
          "Maruti",
          "Toyota",
          "Tata",
          "Mini",
          "Datsun",
          "Renault",
          "Citroen",
          "Volvo",
          "MG"
         ],
         "xaxis": "x",
         "y": [
          102395,
          82450,
          80311.78947368421,
          71118.40909090909,
          70270.27397260274,
          68819.16666666667,
          67834.14864864865,
          66702.14285714286,
          57736.09211775879,
          56910.74137931035,
          56667.53333333333,
          56229.368020304566,
          51742.969696969696,
          49773.79069767442,
          41250,
          40651.95081967213,
          35147.85526315789,
          30000,
          28000.5,
          150
         ],
         "yaxis": "y"
        },
        {
         "alignmentgroup": "True",
         "hovertemplate": "bt=Pickup Trucks<br>oem=%{x}<br>Avg KM=%{y}<extra></extra>",
         "legendgroup": "Pickup Trucks",
         "marker": {
          "color": "#FFA15A",
          "pattern": {
           "shape": ""
          }
         },
         "name": "Pickup Trucks",
         "offsetgroup": "Pickup Trucks",
         "orientation": "v",
         "showlegend": true,
         "textposition": "auto",
         "type": "bar",
         "x": [
          "Isuzu",
          "Mahindra",
          "Tata"
         ],
         "xaxis": "x",
         "y": [
          97605,
          33333.333333333336,
          30000
         ],
         "yaxis": "y"
        },
        {
         "alignmentgroup": "True",
         "hovertemplate": "bt=Coupe<br>oem=%{x}<br>Avg KM=%{y}<extra></extra>",
         "legendgroup": "Coupe",
         "marker": {
          "color": "#19d3f3",
          "pattern": {
           "shape": ""
          }
         },
         "name": "Coupe",
         "offsetgroup": "Coupe",
         "orientation": "v",
         "showlegend": true,
         "textposition": "auto",
         "type": "bar",
         "x": [
          "Land Rover",
          "BMW",
          "Porsche",
          "Mercedes-Benz",
          "Audi"
         ],
         "xaxis": "x",
         "y": [
          60000,
          30056.666666666668,
          30000,
          27250,
          12300
         ],
         "yaxis": "y"
        },
        {
         "alignmentgroup": "True",
         "hovertemplate": "bt=Minivans<br>oem=%{x}<br>Avg KM=%{y}<extra></extra>",
         "legendgroup": "Minivans",
         "marker": {
          "color": "#FF6692",
          "pattern": {
           "shape": ""
          }
         },
         "name": "Minivans",
         "offsetgroup": "Minivans",
         "orientation": "v",
         "showlegend": true,
         "textposition": "auto",
         "type": "bar",
         "x": [
          "Maruti"
         ],
         "xaxis": "x",
         "y": [
          46899.13043478261
         ],
         "yaxis": "y"
        },
        {
         "alignmentgroup": "True",
         "hovertemplate": "bt=Convertibles<br>oem=%{x}<br>Avg KM=%{y}<extra></extra>",
         "legendgroup": "Convertibles",
         "marker": {
          "color": "#B6E880",
          "pattern": {
           "shape": ""
          }
         },
         "name": "Convertibles",
         "offsetgroup": "Convertibles",
         "orientation": "v",
         "showlegend": true,
         "textposition": "auto",
         "type": "bar",
         "x": [
          "Mercedes-Benz",
          "Jaguar",
          "Audi",
          "Mini"
         ],
         "xaxis": "x",
         "y": [
          43247.333333333336,
          31828,
          22000,
          6500
         ],
         "yaxis": "y"
        },
        {
         "alignmentgroup": "True",
         "hovertemplate": "bt=Wagon<br>oem=%{x}<br>Avg KM=%{y}<extra></extra>",
         "legendgroup": "Wagon",
         "marker": {
          "color": "#FF97FF",
          "pattern": {
           "shape": ""
          }
         },
         "name": "Wagon",
         "offsetgroup": "Wagon",
         "orientation": "v",
         "showlegend": true,
         "textposition": "auto",
         "type": "bar",
         "x": [
          "Maruti"
         ],
         "xaxis": "x",
         "y": [
          40000
         ],
         "yaxis": "y"
        },
        {
         "alignmentgroup": "True",
         "hovertemplate": "bt=Hybrids<br>oem=%{x}<br>Avg KM=%{y}<extra></extra>",
         "legendgroup": "Hybrids",
         "marker": {
          "color": "#FECB52",
          "pattern": {
           "shape": ""
          }
         },
         "name": "Hybrids",
         "offsetgroup": "Hybrids",
         "orientation": "v",
         "showlegend": true,
         "textposition": "auto",
         "type": "bar",
         "x": [
          "Volvo"
         ],
         "xaxis": "x",
         "y": [
          35000
         ],
         "yaxis": "y"
        },
        {
         "alignmentgroup": "True",
         "hovertemplate": "bt=<br>oem=%{x}<br>Avg KM=%{y}<extra></extra>",
         "legendgroup": "",
         "marker": {
          "color": "#636efa",
          "pattern": {
           "shape": ""
          }
         },
         "name": "",
         "offsetgroup": "",
         "orientation": "v",
         "showlegend": false,
         "textposition": "auto",
         "type": "bar",
         "x": [
          "Maruti",
          "Toyota"
         ],
         "xaxis": "x",
         "y": [
          17027,
          10500
         ],
         "yaxis": "y"
        }
       ],
       "layout": {
        "barmode": "relative",
        "font": {
         "color": "white"
        },
        "legend": {
         "title": {
          "text": "bt"
         },
         "tracegroupgap": 0
        },
        "margin": {
         "t": 60
        },
        "paper_bgcolor": "black",
        "plot_bgcolor": "black",
        "template": {
         "data": {
          "bar": [
           {
            "error_x": {
             "color": "#2a3f5f"
            },
            "error_y": {
             "color": "#2a3f5f"
            },
            "marker": {
             "line": {
              "color": "#E5ECF6",
              "width": 0.5
             },
             "pattern": {
              "fillmode": "overlay",
              "size": 10,
              "solidity": 0.2
             }
            },
            "type": "bar"
           }
          ],
          "barpolar": [
           {
            "marker": {
             "line": {
              "color": "#E5ECF6",
              "width": 0.5
             },
             "pattern": {
              "fillmode": "overlay",
              "size": 10,
              "solidity": 0.2
             }
            },
            "type": "barpolar"
           }
          ],
          "carpet": [
           {
            "aaxis": {
             "endlinecolor": "#2a3f5f",
             "gridcolor": "white",
             "linecolor": "white",
             "minorgridcolor": "white",
             "startlinecolor": "#2a3f5f"
            },
            "baxis": {
             "endlinecolor": "#2a3f5f",
             "gridcolor": "white",
             "linecolor": "white",
             "minorgridcolor": "white",
             "startlinecolor": "#2a3f5f"
            },
            "type": "carpet"
           }
          ],
          "choropleth": [
           {
            "colorbar": {
             "outlinewidth": 0,
             "ticks": ""
            },
            "type": "choropleth"
           }
          ],
          "contour": [
           {
            "colorbar": {
             "outlinewidth": 0,
             "ticks": ""
            },
            "colorscale": [
             [
              0,
              "#0d0887"
             ],
             [
              0.1111111111111111,
              "#46039f"
             ],
             [
              0.2222222222222222,
              "#7201a8"
             ],
             [
              0.3333333333333333,
              "#9c179e"
             ],
             [
              0.4444444444444444,
              "#bd3786"
             ],
             [
              0.5555555555555556,
              "#d8576b"
             ],
             [
              0.6666666666666666,
              "#ed7953"
             ],
             [
              0.7777777777777778,
              "#fb9f3a"
             ],
             [
              0.8888888888888888,
              "#fdca26"
             ],
             [
              1,
              "#f0f921"
             ]
            ],
            "type": "contour"
           }
          ],
          "contourcarpet": [
           {
            "colorbar": {
             "outlinewidth": 0,
             "ticks": ""
            },
            "type": "contourcarpet"
           }
          ],
          "heatmap": [
           {
            "colorbar": {
             "outlinewidth": 0,
             "ticks": ""
            },
            "colorscale": [
             [
              0,
              "#0d0887"
             ],
             [
              0.1111111111111111,
              "#46039f"
             ],
             [
              0.2222222222222222,
              "#7201a8"
             ],
             [
              0.3333333333333333,
              "#9c179e"
             ],
             [
              0.4444444444444444,
              "#bd3786"
             ],
             [
              0.5555555555555556,
              "#d8576b"
             ],
             [
              0.6666666666666666,
              "#ed7953"
             ],
             [
              0.7777777777777778,
              "#fb9f3a"
             ],
             [
              0.8888888888888888,
              "#fdca26"
             ],
             [
              1,
              "#f0f921"
             ]
            ],
            "type": "heatmap"
           }
          ],
          "heatmapgl": [
           {
            "colorbar": {
             "outlinewidth": 0,
             "ticks": ""
            },
            "colorscale": [
             [
              0,
              "#0d0887"
             ],
             [
              0.1111111111111111,
              "#46039f"
             ],
             [
              0.2222222222222222,
              "#7201a8"
             ],
             [
              0.3333333333333333,
              "#9c179e"
             ],
             [
              0.4444444444444444,
              "#bd3786"
             ],
             [
              0.5555555555555556,
              "#d8576b"
             ],
             [
              0.6666666666666666,
              "#ed7953"
             ],
             [
              0.7777777777777778,
              "#fb9f3a"
             ],
             [
              0.8888888888888888,
              "#fdca26"
             ],
             [
              1,
              "#f0f921"
             ]
            ],
            "type": "heatmapgl"
           }
          ],
          "histogram": [
           {
            "marker": {
             "pattern": {
              "fillmode": "overlay",
              "size": 10,
              "solidity": 0.2
             }
            },
            "type": "histogram"
           }
          ],
          "histogram2d": [
           {
            "colorbar": {
             "outlinewidth": 0,
             "ticks": ""
            },
            "colorscale": [
             [
              0,
              "#0d0887"
             ],
             [
              0.1111111111111111,
              "#46039f"
             ],
             [
              0.2222222222222222,
              "#7201a8"
             ],
             [
              0.3333333333333333,
              "#9c179e"
             ],
             [
              0.4444444444444444,
              "#bd3786"
             ],
             [
              0.5555555555555556,
              "#d8576b"
             ],
             [
              0.6666666666666666,
              "#ed7953"
             ],
             [
              0.7777777777777778,
              "#fb9f3a"
             ],
             [
              0.8888888888888888,
              "#fdca26"
             ],
             [
              1,
              "#f0f921"
             ]
            ],
            "type": "histogram2d"
           }
          ],
          "histogram2dcontour": [
           {
            "colorbar": {
             "outlinewidth": 0,
             "ticks": ""
            },
            "colorscale": [
             [
              0,
              "#0d0887"
             ],
             [
              0.1111111111111111,
              "#46039f"
             ],
             [
              0.2222222222222222,
              "#7201a8"
             ],
             [
              0.3333333333333333,
              "#9c179e"
             ],
             [
              0.4444444444444444,
              "#bd3786"
             ],
             [
              0.5555555555555556,
              "#d8576b"
             ],
             [
              0.6666666666666666,
              "#ed7953"
             ],
             [
              0.7777777777777778,
              "#fb9f3a"
             ],
             [
              0.8888888888888888,
              "#fdca26"
             ],
             [
              1,
              "#f0f921"
             ]
            ],
            "type": "histogram2dcontour"
           }
          ],
          "mesh3d": [
           {
            "colorbar": {
             "outlinewidth": 0,
             "ticks": ""
            },
            "type": "mesh3d"
           }
          ],
          "parcoords": [
           {
            "line": {
             "colorbar": {
              "outlinewidth": 0,
              "ticks": ""
             }
            },
            "type": "parcoords"
           }
          ],
          "pie": [
           {
            "automargin": true,
            "type": "pie"
           }
          ],
          "scatter": [
           {
            "fillpattern": {
             "fillmode": "overlay",
             "size": 10,
             "solidity": 0.2
            },
            "type": "scatter"
           }
          ],
          "scatter3d": [
           {
            "line": {
             "colorbar": {
              "outlinewidth": 0,
              "ticks": ""
             }
            },
            "marker": {
             "colorbar": {
              "outlinewidth": 0,
              "ticks": ""
             }
            },
            "type": "scatter3d"
           }
          ],
          "scattercarpet": [
           {
            "marker": {
             "colorbar": {
              "outlinewidth": 0,
              "ticks": ""
             }
            },
            "type": "scattercarpet"
           }
          ],
          "scattergeo": [
           {
            "marker": {
             "colorbar": {
              "outlinewidth": 0,
              "ticks": ""
             }
            },
            "type": "scattergeo"
           }
          ],
          "scattergl": [
           {
            "marker": {
             "colorbar": {
              "outlinewidth": 0,
              "ticks": ""
             }
            },
            "type": "scattergl"
           }
          ],
          "scattermapbox": [
           {
            "marker": {
             "colorbar": {
              "outlinewidth": 0,
              "ticks": ""
             }
            },
            "type": "scattermapbox"
           }
          ],
          "scatterpolar": [
           {
            "marker": {
             "colorbar": {
              "outlinewidth": 0,
              "ticks": ""
             }
            },
            "type": "scatterpolar"
           }
          ],
          "scatterpolargl": [
           {
            "marker": {
             "colorbar": {
              "outlinewidth": 0,
              "ticks": ""
             }
            },
            "type": "scatterpolargl"
           }
          ],
          "scatterternary": [
           {
            "marker": {
             "colorbar": {
              "outlinewidth": 0,
              "ticks": ""
             }
            },
            "type": "scatterternary"
           }
          ],
          "surface": [
           {
            "colorbar": {
             "outlinewidth": 0,
             "ticks": ""
            },
            "colorscale": [
             [
              0,
              "#0d0887"
             ],
             [
              0.1111111111111111,
              "#46039f"
             ],
             [
              0.2222222222222222,
              "#7201a8"
             ],
             [
              0.3333333333333333,
              "#9c179e"
             ],
             [
              0.4444444444444444,
              "#bd3786"
             ],
             [
              0.5555555555555556,
              "#d8576b"
             ],
             [
              0.6666666666666666,
              "#ed7953"
             ],
             [
              0.7777777777777778,
              "#fb9f3a"
             ],
             [
              0.8888888888888888,
              "#fdca26"
             ],
             [
              1,
              "#f0f921"
             ]
            ],
            "type": "surface"
           }
          ],
          "table": [
           {
            "cells": {
             "fill": {
              "color": "#EBF0F8"
             },
             "line": {
              "color": "white"
             }
            },
            "header": {
             "fill": {
              "color": "#C8D4E3"
             },
             "line": {
              "color": "white"
             }
            },
            "type": "table"
           }
          ]
         },
         "layout": {
          "annotationdefaults": {
           "arrowcolor": "#2a3f5f",
           "arrowhead": 0,
           "arrowwidth": 1
          },
          "autotypenumbers": "strict",
          "coloraxis": {
           "colorbar": {
            "outlinewidth": 0,
            "ticks": ""
           }
          },
          "colorscale": {
           "diverging": [
            [
             0,
             "#8e0152"
            ],
            [
             0.1,
             "#c51b7d"
            ],
            [
             0.2,
             "#de77ae"
            ],
            [
             0.3,
             "#f1b6da"
            ],
            [
             0.4,
             "#fde0ef"
            ],
            [
             0.5,
             "#f7f7f7"
            ],
            [
             0.6,
             "#e6f5d0"
            ],
            [
             0.7,
             "#b8e186"
            ],
            [
             0.8,
             "#7fbc41"
            ],
            [
             0.9,
             "#4d9221"
            ],
            [
             1,
             "#276419"
            ]
           ],
           "sequential": [
            [
             0,
             "#0d0887"
            ],
            [
             0.1111111111111111,
             "#46039f"
            ],
            [
             0.2222222222222222,
             "#7201a8"
            ],
            [
             0.3333333333333333,
             "#9c179e"
            ],
            [
             0.4444444444444444,
             "#bd3786"
            ],
            [
             0.5555555555555556,
             "#d8576b"
            ],
            [
             0.6666666666666666,
             "#ed7953"
            ],
            [
             0.7777777777777778,
             "#fb9f3a"
            ],
            [
             0.8888888888888888,
             "#fdca26"
            ],
            [
             1,
             "#f0f921"
            ]
           ],
           "sequentialminus": [
            [
             0,
             "#0d0887"
            ],
            [
             0.1111111111111111,
             "#46039f"
            ],
            [
             0.2222222222222222,
             "#7201a8"
            ],
            [
             0.3333333333333333,
             "#9c179e"
            ],
            [
             0.4444444444444444,
             "#bd3786"
            ],
            [
             0.5555555555555556,
             "#d8576b"
            ],
            [
             0.6666666666666666,
             "#ed7953"
            ],
            [
             0.7777777777777778,
             "#fb9f3a"
            ],
            [
             0.8888888888888888,
             "#fdca26"
            ],
            [
             1,
             "#f0f921"
            ]
           ]
          },
          "colorway": [
           "#636efa",
           "#EF553B",
           "#00cc96",
           "#ab63fa",
           "#FFA15A",
           "#19d3f3",
           "#FF6692",
           "#B6E880",
           "#FF97FF",
           "#FECB52"
          ],
          "font": {
           "color": "#2a3f5f"
          },
          "geo": {
           "bgcolor": "white",
           "lakecolor": "white",
           "landcolor": "#E5ECF6",
           "showlakes": true,
           "showland": true,
           "subunitcolor": "white"
          },
          "hoverlabel": {
           "align": "left"
          },
          "hovermode": "closest",
          "mapbox": {
           "style": "light"
          },
          "paper_bgcolor": "white",
          "plot_bgcolor": "#E5ECF6",
          "polar": {
           "angularaxis": {
            "gridcolor": "white",
            "linecolor": "white",
            "ticks": ""
           },
           "bgcolor": "#E5ECF6",
           "radialaxis": {
            "gridcolor": "white",
            "linecolor": "white",
            "ticks": ""
           }
          },
          "scene": {
           "xaxis": {
            "backgroundcolor": "#E5ECF6",
            "gridcolor": "white",
            "gridwidth": 2,
            "linecolor": "white",
            "showbackground": true,
            "ticks": "",
            "zerolinecolor": "white"
           },
           "yaxis": {
            "backgroundcolor": "#E5ECF6",
            "gridcolor": "white",
            "gridwidth": 2,
            "linecolor": "white",
            "showbackground": true,
            "ticks": "",
            "zerolinecolor": "white"
           },
           "zaxis": {
            "backgroundcolor": "#E5ECF6",
            "gridcolor": "white",
            "gridwidth": 2,
            "linecolor": "white",
            "showbackground": true,
            "ticks": "",
            "zerolinecolor": "white"
           }
          },
          "shapedefaults": {
           "line": {
            "color": "#2a3f5f"
           }
          },
          "ternary": {
           "aaxis": {
            "gridcolor": "white",
            "linecolor": "white",
            "ticks": ""
           },
           "baxis": {
            "gridcolor": "white",
            "linecolor": "white",
            "ticks": ""
           },
           "bgcolor": "#E5ECF6",
           "caxis": {
            "gridcolor": "white",
            "linecolor": "white",
            "ticks": ""
           }
          },
          "title": {
           "x": 0.05
          },
          "xaxis": {
           "automargin": true,
           "gridcolor": "white",
           "linecolor": "white",
           "ticks": "",
           "title": {
            "standoff": 15
           },
           "zerolinecolor": "white",
           "zerolinewidth": 2
          },
          "yaxis": {
           "automargin": true,
           "gridcolor": "white",
           "linecolor": "white",
           "ticks": "",
           "title": {
            "standoff": 15
           },
           "zerolinecolor": "white",
           "zerolinewidth": 2
          }
         }
        },
        "title": {
         "text": "OEM Wise Average Kilometers Driven In Each BT Type",
         "x": 0.45,
         "y": 0.95
        },
        "xaxis": {
         "anchor": "y",
         "domain": [
          0,
          1
         ],
         "tickangle": -45,
         "title": {
          "text": "OEM Names"
         }
        },
        "yaxis": {
         "anchor": "x",
         "domain": [
          0,
          1
         ],
         "title": {
          "text": "Average Kilometers Driven"
         }
        }
       }
      }
     },
     "metadata": {},
     "output_type": "display_data"
    }
   ],
   "source": [
    "#Available KM's driven in each BT Type in each oem\n",
    "\n",
    "OemKMFrameBT = detail_frame.groupby(['oem','bt']).km.agg(['mean']).sort_values(by = 'mean',ascending = False).reset_index()\n",
    "#OemPriceFrame['mean'] = OemPriceFrame[\"mean\"].apply(lambda x : x/100000)\n",
    "\n",
    "OemKMFrameBT.rename(columns = {'mean':'Avg KM'}, inplace = True)\n",
    "fig = px.bar(OemKMFrameBT, x=\"oem\", y=\"Avg KM\",color = 'bt', orientation='v')\n",
    "fig.update_layout( xaxis_tickangle=-45)\n",
    "\n",
    "fig.update_layout(title_text=\"OEM Wise Average Kilometers Driven In Each BT Type\")\n",
    "fig.update_layout(title=dict(x=0.45, y=0.95))\n",
    "\n",
    "fig.update_xaxes(title_text=\"OEM Names\")\n",
    "fig.update_yaxes(title_text=\"Average Kilometers Driven\")\n",
    "fig.update_layout(\n",
    "    plot_bgcolor='black',  # Set background color to black\n",
    "    paper_bgcolor='black',  # Set paper (outside plot area) color to black\n",
    "    font=dict(color='white')  # Set text color to white\n",
    ")\n",
    "fig.show()\n",
    "\n",
    "#considerably sedan and SUV vehicles are used in maximum"
   ]
  },
  {
   "cell_type": "code",
   "execution_count": 132,
   "metadata": {},
   "outputs": [
    {
     "data": {
      "application/vnd.plotly.v1+json": {
       "config": {
        "plotlyServerURL": "https://plot.ly"
       },
       "data": [
        {
         "hovertemplate": "owner=3rd Owner<br>km=%{x}<br>price=%{y}<extra></extra>",
         "legendgroup": "3rd Owner",
         "marker": {
          "color": "#636efa",
          "symbol": "circle"
         },
         "mode": "markers",
         "name": "3rd Owner",
         "showlegend": true,
         "type": "scattergl",
         "x": [
          120000,
          108862,
          100000,
          120000,
          54601,
          90000,
          80000,
          80000,
          110000,
          80000,
          120000,
          40000,
          65484,
          50000,
          80000,
          77501,
          90000,
          120000,
          174000,
          150000,
          28177,
          90000,
          110000,
          120000,
          38233,
          100000,
          25086,
          113348,
          50000,
          10000,
          10000,
          54242,
          90000,
          60000,
          46894,
          51877,
          120000,
          60000,
          112268,
          70000,
          100000,
          100000,
          110000,
          50000,
          70000,
          60000,
          120000,
          100000,
          20000,
          60000,
          81207,
          90000,
          70000,
          30000,
          90000,
          120000,
          86543,
          100000,
          78249,
          110000,
          90000,
          71938,
          150000,
          110000,
          70000,
          100000,
          50000,
          50000,
          30000,
          36216,
          80000,
          80000,
          56672,
          30000,
          110000,
          80000,
          120000,
          70000,
          110000,
          40000,
          100000,
          80000,
          90000,
          70000,
          40000,
          120000,
          120000,
          87000,
          43285,
          42220,
          38995,
          50510,
          85000,
          81777,
          62000,
          70000,
          120000,
          100000,
          50000,
          80000,
          64409,
          40000,
          120000,
          40000,
          110000,
          64000,
          80000,
          76454,
          120000,
          45000,
          61120,
          98481,
          120000,
          77706,
          38919,
          70000,
          120000,
          70000,
          64961,
          60000,
          20973,
          110000,
          120000,
          76697,
          80000,
          100000,
          120000,
          48360,
          80000,
          100000,
          85486,
          31795,
          85750,
          36573,
          69437,
          88122,
          90000,
          65744,
          60000,
          90000,
          80000,
          20000,
          90000,
          80000,
          87634,
          91617,
          82124,
          101566,
          80030,
          55161,
          76554,
          85037,
          121032,
          53751,
          96892,
          83000,
          50046,
          30015,
          81009,
          120000,
          40000,
          100000,
          100000,
          100000,
          102788,
          83000,
          70000,
          120000,
          120000,
          90000,
          92000,
          90000,
          70000,
          90000,
          60000,
          81000,
          80000,
          64071,
          100000,
          100000,
          30000,
          70000,
          70000,
          70000,
          80000,
          110000,
          100000,
          84000,
          100000,
          90000,
          32000,
          80000,
          80000,
          50000,
          110000,
          100000,
          85000,
          110000,
          110000,
          90000,
          103046,
          101176,
          70000,
          40724,
          97935,
          40000,
          15600,
          120000,
          100000,
          101863,
          100000,
          69408,
          57380,
          88471,
          94514,
          40000,
          63334,
          80000,
          171000,
          120000,
          40000,
          120000,
          90000,
          120000,
          90000,
          87449,
          89318,
          83858,
          124406,
          62674,
          60000,
          40000,
          112921,
          58321,
          91543,
          120000,
          80000,
          70000,
          52442,
          87966,
          0,
          67407,
          100000,
          88046,
          105746,
          110000,
          60000,
          89576,
          120000,
          120000,
          70000,
          90000,
          70000,
          150000,
          48089,
          120000,
          120000,
          60000,
          100000,
          110000,
          70000,
          110000,
          120000,
          90000,
          150000,
          90000,
          43349,
          64394,
          80000,
          110000,
          110000,
          120000,
          70000,
          110000,
          6165,
          150000,
          120000,
          70000,
          100000,
          50789,
          150000,
          30000,
          50000,
          110000,
          70000,
          80000,
          30000,
          93155,
          69383,
          152098,
          147640,
          100076,
          81700,
          118149,
          68000,
          45663,
          71448,
          176550,
          85445,
          117131,
          85254,
          72434,
          34185,
          50000,
          60000,
          150000,
          40000,
          50000,
          120000,
          100000,
          90000,
          120000,
          70000,
          150000,
          100000,
          100000,
          30000,
          90000,
          120000,
          120000,
          150000,
          150000,
          80000,
          120000,
          60000,
          50000,
          60000,
          120000,
          100000,
          70000,
          20000,
          80000,
          60000,
          60000,
          56766,
          60000,
          64000,
          70000,
          19600,
          78668,
          40000,
          89398,
          70000,
          59006,
          40000,
          60000,
          60000,
          50000,
          40000,
          3089,
          80000,
          103033,
          65916,
          36920,
          24622,
          21477,
          76672,
          44226,
          60000,
          40000,
          31062,
          70057,
          31828,
          100000,
          60000,
          60000,
          20000,
          50000,
          50000,
          42719,
          53562,
          80000,
          30000,
          50000
         ],
         "xaxis": "x",
         "y": [
          400000,
          690000,
          2200000,
          1100000,
          442000,
          850000,
          249000.00000000003,
          249000.00000000003,
          300000,
          500000,
          400000,
          250000,
          318000,
          900000,
          240000,
          517000,
          520000,
          760000,
          1845000,
          455000,
          1405000,
          275000,
          700000,
          260000,
          468000,
          750000,
          513000,
          190000,
          491000,
          400000,
          400000,
          327000,
          500000,
          560000,
          453000,
          463000,
          55000,
          130000,
          347000,
          150000,
          135000,
          120000,
          685000,
          40000,
          345000,
          370000,
          185000,
          155000,
          300000,
          350000,
          335000,
          480000,
          600000,
          120000,
          268000,
          475000,
          327000,
          240000,
          413000,
          240000,
          80000,
          231999.99999999997,
          50000,
          600000,
          1000000,
          250000,
          185000,
          225000,
          100000,
          736000,
          390000,
          500000,
          591000,
          630000,
          200000,
          1800000,
          195000,
          300000,
          290000,
          260000,
          360000,
          495000,
          300000,
          120000,
          200000,
          186000,
          240000,
          975000,
          442000,
          544000,
          540000,
          413000,
          465000.00000000006,
          475000,
          3800000,
          100000,
          204999.99999999997,
          650000,
          1700000,
          700000,
          508000,
          425000,
          45000,
          335000,
          680000,
          1800000,
          475000,
          210000,
          225999.99999999997,
          3475000,
          566000,
          380000,
          375000,
          339000,
          554000,
          250000,
          450000,
          900000,
          621000,
          140000,
          444000.00000000006,
          1000000,
          350000,
          484999.99999999994,
          120000,
          490000.00000000006,
          155000,
          417000,
          140000,
          300000,
          254000,
          479000,
          409999.99999999994,
          563000,
          366000,
          368000,
          80000,
          325000,
          50000,
          231999.99999999997,
          170000,
          570000,
          200000,
          200000,
          1129000,
          398000,
          145000,
          364000,
          114999.99999999999,
          411000.00000000006,
          210000,
          250000,
          280000,
          305000,
          515000.00000000006,
          260000,
          301000,
          860000,
          584000,
          90000,
          1250000,
          850000,
          135000,
          135000,
          1550000,
          1570000,
          800000,
          450000,
          450000,
          250000,
          1300000,
          95000,
          700000,
          360000,
          80000,
          225000,
          179000,
          252000,
          110000.00000000001,
          459999.99999999994,
          186000,
          500000,
          135000,
          300000,
          130000,
          150000,
          110000.00000000001,
          225000,
          250000,
          114999.99999999999,
          1400000,
          380000,
          300000,
          204999.99999999997,
          100000,
          380000,
          2190000,
          125000,
          125000,
          484999.99999999994,
          549000,
          562000,
          395000,
          311000,
          276000,
          330000,
          550000,
          340000,
          1200000,
          581000,
          2400000,
          311000,
          496000,
          417000,
          323000,
          150000,
          1009000,
          215000,
          260000,
          400000,
          150000,
          500000,
          455000,
          600000,
          750000,
          561000,
          411000.00000000006,
          300000,
          121000,
          430999.99999999994,
          229999.99999999997,
          490000.00000000006,
          400000,
          256999.99999999997,
          350000,
          280000,
          1050000,
          80000,
          224000.00000000003,
          459000,
          20161,
          585000,
          395000,
          50000,
          425000,
          170000,
          250000,
          669000,
          3500000,
          350000,
          150000,
          1300000,
          175000,
          130000,
          640000,
          450000,
          450000,
          252000,
          229999.99999999997,
          550000,
          225000,
          500000,
          409999.99999999994,
          1100000,
          250000,
          650000,
          327000,
          459000,
          105000,
          150000,
          150000,
          180000,
          520000,
          275000,
          1574000,
          170000,
          490000.00000000006,
          450000,
          490000.00000000006,
          278000,
          125000,
          60000,
          680000,
          60000,
          240000,
          250000,
          55000,
          229999.99999999997,
          1700000,
          361000,
          225000,
          300000,
          66000,
          350000,
          385000,
          94353,
          678000,
          150000,
          250000,
          380000,
          55000,
          110000.00000000001,
          300000,
          400000,
          150000,
          70000,
          750000,
          122000,
          150000,
          150000,
          160000,
          450000,
          150000,
          300000,
          500000,
          1100000,
          500000,
          300000,
          300000,
          900000,
          165000,
          350000,
          700000,
          150000,
          302000,
          320000,
          320000,
          200000,
          350000,
          975000,
          975000,
          350000,
          145000,
          350000,
          399000,
          70000,
          235000,
          1350000,
          4200000,
          1075000,
          305000,
          500000,
          1200000,
          363000,
          360000,
          250000,
          160000,
          270000,
          470000,
          714000,
          225000,
          271000,
          142000,
          235000,
          209000,
          206000,
          140000,
          3900000,
          800000,
          600000,
          170000,
          419000.00000000006,
          6400000,
          150000,
          140000,
          150000,
          400000,
          175000,
          175000,
          2750000,
          158000,
          105000,
          100000,
          550000
         ],
         "yaxis": "y"
        },
        {
         "hovertemplate": "owner=2nd Owner<br>km=%{x}<br>price=%{y}<extra></extra>",
         "legendgroup": "2nd Owner",
         "marker": {
          "color": "#EF553B",
          "symbol": "circle"
         },
         "mode": "markers",
         "name": "2nd Owner",
         "showlegend": true,
         "type": "scattergl",
         "x": [
          32706,
          65376,
          67000,
          57634,
          50000,
          30000,
          87667,
          40000,
          79012,
          60000,
          40987,
          40000,
          120000,
          33539,
          66837,
          60000,
          100000,
          120000,
          100000,
          37741,
          64000,
          44154,
          68039,
          60000,
          60000,
          48960,
          70000,
          68000,
          83000,
          92000,
          26500,
          24000,
          23000,
          26500,
          80000,
          83394,
          30000,
          29813,
          75523,
          90000,
          70000,
          70000,
          80000,
          70000,
          60000,
          35000,
          51116,
          40000,
          85565,
          120000,
          36685,
          120000,
          32184,
          74499,
          56211,
          65457,
          134557,
          96567,
          83007,
          57284,
          70000,
          70000,
          46429,
          100000,
          49690,
          53000,
          70000,
          70000,
          42233,
          50000,
          50000,
          104000,
          90000,
          100000,
          76567,
          120000,
          36459,
          115599,
          77000,
          40771,
          65812,
          40000,
          60216,
          10000,
          40000,
          18000,
          70000,
          57000,
          50000,
          40073,
          65730,
          120000,
          36184,
          62803,
          90000,
          100000,
          50000,
          90773,
          64917,
          164000,
          72136,
          52486,
          47398,
          50000,
          110000,
          54561,
          120000,
          56976,
          68303,
          80000,
          199000,
          69748,
          17875,
          114427,
          20000,
          91598,
          110455,
          68000,
          70000,
          34140,
          50000,
          70000,
          90000,
          40000,
          120000,
          100000,
          90000,
          49713,
          90000,
          46716,
          68000,
          59420,
          60000,
          50000,
          50000,
          60000,
          24786,
          31000,
          30000,
          48891,
          60000,
          31346,
          79349,
          70000,
          45000,
          70000,
          46258,
          120000,
          125903,
          33040,
          110000,
          120000,
          33000,
          100000,
          65881,
          49934,
          91000,
          61576,
          114321,
          13000,
          36004,
          58808,
          54134,
          27227,
          100000,
          36787,
          32112,
          30000,
          26085,
          53692,
          37809,
          15727,
          24463,
          10000,
          60000,
          17125,
          70000,
          32953,
          30000,
          72000,
          80000,
          36314,
          47488,
          61103,
          70000,
          36977,
          60000,
          80000,
          35000,
          90000,
          50000,
          40082,
          112566,
          43371,
          120000,
          100000,
          50000,
          120000,
          50000,
          80000,
          70000,
          24343,
          110000,
          58917,
          41000,
          70000,
          60000,
          64235,
          120000,
          93059,
          45938,
          57423,
          80000,
          10000,
          120000,
          39693,
          94221,
          30155,
          59006,
          65507,
          40304,
          90213,
          10000,
          20000,
          47127,
          88119,
          62223,
          80000,
          63837,
          61000,
          39248,
          50000,
          60000,
          120000,
          64389,
          60000,
          30518,
          44253,
          50000,
          80000,
          50000,
          81853,
          120000,
          80000,
          110000,
          60000,
          70000,
          71165,
          80000,
          39481,
          61227,
          60000,
          40000,
          100000,
          20000,
          110000,
          63359,
          125227,
          100000,
          71884,
          79059,
          80000,
          44268,
          80000,
          70000,
          120000,
          120000,
          20000,
          80426,
          69199,
          37678,
          60442,
          70000,
          88509,
          80000,
          83731,
          80000,
          23000,
          120000,
          60000,
          38199,
          51947,
          80000,
          76836,
          27000,
          40000,
          90000,
          150000,
          104938,
          124707,
          70000,
          100000,
          100000,
          70000,
          90000,
          50000,
          53031,
          51580,
          57000,
          66434,
          70000,
          10000,
          14338,
          73799,
          89633,
          16826,
          25133,
          70000,
          20000,
          20000,
          80000,
          28051,
          120000,
          120000,
          100000,
          40000,
          50000,
          48938,
          80000,
          60000,
          80000,
          56974,
          45965,
          70000,
          90000,
          80000,
          120000,
          90000,
          90000,
          100000,
          80000,
          50000,
          65000,
          10155,
          110654,
          90000,
          120000,
          80000,
          60000,
          26224,
          32196,
          105000,
          15437,
          30000,
          110000,
          54568,
          5083,
          100000,
          60528,
          57644,
          51286,
          64000,
          40031,
          47619,
          30535,
          20229,
          77000,
          70000,
          120000,
          80000,
          110000,
          80000,
          21225,
          120000,
          80000,
          100000,
          90106,
          50000,
          100000,
          100000,
          41268,
          30000,
          134850,
          120000,
          40000,
          65000,
          13444,
          78622,
          11000,
          120000,
          39157,
          89900,
          180000,
          40394,
          49000,
          35922,
          86000,
          54000,
          42162,
          48041,
          62984,
          99276,
          42812,
          39243,
          36309,
          12064,
          58198,
          94378,
          58000,
          113000,
          170402,
          30000,
          132000,
          51745,
          11268,
          157000,
          68000,
          41000,
          45000,
          75000,
          68906,
          46000,
          70000,
          78000,
          70000,
          48698,
          67771,
          33000,
          37000,
          36000,
          23382,
          82268,
          73000,
          19024,
          73140,
          101356,
          44000,
          35288,
          96939,
          44824,
          169219,
          92673,
          79000,
          27025,
          11662,
          74342,
          11912,
          55544,
          42094,
          69798,
          69000,
          57527,
          50936,
          90333,
          60000,
          60000,
          41659,
          85300,
          32483,
          148625,
          5609,
          30285,
          80153,
          83075,
          67791,
          47000,
          156039,
          56000,
          42000,
          36000,
          25925,
          51125,
          99225,
          46809,
          88000,
          30360,
          70000,
          55000,
          71638,
          70000,
          36018,
          62931,
          90000,
          50000,
          60001,
          99225,
          60000,
          72955,
          120000,
          88000,
          30000,
          67091,
          120000,
          60000,
          44000,
          50000,
          70887,
          114981,
          64906,
          81484,
          61000,
          65076,
          54505,
          63720,
          60333,
          51800,
          32797,
          54000,
          110267,
          45677,
          85274,
          60000,
          60000,
          55037,
          102392,
          25219,
          30000,
          46436,
          48163,
          150000,
          65895,
          60929,
          78000,
          85105,
          44519,
          110273,
          65628,
          38999,
          58747,
          106360,
          162049,
          46946,
          20000,
          150000,
          37778,
          85941,
          40000,
          80805,
          17963,
          57206,
          120000,
          54395,
          70000,
          125000,
          75000,
          22066,
          88663,
          61279,
          70000,
          111586,
          73369,
          110701,
          49124,
          64636,
          36000,
          55940,
          115915,
          96184,
          73834,
          74401,
          82000,
          57910,
          46233,
          40000,
          50000,
          107158,
          56028,
          150000,
          55040,
          39000,
          104336,
          56000,
          80000,
          59532,
          200300,
          106338,
          73341,
          39001,
          80000,
          100000,
          36032,
          97419,
          106498,
          68177,
          44494,
          76457,
          78880,
          119070,
          120000,
          100894,
          120000,
          98115,
          55450,
          150000,
          109000,
          38000,
          67130,
          27749,
          83556,
          135000,
          27425,
          24500,
          46931,
          80000,
          16561,
          46375,
          60000,
          40000,
          37218,
          120000,
          107000,
          81394,
          49326,
          60000,
          120000,
          30000,
          94348,
          81152,
          84505,
          30000,
          66511,
          45161,
          100000,
          52732,
          61159,
          90000,
          70000,
          108551,
          38464,
          35325,
          20000,
          90000,
          102249,
          30000,
          77388,
          62493,
          104073,
          100000,
          69786,
          53612,
          43841,
          110000,
          70000,
          20000,
          68283,
          47547,
          100844,
          71770,
          79063,
          50000,
          100000,
          70000,
          55000,
          97522,
          20000,
          106275,
          18704,
          30000,
          10000,
          30000,
          60000,
          132787,
          50000,
          31239,
          80000,
          22286,
          54538,
          42036,
          23678,
          30000,
          50000,
          91992,
          50000,
          72679,
          83738,
          76656,
          93806,
          46566,
          36408,
          61696,
          110000,
          76597,
          65675,
          18228,
          61633,
          80000,
          42375,
          63155,
          85000,
          71887,
          100000,
          20000,
          61426,
          121735,
          73498,
          100000,
          105000,
          61583,
          38980,
          70000,
          98263,
          73674,
          41364,
          108898,
          40000,
          60000,
          30000,
          49165,
          38309,
          116377,
          50000,
          100000,
          57121,
          75000,
          37294,
          45000,
          154931,
          46830,
          63860,
          56071,
          39542,
          114507,
          101423,
          61372,
          97445,
          69680,
          108338,
          91644,
          86147,
          99715,
          22740,
          98000,
          122533,
          27652,
          18861,
          41361,
          28897,
          46308,
          15000,
          55000,
          100036,
          126055,
          100043,
          90068,
          86000,
          120057,
          71096,
          115484,
          80062,
          100060,
          97942,
          43088,
          2177,
          85000,
          53098,
          35821,
          60000,
          39323,
          130000,
          82171,
          34715,
          79089,
          24035,
          103651,
          111283,
          63000,
          65000,
          97000,
          49387,
          78978,
          100000,
          96000,
          30000,
          94581,
          58747,
          108513,
          63000,
          94000,
          46116,
          73000,
          70000,
          75000,
          58155,
          62606,
          12000,
          36000,
          40000,
          107280,
          90403,
          84741,
          60000,
          57437,
          28151,
          70000,
          43124,
          48327,
          33709,
          75000,
          70307,
          4108,
          50854,
          29582,
          57806,
          43220,
          13500,
          60000,
          70000,
          90000,
          90000,
          41705,
          90000,
          70000,
          70000,
          45244,
          80000,
          77611,
          34568,
          88952,
          69000,
          95000,
          35011,
          24349,
          23961,
          72000,
          21000,
          33756,
          55000,
          36000,
          62479,
          53000,
          51000,
          54147,
          68000,
          49000,
          50000,
          14598,
          96000,
          40190,
          150000,
          68000,
          10000,
          82896,
          35000,
          25000,
          33000,
          15000,
          34000,
          15000,
          90347,
          60000,
          18000,
          89500,
          27684,
          75000,
          58000,
          75455,
          65000,
          36206,
          86919,
          69650,
          82347,
          52001,
          85162,
          110000,
          60000,
          60000,
          24727,
          62113,
          120000,
          10000,
          60000,
          18000,
          40000,
          40000,
          46724,
          54500,
          60000,
          110000,
          69164,
          22000,
          43600,
          6500,
          111237,
          70000,
          95000,
          35000,
          70000,
          25000,
          44000,
          120000,
          36000,
          48000,
          55000,
          92000,
          42000,
          35123,
          25154,
          30600,
          14500,
          80000,
          20755,
          81000,
          60000,
          67510,
          18000,
          40000,
          53000,
          60000,
          44371,
          66000,
          59000,
          5242,
          65000,
          35854,
          64229,
          59605,
          41898,
          52123,
          66000,
          56000,
          12651,
          58996,
          34000,
          59537,
          60000,
          68740,
          86245,
          40000,
          15000,
          60896,
          18340,
          70000,
          57000,
          24940,
          80000,
          37140,
          32000,
          40000,
          58000,
          48000,
          59863,
          42173,
          68631,
          65000,
          62411,
          56000,
          63661,
          66462,
          40000,
          20000,
          48768,
          91970,
          10056,
          110000,
          90000,
          20000,
          120000,
          18000,
          60000,
          30000,
          68621,
          84181,
          70000,
          60000,
          60000,
          40000,
          32722,
          70000,
          34332,
          54235,
          60000,
          80000,
          64000,
          64589,
          66688,
          90000,
          40000,
          30000,
          106711,
          36785,
          30000,
          78000,
          51276,
          75402,
          76000,
          80000,
          59000,
          90000,
          80000,
          100000,
          108665,
          100579,
          40000,
          90000,
          80000,
          40462,
          50000,
          55000,
          90000,
          33091,
          70000,
          67000,
          90360,
          14445,
          29847,
          80000,
          82892,
          64228,
          60000,
          110000,
          47231,
          37961,
          76751,
          90000,
          45500,
          40000,
          61000,
          50000,
          50000,
          70000,
          80000,
          120000,
          68866,
          100000,
          70000,
          10000,
          25403,
          95525,
          130000,
          12400,
          79000,
          70000,
          34000,
          70000,
          40000,
          120000,
          70000,
          43216,
          20000,
          20000,
          22000,
          70000,
          72368,
          51260,
          30000,
          120000,
          110000,
          70000,
          30854,
          82000,
          48077,
          40000,
          80000,
          88000,
          70000,
          47121,
          39000,
          70000,
          80000,
          40000,
          74000,
          62000,
          100000,
          120000,
          100000,
          120000,
          30000,
          53127,
          30000,
          40000,
          25486,
          40000,
          80000,
          62000,
          90000,
          49647,
          78000,
          80000,
          85582,
          40000,
          39886,
          60068,
          49241,
          100000,
          71413,
          31920,
          9939,
          92000,
          67553,
          61659,
          110000,
          38939,
          85110,
          24337,
          104701,
          54000,
          80000,
          57078,
          118207,
          105224,
          20837,
          100000,
          120000,
          64000,
          19205,
          122000,
          70607,
          64487,
          60000,
          50000,
          31500,
          64951,
          50000,
          158000,
          70435,
          84759,
          74538,
          79024,
          144000,
          74754,
          100000,
          52996,
          16105,
          120000,
          15518,
          70500,
          52617,
          92278,
          70000,
          102000,
          55724,
          50000,
          50000,
          150000,
          80375,
          43566,
          94201,
          90000,
          74914,
          101887,
          42217,
          80315,
          40235,
          90000,
          90000,
          39817,
          89956,
          120000,
          110000,
          40022,
          41108,
          38471,
          72393,
          90000,
          120000,
          120000,
          120000,
          41378,
          120000,
          120000,
          53509,
          78911,
          115276,
          85497,
          71220,
          80000,
          114676,
          50000,
          50829,
          55563,
          70000,
          70000,
          46863,
          49374,
          120000,
          61155,
          12045,
          70000,
          49043,
          70666,
          26678,
          35540,
          16727,
          65761,
          67000,
          122100,
          89197,
          20000,
          76438,
          24489,
          63840,
          89997,
          33000,
          120000,
          85871,
          50670,
          41058,
          56367,
          73227,
          80000,
          120000,
          89205,
          100000,
          122117,
          90000,
          110000,
          91603,
          120000,
          80000,
          38607,
          48934,
          31933,
          44363,
          46563,
          107913,
          41832,
          50000,
          39992,
          80000,
          114071,
          66445,
          120000,
          90000,
          64685,
          71003,
          76000,
          47741,
          70000,
          85589,
          72793,
          95255,
          40000,
          73000,
          120000,
          94141,
          37100,
          103211,
          113543,
          120000,
          68000,
          100000,
          110000,
          110000,
          60000,
          110000,
          30973,
          100000,
          56133,
          80000,
          90000,
          87000,
          70000,
          53179,
          35564,
          148914,
          68950,
          40274,
          120000,
          20000,
          93407,
          75932,
          150000,
          114800,
          50000,
          100000,
          40000,
          89224,
          90000,
          59084,
          59730,
          40000,
          50000,
          120000,
          32289,
          109832,
          100000,
          121129,
          40000,
          28467,
          50000,
          104436,
          110000,
          50000,
          70000,
          120000,
          85507,
          75773,
          110000,
          97085,
          53338,
          120000,
          89000,
          100000,
          48471,
          62437,
          90000,
          16903,
          29994,
          26416,
          70000,
          27581,
          90000,
          119000,
          80000,
          100000,
          47844,
          80000,
          90000,
          29200,
          70000,
          83462,
          99105,
          70424,
          79189,
          119106,
          60000,
          143000,
          121617,
          83825,
          50643,
          110243,
          60000,
          110000,
          100000,
          110000,
          78010,
          52052,
          42399,
          75000,
          35226,
          75552,
          120000,
          80000,
          110000,
          90000,
          90000,
          79079,
          23147,
          62015,
          51237,
          80000,
          70895,
          129517,
          90000,
          95178,
          31750,
          60000,
          99750,
          90305,
          52597,
          100000,
          80000,
          40000,
          25596,
          37566,
          60610,
          105000,
          68336,
          150000,
          101883,
          90000,
          80000,
          70000,
          53326,
          45852,
          100000,
          110807,
          120000,
          90566,
          67370,
          32329,
          72812,
          30000,
          60000,
          70000,
          60000,
          30000,
          95916,
          98076,
          49692,
          90000,
          60000,
          64934,
          61609,
          70000,
          80000,
          120000,
          120000,
          65094,
          120000,
          21687,
          50000,
          100000,
          60000,
          30000,
          10000,
          42203,
          100000,
          120000,
          90000,
          70167,
          84542,
          72205,
          101306,
          60000,
          120000,
          90001,
          39264,
          51466,
          99929,
          80000,
          60000,
          58713,
          56346,
          59512,
          120000,
          81342,
          120000,
          29765,
          52704,
          40000,
          51278,
          100000,
          70000,
          10000,
          24978,
          47784,
          120000,
          70000,
          50000,
          40000,
          67993,
          73224,
          150000,
          75199,
          63457,
          70000,
          58547,
          80000,
          94681,
          37421,
          80000,
          95036,
          96632,
          80000,
          70451,
          73838,
          98700,
          97909,
          77945,
          80000,
          110000,
          120000,
          60817,
          55797,
          110000,
          120000,
          80000,
          80000,
          98910,
          80000,
          54515,
          10000,
          10000,
          20000,
          100000,
          20000,
          20000,
          76071,
          110000,
          70000,
          50000,
          120000,
          80000,
          150000,
          91771,
          23000,
          95000,
          85000,
          90000,
          63000,
          40000,
          80000,
          120000,
          90000,
          100000,
          120000,
          40000,
          90000,
          188000,
          110000,
          80000,
          33959,
          65300,
          81000,
          90000,
          100977,
          125000,
          83000,
          56000,
          120000,
          100000,
          40000,
          77561,
          76200,
          110000,
          51046,
          118046,
          125000,
          120000,
          100181,
          80000,
          77000,
          40000,
          90000,
          72602,
          40000,
          76065,
          9909,
          37811,
          120000,
          70000,
          60000,
          120000,
          90000,
          60000,
          70000,
          70000,
          90000,
          100000,
          80000,
          42000,
          30000,
          70000,
          81040,
          31733,
          50000,
          120000,
          56031,
          50889,
          81984,
          70123,
          120000,
          120000,
          90000,
          100000,
          27153,
          90000,
          120000,
          70000,
          120000,
          120000,
          70000,
          70000,
          31608,
          73398,
          100000,
          150000,
          40000,
          30000,
          65000,
          120000,
          40000,
          33236,
          50000,
          54670,
          30000,
          120000,
          57000,
          70000,
          120000,
          80000,
          90000,
          80000,
          120000,
          121243,
          69236,
          90000,
          80000,
          81317,
          60000,
          60000,
          120000,
          110000,
          70000,
          7183,
          85000,
          100000,
          40000,
          99348,
          80000,
          60000,
          70000,
          88069,
          76000,
          92700,
          120000,
          120000,
          100000,
          76164,
          105021,
          90000,
          30000,
          40000,
          120000,
          9862,
          70000,
          16338,
          80000,
          120000,
          59000,
          90000,
          40000,
          120000,
          45979,
          20000,
          120000,
          120000,
          75000,
          74000,
          91200,
          65000,
          84250,
          79412,
          79883,
          83000,
          76977,
          126000,
          114866,
          72602,
          79329,
          86580,
          30751,
          105180,
          94970,
          57000,
          90000,
          68243,
          65733,
          64816,
          71098,
          44777,
          24068,
          96496,
          32802,
          152702,
          57095,
          96294,
          44319,
          65396,
          89000,
          106311,
          89525,
          153007,
          75415,
          110833,
          29336,
          99761,
          80607,
          33055,
          91873,
          107598,
          77074,
          145716,
          96598,
          79331,
          70000,
          50000,
          50000,
          120000,
          120000,
          50000,
          50000,
          150000,
          30000,
          120000,
          60000,
          70000,
          30000,
          120000,
          70000,
          70000,
          80000,
          60000,
          150000,
          80000,
          100000,
          60000,
          10000,
          150000,
          150000,
          120000,
          150000,
          150000,
          60000,
          60000,
          120000,
          60000,
          90000,
          10000,
          90000,
          120000,
          100000,
          120000,
          150000,
          120000,
          20000,
          100000,
          120000,
          40000,
          70000,
          90000,
          120000,
          40000,
          40000,
          70000,
          120000,
          150000,
          60000,
          150000,
          30000,
          150000,
          120000,
          90000,
          90000,
          90000,
          120000,
          90000,
          60000,
          120000,
          100000,
          100000,
          120000,
          150000,
          60000,
          150000,
          90000,
          90000,
          120000,
          150000,
          150000,
          150000,
          150000,
          60000,
          120000,
          50000,
          80000,
          90000,
          100000,
          120000,
          71574,
          50000,
          11476,
          41005,
          35000,
          30000,
          30000,
          44150,
          50000,
          50000,
          65979,
          7940,
          60000,
          47739,
          10717,
          17619,
          50000,
          84771,
          7000,
          50000,
          84989,
          72017,
          70000,
          30000,
          150000,
          65039,
          60000,
          33582,
          60000,
          65000,
          23162,
          7281,
          15000,
          72057,
          44540,
          44000,
          10000,
          34339,
          10000,
          60000,
          48752,
          30000,
          82879,
          19715,
          50000,
          40000,
          70000,
          64787,
          60000,
          41510,
          41565,
          46624,
          42000,
          14000,
          60000,
          22393,
          50000,
          60000,
          51000,
          53657,
          23303,
          30000,
          70000,
          50000,
          30000,
          80000,
          57602,
          52047,
          19675,
          30791,
          19991,
          40000,
          36448,
          50000,
          70000,
          12541,
          10000,
          10000,
          30000,
          10000,
          10000,
          80000,
          70000,
          19437,
          71900,
          10000,
          60840,
          35700,
          6230,
          25990,
          70000,
          38200,
          42000,
          10000,
          44094,
          43000,
          17024,
          35000,
          31244,
          30000,
          29836,
          150000,
          80000,
          80000,
          73000,
          59880,
          41469,
          79955,
          44446,
          118569,
          120000,
          70000,
          30000,
          24092,
          90000,
          90000,
          80000,
          68832,
          70857,
          110000,
          70000,
          100000,
          55000,
          28614,
          28204,
          17776,
          12300,
          10372,
          50247,
          32488,
          73949,
          55920,
          50000,
          48072,
          16100,
          50000,
          50000,
          70000,
          8176,
          13327,
          57167,
          60000,
          19500,
          46980,
          47114,
          50000,
          50000,
          50000,
          41424,
          23829,
          37833,
          72000,
          80000,
          90000,
          90000,
          79783,
          23227,
          20000,
          83124,
          87859,
          150000,
          124206,
          50000,
          50000,
          30000,
          60000,
          45699,
          70000,
          70000,
          80000,
          65180,
          50000,
          45550,
          30000,
          30000,
          86331,
          5700,
          50000,
          70000,
          120000,
          30000,
          66906,
          60000,
          123153,
          40000,
          64846,
          22990,
          15077,
          40000,
          10000,
          37100,
          86947,
          32844,
          25314,
          51620,
          42000,
          30000,
          85735,
          96609,
          51618,
          83508,
          60000,
          80000,
          71156,
          49342,
          76725,
          80000,
          40000,
          57000,
          30000,
          32000,
          46900,
          60000,
          9000,
          60000,
          60000,
          21000,
          150000,
          87893,
          120000,
          30908,
          10000,
          30000,
          40000,
          40000,
          70000,
          20000,
          23000,
          50245,
          71762,
          50000,
          75000,
          14000,
          41754,
          58000,
          40000,
          60000,
          84000,
          30000,
          70000,
          150000,
          120000
         ],
         "xaxis": "x",
         "y": [
          811000,
          521000,
          775000,
          457000,
          4900000,
          220000.00000000003,
          861000,
          1785000.0000000002,
          802999.9999999999,
          1050000,
          405999.99999999994,
          1100000,
          650000,
          1675000,
          530000,
          250000,
          3500000,
          650000,
          220000.00000000003,
          930000.0000000001,
          500000,
          537000,
          468000,
          420000,
          420000,
          751000,
          388000,
          490000.00000000006,
          525000,
          2890000,
          420000,
          5990000,
          725000,
          1675000,
          600000,
          630000,
          2599000,
          276000,
          312000,
          300000,
          3981000,
          1300000,
          3500000,
          1460000,
          650000,
          925000,
          1024000,
          994999.9999999999,
          935000,
          1100000,
          462000,
          900000,
          843000,
          516000,
          777000,
          1226000,
          629000,
          447000,
          786000,
          942000,
          675000,
          330000,
          875000,
          425000,
          1025000,
          420000,
          320000,
          1400000,
          548000,
          1000000,
          1000000,
          535000,
          625000,
          420000,
          630000,
          1275000,
          525000,
          632000,
          6795000,
          999000,
          1026000,
          645000,
          560000,
          425000,
          385000,
          3300000,
          1475000,
          285000,
          475000,
          607000,
          513999.99999999994,
          250000,
          705000,
          564000,
          370000,
          1350000,
          868000,
          550000,
          610000,
          850000,
          661000,
          505000,
          2365000,
          400000,
          1600000,
          795000,
          1275000,
          583000,
          1147000,
          1750000,
          950000,
          424000,
          959000,
          836000,
          3300000,
          729000,
          632000,
          395000,
          1340000,
          818000,
          600000,
          1350000,
          175000,
          390000,
          1975000,
          1644000.0000000002,
          350000,
          351000,
          509999.99999999994,
          2345000,
          675000,
          554000,
          180000,
          765000,
          358000,
          525000,
          617000,
          775000,
          4700000,
          799000,
          1380000,
          994999.9999999999,
          594000,
          575000,
          894999.9999999999,
          445000,
          775000,
          380000,
          515000.00000000006,
          799000,
          1200000,
          1275000,
          3075000,
          625000,
          447000,
          552000,
          795000,
          459000,
          700000,
          894999.9999999999,
          532000,
          651000,
          455000,
          524000,
          360000,
          682000,
          486000.00000000006,
          530000,
          407000,
          1675000,
          1645000,
          1025000,
          494000.00000000006,
          695000,
          360000,
          525000,
          600000,
          2175000,
          750000,
          185000,
          180000,
          1245000,
          546000,
          809000,
          150000,
          543000,
          475000,
          110000.00000000001,
          350000,
          170000,
          1449000,
          377000,
          638000,
          595000,
          450000,
          445000,
          320000,
          165000,
          525000,
          575000,
          1200000,
          425000,
          380000,
          574000,
          425000,
          265000,
          750000,
          615000,
          370000,
          667000,
          579000,
          634000,
          1500000,
          650000,
          965000,
          513000,
          383000,
          935000,
          675000,
          701000,
          476999.99999999994,
          562000,
          670000,
          700000,
          581000,
          508000,
          501000,
          55000,
          631000,
          465000.00000000006,
          704000,
          520000,
          822000.0000000001,
          575000,
          3795000.0000000005,
          260000,
          1006000,
          615000,
          280000,
          900000,
          300000,
          864000,
          800000,
          520000,
          300000,
          630000,
          275000,
          604000,
          140000,
          708000,
          443000,
          520000,
          470000,
          1850000,
          459999.99999999994,
          75000,
          649000,
          657000,
          420000,
          629000,
          322000,
          620000,
          574000,
          70000,
          500000,
          350000,
          1125000,
          830000.0000000001,
          834000,
          547000,
          2295000,
          528000,
          400000,
          552000,
          56000,
          607000,
          56000,
          1650000,
          500000,
          250000,
          858000,
          698000,
          1250000,
          751000,
          535000,
          480000,
          76000,
          380000,
          525000,
          635000,
          400000,
          2800000,
          385000,
          600000,
          365000,
          229999.99999999997,
          930000.0000000001,
          898000,
          2395000,
          335000,
          1290000,
          1025000,
          808000,
          278000,
          270000,
          844999.9999999999,
          508000,
          800000,
          150000,
          315000,
          1050000,
          430000,
          270000,
          400000,
          575000,
          925000,
          475000,
          911000,
          550000,
          450000,
          679000,
          1035000,
          880000.0000000001,
          250000,
          280000,
          150000,
          125000,
          1700000,
          1700000,
          249000.00000000003,
          50000,
          375000,
          819000,
          428000,
          195000,
          825000,
          229999.99999999997,
          75000,
          2000000,
          1013000.0000000001,
          677000,
          1145000,
          463999.99999999994,
          1100000,
          1100000,
          1885000.0000000002,
          501000,
          650000,
          865000,
          383000,
          327000,
          575000,
          660000,
          325000,
          1073000,
          349000,
          509999.99999999994,
          330000,
          2250000,
          110000.00000000001,
          260000,
          245000.00000000003,
          867000,
          650000,
          350000,
          360000,
          381000,
          300000,
          360000,
          360000,
          415000.00000000006,
          900000,
          316000,
          280000,
          400000,
          950000,
          593000,
          459000,
          3775000,
          1625000,
          2198000,
          1175000,
          1195000,
          721000,
          1750000,
          822000.0000000001,
          625000,
          675000,
          655000,
          525000,
          865000,
          338000,
          1299000,
          939000,
          888000.0000000001,
          818000,
          479000,
          526000,
          585000,
          1495000,
          1090000,
          2100000,
          625000,
          533000,
          626000,
          1775000,
          2275000,
          1550000,
          4275000,
          4450000,
          1007000,
          725000,
          650000,
          1395000,
          1423000,
          747000,
          520000,
          919999.9999999999,
          1275000,
          5275000,
          1019999.9999999999,
          350000,
          1775000,
          924000,
          378000,
          395000,
          1450000,
          838000.0000000001,
          875000,
          390000,
          1349000,
          500000,
          4100000,
          745000,
          582000,
          560000,
          535000,
          446000,
          654000,
          475000,
          310000,
          1085000,
          405999.99999999994,
          729000,
          685000,
          730000,
          409999.99999999994,
          1075000,
          849000,
          306000,
          348000,
          417000,
          399000,
          568000,
          638000,
          4700000,
          1648999.9999999998,
          330000,
          425000,
          675000,
          821000.0000000001,
          511000.00000000006,
          375000,
          793000,
          1400000,
          1088000,
          590000,
          400000,
          422000,
          150000,
          448000.00000000006,
          772000,
          500000,
          3750000,
          2150000,
          375000,
          265000,
          813000.0000000001,
          500000,
          509999.99999999994,
          3900000,
          317000,
          1900000,
          525000,
          825000,
          1950000,
          458000,
          577000,
          455999.99999999994,
          501999.99999999994,
          530000,
          395000,
          521000,
          528000,
          270000,
          425000,
          528000,
          625000,
          327000,
          640000,
          271000,
          940000,
          585000,
          1445000,
          411000.00000000006,
          513999.99999999994,
          855000.0000000001,
          309000,
          400000,
          200000,
          437000,
          982000,
          1350000,
          507000,
          322000,
          235000,
          437000,
          501999.99999999994,
          222000.00000000003,
          529000,
          210000,
          587000,
          650000,
          600000,
          627000,
          658000,
          500000,
          567000,
          1703000,
          635000,
          300000,
          390000,
          465000.00000000006,
          950000,
          2150000,
          594000,
          544000,
          748000,
          4200000,
          539000,
          538000,
          210000,
          413000,
          300000,
          725000,
          508000,
          851000,
          560000,
          830000.0000000001,
          527000,
          390000,
          558000,
          650000,
          450000,
          660000,
          361000,
          619000,
          550000,
          602000,
          1050000,
          546000,
          645000,
          250000,
          449000,
          455000,
          705000,
          621000,
          1400000,
          1200000,
          524000,
          727000,
          307000,
          529000,
          624000,
          495000,
          582000,
          551000,
          396000,
          49000,
          692000,
          125000,
          520000,
          575000,
          300000,
          1300000,
          3475000,
          570000,
          665000,
          539000,
          2150000,
          719000,
          861000,
          265000,
          113999.99999999999,
          569000,
          451999.99999999994,
          320000,
          320000,
          505000,
          315000,
          850000,
          842000,
          1166000,
          600000,
          1500000,
          985000,
          505000,
          1734000,
          420000,
          780000,
          474000,
          519000.00000000006,
          525000,
          1209000,
          656000,
          295000,
          1500000,
          392000,
          1023000,
          488000,
          660000,
          220000.00000000003,
          396000,
          3750000,
          523000.00000000006,
          500000,
          564000,
          409999.99999999994,
          573000,
          558000,
          684000,
          290000,
          320000,
          1025000,
          245000.00000000003,
          608000,
          698000,
          1027000,
          375000,
          450000,
          994999.9999999999,
          1000000,
          1350000,
          420000,
          409999.99999999994,
          730000,
          357000,
          1125000,
          500000,
          550000,
          87000,
          210000,
          580000,
          516000,
          825000,
          799000,
          334000,
          950000,
          650000,
          515000.00000000006,
          750000,
          1184000,
          400000,
          326000,
          432000,
          229999.99999999997,
          547000,
          692000,
          680000,
          340000,
          183000,
          403000,
          726000,
          382000,
          195000,
          520000,
          782000,
          611000,
          1700000,
          550000,
          200000,
          1300000,
          678000,
          310000,
          695000,
          420000,
          2000000,
          568000,
          400000,
          300000,
          346000,
          450000,
          744000,
          419000.00000000006,
          320000,
          200000,
          1025000,
          409999.99999999994,
          607000,
          450000,
          1500000,
          175000,
          550000,
          480000,
          1069000,
          1900000,
          330000,
          700000,
          415000.00000000006,
          543000,
          557000,
          441000,
          149000,
          375000,
          400000,
          287000,
          430999.99999999994,
          100000,
          195000,
          680000,
          772000,
          3500000,
          210000,
          702000,
          357000,
          700000,
          641000,
          339000,
          2650000,
          1650000,
          550000,
          925000,
          1025000,
          600000,
          1040000,
          475000,
          714000,
          805000.0000000001,
          475000,
          495000,
          345000,
          244000,
          549000,
          375000,
          288000,
          906000,
          3300000,
          686000,
          1350000,
          574000,
          593000,
          844999.9999999999,
          300000,
          513000,
          238000,
          540000,
          1480000,
          365000,
          437000,
          260000,
          1475000,
          1975000,
          710000,
          288000,
          222000.00000000003,
          380000,
          350000,
          2480000,
          393000,
          1390000,
          2425000,
          2350000,
          316000,
          250999.99999999997,
          3200000,
          1220000,
          2400000,
          275000,
          540000,
          430000,
          2650000,
          762000,
          523000.00000000006,
          850000,
          421000,
          359000,
          399000,
          7125000,
          458000,
          517000,
          286000,
          114999.99999999999,
          295000,
          595000,
          425000,
          330000,
          900000,
          240000,
          240000,
          140000,
          170000,
          600000,
          420000,
          322000,
          180000,
          472000,
          445000,
          631000,
          549000,
          890000,
          1651000.0000000002,
          625000,
          216000,
          3450000,
          2775000,
          880000.0000000001,
          1290000,
          380000,
          621000,
          990000,
          229999.99999999997,
          290000,
          7200000,
          295000,
          1650000,
          1016000,
          1195000,
          736000,
          1751000.0000000002,
          950000,
          1120000,
          727000,
          6500000,
          5200000,
          3645000.0000000005,
          7600000,
          2000000,
          5100000,
          944000,
          3800000,
          5650000,
          3600000,
          719000,
          3995000.0000000005,
          2600000,
          665000,
          1950000,
          726000,
          688000,
          365000,
          528000,
          1898999.9999999998,
          525000,
          170000,
          130000,
          85000,
          501999.99999999994,
          524000,
          315000,
          1120000,
          750000,
          5260000,
          2475000,
          450000,
          403000,
          2300000,
          260000,
          275000,
          250000,
          7500000,
          1200000,
          4450000,
          140000,
          715000,
          1075000,
          1650000,
          150000,
          2190000,
          5550000,
          60000,
          1975000,
          249000.00000000003,
          3685000,
          1300000,
          2550000,
          475000,
          738000,
          1850000,
          1550000,
          4950000,
          503000,
          925000,
          600000,
          2650000,
          8765000,
          5175000,
          80000,
          450000,
          235000,
          1075000,
          975000,
          1403000,
          231000,
          805000.0000000001,
          441000,
          2890000,
          713000,
          366000,
          4950000,
          3875000,
          761000,
          462000,
          2650000,
          509000,
          700000,
          344000,
          340000,
          675000,
          4375000,
          294000,
          801000,
          800000,
          1125000,
          610000,
          415000.00000000006,
          902999.9999999999,
          1099000,
          449000,
          178000,
          925000,
          570000,
          530000,
          465000.00000000006,
          275000,
          593000,
          1050000,
          567000,
          501000,
          1500000,
          310000,
          451999.99999999994,
          404000,
          413000,
          650000,
          515000.00000000006,
          942000,
          900000,
          1250000,
          150000,
          3200000,
          480999.99999999994,
          491000,
          509999.99999999994,
          445000,
          204999.99999999997,
          240000,
          423000.00000000006,
          800000,
          433000,
          284000,
          480000,
          550000,
          355000,
          325000,
          567000,
          200000,
          350000,
          500000,
          543000,
          594000,
          5500000,
          790000,
          513000,
          584000,
          4600000,
          330000,
          420000,
          200000,
          350000,
          1449000,
          736000,
          693000,
          3100000,
          285000,
          300000,
          185000,
          375000,
          650000,
          204999.99999999997,
          529000,
          390000,
          1600000,
          325000,
          852999.9999999999,
          861000,
          275000,
          190000,
          501000,
          600000,
          690000,
          296000,
          303000,
          264000,
          400000,
          1000000,
          1290000,
          440000.00000000006,
          1200000,
          200000,
          700000,
          130000,
          310000,
          150000,
          690000,
          550000,
          130000,
          528000,
          178000,
          556000,
          89999,
          333000,
          950000,
          1000000,
          650000,
          1430000,
          415000.00000000006,
          95000,
          398000,
          925000,
          925000,
          2000000,
          409999.99999999994,
          433000,
          607000,
          310000,
          1500000,
          1500000,
          345000,
          779000,
          235000,
          326000,
          5300000,
          790000,
          975000,
          509999.99999999994,
          554000,
          484999.99999999994,
          2250000,
          425000,
          415000.00000000006,
          165000,
          3550000,
          560000,
          100000,
          4750000,
          210000,
          80000,
          432000,
          570000,
          250000,
          336000,
          3800000,
          100000,
          275000,
          350000,
          1556000,
          325000,
          100000,
          260000,
          350000,
          766000,
          605000,
          712000,
          3000000,
          533000,
          487000,
          526000,
          725000,
          501000,
          830000.0000000001,
          600000,
          736000,
          270000,
          515000.00000000006,
          609000,
          1000000,
          700000,
          334000,
          734000,
          570000,
          551000,
          280000,
          800000,
          200000,
          401999.99999999994,
          667000,
          443000,
          550000,
          1450000,
          3800000,
          1199000,
          1008000,
          260000,
          1450000,
          272000,
          522000,
          623000,
          298000,
          500000,
          300000,
          400000,
          314000,
          556000,
          400000,
          771000,
          1775000,
          615000,
          318000,
          185000,
          800000,
          570000,
          509999.99999999994,
          260000,
          409999.99999999994,
          434000,
          498000.00000000006,
          533000,
          380000,
          509000,
          516000,
          312000,
          434000,
          496000,
          550000,
          250000,
          496000,
          523000.00000000006,
          340000,
          950000,
          900000,
          814000,
          527000,
          329000,
          185000,
          450000,
          445000,
          1175000,
          436000.00000000006,
          250000,
          750000,
          997000.0000000001,
          572000,
          775000,
          227000,
          803999.9999999999,
          245000.00000000003,
          588000,
          280000,
          270000,
          602000,
          675000,
          350000,
          267000,
          369000,
          360000,
          585000,
          723000,
          1700000,
          312000,
          492000,
          493000,
          709000,
          894999.9999999999,
          306000,
          600000,
          1385000,
          426000,
          1850000,
          416000,
          1025000,
          649000,
          622000,
          395000,
          400000,
          574000,
          369000,
          508000,
          399000,
          458000,
          200000,
          390000,
          517000,
          420000,
          421000,
          290000,
          350000,
          256999.99999999997,
          750000,
          1000000,
          513999.99999999994,
          772000,
          254000,
          372000,
          366000,
          328000,
          299000,
          220000.00000000003,
          334000,
          150000,
          389000,
          347000,
          350000,
          320000,
          488999.99999999994,
          331000,
          409999.99999999994,
          535000,
          229999.99999999997,
          426000,
          616000,
          428000,
          825000,
          400000,
          560000,
          455999.99999999994,
          975000,
          289000,
          290000,
          425000,
          1195000,
          390000,
          650000,
          250000,
          700000,
          950000,
          750000,
          330000,
          214000,
          600000,
          555000,
          449000,
          640000,
          263000,
          478000,
          194000,
          724000,
          459000,
          294000,
          1850000,
          470000,
          320000,
          480000,
          160000,
          160000,
          300000,
          825000,
          561000,
          1200000,
          411000.00000000006,
          309000,
          1800000,
          1300000,
          680000,
          667000,
          463999.99999999994,
          390000,
          801000,
          560000,
          472000,
          320000,
          496000,
          950000,
          600000,
          620000,
          975000,
          409999.99999999994,
          372000,
          420000,
          405999.99999999994,
          193000,
          400000,
          556000,
          100000,
          233000,
          221000,
          340000,
          333000,
          329000,
          806000,
          775000,
          655000,
          220000.00000000003,
          950000,
          2650000,
          263000,
          507000,
          1050000,
          2600000,
          529000,
          1000000,
          268000,
          691000,
          653000,
          537000,
          471000,
          340000,
          400000,
          368000,
          556000,
          961000,
          793000,
          350000,
          450000,
          270000,
          450000,
          250999.99999999997,
          279000,
          465000.00000000006,
          475000,
          817000,
          330000,
          117000,
          285000,
          100000,
          185000,
          650000,
          400000,
          1400000,
          545000,
          426999.99999999994,
          650000,
          443000,
          500000,
          400000,
          273000,
          746000,
          465000.00000000006,
          50000,
          744000,
          408000,
          500000,
          960000,
          660000,
          991000,
          622000,
          238000,
          475000,
          289000,
          380000,
          617000,
          425000,
          195000,
          240000,
          617000,
          318000,
          680000,
          376000,
          80000,
          195000,
          1033000,
          287000,
          969000,
          700000,
          700000,
          200000,
          600000,
          875000,
          244000,
          300000,
          259000,
          150000,
          6300000,
          191000,
          324000,
          790000,
          260000,
          100000,
          250000,
          273000,
          250000,
          702000,
          350000,
          155000,
          180000,
          890000,
          640000,
          290000,
          1800000,
          95000,
          350000,
          688000,
          376000,
          425000,
          584000,
          220000.00000000003,
          180000,
          381000,
          532000,
          977999.9999999999,
          315000,
          229999.99999999997,
          260000,
          442000,
          588000,
          704000,
          409999.99999999994,
          583000,
          150000,
          646000,
          586000,
          1250000,
          504000,
          90000,
          1030000.0000000001,
          700000,
          495000,
          397000,
          250000,
          310000,
          650000,
          750000,
          363000,
          729000,
          1600000,
          773000,
          552000,
          1050000,
          341000,
          3600000,
          367000,
          522000,
          250000,
          425000,
          260000,
          250000,
          821000.0000000001,
          568000,
          555000,
          559000,
          412000,
          70000,
          70000,
          170000,
          451000,
          668000,
          195000,
          160000,
          70000,
          950000,
          382000,
          950000,
          382000,
          860000,
          325000,
          120000,
          200000,
          400000,
          400000,
          550000,
          270000,
          650000,
          850000,
          509999.99999999994,
          320000,
          150000,
          488999.99999999994,
          685000,
          699000,
          1300000,
          2250000,
          375000,
          60000,
          170000,
          550000,
          550000,
          210000,
          570000,
          1200000,
          721000,
          650000,
          250000,
          175000,
          401000,
          475000,
          525000,
          150000,
          496000,
          950000,
          470000,
          600000,
          360000,
          142000,
          1200000,
          742000,
          969999.9999999999,
          400000,
          798000,
          528000,
          835000,
          635000,
          1200000,
          600000,
          610000,
          320000,
          1010000,
          695000,
          710000,
          723000,
          790000,
          795000,
          610000,
          650000,
          600000,
          850000,
          270000,
          900000,
          680000,
          680000,
          550000,
          270000,
          1025000,
          265000,
          160000,
          450000,
          446000,
          409000,
          600000,
          600000,
          1195000,
          701000,
          475000,
          290000,
          425000,
          320000,
          500000,
          434999.99999999994,
          455000,
          500000,
          815000,
          1400000,
          330000,
          300000,
          445000,
          650000,
          298000,
          544000,
          425000,
          244000,
          1450000,
          370000,
          290000,
          285000,
          590000,
          753000,
          425000,
          580000,
          530000,
          300000,
          625000,
          160000,
          390000,
          950000,
          2075000,
          350000,
          330000,
          347000,
          586000,
          900000,
          2300000,
          3200000,
          254999.99999999997,
          650000,
          150000,
          900000,
          975000,
          801000,
          350000,
          1600000,
          110000.00000000001,
          341000,
          300000,
          150000,
          1450000,
          859000,
          550000,
          1250000,
          339000,
          295000,
          200000,
          322000,
          473000.00000000006,
          600000,
          1370000,
          650000,
          50000,
          745000,
          145000,
          430000,
          140000,
          190000,
          450000,
          200000,
          245000.00000000003,
          600000,
          243000.00000000003,
          725000,
          459999.99999999994,
          450000,
          550000,
          480000,
          450000,
          590000,
          670000,
          1425000,
          189000,
          2350000,
          623000,
          2450000,
          93982,
          695000,
          2325000,
          1300000,
          330000,
          60000,
          142000,
          345000,
          590000,
          300000,
          117000,
          73000,
          426000,
          110000.00000000001,
          440000.00000000006,
          400000,
          400000,
          450000,
          220000.00000000003,
          500000,
          376000,
          422000,
          975000,
          244000,
          509999.99999999994,
          400000,
          94723,
          70000,
          417000,
          211000,
          442000,
          508000,
          400000,
          381000,
          500000,
          300000,
          69000,
          3675000,
          110000.00000000001,
          55000,
          100000,
          150000,
          150000,
          350000,
          600000,
          190000,
          15000000,
          150000,
          430000,
          225000,
          175000,
          600000,
          125000,
          90000,
          50000,
          125000,
          250000,
          45000,
          170000,
          150000,
          1100000,
          100000,
          125000,
          225000,
          380000,
          90000,
          590000,
          590000,
          250000,
          500000,
          161000,
          1000000,
          725000,
          100000,
          750000,
          305000,
          400000,
          229999.99999999997,
          725000,
          425000,
          300000,
          250000,
          380000,
          200000,
          300000,
          250000,
          300000,
          200000,
          350000,
          100000,
          350000,
          280000,
          800000,
          100000,
          220000.00000000003,
          350000,
          450000,
          450000,
          225000,
          730000,
          610000,
          400000,
          200000,
          340000,
          420000,
          500000,
          500000,
          150000,
          250000,
          200000,
          180000,
          225000,
          225000,
          350000,
          200000,
          520000,
          450000,
          800000,
          160000,
          220000.00000000003,
          150000,
          200000,
          223000,
          1200000,
          596000,
          221000,
          225000,
          5990000,
          5990000,
          612000,
          200000,
          375000,
          362000,
          389000,
          185000,
          412000,
          375000,
          443000,
          450000,
          330000,
          595000,
          175000,
          314000,
          269000,
          150000,
          245000.00000000003,
          720000,
          301000,
          40000,
          7900000,
          180000,
          229999.99999999997,
          141000,
          641000,
          186000,
          875000,
          450000,
          320000,
          950000,
          1124000,
          950000,
          235000,
          620000,
          220000.00000000003,
          260000,
          384000,
          500000,
          360000,
          220000.00000000003,
          372000,
          470000,
          2199000,
          338000,
          198000,
          214000,
          185000,
          200000,
          210000,
          250000,
          165000,
          361000,
          415000.00000000006,
          930000.0000000001,
          1499000,
          850000,
          1019999.9999999999,
          320000,
          595000,
          213000,
          3150000,
          426000,
          323000,
          454000,
          98000,
          299000,
          180000,
          840000,
          179000,
          650000,
          650000,
          250000,
          821000.0000000001,
          950000,
          700000,
          280000,
          559000,
          192000,
          600000,
          956000,
          1675000,
          479000,
          2400000,
          450000,
          4495000,
          149000,
          1600000,
          302000,
          385000,
          272000,
          450000,
          565000,
          170000,
          575000,
          492000,
          280000,
          950000,
          1299000,
          415000.00000000006,
          309000,
          890000,
          279000,
          463999.99999999994,
          140000,
          120000,
          1499000,
          683000,
          500000,
          300000,
          560000,
          436000.00000000006,
          1032000,
          140000,
          340000,
          250000,
          799000,
          210000,
          3500000,
          598000,
          5950000,
          1300000,
          5400000,
          690000,
          219000,
          338000,
          229999.99999999997,
          220000.00000000003,
          3050000,
          120000,
          140000,
          250000,
          822000.0000000001,
          681000,
          735000,
          130000,
          4700000,
          494000.00000000006,
          235000,
          438999.99999999994,
          438999.99999999994,
          200000,
          225000,
          378000,
          509999.99999999994,
          969999.9999999999,
          300000,
          290000,
          350000,
          376000,
          690000,
          5000000,
          208000,
          279000,
          75000,
          347000,
          48000,
          125000,
          400000,
          254999.99999999997,
          601000,
          120000,
          210000,
          525000,
          598000,
          276000,
          248000,
          290000,
          250000,
          1100000,
          5799000,
          170000,
          120000,
          850000,
          280000,
          292000,
          140000,
          2700000,
          300000,
          2000000,
          915000,
          2749000,
          1600000,
          5300000,
          254999.99999999997,
          1000000,
          591000,
          810000,
          3400000,
          525000,
          120000,
          413000,
          140000,
          429000,
          1111000,
          265000,
          700000,
          163000,
          157000,
          177000,
          100000,
          254999.99999999997,
          185000,
          850000,
          370000,
          1695000,
          850000,
          1065000,
          80000,
          300000,
          899000,
          200000,
          629000,
          65000,
          1300000,
          590000,
          28000,
          265000,
          265000,
          1000000,
          190000,
          475000,
          900000,
          335000,
          950000,
          199000,
          1190000,
          395000,
          175000,
          35000,
          160000,
          150000,
          229999.99999999997,
          300000,
          180000,
          500000
         ],
         "yaxis": "y"
        },
        {
         "hovertemplate": "owner=1st Owner<br>km=%{x}<br>price=%{y}<extra></extra>",
         "legendgroup": "1st Owner",
         "marker": {
          "color": "#00cc96",
          "symbol": "circle"
         },
         "mode": "markers",
         "name": "1st Owner",
         "showlegend": true,
         "type": "scattergl",
         "x": [
          11949,
          17794,
          60000,
          20000,
          37772,
          30000,
          37000,
          11949,
          50000,
          24887,
          23000,
          48928,
          80000,
          16000,
          10000,
          18083,
          30000,
          110000,
          23447,
          33000,
          31344,
          50000,
          12434,
          12000,
          18157,
          89667,
          120000,
          56997,
          120000,
          59000,
          18835,
          40000,
          60932,
          400,
          44285,
          25000,
          36735,
          79000,
          10000,
          53645,
          53982,
          110000,
          17367,
          94000,
          33700,
          110000,
          40525,
          100000,
          70000,
          79000,
          10000,
          49873,
          23017,
          62139,
          74000,
          81716,
          10000,
          18000,
          38197,
          50000,
          10000,
          19000,
          14000,
          29268,
          20000,
          30000,
          64374,
          30000,
          7100,
          43679,
          40000,
          40562,
          20000,
          58600,
          20000,
          42050,
          65017,
          30000,
          20000,
          36349,
          52204,
          89000,
          30000,
          13345,
          17100,
          75000,
          47000,
          36500,
          28253,
          50000,
          52571,
          61993,
          57000,
          36359,
          7500,
          30301,
          66000,
          56010,
          47000,
          83829,
          10000,
          36916,
          90000,
          112795,
          11000,
          4000,
          32279,
          59698,
          46071,
          90000,
          9554,
          14000,
          9001,
          23682,
          50000,
          34000,
          81634,
          17624,
          30000,
          110000,
          50000,
          50000,
          55702,
          45046,
          94695,
          22162,
          115331,
          20941,
          46602,
          90000,
          50035,
          80000,
          120000,
          25170,
          25022,
          26367,
          93725,
          43469,
          100000,
          72000,
          77000,
          87101,
          28000,
          26000,
          76032,
          113780,
          24000,
          10000,
          39959,
          10000,
          49174,
          20000,
          50000,
          30000,
          80000,
          20000,
          70000,
          90000,
          40000,
          63797,
          38153,
          76485,
          40623,
          88051,
          16522,
          50000,
          10000,
          110000,
          10000,
          120000,
          35469,
          69310,
          55643,
          68656,
          40000,
          40000,
          48325,
          30000,
          69000,
          110000,
          60000,
          20000,
          14999,
          90000,
          70235,
          30000,
          78782,
          150000,
          36887,
          47962,
          135000,
          100000,
          55000,
          116624,
          65072,
          133532,
          39886,
          80000,
          54000,
          98500,
          72348,
          70000,
          62696,
          65000,
          36000,
          71905,
          44000,
          95678,
          12003,
          20000,
          64655,
          46456,
          20000,
          50000,
          20000,
          27000,
          10000,
          40000,
          40000,
          57521,
          100000,
          7598,
          38520,
          20000,
          26901,
          65376,
          10000,
          30000,
          27000,
          20000,
          82998,
          14500,
          25887,
          74094,
          40000,
          91045,
          80033,
          13957,
          20056,
          100000,
          44000,
          30000,
          50000,
          98000,
          47000,
          70000,
          16998,
          15256,
          70000,
          4495,
          34561,
          142135,
          120000,
          9553,
          7600,
          120000,
          20000,
          45578,
          100000,
          42000,
          70000,
          16306,
          54845,
          35642,
          22173,
          50000,
          67790,
          38000,
          10002,
          46706,
          106000,
          55833,
          54000,
          134000,
          20000,
          52311,
          59514,
          10000,
          36743,
          83046,
          10000,
          4545,
          70404,
          39725,
          10000,
          10000,
          10000,
          23272,
          8407,
          50000,
          10000,
          14881,
          54305,
          64998,
          75940,
          25639,
          44107,
          41594,
          56000,
          90000,
          36000,
          19065,
          30538,
          26676,
          35647,
          63825,
          88203,
          37370,
          52228,
          70000,
          40542,
          47936,
          20469,
          60000,
          90727,
          100000,
          31003,
          24233,
          36983,
          68915,
          5440,
          8096,
          120000,
          30722,
          80000,
          58778,
          51395,
          53125,
          36462,
          97542,
          89000,
          41000,
          94471,
          58000,
          46000,
          10000,
          36531,
          50000,
          10000,
          31983,
          78536,
          20000,
          10000,
          25508,
          30000,
          20000,
          20000,
          50000,
          36000,
          40000,
          19047,
          50000,
          64453,
          43387,
          36538,
          30000,
          53701,
          30000,
          33000,
          30813,
          56254,
          58000,
          20000,
          150,
          21113,
          71775,
          59882,
          72352,
          90928,
          117530,
          102814,
          20000,
          34801,
          10000,
          30000,
          50318,
          46123,
          33360,
          21800,
          10000,
          10000,
          11045,
          51406,
          70000,
          26031,
          30740,
          20000,
          65909,
          140590,
          51801,
          80000,
          62621,
          79068,
          50000,
          10000,
          20000,
          67000,
          30000,
          21236,
          56814,
          90000,
          63206,
          70000,
          97346,
          85700,
          50000,
          50000,
          68000,
          61978,
          27658,
          26000,
          67633,
          76794,
          120000,
          59577,
          20000,
          80000,
          94932,
          75140,
          88000,
          73969,
          62598,
          72338,
          50000,
          25887,
          40000,
          50000,
          10000,
          20000,
          83873,
          45681,
          40000,
          60942,
          70000,
          19875,
          20000,
          20000,
          50000,
          30000,
          14949,
          77995,
          20000,
          40908,
          40000,
          63411,
          30000,
          93975,
          30000,
          18570,
          48246,
          10000,
          61263,
          100000,
          26158,
          35250,
          65965,
          80000,
          56661,
          20739,
          70000,
          10000,
          10000,
          70000,
          47038,
          40769,
          34757,
          120000,
          57176,
          55000,
          52000,
          63251,
          20000,
          40000,
          20000,
          67444,
          60777,
          66000,
          96198,
          48148,
          120000,
          30000,
          67245,
          20000,
          102407,
          53606,
          90000,
          40000,
          34702,
          42762,
          30000,
          20000,
          28000,
          40000,
          10000,
          60000,
          57459,
          70381,
          80648,
          40000,
          90802,
          40000,
          16502,
          31530,
          71086,
          50000,
          18000,
          69210,
          10000,
          67225,
          16247,
          112521,
          20000,
          20000,
          50000,
          69124,
          73340,
          10000,
          60000,
          30000,
          50000,
          37354,
          89801,
          26918,
          29905,
          66463,
          40844,
          62696,
          30000,
          44000,
          120000,
          40000,
          10000,
          80000,
          79415,
          88411,
          106516,
          120000,
          44437,
          77000,
          30000,
          80000,
          45621,
          91660,
          33222,
          47333,
          20000,
          46000,
          68000,
          80000,
          80000,
          20000,
          43791,
          87660,
          30000,
          88556,
          48743,
          70000,
          120000,
          20000,
          20000,
          51338,
          97334,
          20000,
          23920,
          65000,
          54097,
          27655,
          14955,
          10000,
          50000,
          10000,
          30000,
          30000,
          39139,
          20000,
          80000,
          25000,
          90000,
          90000,
          10000,
          110000,
          10000,
          34990,
          33210,
          22280,
          21193,
          7150,
          13262,
          90000,
          21000,
          38000,
          61902,
          38396,
          7561,
          30000,
          6731,
          20000,
          55567,
          80000,
          10000,
          10000,
          71545,
          60000,
          60000,
          56577,
          10000,
          40344,
          10000,
          10000,
          74982,
          21925,
          120000,
          20000,
          50000,
          10000,
          61000,
          50000,
          50406,
          26483,
          12104,
          23721,
          80000,
          8212,
          9358,
          62011,
          50000,
          100000,
          10000,
          38771,
          42174,
          120000,
          43199,
          20000,
          50704,
          34725,
          30000,
          60000,
          60000,
          57709,
          20000,
          90000,
          120000,
          21226,
          10346,
          16679,
          40000,
          90000,
          20000,
          120000,
          10000,
          120000,
          50000,
          15017,
          75283,
          14516,
          53627,
          20000,
          50666,
          16962,
          10000,
          10000,
          70446,
          7132,
          30000,
          21280,
          82021,
          18998,
          56189,
          120000,
          27937,
          20000,
          20000,
          24000,
          35800,
          11453,
          35410,
          50000,
          49948,
          48285,
          19062,
          10000,
          87000,
          80000,
          30000,
          56276,
          27103,
          46507,
          30000,
          39070,
          120000,
          22438,
          28737,
          20000,
          30000,
          80000,
          70000,
          50000,
          138175,
          55609,
          56410,
          30000,
          77593,
          49538,
          80000,
          120000,
          30000,
          30000,
          100000,
          60020,
          120000,
          32148,
          69565,
          60000,
          26007,
          44385,
          30000,
          102662,
          13802,
          42000,
          56226,
          8733,
          57963,
          19508,
          49423,
          18025,
          68220,
          6000,
          59889,
          38500,
          162000,
          58666,
          54137,
          21997,
          80390,
          52721,
          55127,
          16883,
          88000,
          34000,
          110000,
          55398,
          25829,
          36913,
          34000,
          44326,
          57770,
          66977,
          29916,
          10066,
          69408,
          74000,
          18000,
          59000,
          17190,
          58323,
          40765,
          42976,
          104507,
          44074,
          21000,
          14089,
          71000,
          174000,
          59000,
          25883,
          32746,
          35038,
          61102,
          52288,
          69054,
          67000,
          22000,
          24357,
          9982,
          22000,
          27000,
          19000,
          49000,
          39613,
          33000,
          71423,
          17811,
          79000,
          9724,
          75000,
          20754,
          35000,
          48979,
          9000,
          1500,
          8187,
          21000,
          60386,
          48928,
          111374,
          40561,
          92529,
          42000,
          55342,
          51000,
          36468,
          11250,
          36000,
          36368,
          39466,
          49570,
          42954,
          68306,
          54961,
          91087,
          16691,
          80190,
          54639,
          50225,
          68017,
          87912,
          2045,
          24305,
          2500,
          31489,
          73834,
          41436,
          73000,
          29289,
          39116,
          41958,
          26626,
          63460,
          35711,
          20057,
          25396,
          88000,
          62000,
          35993,
          34000,
          51338,
          74280,
          82000,
          63773,
          75591,
          72208,
          51489,
          74643,
          79575,
          54097,
          70314,
          20183,
          77130,
          45000,
          105153,
          70509,
          36176,
          89837,
          27027,
          56363,
          114912,
          33649,
          54000,
          49001,
          57367,
          23237,
          66596,
          36613,
          74104,
          6777,
          14560,
          27000,
          50114,
          69301,
          71306,
          35135,
          40561,
          90000,
          30000,
          102000,
          34376,
          36540,
          37000,
          6000,
          61000,
          49641,
          45677,
          81849,
          38100,
          65015,
          62029,
          94926,
          119487,
          126000,
          70332,
          37950,
          38100,
          93003,
          20000,
          20687,
          30000,
          59247,
          50000,
          20000,
          29403,
          42700,
          23001,
          20000,
          17711,
          50000,
          50000,
          69233,
          65000,
          93281,
          18000,
          30000,
          30602,
          64500,
          20000,
          20000,
          21725,
          80000,
          16246,
          13000,
          46105,
          60000,
          80000,
          58000,
          61764,
          150000,
          17197,
          21023,
          43000,
          110505,
          78892,
          59000,
          90058,
          69000,
          67000,
          80000,
          80000,
          57000,
          800000,
          5500000,
          27000,
          38334,
          36992,
          34596,
          84564,
          23462,
          13000,
          54658,
          34164,
          10000,
          37000,
          20000,
          53967,
          52700,
          60000,
          53967,
          48220,
          72024,
          80000,
          78735,
          40000,
          14037,
          29000,
          69864,
          35739,
          18000,
          21000,
          70404,
          63000,
          65000,
          71423,
          80000,
          85759,
          24422,
          72787,
          90142,
          150000,
          33256,
          70027,
          73686,
          75581,
          58000,
          100000,
          108902,
          100425,
          45000,
          45416,
          119468,
          119975,
          19000,
          45067,
          68000,
          65768,
          23000,
          17000,
          102958,
          62900,
          75876,
          98911,
          45000,
          76089,
          24000,
          96573,
          30000,
          14411,
          11000,
          21000,
          34392,
          20000,
          10000,
          20000,
          47000,
          81058,
          69731,
          31767,
          66656,
          27000,
          37004,
          42000,
          20000,
          30000,
          25000,
          20000,
          20000,
          20000,
          65607,
          70000,
          74777,
          90210,
          62373,
          80000,
          52000,
          14000,
          48574,
          71423,
          30000,
          75498,
          95963,
          46613,
          30000,
          18722,
          5593,
          40000,
          20875,
          127672,
          12814,
          26000,
          45851,
          36349,
          35000,
          17059,
          37000,
          20000,
          47000,
          112711,
          53000,
          15625,
          107595,
          23838,
          28975,
          30742,
          10363,
          100000,
          75555,
          120000,
          143185,
          115434,
          43000,
          63309,
          150000,
          53000,
          39386,
          42000,
          29257,
          61829,
          83901,
          33295,
          33610,
          95600,
          20960,
          66000,
          54024,
          20027,
          44000,
          58000,
          67905,
          62604,
          120000,
          105781,
          68724,
          67000,
          106075,
          6023,
          105000,
          7811,
          34965,
          30000,
          26000,
          25000,
          35000,
          57000,
          49000,
          30000,
          53250,
          8848,
          3000,
          34628,
          8579,
          17000,
          40021,
          52000,
          30772,
          74008,
          31000,
          20000,
          31137,
          90000,
          77000,
          16000,
          23000,
          9000,
          28733,
          61828,
          60431,
          53269,
          38000,
          54024,
          89329,
          17000,
          83887,
          150000,
          39000,
          23000,
          80000,
          34000,
          29973,
          30000,
          26235,
          83294,
          102696,
          81829,
          50000,
          36000,
          45007,
          49617,
          57782,
          38000,
          65707,
          89488,
          31679,
          68178,
          8963,
          80281,
          50580,
          21000,
          55000,
          58000,
          65224,
          120000,
          42001,
          30316,
          40000,
          100526,
          17273,
          107737,
          63697,
          45224,
          96861,
          134000,
          20000,
          14118,
          1200,
          10000,
          50000,
          30000,
          29000,
          1000,
          87780,
          118921,
          20000,
          38514,
          40000,
          9000,
          50000,
          40000,
          32947,
          9000,
          25000,
          10000,
          8413,
          34460,
          33886,
          60000,
          48979,
          42000,
          106165,
          91261,
          36711,
          9000,
          49791,
          40000,
          60000,
          60000,
          70000,
          90811,
          57464,
          95072,
          51789,
          60000,
          36460,
          103249,
          45568,
          130000,
          60000,
          100521,
          42709,
          100000,
          30000,
          70000,
          104279,
          73321,
          50000,
          34279,
          69617,
          47429,
          67000,
          80000,
          27000,
          33379,
          80000,
          90000,
          50197,
          55415,
          52000,
          48579,
          113231,
          40629,
          81532,
          108818,
          35419,
          12000,
          70001,
          61331,
          51438,
          67988,
          114883,
          88584,
          70000,
          70000,
          27524,
          75471,
          8000,
          13200,
          20000,
          20000,
          60730,
          20000,
          45673,
          26000,
          51878,
          56747,
          38000,
          19593,
          84429,
          27599,
          76898,
          32199,
          85607,
          30000,
          80000,
          1200000,
          45429,
          9000,
          31000,
          81488,
          94439,
          20000,
          86215,
          47125,
          4453,
          9991,
          4564,
          108713,
          13000,
          49000,
          86694,
          30000,
          4605,
          49218,
          45568,
          36035,
          45242,
          52979,
          19595,
          23183,
          15000,
          67558,
          40000,
          55664,
          55664,
          109324,
          118008,
          72000,
          86630,
          82476,
          21609,
          89609,
          31513,
          45939,
          40531,
          17663,
          49000,
          60000,
          35000,
          54000,
          110000,
          80000,
          72020,
          98000,
          4259,
          12925,
          27000,
          13126,
          57000,
          40000,
          27216,
          12060,
          150000,
          60000,
          45787,
          44000,
          4786,
          39024,
          6000,
          40000,
          114386,
          27369,
          58000,
          23328,
          16473,
          16473,
          91799,
          70235,
          3989,
          91773,
          28906,
          150000,
          70000,
          43428,
          67000,
          70528,
          35413,
          66285,
          83129,
          87055,
          60000,
          33640,
          23608,
          22353,
          120000,
          54241,
          86173,
          91143,
          36000,
          108818,
          90530,
          77957,
          64341,
          33407,
          14811,
          37000,
          4939,
          82620,
          86857,
          14483,
          19000,
          36202,
          30000,
          70000,
          20000,
          24077,
          81985,
          91841,
          20950,
          32000,
          51744,
          19516,
          29093,
          54408,
          16000,
          100000,
          56876,
          50000,
          34000,
          22305,
          33573,
          33615,
          34935,
          24000,
          68979,
          50000,
          42917,
          20000,
          32000,
          40000,
          29911,
          23000,
          42000,
          58000,
          53764,
          61455,
          95296,
          106506,
          54186,
          106848,
          59841,
          3000,
          19649,
          3300,
          40000,
          27000,
          20950,
          50000,
          39000,
          55927,
          41248,
          70076,
          128398,
          98807,
          18837,
          50000,
          120000,
          19000,
          10000,
          128876,
          37300,
          60000,
          82784,
          63274,
          87521,
          114772,
          40000,
          20000,
          59985,
          120000,
          53819,
          98914,
          110000,
          4135,
          35000,
          35983,
          45000,
          91109,
          23325,
          51690,
          41502,
          77380,
          69269,
          53060,
          58071,
          500,
          40000,
          49000,
          150000,
          158945,
          111275,
          40000,
          55435,
          51396,
          89570,
          30000,
          18477,
          77204,
          78000,
          30272,
          64285,
          100000,
          95291,
          84005,
          8000,
          49254,
          20000,
          34097,
          10000,
          3000,
          30000,
          25581,
          34000,
          45000,
          20000,
          123394,
          58416,
          27166,
          76384,
          45000,
          17160,
          15817,
          7267,
          222996,
          30742,
          110000,
          29351,
          10048,
          14696,
          27153,
          50000,
          43879,
          40480,
          32112,
          20000,
          91112,
          30000,
          10000,
          42600,
          40000,
          12132,
          79048,
          32157,
          34182,
          176801,
          81508,
          22500,
          29640,
          52000,
          32000,
          38502,
          100000,
          40091,
          48113,
          50000,
          50486,
          26465,
          33246,
          30000,
          31754,
          70000,
          60000,
          30000,
          53250,
          51555,
          10000,
          40000,
          110000,
          60000,
          5022,
          39386,
          10551,
          52524,
          96165,
          92860,
          46976,
          36383,
          2000,
          26000,
          42891,
          34640,
          40000,
          42662,
          64011,
          24774,
          74348,
          40711,
          39386,
          80000,
          86304,
          74367,
          48098,
          60000,
          110000,
          85223,
          120000,
          33961,
          10000,
          45636,
          58698,
          10000,
          77603,
          60000,
          120797,
          10000,
          33654,
          45333,
          63670,
          95535,
          175000,
          55500,
          106121,
          51012,
          62930,
          111242,
          16000,
          72898,
          97326,
          1870,
          10000,
          110000,
          20000,
          70000,
          30000,
          15000,
          71195,
          91700,
          59232,
          55023,
          58323,
          52743,
          49000,
          111350,
          150000,
          20000,
          63134,
          89547,
          25000,
          102002,
          108463,
          30033,
          29084,
          37718,
          66030,
          72110,
          35000,
          100000,
          10000,
          20000,
          56118,
          93968,
          30000,
          3500,
          35589,
          150000,
          41514,
          27925,
          10000,
          20000,
          18655,
          51578,
          113000,
          27861,
          20419,
          12000,
          27872,
          14023,
          30000,
          30000,
          13109,
          67500,
          84169,
          14475,
          53631,
          92562,
          24690,
          15915,
          36390,
          9112,
          13923,
          58263,
          20000,
          13397,
          70418,
          21614,
          35375,
          83298,
          33250,
          87026,
          33000,
          65840,
          62865,
          62442,
          63318,
          47146,
          17797,
          52802,
          34000,
          70038,
          15957,
          51252,
          38100,
          14424,
          67129,
          35405,
          62992,
          94241,
          21647,
          39922,
          60250,
          23899,
          89000,
          87431,
          98204,
          161471,
          47045,
          18079,
          44985,
          84095,
          50520,
          3228,
          41516,
          73139,
          16787,
          44386,
          56200,
          17003,
          44632,
          32091,
          95495,
          55320,
          68459,
          14195,
          67900,
          47756,
          42856,
          43000,
          23539,
          50000,
          41138,
          55039,
          81037,
          80033,
          100056,
          90062,
          90042,
          78030,
          100049,
          138033,
          14126,
          35464,
          33771,
          75011,
          41659,
          19935,
          61126,
          70034,
          86694,
          79399,
          86038,
          69863,
          2000022,
          133727,
          85781,
          8837,
          48527,
          22000,
          110054,
          85028,
          10990,
          80039,
          16473,
          8000,
          53819,
          93000,
          82000,
          100057,
          100425,
          102497,
          78423,
          14103,
          74000,
          41285,
          25119,
          4977,
          10000,
          40511,
          30400,
          75000,
          27600,
          53908,
          30000,
          46000,
          9471,
          12011,
          27370,
          51680,
          60799,
          63000,
          50000,
          22600,
          30000,
          58619,
          23300,
          91000,
          30000,
          18551,
          35000,
          50252,
          30197,
          39605,
          66992,
          50000,
          29973,
          49791,
          52609,
          70000,
          23000,
          52172,
          29041,
          67022,
          9900,
          49682,
          31000,
          52509,
          69319,
          89191,
          123152,
          116413,
          56000,
          78000,
          30000,
          2000,
          300,
          11600,
          18377,
          75184,
          81000,
          80320,
          8608,
          23000,
          75000,
          61237,
          32806,
          52138,
          37429,
          69000,
          52044,
          37000,
          8541,
          44768,
          27062,
          46973,
          22239,
          16455,
          20000,
          5107,
          34000,
          88923,
          71000,
          30924,
          63697,
          53000,
          43000,
          21000,
          91000,
          37000,
          71721,
          39276,
          35000,
          85616,
          56380,
          66211,
          37000,
          60662,
          24140,
          56000,
          47000,
          54700,
          27000,
          65000,
          11000,
          12901,
          29708,
          22186,
          71413,
          57600,
          11700,
          24602,
          81454,
          6000,
          37655,
          15100,
          23700,
          40000,
          5239,
          65287,
          50267,
          87277,
          11323,
          90487,
          55405,
          15000,
          31450,
          90000,
          95000,
          45700,
          74686,
          119004,
          117079,
          35000,
          76730,
          21123,
          98000,
          69684,
          16600,
          16500,
          51122,
          42891,
          59100,
          55913,
          65000,
          60000,
          10000,
          8000,
          60000,
          20000,
          42682,
          44653,
          7000,
          67823,
          50000,
          97055,
          114000,
          24000,
          30000,
          6000,
          7000,
          34000,
          29000,
          38000,
          150000,
          83329,
          43000,
          8000,
          11404,
          23000,
          19044,
          23500,
          17367,
          3800,
          45000,
          20000,
          60000,
          36000,
          44559,
          10000,
          37587,
          90000,
          73786,
          50000,
          22000,
          38103,
          15000,
          69000,
          40000,
          38967,
          50000,
          33000,
          70000,
          72000,
          58511,
          60000,
          43500,
          68192,
          74872,
          47000,
          9000,
          31000,
          123617,
          31000,
          45000,
          82000,
          36400,
          69000,
          110000,
          62500,
          20000,
          50000,
          30000,
          65000,
          40000,
          91926,
          40000,
          40000,
          60000,
          23200,
          36000,
          50000,
          39000,
          55000,
          55000,
          24777,
          50000,
          15000,
          134000,
          33000,
          34000,
          52515,
          45000,
          59000,
          10000,
          41000,
          20000,
          66227,
          100000,
          43929,
          70000,
          50000,
          34250,
          64847,
          50000,
          62150,
          41200,
          67000,
          9000,
          27120,
          120000,
          55000,
          69000,
          40000,
          18432,
          43584,
          17665,
          10203,
          63000,
          68000,
          110000,
          30000,
          15000,
          67000,
          70000,
          10000,
          54101,
          120000,
          67000,
          65000,
          50979,
          58696,
          8000,
          45000,
          30000,
          44000,
          1600,
          30000,
          18110,
          90000,
          60000,
          81711,
          101,
          30400,
          66300,
          38000,
          20802,
          54420,
          19000,
          92000,
          24000,
          59801,
          32228,
          88594,
          38192,
          50000,
          97411,
          11077,
          43100,
          82501,
          91881,
          63774,
          45000,
          21900,
          27381,
          56716,
          63000,
          77000,
          3000,
          54000,
          55000,
          16000,
          8000,
          80000,
          46445,
          6000,
          26000,
          65083,
          5378,
          63001,
          15000,
          106180,
          68000,
          11000,
          24000,
          55000,
          12010,
          60665,
          1000,
          57463,
          3100,
          58716,
          27000,
          51017,
          25000,
          17000,
          95000,
          49000,
          70000,
          29100,
          57116,
          56000,
          9343,
          13000,
          36000,
          60000,
          64668,
          87313,
          39000,
          18000,
          11000,
          30000,
          8000,
          57000,
          22000,
          71566,
          10000,
          80000,
          85031,
          22000,
          37527,
          80000,
          14000,
          40000,
          10000,
          50000,
          72011,
          40011,
          85000,
          48011,
          4000,
          41051,
          52011,
          52439,
          97249,
          11800,
          5700,
          52011,
          52368,
          33500,
          80000,
          83863,
          9500,
          62526,
          40000,
          35331,
          40000,
          10000,
          14893,
          7900,
          55215,
          100000,
          49930,
          54000,
          1200,
          7000,
          40000,
          100000,
          25000,
          67593,
          50000,
          88882,
          78986,
          100000,
          34000,
          79328,
          50000,
          2300,
          5000,
          30000,
          67000,
          86183,
          70000,
          88991,
          55000,
          62657,
          16452,
          31029,
          86000,
          40000,
          80000,
          70000,
          60000,
          60000,
          40000,
          90000,
          71727,
          73000,
          85482,
          89581,
          79500,
          28000,
          66175,
          47001,
          145000,
          19000,
          63521,
          18021,
          90000,
          38000,
          39076,
          36000,
          106848,
          105000,
          13278,
          12255,
          68000,
          67000,
          37000,
          8000,
          54000,
          120000,
          17000,
          45000,
          19717,
          20000,
          35495,
          27401,
          15981,
          7500,
          6300,
          73052,
          61000,
          15036,
          94000,
          39000,
          90000,
          30000,
          4900,
          4975,
          36758,
          3500,
          10000,
          61882,
          66000,
          46000,
          6088,
          23000,
          41732,
          51000,
          38000,
          60000,
          75000,
          49010,
          26089,
          54000,
          37302,
          37000,
          36483,
          62000,
          38010,
          43000,
          10000,
          55000,
          76000,
          58000,
          34000,
          25000,
          25367,
          29000,
          27240,
          55000,
          28000,
          10500,
          3500,
          56722,
          55566,
          5500,
          4000,
          950,
          71000,
          28000,
          35000,
          80000,
          12710,
          64694,
          21867,
          78010,
          36247,
          3106,
          55566,
          91000,
          46318,
          7359,
          35060,
          22060,
          68060,
          27000,
          50000,
          15000,
          99373,
          120000,
          11815,
          39412,
          33015,
          3500,
          39045,
          49000,
          7936,
          65739,
          52407,
          30000,
          48000,
          86816,
          63000,
          67000,
          68838,
          46835,
          17457,
          62789,
          33618,
          75946,
          230000,
          87208,
          42736,
          55556,
          2054,
          1700,
          30120,
          32000,
          1200,
          9600,
          70000,
          85000,
          40000,
          14163,
          15000,
          4764,
          20000,
          7600,
          69815,
          82000,
          8400,
          75463,
          66000,
          22091,
          32000,
          66000,
          25000,
          110000,
          15000,
          30000,
          47000,
          6000,
          43623,
          33000,
          2997,
          9606,
          75000,
          23159,
          53488,
          29000,
          6000,
          68192,
          600,
          13000,
          67756,
          83811,
          68000,
          4100,
          46243,
          37000,
          23690,
          70879,
          42000,
          61000,
          98705,
          62000,
          28000,
          36000,
          32000,
          38000,
          33000,
          68045,
          12000,
          4000,
          19765,
          7076,
          30560,
          5000,
          47944,
          78550,
          65000,
          32000,
          9314,
          41684,
          51607,
          90000,
          30000,
          40000,
          35000,
          97672,
          37000,
          40000,
          60000,
          20000,
          75000,
          40000,
          48000,
          120000,
          25000,
          29000,
          63176,
          24000,
          22820,
          5000,
          30000,
          74538,
          40000,
          45399,
          22000,
          98681,
          6000,
          40000,
          58000,
          75000,
          76000,
          60000,
          58000,
          20000,
          42841,
          67000,
          26000,
          40000,
          60000,
          120000,
          74000,
          16430,
          10000,
          63054,
          12000,
          13000,
          3500,
          7023,
          5000,
          11000,
          11000,
          50629,
          63534,
          52000,
          33695,
          68744,
          70000,
          9540,
          45000,
          36861,
          68000,
          68000,
          38000,
          39000,
          40000,
          18000,
          60000,
          40000,
          68000,
          37000,
          21912,
          74564,
          48000,
          96758,
          60341,
          36973,
          39000,
          52514,
          13001,
          72000,
          62000,
          34000,
          67000,
          45000,
          64000,
          70000,
          18468,
          18833,
          55418,
          20000,
          53400,
          25000,
          87576,
          58000,
          75000,
          69000,
          20000,
          45000,
          20000,
          70000,
          72000,
          25000,
          19000,
          11332,
          25456,
          93616,
          74134,
          70000,
          24000,
          14000,
          70000,
          50000,
          74000,
          70000,
          65000,
          40000,
          80000,
          107539,
          52059,
          70000,
          5732,
          53034,
          70000,
          52444,
          60000,
          10000,
          10000,
          70000,
          14000,
          39500,
          64213,
          60000,
          120000,
          7100,
          34936,
          10000,
          60443,
          56000,
          13000,
          80000,
          53000,
          60000,
          22000,
          30000,
          50000,
          22000,
          48000,
          35467,
          54481,
          24000,
          76181,
          23842,
          94407,
          80000,
          124245,
          5100,
          30000,
          50000,
          89698,
          30000,
          58193,
          50000,
          23399,
          60915,
          44000,
          101297,
          10000,
          73883,
          75000,
          69000,
          58632,
          41352,
          37000,
          20100,
          50000,
          90000,
          7800,
          120000,
          120000,
          59014,
          43148,
          79000,
          89352,
          38511,
          54000,
          66584,
          48000,
          19418,
          72000,
          23000,
          50000,
          20000,
          30000,
          42000,
          600,
          70000,
          136288,
          48000,
          49707,
          59443,
          30000,
          52000,
          40398,
          50000,
          10000,
          66434,
          40000,
          100000,
          40000,
          100000,
          51800,
          87000,
          7000,
          88710,
          47644,
          40000,
          100505,
          106648,
          53481,
          25050,
          77000,
          58000,
          96000,
          51000,
          70000,
          27000,
          32456,
          15000,
          34940,
          73679,
          59059,
          72194,
          56740,
          72490,
          35828,
          57088,
          70382,
          20000,
          17000,
          30000,
          70000,
          65202,
          72000,
          45313,
          40000,
          120000,
          52777,
          26000,
          77937,
          40663,
          40000,
          115500,
          67000,
          16312,
          90000,
          67000,
          60000,
          34253,
          27000,
          67827,
          79094,
          88309,
          20000,
          60653,
          70000,
          86527,
          67000,
          70311,
          54000,
          52000,
          20000,
          80000,
          15000,
          69821,
          12754,
          69000,
          98390,
          84195,
          17000,
          77184,
          40000,
          82848,
          30000,
          50000,
          40000,
          70000,
          47688,
          40000,
          50000,
          83741,
          50000,
          105792,
          88750,
          70000,
          89972,
          50000,
          48000,
          20000,
          7000,
          50000,
          40000,
          59000,
          70000,
          110000,
          100000,
          48000,
          22424,
          58147,
          67000,
          112479,
          25494,
          85000,
          109000,
          14500,
          34000,
          60000,
          60000,
          99000,
          17000,
          79982,
          67047,
          50000,
          85782,
          99547,
          30000,
          69455,
          14000,
          40738,
          76000,
          30000,
          50000,
          10700,
          10000,
          36000,
          70000,
          60000,
          34000,
          48430,
          93671,
          17447,
          19000,
          80000,
          65039,
          60000,
          65000,
          35000,
          80000,
          16500,
          50500,
          40000,
          150000,
          47761,
          80488,
          70000,
          17204,
          66000,
          41900,
          45000,
          52000,
          40000,
          64000,
          76500,
          48000,
          42000,
          72000,
          40838,
          56000,
          71914,
          67043,
          18000,
          100010,
          56857,
          120000,
          92000,
          45000,
          68000,
          36000,
          37000,
          9150,
          10000,
          116059,
          18254,
          61200,
          108133,
          66198,
          49000,
          89733,
          20000,
          44000,
          26000,
          68000,
          60000,
          20000,
          8000,
          120000,
          70000,
          70000,
          70000,
          88443,
          14500,
          59549,
          70000,
          10000,
          32000,
          20000,
          65000,
          23900,
          2900,
          15000,
          11200,
          17000,
          1900,
          70098,
          30498,
          33000,
          7243,
          7867,
          49650,
          5301,
          21366,
          40099,
          100000,
          100000,
          48000,
          29000,
          120000,
          58000,
          58000,
          50000,
          32000,
          9900,
          3721,
          16564,
          34000,
          15992,
          91380,
          50000,
          20500,
          89908,
          60000,
          34000,
          30000,
          120000,
          99100,
          22000,
          22120,
          30120,
          4000,
          14800,
          8120,
          54650,
          99343,
          22800,
          6000,
          24788,
          70036,
          16000,
          75000,
          19000,
          20000,
          126000,
          30000,
          77293,
          110000,
          25502,
          57120,
          97000,
          51868,
          52725,
          50000,
          84929,
          42000,
          21515,
          42000,
          53000,
          71000,
          48000,
          56000,
          60000,
          50000,
          120000,
          30000,
          3819,
          7825,
          27436,
          40673,
          60000,
          33100,
          57929,
          8500,
          60000,
          40000,
          40000,
          76000,
          35000,
          19681,
          53338,
          41558,
          52800,
          60000,
          92543,
          28000,
          3200,
          9000,
          31000,
          23000,
          2700,
          30000,
          60000,
          39368,
          49597,
          34174,
          11171,
          68000,
          62545,
          94480,
          19299,
          60000,
          30000,
          55000,
          120000,
          1500,
          30000,
          53464,
          70000,
          16372,
          14515,
          30000,
          85617,
          70000,
          76605,
          10000,
          70000,
          4900,
          55000,
          45000,
          26000,
          21387,
          64568,
          25000,
          73568,
          87755,
          34000,
          25319,
          11000,
          23051,
          4200,
          20000,
          70123,
          71156,
          10000,
          80000,
          30000,
          36000,
          30211,
          16291,
          40000,
          79166,
          10512,
          30000,
          50000,
          100000,
          40000,
          74000,
          60000,
          120000,
          9545,
          20000,
          36002,
          45000,
          52654,
          34151,
          29000,
          31873,
          24000,
          52129,
          64000,
          75000,
          50000,
          63000,
          63000,
          79000,
          64000,
          16000,
          50236,
          28000,
          6624,
          36000,
          71355,
          76282,
          25091,
          80000,
          42857,
          70000,
          96000,
          66999,
          69000,
          33000,
          65000,
          49000,
          74000,
          23000,
          32192,
          53930,
          65000,
          20000,
          150000,
          20000,
          80000,
          23256,
          29120,
          62000,
          90513,
          49396,
          18475,
          27792,
          55000,
          72000,
          10000,
          25000,
          40000,
          150000,
          80000,
          60000,
          70000,
          57100,
          45623,
          7660,
          35272,
          8526,
          62929,
          42000,
          20000,
          57000,
          44000,
          64000,
          49000,
          30000,
          90000,
          64336,
          83425,
          66181,
          35000,
          25489,
          85363,
          40000,
          40000,
          1500,
          20000,
          20000,
          67985,
          89722,
          80000,
          110490,
          51165,
          14000,
          50576,
          55000,
          70000,
          65000,
          71000,
          60000,
          20000,
          60000,
          38000,
          20000,
          10000,
          50750,
          10000,
          10000,
          66366,
          5000,
          72544,
          29154,
          70000,
          33730,
          51113,
          40000,
          60000,
          64500,
          40000,
          80000,
          50000,
          40000,
          107588,
          36621,
          80000,
          18900,
          70754,
          59832,
          41261,
          32209,
          75747,
          119422,
          33488,
          30000,
          21000,
          56545,
          64000,
          46000,
          7156,
          20608,
          95286,
          66000,
          35929,
          136035,
          93997,
          60000,
          52220,
          65000,
          120000,
          78969,
          88637,
          19070,
          68556,
          44356,
          73143,
          146769,
          67527,
          79467,
          103174,
          114000,
          70000,
          72000,
          20000,
          32000,
          20000,
          22500,
          54708,
          78031,
          32000,
          82243,
          20000,
          118937,
          105133,
          10000,
          36290,
          10000,
          29084,
          66911,
          110000,
          7033,
          40000,
          22000,
          70200,
          60004,
          60000,
          63789,
          120000,
          53000,
          24021,
          61000,
          120000,
          30000,
          49000,
          115000,
          50000,
          18569,
          98455,
          85000,
          97921,
          97644,
          82000,
          71144,
          2373,
          56753,
          72000,
          95783,
          59108,
          128193,
          87810,
          97161,
          67805,
          49287,
          53000,
          80000,
          56000,
          62125,
          95596,
          18500,
          55200,
          188058,
          71779,
          75000,
          66676,
          2236,
          62000,
          66244,
          17341,
          44675,
          30829,
          53800,
          122000,
          107220,
          129000,
          60000,
          83829,
          70000,
          151901,
          15680,
          55065,
          39907,
          45560,
          42096,
          63886,
          95600,
          101000,
          61000,
          95000,
          97000,
          61000,
          18000,
          63000,
          51865,
          93000,
          110410,
          55846,
          47000,
          39914,
          73000,
          88048,
          260000,
          92960,
          63000,
          20000,
          7000,
          4600,
          22800,
          150000,
          10000,
          44790,
          14213,
          100000,
          85396,
          27136,
          44591,
          6000,
          20034,
          47529,
          46739,
          62000,
          45000,
          36000,
          40000,
          15850,
          62535,
          94600,
          38300,
          81917,
          69000,
          50000,
          40689,
          35849,
          15833,
          62000,
          20000,
          10000,
          69552,
          97610,
          41000,
          63000,
          55000,
          64447,
          76947,
          23110,
          48992,
          21000,
          30465,
          50000,
          136083,
          100000,
          54063,
          37000,
          67372,
          76685,
          115595,
          87189,
          42662,
          69000,
          63002,
          120000,
          108000,
          81000,
          70000,
          46000,
          45911,
          87335,
          35545,
          120000,
          54631,
          107000,
          58000,
          20266,
          84910,
          70000,
          109000,
          44000,
          44363,
          39461,
          59126,
          65331,
          45000,
          120000,
          124781,
          63313,
          62535,
          89581,
          78866,
          58000,
          90000,
          59000,
          66000,
          99003,
          76003,
          70000,
          107344,
          56129,
          70599,
          97208,
          52000,
          97621,
          113000,
          152000,
          78000,
          93000,
          48000,
          55000,
          131852,
          20000,
          44416,
          10000,
          85298,
          60529,
          60000,
          30241,
          24197,
          20000,
          44981,
          20000,
          30000,
          80000,
          41000,
          73000,
          40000,
          27000,
          81334,
          70000,
          32483,
          17459,
          6517,
          70427,
          52306,
          111670,
          40000,
          67000,
          77000,
          71000,
          88479,
          39000,
          50003,
          82163,
          40000,
          108560,
          70000,
          28292,
          117467,
          65000,
          60541,
          60000,
          76355,
          60000,
          50000,
          96000,
          63000,
          40000,
          30000,
          101543,
          66424,
          120000,
          33433,
          72169,
          48175,
          73452,
          54807,
          47118,
          100000,
          41192,
          70000,
          105264,
          70000,
          50380,
          51000,
          31846,
          63000,
          82662,
          66518,
          57927,
          40000,
          16115,
          25467,
          71071,
          55000,
          54000,
          54000,
          41000,
          62500,
          20000,
          60350,
          52266,
          58431,
          41372,
          66500,
          62832,
          75000,
          60700,
          85000,
          44276,
          99000,
          78000,
          70000,
          70000,
          22264,
          103763,
          109000,
          128000,
          65815,
          79000,
          48580,
          44646,
          71963,
          152000,
          101000,
          41000,
          109000,
          83000,
          80000,
          67037,
          120000,
          47627,
          98000,
          55943,
          71000,
          117924,
          92195,
          49009,
          31650,
          20000,
          70000,
          39000,
          10000,
          93615,
          6400,
          14000,
          96540,
          92585,
          53861,
          53873,
          60000,
          30000,
          70000,
          28700,
          91629,
          30000,
          7058,
          86500,
          20000,
          110600,
          74000,
          21314,
          40007,
          64736,
          105000,
          40687,
          57000,
          88000,
          49500,
          15985,
          73665,
          31614,
          70380,
          73202,
          80000,
          58006,
          64000,
          120000,
          41000,
          40000,
          16000,
          69900,
          120000,
          95000,
          35000,
          66000,
          67905,
          19348,
          35000,
          30811,
          90184,
          30000,
          66039,
          50000,
          80000,
          29000,
          90000,
          120000,
          56962,
          90000,
          101739,
          69049,
          110000,
          56242,
          124281,
          38000,
          84249,
          45000,
          108632,
          10700,
          116988,
          60000,
          120000,
          92000,
          80000,
          70000,
          72761,
          72473,
          18030,
          63000,
          40404,
          96407,
          20000,
          53456,
          28246,
          30224,
          70000,
          49000,
          70000,
          85838,
          68000,
          73000,
          54959,
          49000,
          59261,
          42000,
          73889,
          54000,
          50151,
          120000,
          92000,
          51000,
          70000,
          72253,
          51757,
          46000,
          24648,
          61201,
          23000,
          41085,
          90000,
          50260,
          55000,
          52858,
          50000,
          61000,
          136700,
          44000,
          45430,
          10000,
          50000,
          89178,
          52507,
          47495,
          89899,
          89791,
          83000,
          30000,
          96615,
          60000,
          24001,
          76000,
          30000,
          37821,
          42000,
          10000,
          122617,
          93593,
          51216,
          36714,
          61626,
          63000,
          60894,
          51000,
          110000,
          10000,
          95000,
          66000,
          80642,
          70000,
          15700,
          81764,
          95933,
          23000,
          92000,
          59000,
          89242,
          40503,
          20000,
          96863,
          30300,
          120000,
          27892,
          90000,
          100000,
          30000,
          32152,
          58241,
          59411,
          17105,
          99334,
          156126,
          54000,
          76000,
          71974,
          105562,
          1330,
          9351,
          46000,
          92370,
          68000,
          38313,
          110000,
          10000,
          48902,
          45025,
          22356,
          96000,
          72632,
          57349,
          31915,
          80000,
          44094,
          236000,
          75000,
          92000,
          48000,
          10000,
          33600,
          47763,
          8368,
          51897,
          90000,
          62648,
          58448,
          40000,
          88695,
          20000,
          99840,
          10000,
          20000,
          31000,
          44000,
          62936,
          40841,
          66561,
          97726,
          81462,
          120000,
          31286,
          20000,
          20000,
          57600,
          54000,
          20000,
          49260,
          73069,
          80000,
          78850,
          70000,
          50933,
          94426,
          80000,
          75000,
          78500,
          56000,
          100000,
          106467,
          75000,
          44123,
          72607,
          60000,
          122474,
          37665,
          152000,
          110000,
          45000,
          85000,
          61000,
          94540,
          96620,
          28545,
          66500,
          80133,
          106000,
          26852,
          59990,
          75135,
          73000,
          120000,
          20000,
          120000,
          50824,
          70000,
          62000,
          47004,
          100000,
          78000,
          112000,
          10000,
          20000,
          20000,
          13918,
          28839,
          30000,
          16097,
          23683,
          10000,
          45000,
          15992,
          34000,
          45000,
          90000,
          40000,
          22907,
          79000,
          36874,
          60000,
          80000,
          88126,
          72563,
          88060,
          20000,
          60000,
          45000,
          95315,
          31000,
          109271,
          62438,
          40000,
          96940,
          65850,
          90000,
          38264,
          47000,
          77027,
          78000,
          112000,
          138000,
          51000,
          26494,
          82000,
          68101,
          90000,
          98000,
          115218,
          120000,
          60000,
          80000,
          50000,
          105000,
          110000,
          80000,
          92299,
          92721,
          93104,
          48869,
          86555,
          39316,
          60000,
          100000,
          135000,
          19500,
          22127,
          14087,
          30000,
          55253,
          63008,
          22000,
          73944,
          37000,
          50000,
          64584,
          44000,
          101434,
          13500,
          75000,
          96402,
          20225,
          55000,
          44641,
          83958,
          107972,
          46451,
          28220,
          77415,
          47314,
          50000,
          40000,
          120000,
          16415,
          30564,
          61710,
          95000,
          99215,
          46034,
          20000,
          60993,
          71821,
          2486,
          12740,
          30000,
          28522,
          67200,
          50000,
          46000,
          20000,
          80000,
          29011,
          42372,
          22310,
          18732,
          95417,
          54000,
          36140,
          90000,
          60000,
          70237,
          89592,
          79333,
          82144,
          40000,
          39881,
          12280,
          70000,
          49984,
          51258,
          62000,
          119781,
          78000,
          110000,
          73400,
          49500,
          14991,
          32363,
          15504,
          20858,
          30000,
          99128,
          30000,
          73626,
          42964,
          89906,
          110000,
          40000,
          90000,
          30000,
          45416,
          64000,
          16769,
          30580,
          47000,
          89681,
          42000,
          29302,
          41200,
          70076,
          90114,
          5933,
          30000,
          60000,
          20000,
          66000,
          135000,
          110000,
          133000,
          61000,
          29828,
          85000,
          30000,
          32098,
          100000,
          48556,
          76654,
          50000,
          39014,
          95000,
          122000,
          10000,
          45000,
          80000,
          120000,
          44989,
          79202,
          105405,
          120000,
          55053,
          10000,
          111046,
          1457,
          63752,
          50000,
          60000,
          30000,
          74320,
          10000,
          97112,
          10000,
          8345,
          90000,
          12094,
          20000,
          30111,
          34840,
          10000,
          38370,
          60000,
          30000,
          50000,
          70000,
          20000,
          19661,
          58177,
          40000,
          76134,
          40000,
          90102,
          50000,
          24916,
          25121,
          84020,
          96502,
          37634,
          30000,
          80000,
          60000,
          120000,
          30088,
          55024,
          120000,
          72762,
          30000,
          52791,
          67879,
          60053,
          23316,
          20000,
          120000,
          70000,
          27653,
          67429,
          65192,
          26893,
          50000,
          36027,
          50000,
          50000,
          10000,
          40000,
          100000,
          40000,
          77687,
          52456,
          24000,
          42674,
          44903,
          65000,
          70000,
          81028,
          80000,
          20000,
          120000,
          20000,
          105614,
          11249,
          68359,
          49500,
          64628,
          79151,
          78131,
          103256,
          45794,
          60000,
          20000,
          60000,
          60000,
          90000,
          33798,
          33190,
          30000,
          80000,
          40000,
          10000,
          60000,
          110000,
          20000,
          30000,
          44478,
          30000,
          83688,
          110000,
          89218,
          88900,
          70000,
          96639,
          19100,
          50000,
          120000,
          114000,
          57435,
          73322,
          80643,
          48683,
          87908,
          120000,
          61822,
          23748,
          84484,
          10000,
          10000,
          60000,
          100000,
          150000,
          70145,
          70226,
          30000,
          40000,
          58671,
          54187,
          43000,
          117189,
          110000,
          20000,
          12727,
          50000,
          20000,
          70784,
          40000,
          100456,
          60976,
          120000,
          103000,
          9800,
          92000,
          59000,
          93000,
          10000,
          20000,
          22726,
          20000,
          30000,
          86017,
          20000,
          83596,
          40000,
          50000,
          10000,
          100000,
          79464,
          87113,
          52315,
          10000,
          64285,
          85948,
          100000,
          45949,
          92000,
          83000,
          60000,
          75000,
          71000,
          84000,
          110000,
          48659,
          26970,
          92000,
          29766,
          6580,
          48247,
          80546,
          20000,
          10000,
          87773,
          81854,
          110000,
          33090,
          96529,
          88178,
          16925,
          12000,
          20000,
          60000,
          60000,
          50000,
          100000,
          66951,
          44392,
          40000,
          90000,
          58621,
          90000,
          120000,
          53165,
          13500,
          44210,
          63255,
          79215,
          200,
          40000,
          40000,
          60000,
          92721,
          90000,
          34644,
          100000,
          69000,
          22000,
          82243,
          77177,
          28368,
          40000,
          9690,
          40000,
          62761,
          45075,
          36882,
          82030,
          31469,
          20000,
          120000,
          70000,
          80000,
          43336,
          21659,
          80000,
          63662,
          82058,
          67847,
          59627,
          20000,
          50000,
          20000,
          76800,
          71711,
          28406,
          50000,
          53615,
          49000,
          62000,
          40000,
          110000,
          30000,
          120000,
          41521,
          80000,
          76000,
          23793,
          81000,
          43867,
          35000,
          300,
          84000,
          10000,
          110000,
          64000,
          75000,
          26633,
          4527,
          25446,
          50923,
          56123,
          64984,
          90000,
          85123,
          90456,
          94215,
          59000,
          80000,
          112000,
          20000,
          20000,
          46100,
          51374,
          40000,
          62134,
          54256,
          44461,
          80000,
          70123,
          80000,
          80000,
          114756,
          23793,
          60000,
          16858,
          7414,
          18206,
          56569,
          44461,
          20000,
          30000,
          120000,
          43919,
          80000,
          86000,
          32355,
          30000,
          94724,
          72916,
          100000,
          41521,
          42840,
          60000,
          120000,
          8401,
          16275,
          30000,
          22289,
          70123,
          50123,
          70123,
          99643,
          103116,
          120000,
          43202,
          57671,
          40000,
          60000,
          74700,
          60000,
          62000,
          40000,
          50000,
          42811,
          82558,
          40000,
          104521,
          95745,
          78000,
          150000,
          60091,
          170000,
          37724,
          120000,
          100227,
          94112,
          23848,
          17353,
          70000,
          10000,
          49017,
          120000,
          80000,
          50000,
          40000,
          60000,
          87000,
          96330,
          112625,
          58374,
          49616,
          70000,
          68000,
          120000,
          116544,
          49580,
          15285,
          4437,
          24590,
          20000,
          70456,
          20000,
          120000,
          76043,
          10200,
          55890,
          60000,
          40000,
          90000,
          50000,
          50000,
          56805,
          70705,
          75000,
          17587,
          104243,
          25791,
          60000,
          17580,
          39109,
          20000,
          80000,
          20000,
          70000,
          9106,
          90239,
          58740,
          29393,
          150000,
          44354,
          79700,
          30000,
          45204,
          81000,
          120000,
          47214,
          120000,
          125000,
          100000,
          120000,
          30000,
          3844,
          50000,
          94554,
          15991,
          72918,
          22982,
          76000,
          115000,
          73000,
          30000,
          23200,
          10000,
          10000,
          10000,
          30000,
          20000,
          60000,
          107963,
          100000,
          67194,
          80000,
          60000,
          80000,
          100000,
          57000,
          76000,
          4437,
          34217,
          80101,
          50000,
          72580,
          120000,
          30000,
          100000,
          69000,
          50040,
          48350,
          120000,
          74573,
          64715,
          76000,
          39176,
          50000,
          50000,
          40000,
          70000,
          29905,
          70000,
          80000,
          40000,
          42212,
          105227,
          30000,
          12168,
          10000,
          75000,
          73500,
          10371,
          75210,
          69159,
          56992,
          28500,
          75196,
          51759,
          120000,
          80000,
          10000,
          20000,
          100000,
          10000,
          60000,
          50000,
          67896,
          40000,
          37478,
          32972,
          30000,
          3120,
          20972,
          60000,
          120000,
          20000,
          38323,
          120000,
          40000,
          50000,
          60000,
          90000,
          72842,
          49017,
          120000,
          79828,
          70000,
          10000,
          52034,
          10000,
          68551,
          68766,
          80000,
          71000,
          53000,
          23573,
          76200,
          85000,
          62000,
          16603,
          43571,
          28328,
          115000,
          40282,
          57826,
          85400,
          66000,
          65580,
          68140,
          16293,
          9000,
          100048,
          110712,
          67653,
          58066,
          71053,
          150729,
          115000,
          15000,
          144103,
          19726,
          60267,
          120931,
          12111,
          121671,
          65573,
          52887,
          48457,
          51088,
          0,
          22000,
          45316,
          16858,
          105000,
          31850,
          135213,
          88378,
          191867,
          65808,
          20135,
          29882,
          33831,
          61334,
          51531,
          88098,
          96000,
          77901,
          133946,
          70593,
          82556,
          42160,
          99367,
          95329,
          72000,
          98000,
          88329,
          27723,
          57847,
          46557,
          37983,
          69856,
          60091,
          50501,
          16603,
          40960,
          65000,
          74232,
          38892,
          82882,
          63959,
          10801,
          151231,
          49000,
          49000,
          55000,
          17284,
          85648,
          97229,
          74850,
          18484,
          52509,
          91547,
          42601,
          208978,
          31262,
          72000,
          152633,
          70000,
          54737,
          97845,
          18240,
          65262,
          86703,
          16000,
          48409,
          102912,
          37025,
          164910,
          110728,
          69492,
          72480,
          120094,
          29000,
          55463,
          26455,
          62626,
          32317,
          21388,
          10371,
          63385,
          60048,
          44351,
          45926,
          19876,
          69000,
          65000,
          37386,
          104590,
          57794,
          105072,
          52000,
          26124,
          35925,
          38439,
          45531,
          33000,
          99432,
          80008,
          75744,
          70000,
          85000,
          15092,
          39201,
          101884,
          74729,
          9009,
          10785,
          85374,
          36495,
          20199,
          1782,
          182946,
          20685,
          51284,
          83000,
          36661,
          44143,
          69475,
          48000,
          34970,
          49931,
          49500,
          44376,
          49225,
          68843,
          60318,
          101014,
          49422,
          44934,
          251066,
          208708,
          75426,
          36107,
          50854,
          7985,
          47913,
          138907,
          201161,
          124143,
          45746,
          90560,
          48350,
          66000,
          1989,
          110818,
          67225,
          96937,
          160145,
          85017,
          86719,
          66328,
          132528,
          62285,
          183619,
          27019,
          46848,
          16424,
          39657,
          44516,
          129267,
          77497,
          32516,
          49972,
          174077,
          71501,
          68279,
          46865,
          158924,
          94905,
          72117,
          160351,
          68280,
          47008,
          104782,
          90150,
          32293,
          69510,
          131511,
          38943,
          28807,
          107000,
          49503,
          137029,
          34576,
          40220,
          83083,
          139208,
          40000,
          50000,
          60000,
          50000,
          100000,
          120000,
          120000,
          20000,
          40000,
          100000,
          10000,
          60000,
          20000,
          30000,
          70000,
          70000,
          70000,
          30000,
          30000,
          20000,
          20000,
          50000,
          90000,
          100000,
          10000,
          60000,
          40000,
          70000,
          10000,
          50000,
          30000,
          70000,
          90000,
          50000,
          20000,
          60000,
          100000,
          50000,
          70000,
          10000,
          50000,
          80000,
          40000,
          150000,
          40000,
          30000,
          80000,
          80000,
          20000,
          120000,
          20000,
          150000,
          20000,
          90000,
          30000,
          30000,
          60000,
          150000,
          50000,
          30000,
          60000,
          30000,
          50000,
          10000,
          30000,
          50000,
          70000,
          150000,
          50000,
          70000,
          40000,
          50000,
          30000,
          40000,
          150000,
          120000,
          90000,
          150000,
          60000,
          10000,
          120000,
          150000,
          150000,
          30000,
          10000,
          30000,
          150000,
          60000,
          10000,
          150000,
          80000,
          60000,
          120000,
          120000,
          40000,
          70000,
          60000,
          80000,
          50000,
          40000,
          80000,
          40000,
          30000,
          90000,
          70000,
          150000,
          40000,
          150000,
          30000,
          30000,
          120000,
          90000,
          120000,
          120000,
          120000,
          70000,
          90000,
          150000,
          40000,
          20000,
          120000,
          30000,
          120000,
          121000,
          120000,
          60000,
          20000,
          30000,
          150000,
          120000,
          150000,
          100000,
          150000,
          150000,
          120000,
          70000,
          30000,
          150000,
          80000,
          40000,
          40000,
          150000,
          150000,
          150000,
          20000,
          150000,
          60000,
          120000,
          60000,
          120000,
          120000,
          120000,
          120000,
          120000,
          60000,
          20000,
          150000,
          70000,
          120000,
          70000,
          50000,
          150000,
          150000,
          80000,
          120000,
          80000,
          50000,
          10000,
          30000,
          70000,
          70000,
          70000,
          70000,
          60000,
          150000,
          150000,
          150000,
          100000,
          120000,
          70000,
          20000,
          40000,
          80000,
          23981,
          7100,
          35629,
          31000,
          60055,
          65005,
          2657,
          16000,
          7426,
          27046,
          30100,
          9000,
          17000,
          49200,
          54044,
          6500,
          29159,
          31968,
          60000,
          25009,
          46469,
          45000,
          31577,
          56005,
          10005,
          41163,
          17839,
          3800,
          34124,
          48168,
          56357,
          60000,
          10585,
          60000,
          17642,
          20000,
          9157,
          65000,
          40000,
          19859,
          7405,
          52922,
          60000,
          32000,
          41000,
          9221,
          70000,
          10519,
          19907,
          50000,
          52000,
          15407,
          80000,
          58000,
          14000,
          45000,
          119236,
          98074,
          40330,
          65002,
          85862,
          48005,
          8625,
          10000,
          67000,
          10000,
          50000,
          34000,
          60000,
          152000,
          45000,
          7114,
          25508,
          39369,
          96707,
          50000,
          30345,
          128232,
          54018,
          32007,
          100000,
          66452,
          38706,
          80000,
          60000,
          120000,
          19000,
          260000,
          71552,
          73578,
          27160,
          36000,
          84367,
          32599,
          47530,
          35457,
          28134,
          28000,
          20000,
          46005,
          2565,
          28000,
          32000,
          45000,
          78565,
          10197,
          32844,
          5198,
          40000,
          19355,
          60000,
          31197,
          6651,
          35000,
          57000,
          50469,
          32000,
          36000,
          30000,
          68042,
          24000,
          82948,
          45000,
          29428,
          64000,
          62202,
          47000,
          13145,
          119490,
          8000,
          45000,
          46422,
          52000,
          25000,
          45000,
          65000,
          65000,
          21628,
          8347,
          52549,
          53084,
          15456,
          68000,
          10000,
          100000,
          59639,
          50000,
          37000,
          8000,
          31000,
          44890,
          10000,
          5151,
          28807,
          20593,
          10000,
          13407,
          100000,
          66000,
          177000,
          21100,
          120000,
          100000,
          44227,
          45000,
          50000,
          77042,
          42325,
          50000,
          37196,
          61530,
          48000,
          74444,
          120000,
          11768,
          54581,
          34000,
          120000,
          68000,
          70179,
          54501,
          20000,
          28651,
          138726,
          24147,
          65000,
          79513,
          87845,
          20000,
          55000,
          47183,
          150000,
          54600,
          20000,
          4000,
          70000,
          29882,
          55314,
          69000,
          56312,
          22950,
          26135,
          20913,
          3000,
          52002,
          50000,
          59000,
          15000,
          53483,
          49000,
          38420,
          60585,
          12809,
          37243,
          25796,
          34000,
          29717,
          42000,
          24425,
          14323,
          9700,
          51097,
          23684,
          40000,
          60002,
          39000,
          40000,
          16001,
          10143,
          88532,
          60000,
          12059,
          10000,
          47000,
          20000,
          37000,
          9520,
          100000,
          22577,
          9902,
          70000,
          20101,
          120000,
          15258,
          36397,
          120000,
          52000,
          51900,
          70000,
          10000,
          30000,
          11326,
          23609,
          60533,
          46328,
          60000,
          31745,
          3115,
          8940,
          10000,
          45652,
          30000,
          30000,
          70000,
          17200,
          18255,
          6398,
          45739,
          46000,
          35254,
          41334,
          51463,
          29478,
          85101,
          6903,
          71742,
          413,
          10000,
          50000,
          18000,
          32000,
          42000,
          45000,
          29000,
          20378,
          10000,
          33683,
          18518,
          36000,
          18000,
          14447,
          24000,
          41000,
          45000,
          10177,
          35444,
          35000,
          40000,
          49040,
          49546,
          38698,
          32814,
          14642,
          33429,
          30739,
          21300,
          13463,
          15477,
          33000,
          15766,
          28895,
          10000,
          50000,
          24600,
          10711,
          90000,
          19712,
          31772,
          150000,
          31055,
          25695,
          20000,
          24181,
          70000,
          42970,
          10000,
          49817,
          20000,
          6347,
          61262,
          6059,
          9134,
          23092,
          33937,
          20000,
          49134,
          20000,
          20000,
          10000,
          22336,
          30000,
          48384,
          32000,
          20000,
          56023,
          18984,
          50000,
          115173,
          26251,
          30000,
          25228,
          46717,
          20000,
          120000,
          65000,
          91000,
          45000,
          30000,
          30000,
          60000,
          56000,
          54419,
          22746,
          5385,
          40375,
          10837,
          4521,
          6805,
          47000,
          23733,
          9473,
          150000,
          76187,
          40000,
          50000,
          37000,
          19392,
          9522,
          28880,
          19003,
          28329,
          9326,
          47584,
          24021,
          45107,
          9470,
          125000,
          7000,
          73000,
          11000,
          30000,
          35500,
          10000,
          34144,
          6669,
          22618,
          27042,
          38224,
          23379,
          47000,
          21388,
          23005,
          7308,
          90000,
          60000,
          60000,
          36674,
          20000,
          17153,
          39000,
          32165,
          27447,
          26305,
          20000,
          9243,
          100000,
          19280,
          10000,
          9646,
          11344,
          17899,
          80000,
          50000,
          40000,
          60000,
          70000,
          65440,
          35884,
          77500,
          59729,
          64854,
          74094,
          11590,
          9461,
          10000,
          90000,
          150000,
          33600,
          82286,
          29841,
          10518,
          6204,
          20000,
          23696,
          112000,
          7569,
          18800,
          32147,
          27000,
          35100,
          20000,
          31458,
          12000,
          10000,
          32000,
          37659,
          31479,
          10998,
          10000,
          27370,
          39714,
          34000,
          6033,
          28036,
          19631,
          70000,
          50000,
          33197,
          29000,
          60000,
          48000,
          10000,
          41000,
          25910,
          30658,
          44000,
          55073,
          43886,
          20000,
          30000,
          18060,
          94042,
          90438,
          80000,
          50000,
          975000,
          55000,
          30000,
          104900,
          28519,
          88785,
          79755,
          80000,
          60000,
          38000,
          60000,
          4034,
          60000,
          34895,
          5891,
          66000,
          10667,
          27218,
          170,
          28000,
          6000,
          30022,
          47000,
          2704,
          14425,
          40000,
          40000,
          30000,
          33805,
          73781,
          65000,
          75420,
          40722,
          40000,
          50000,
          3188,
          34233,
          51767,
          40965,
          10000,
          35100,
          120000,
          60000,
          30000,
          10000,
          55000,
          50000,
          40535,
          60020,
          787,
          5870,
          50000,
          50714,
          40000,
          4187,
          10164,
          13269,
          90000,
          16000,
          60000,
          20000,
          44199,
          40000,
          55625,
          29230,
          30000,
          25152,
          52224,
          62665,
          76800,
          80000,
          40000,
          30000,
          30000,
          113000,
          92202,
          10000,
          28546,
          85435,
          65000,
          50000,
          25000,
          120000,
          3000,
          37001,
          39000,
          20000,
          25968,
          11798,
          65814,
          69007,
          71420,
          10000,
          9817,
          1062,
          10000,
          10000,
          20000,
          68000,
          65000,
          81575,
          42000,
          32092,
          30000,
          8559,
          50000,
          9169,
          45275,
          50000,
          30000,
          10000,
          40000,
          30000,
          80000,
          110190,
          14756,
          63179,
          32344,
          17436,
          52130,
          60000,
          46315,
          65000,
          90000,
          32395,
          89331,
          10000,
          20000,
          10000,
          36374,
          20801,
          43214,
          20000,
          31584,
          88755,
          50000,
          7277,
          44200,
          14567,
          19858,
          40000,
          50000,
          19000,
          15215,
          22887,
          10000,
          4603,
          7291,
          2179,
          26226,
          35000,
          60000,
          37647,
          57321,
          67020,
          20000,
          65000,
          60000,
          30000,
          70000,
          50000,
          24000,
          40000,
          71521,
          42267,
          57986,
          17252,
          20817,
          10000,
          39579,
          36899,
          55000,
          9000,
          40000,
          20000,
          60000,
          10000,
          55330,
          32152,
          56000,
          23055,
          68132,
          76932,
          60000,
          89912,
          102813,
          55155,
          20000,
          70000,
          10830,
          50000,
          49100,
          90089,
          63950,
          69273,
          75865,
          4066,
          67092,
          38000,
          78121,
          99103,
          40000,
          9000,
          10100,
          27119,
          10000,
          57000,
          38000,
          50000,
          70000,
          10891,
          29558,
          18000,
          29412,
          59037,
          73072,
          61113,
          47606,
          30000,
          80000,
          40000,
          27000,
          80000,
          30000,
          70000,
          90000,
          20000,
          17466,
          30000,
          78075,
          36937,
          50000,
          93097,
          40000,
          13400,
          19720,
          4732,
          38380,
          67357,
          40000,
          35912,
          22343,
          10000,
          42792,
          42503,
          78990,
          40000,
          25000,
          14636,
          20000,
          20000,
          13000,
          22000,
          20000,
          59005,
          50000,
          2707,
          78211,
          67793,
          48548,
          150000,
          46559,
          93177,
          60001,
          45000,
          10000,
          38506,
          60000,
          10000,
          50000,
          28000,
          83234,
          9595,
          30000,
          6948,
          45000,
          9943,
          60000,
          23000,
          50000,
          55000,
          20000,
          50000,
          46940,
          12315,
          15584,
          64400,
          13067,
          15264,
          11853,
          7843,
          2501,
          9285,
          51215,
          23400,
          11000,
          10000,
          40000,
          25000,
          55000,
          8126,
          42000,
          11736,
          21679,
          39000,
          11333,
          13440,
          18930,
          80000,
          17851,
          22392,
          29017,
          9000,
          30000,
          10000,
          30559,
          50000,
          20000,
          10000,
          19830,
          24670,
          14327,
          50000,
          18987,
          55973,
          27094,
          4914,
          25171,
          40000,
          42000,
          28400,
          20857,
          61000,
          75760,
          31000,
          54000,
          68943,
          8582,
          22868,
          76165,
          27047,
          35538,
          8700,
          76293,
          34000,
          12113,
          87172,
          20000,
          55000,
          51321,
          29781,
          34000,
          19000,
          65595,
          10000,
          51441,
          14000,
          35984,
          80443,
          49441,
          6015,
          34441,
          74000,
          30000,
          68000,
          55000,
          37000,
          40000,
          40300,
          125000,
          43317,
          21298,
          10000,
          33393,
          34622,
          21166,
          126254,
          43595,
          22276,
          10000,
          10415,
          20000,
          60000,
          60000,
          90000,
          42015,
          72456,
          60000,
          116032,
          30000,
          40000,
          51000,
          30000,
          15885,
          65000,
          10000,
          20000,
          50000,
          53000,
          10000,
          20000,
          33000,
          20000,
          30000,
          10000,
          40000,
          10000,
          28689,
          30000,
          53700,
          69150,
          65480,
          42411,
          72000,
          31100,
          66000,
          26000,
          11000,
          5000,
          24000,
          61901,
          50000,
          41232,
          48277,
          37000,
          34689,
          32475,
          411,
          33004,
          24000,
          39000,
          40000,
          65000,
          73000,
          29000,
          50000,
          80000,
          15000,
          56400,
          61000,
          28831,
          49000,
          27460,
          14000,
          43985,
          28322,
          12000,
          15000,
          75000,
          79000,
          38734,
          22000,
          54000,
          50000,
          68000,
          54000,
          32337,
          21873,
          17330,
          28316,
          19000,
          22000,
          49000,
          48000,
          65000,
          51000,
          32000,
          34000,
          65000,
          51000,
          17000,
          6971,
          3000,
          27447,
          22008,
          9000,
          44000,
          46000,
          60000,
          37000,
          40000,
          9000,
          52000,
          30400,
          29000,
          20000,
          32000,
          45000,
          84000,
          48000,
          49000,
          70000,
          65000,
          58000,
          64000,
          35000,
          50000,
          12000,
          50000,
          58000,
          16000,
          28000,
          55000,
          54000,
          55000,
          29000,
          48000,
          45000,
          21000,
          52000,
          39000,
          55000,
          53000,
          9000,
          23000,
          65000,
          45000,
          55000,
          26000,
          54000,
          41000,
          29000,
          23000,
          39000,
          34000,
          75000,
          12000,
          51000,
          46000,
          39000,
          45000,
          2000,
          47000,
          55000,
          5000,
          5000,
          32000,
          20000,
          20000,
          61000,
          45000,
          38247,
          52000,
          75000,
          72561,
          32190,
          20000,
          50000,
          20000,
          20000,
          30000,
          120000,
          60000,
          30000,
          24000,
          40000,
          60000,
          30000,
          151000,
          7000,
          20000,
          20000,
          50000,
          50000,
          80000,
          50000,
          10000,
          70000,
          30000,
          80000,
          40000,
          10000,
          10000,
          30000,
          20000,
          10000,
          10000,
          20000,
          30000,
          40000,
          20000,
          40000,
          40000,
          20000,
          120000,
          38000,
          20000,
          30000,
          50000,
          60000,
          60000,
          70000,
          30000,
          10000,
          120000,
          40000
         ],
         "xaxis": "x",
         "y": [
          585000,
          462000,
          790000,
          1900000,
          345000,
          1200000,
          960000,
          585000,
          690000,
          682000,
          825000,
          595000,
          1350000,
          5595000,
          1005000.0000000001,
          582000,
          1090000,
          550000,
          570000,
          4145000.0000000005,
          2565000,
          674000,
          349000,
          4425000,
          4965000,
          594000,
          710000,
          692000,
          650000,
          2089999.9999999998,
          411000.00000000006,
          3675000,
          610000,
          7990000.000000001,
          715000,
          2250000,
          625000,
          2695000,
          550000,
          825000,
          428000,
          695000,
          455000,
          1195000,
          2175000,
          690000,
          3395000.0000000005,
          650000,
          750000,
          1789999.9999999998,
          919999.9999999999,
          533000,
          494000.00000000006,
          550000,
          365000,
          1895000,
          1050000,
          2075000,
          394000,
          240000,
          835000,
          695000,
          1725000,
          330000,
          990000,
          750000,
          755000,
          1750000,
          2082999.9999999998,
          271000,
          1280000,
          436000.00000000006,
          1250000,
          1350000,
          1250000,
          2225000,
          475000,
          2450000,
          1625000,
          1650000,
          385000,
          2975000,
          500000,
          730000,
          2245000,
          399000,
          1275000,
          1989999.9999999998,
          719000,
          1260000,
          627000,
          672000,
          1825000,
          440000.00000000006,
          2041000,
          1033000,
          275000,
          676000,
          4290000,
          444000.00000000006,
          509999.99999999994,
          834000,
          560000,
          454000,
          3690000,
          7900000,
          799000,
          576000,
          949000,
          795000,
          1085000,
          2590000,
          753000,
          725000,
          1150000,
          745000,
          490000.00000000006,
          869000,
          1070000,
          1000000,
          375000,
          375000,
          844000,
          764000,
          684000,
          802999.9999999999,
          803999.9999999999,
          619000,
          865000,
          975000,
          699000,
          1150000,
          600000,
          675000,
          893000,
          941000,
          750000,
          645000,
          850000,
          299000,
          2095000,
          2800000,
          825000,
          1295000,
          329000,
          666000,
          2290000,
          1700000,
          681000,
          1689999.9999999998,
          688000,
          1300000,
          265000,
          2000000,
          620000,
          1470000,
          220000.00000000003,
          1475000,
          415000.00000000006,
          610000,
          686000,
          517000,
          675000,
          499000,
          774000,
          1025000,
          1400000,
          1000000,
          780000,
          750000,
          555000,
          653000,
          872000.0000000001,
          550000,
          620000,
          620000,
          750000,
          1220000,
          575000,
          1250000,
          3000000,
          980000.0000000001,
          900000,
          450000,
          543000,
          980000.0000000001,
          535000,
          450000,
          865000,
          999000,
          595000,
          550000,
          6050000,
          616000,
          624000,
          549000,
          524000,
          1650000,
          825000,
          3150000,
          755000,
          875000,
          855000.0000000001,
          525000,
          650000,
          846000.0000000001,
          210000,
          889000,
          850000,
          660000,
          334000,
          594000,
          991000,
          1450000,
          1285000,
          4195000,
          825000,
          825000,
          919999.9999999999,
          432000,
          700000,
          1499000,
          762000,
          1625000,
          1218000,
          524000,
          1390000,
          1889999.9999999998,
          1275000,
          1125000,
          650000,
          1100000,
          681000,
          405000,
          765000,
          487000,
          1474000,
          770000,
          724000,
          500000,
          525000,
          725000,
          550000,
          650000,
          775000,
          900000,
          408000,
          642000,
          900000,
          521000,
          695000,
          429000,
          520000,
          625000,
          601000,
          1300000,
          645000,
          695000,
          500000,
          894999.9999999999,
          550000,
          581000,
          650000,
          806000,
          725000,
          4950000,
          426000,
          484999.99999999994,
          490000.00000000006,
          1495000,
          2750000,
          1025000,
          825000,
          890000,
          823000,
          554000,
          499000,
          815000,
          719000,
          372000,
          515000.00000000006,
          700000,
          409999.99999999994,
          685000,
          5500000,
          1800000,
          1950000,
          1175000,
          999000,
          715000,
          3400000,
          1779000,
          404000,
          581000,
          630000,
          560000,
          1551000,
          501000,
          365000,
          994999.9999999999,
          770000,
          725000,
          840000,
          696000,
          576000,
          721000,
          927000,
          3275000,
          426000,
          1100000,
          905000.0000000001,
          848000,
          1099000,
          425000,
          661000,
          775000,
          682000,
          577000,
          679000,
          1445000,
          776000,
          690000,
          1125000,
          835000,
          750000,
          527000,
          426000,
          405000,
          536000,
          2400000,
          4745000,
          1375000,
          880000.0000000001,
          1030000.0000000001,
          475000,
          1150000,
          5675000,
          960000,
          3200000,
          715000,
          740000,
          1700000,
          1698999.9999999998,
          1764999.9999999998,
          525000,
          1600000,
          1650000,
          409999.99999999994,
          3150000,
          850000,
          1260000,
          850000,
          493000,
          505000,
          825000,
          1800000,
          540000,
          1010000,
          625000,
          635000,
          550000,
          2450000,
          550000,
          950000,
          977000,
          1705000,
          667000,
          636000,
          792000,
          827000,
          382000,
          650000,
          512000,
          1500000,
          459999.99999999994,
          627000,
          511000.00000000006,
          1285000,
          3150000,
          750000,
          1800000,
          985000,
          1044999.9999999999,
          200000,
          710000,
          586000,
          1500000,
          584000,
          409000,
          738000,
          380000,
          656000,
          483000,
          509999.99999999994,
          1900000,
          2100000,
          300000,
          1350000,
          1450000,
          533000,
          160000,
          332000,
          200000,
          1359000,
          2850000,
          2750000,
          300000,
          1575000,
          674000,
          613000,
          1145000,
          599000,
          625000,
          750000,
          2165000,
          1350000,
          888000.0000000001,
          707000,
          593000,
          250000,
          685000,
          699000,
          573000,
          70000,
          600000,
          650000,
          430000,
          530000,
          1075000,
          746000,
          634000,
          509999.99999999994,
          527000,
          900000,
          3000000,
          2750000,
          3600000,
          300000,
          3400000,
          982000,
          674000,
          810000,
          792000,
          360000,
          579000,
          550000,
          605000,
          985000,
          1345000,
          2365000,
          3200000,
          734000,
          535000,
          789000,
          548000,
          350000,
          1525000,
          515000.00000000006,
          950000,
          80000,
          1500000,
          3200000,
          550000,
          582000,
          531000,
          558000,
          2060000.0000000002,
          542000,
          875000,
          1370000,
          484999.99999999994,
          3250000,
          630000,
          2475000,
          417000,
          544000,
          1975000,
          359000,
          766000,
          350000,
          994999.9999999999,
          539000,
          3900000,
          796000,
          636000,
          1400000,
          500000,
          718000,
          436000.00000000006,
          780000,
          1300000,
          3675000,
          670000,
          900000,
          600000,
          605000,
          559000,
          780000,
          240000,
          341000,
          240000,
          513000,
          661000,
          600000,
          3750000,
          1295000,
          338000,
          13000000,
          621000,
          621000,
          700000,
          1800000,
          1450000,
          600000,
          434999.99999999994,
          317000,
          780000,
          800000,
          925000,
          775000,
          1475000,
          674000,
          2325000,
          709000,
          691000,
          1145000,
          855000.0000000001,
          800000,
          550000,
          130000,
          650000,
          2550000,
          1300000,
          609000,
          678000,
          449000,
          925000,
          426000,
          844999.9999999999,
          680000,
          720000,
          798000,
          608000,
          1035000,
          328000,
          725000,
          740000,
          875000,
          190000,
          480000,
          1280000,
          770000,
          599000,
          950000,
          966000,
          781000,
          749000,
          350000,
          2350000,
          700000,
          875000,
          925000,
          700000,
          449000,
          1485000,
          825000,
          935000,
          3825000,
          2350000,
          2500000,
          1540000,
          434999.99999999994,
          434999.99999999994,
          1261000,
          850000,
          340000,
          3900000,
          1225000,
          1275000,
          2900000,
          2800000,
          638000,
          1328000,
          490000.00000000006,
          1723999.9999999998,
          517000,
          627000,
          509999.99999999994,
          409999.99999999994,
          3275000,
          3750000,
          513999.99999999994,
          347000,
          1329000,
          300000,
          1358000,
          1500000,
          642000,
          420000,
          450000,
          1565000,
          459999.99999999994,
          200000,
          1200000,
          543000,
          1150000,
          479000,
          530000,
          2600000,
          789000,
          1030000.0000000001,
          600000,
          919999.9999999999,
          1600000,
          650000,
          4445000,
          1350000,
          312000,
          582000,
          618000,
          916000,
          300000,
          555000,
          950000,
          608000,
          225000,
          150000,
          550000,
          590000,
          511000.00000000006,
          260000,
          381000,
          575000,
          696000,
          740000,
          300000,
          500000,
          260000,
          240000,
          1500000,
          275000,
          900000,
          428000,
          697000,
          429000,
          750000,
          700000,
          1695000,
          2000000,
          500000,
          2700000,
          360000,
          733000,
          375000,
          657000,
          729000,
          800000,
          1005000.0000000001,
          1193000,
          900000,
          2150000,
          925000,
          1585000,
          7000000,
          799000,
          689000,
          1068000,
          1798999.9999999998,
          195000,
          639000,
          1075000,
          975000,
          1773999.9999999998,
          484999.99999999994,
          591000,
          657000,
          210000,
          591000,
          658000,
          513999.99999999994,
          950000,
          330000,
          775000,
          650000,
          375000,
          647000,
          591000,
          575000,
          659000,
          720000,
          733000,
          850000,
          919999.9999999999,
          720000,
          1600000,
          1600000,
          400000,
          389000,
          445000,
          642000,
          725000,
          616000,
          694000,
          650000,
          400000,
          649000,
          800000,
          350000,
          384000,
          900000,
          782000,
          463000,
          660000,
          663000,
          436000.00000000006,
          1350000,
          520000,
          1764999.9999999998,
          1595000,
          1057000,
          560000,
          1264000,
          1666000,
          789000,
          1275000,
          375000,
          3875000,
          985000,
          825000,
          825000,
          656000,
          612000,
          436000.00000000006,
          620000,
          3299000,
          643000,
          838000.0000000001,
          1125000,
          2545000,
          345000,
          999000,
          875000,
          484999.99999999994,
          775000,
          476000,
          492000,
          1365000,
          1085000,
          1488000,
          425000,
          1944000.0000000002,
          695000,
          475000,
          551000,
          352000,
          600000,
          559000,
          1519000,
          409000,
          539000,
          737000,
          1350000,
          3194000,
          590000,
          1898999.9999999998,
          1545000,
          1895000,
          491000,
          436000.00000000006,
          616000,
          675000,
          3495000.0000000005,
          632000,
          1000000,
          2875000,
          1085000,
          1365000,
          3025000,
          483000,
          994999.9999999999,
          573000,
          658000,
          1245000,
          906000,
          1195000,
          1031000,
          624000,
          1050000,
          1800000,
          865000,
          4399000,
          1590000,
          530000,
          595000,
          312000,
          403000,
          415000.00000000006,
          850000,
          2700000,
          1145000,
          645000,
          1440000,
          1145000,
          1225000,
          888000.0000000001,
          507000,
          472000,
          471000,
          821000.0000000001,
          509999.99999999994,
          599000,
          401999.99999999994,
          1002000,
          975000,
          795000,
          550000,
          1298000,
          1085000,
          335000,
          1109000,
          894999.9999999999,
          466000,
          775000,
          555000,
          899000,
          370000,
          810000,
          774000,
          530000,
          944999.9999999999,
          880000.0000000001,
          525000,
          1605000,
          1170000,
          650000,
          875000,
          500000,
          9500000,
          2195000,
          421000,
          1300000,
          490000.00000000006,
          520000,
          616000,
          825000,
          618000,
          2190000,
          795000,
          775000,
          1125000,
          1030000.0000000001,
          615000,
          710000,
          1018000,
          840000,
          1125000,
          585000,
          1250000,
          2395000,
          475000,
          1084000,
          445000,
          1382000,
          601000,
          594000,
          960000,
          575000,
          3575000,
          961999.9999999999,
          450000,
          849000,
          535000,
          434999.99999999994,
          5750000,
          1145000,
          749000,
          872000.0000000001,
          2425000,
          1725000,
          500000,
          541000,
          730000,
          446000,
          3750000,
          694000,
          493000,
          637000,
          365000,
          825000,
          645000,
          585000,
          835000,
          750000,
          1150000,
          415000.00000000006,
          750000,
          398000,
          550000,
          3300000,
          453000,
          285000,
          5000000,
          865000,
          792000,
          4050000,
          610000,
          710000,
          1225000,
          570000,
          3900000,
          275000,
          429000,
          675000,
          1100000,
          1425000,
          1036000,
          800000,
          568000,
          2790000,
          450000,
          650000,
          575000,
          1950000,
          702000,
          650000,
          801000,
          1103000,
          1490000,
          627000,
          835000,
          2089999.9999999998,
          350000,
          2100000,
          925000,
          850000,
          850000,
          6600000,
          2150000,
          3600000,
          6800000,
          707000,
          680000,
          2039000,
          401000,
          505000,
          1599000,
          830000.0000000001,
          1036000,
          1595000,
          825000,
          2900000,
          550000,
          299000,
          750000,
          550000,
          808000,
          542000,
          529000,
          684000,
          650000,
          1802000,
          745000,
          619000,
          650000,
          1145000,
          1600000,
          540000,
          675000,
          830000.0000000001,
          509999.99999999994,
          1200000,
          766000,
          449000,
          1560000,
          522000,
          500000,
          627000,
          687000,
          620000,
          530000,
          3600000,
          650000,
          650000,
          570000,
          900000,
          649000,
          549000,
          513999.99999999994,
          3900000,
          685000,
          11000000,
          580000,
          4375000,
          8200000,
          420000,
          775000,
          533000,
          547000,
          395000,
          908000,
          2290000,
          507000,
          1625000,
          434999.99999999994,
          1490000,
          1789999.9999999998,
          625000,
          690000,
          1350000,
          1550000,
          790000,
          365000,
          511000.00000000006,
          505000,
          449000,
          725000,
          495000,
          799000,
          1850000,
          2000000,
          4500000,
          2050000,
          1989999.9999999998,
          1989999.9999999998,
          451000,
          1100000,
          631000,
          500000,
          488000,
          459999.99999999994,
          865000,
          11800000,
          925000,
          509999.99999999994,
          5700000,
          350000,
          630000,
          409999.99999999994,
          725000,
          466000,
          1864000,
          2700000,
          503000,
          640000,
          841000,
          1889999.9999999998,
          288000,
          940000,
          844999.9999999999,
          2055999.9999999998,
          7700000,
          750000,
          1689999.9999999998,
          310000,
          3900000,
          1026000,
          560000,
          532000,
          323000,
          770000,
          492000,
          650000,
          633000,
          900000,
          370000,
          620000,
          480000,
          430000,
          500000,
          7600000,
          790000,
          5200000,
          776000,
          702000,
          290000,
          383000,
          411000.00000000006,
          615000,
          515000.00000000006,
          2575000,
          575000,
          850000,
          3700000,
          1800000,
          425000,
          650000,
          750000,
          450000,
          720000,
          425000,
          409999.99999999994,
          731000,
          2050000,
          1963000,
          1497000,
          7450000,
          975000,
          1450000,
          6200000,
          595000,
          767000,
          825000,
          558000,
          649000,
          2250000,
          1110000,
          672000,
          675000,
          795000,
          11299999.999999998,
          807000,
          260000,
          760000,
          1070000,
          520000,
          350000,
          875000,
          4350000,
          1450000,
          1725000,
          302000,
          1060000,
          722000,
          463000,
          1770000,
          575000,
          476999.99999999994,
          650000,
          455000,
          475000,
          2800000,
          975000,
          750000,
          484999.99999999994,
          459999.99999999994,
          1265000,
          619000,
          835000,
          635000,
          657000,
          620000,
          590000,
          4600000,
          490000.00000000006,
          620000,
          1950000,
          536000,
          365000,
          566000,
          420000,
          880000.0000000001,
          616000,
          1554000,
          2100000,
          2175000,
          4300000,
          725000,
          275000,
          5750000,
          635000,
          1900000,
          509999.99999999994,
          817000,
          850000,
          235000,
          666000,
          505000,
          890000,
          140000,
          810000,
          4100000,
          1755000,
          1050000,
          1000000,
          850000,
          625000,
          335000,
          445000,
          1789999.9999999998,
          630000,
          1320000,
          860000,
          766000,
          610000,
          680000,
          3150000,
          855000.0000000001,
          1200000,
          1786000,
          614000,
          340000,
          950000,
          710000,
          1700000,
          684000,
          309000,
          500000,
          5500000,
          360000,
          1875000,
          950000,
          500000,
          2390000,
          549000,
          704000,
          729000,
          700000,
          725000,
          621000,
          685000,
          950000,
          1850000,
          1850000,
          409999.99999999994,
          570000,
          600000,
          1350000,
          2600000,
          365000,
          707000,
          800000,
          520000,
          1188000,
          621000,
          515000.00000000006,
          600000,
          775000,
          650000,
          700000,
          437000,
          459999.99999999994,
          403000,
          4950000,
          517000,
          643000,
          889000,
          630000,
          530000,
          678000,
          2150000,
          675000,
          470000,
          530000,
          463000,
          515000.00000000006,
          547000,
          4800000,
          4800000,
          1816000,
          850000,
          745000,
          1689999.9999999998,
          1150000,
          3000000,
          310000,
          800000,
          825000,
          3575000,
          774000,
          525000,
          600000,
          525000,
          583000,
          825000,
          670000,
          590000,
          400000,
          700000,
          700000,
          1150000,
          595000,
          459999.99999999994,
          395000,
          434999.99999999994,
          666000,
          700000,
          590000,
          695000,
          607000,
          688000,
          660000,
          250000,
          1245000,
          844999.9999999999,
          405000,
          750000,
          1714000,
          927999.9999999999,
          950000,
          702000,
          844999.9999999999,
          513000,
          851000,
          2350000,
          5790000,
          370000,
          1900000,
          459999.99999999994,
          459999.99999999994,
          365000,
          2600000,
          790000,
          450000,
          370000,
          1036000,
          875000,
          847000.0000000001,
          755000,
          496000,
          1009000,
          4900000,
          6800000,
          3400000,
          5000000,
          519000.00000000006,
          1450000,
          825000,
          1850000,
          1991000,
          1994000.0000000002,
          1645000,
          633000,
          799000,
          610000,
          749000,
          648000,
          250000,
          490000.00000000006,
          1590000,
          475000,
          973000,
          630000,
          5850000,
          150000,
          827000,
          715000,
          2100000,
          490000.00000000006,
          484999.99999999994,
          484999.99999999994,
          622000,
          375000,
          967000,
          475000,
          695000,
          350000,
          1250000,
          260000,
          285000,
          616000,
          594000,
          647000,
          1400000,
          600000,
          900000,
          730000,
          648000,
          434999.99999999994,
          900000,
          740000,
          320000,
          295000,
          790000,
          530000,
          570000,
          576000,
          675000,
          518000,
          397000,
          775000,
          732000,
          577000,
          509999.99999999994,
          625000,
          1275000,
          395000,
          320000,
          450000,
          1085000,
          400000,
          484999.99999999994,
          681000,
          409999.99999999994,
          1290000,
          708000,
          650000,
          760000,
          785000,
          745000,
          2000000,
          270000,
          450000,
          2790000,
          550000,
          421000,
          303000,
          643000,
          4200000,
          644000,
          1200000,
          811000,
          725000,
          725000,
          750000,
          950000,
          925000,
          1875000,
          2650000,
          550000,
          500000,
          430999.99999999994,
          894999.9999999999,
          470000,
          726000,
          500000,
          4550000,
          1590000,
          5600000,
          1900000,
          1425000,
          409999.99999999994,
          1250000,
          125000,
          902999.9999999999,
          604000,
          417000,
          405000,
          615000,
          650000,
          1400000,
          210000,
          2475000,
          400000,
          350000,
          515000.00000000006,
          120000,
          492000,
          731000,
          345000,
          302000,
          2300000,
          1350000,
          472000,
          470000,
          630000,
          375000,
          520000,
          1597000,
          800000,
          575000,
          2050000,
          1422000,
          562000,
          690000,
          580000,
          762000,
          663000,
          869999.9999999999,
          750000,
          4750000,
          950000,
          1080000,
          200000,
          335000,
          501999.99999999994,
          900000,
          769000,
          595000,
          585000,
          2150000,
          1100000,
          730000,
          1791000,
          509999.99999999994,
          860000,
          1700000,
          636000,
          571000,
          825000,
          393000,
          1100000,
          704000,
          950000,
          9000000,
          1200000,
          750000,
          3750000,
          2655000,
          1050000,
          622000,
          950000,
          621000,
          1639000,
          1215000,
          635000,
          1466000,
          500000,
          300000,
          770000,
          390000,
          1105000,
          725000,
          659000,
          356000,
          480000,
          689000,
          625000,
          802999.9999999999,
          950000,
          375000,
          1900000,
          900000,
          204999.99999999997,
          630000,
          630000,
          415000.00000000006,
          590000,
          1028999.9999999999,
          250000,
          711000,
          2140000,
          760000,
          7000000,
          1080000,
          680000,
          2200000,
          520000,
          344000,
          3100000,
          923000,
          662000,
          637000,
          800000,
          454000,
          760000,
          1100000,
          545000,
          254999.99999999997,
          250000,
          750000,
          700000,
          365000,
          750000,
          925000,
          750000,
          950000,
          301000,
          443000,
          440000.00000000006,
          660000,
          165000,
          1090000,
          1225000,
          620000,
          395000,
          580000,
          1450000,
          525000,
          865000,
          581000,
          518000,
          790000,
          300000,
          407000,
          455000,
          295000,
          985000,
          100000,
          365000,
          1050000,
          660000,
          2000000,
          436000.00000000006,
          681000,
          590000,
          632000,
          890000,
          551000,
          850000,
          765000,
          390000,
          480000,
          455000,
          1750000,
          2625000,
          515000.00000000006,
          679000,
          409999.99999999994,
          798000,
          944999.9999999999,
          885000,
          574000,
          710000,
          620000,
          225000,
          500000,
          1150000,
          285000,
          1825000,
          430999.99999999994,
          728000,
          861000,
          780000,
          1478000,
          800000,
          2700000,
          290000,
          100000,
          650000,
          500000,
          790000,
          900000,
          461000.00000000006,
          983000,
          739000,
          340000,
          450000,
          590000,
          185000,
          8200000,
          200000,
          300000,
          150000,
          843000,
          300000,
          560000,
          2655000,
          1369000,
          90000,
          380000,
          661000,
          2000000,
          1300000,
          1639000,
          536000,
          229999.99999999997,
          357000,
          786000,
          1150000,
          684000,
          451000,
          985000,
          800000,
          785000,
          415000.00000000006,
          150000,
          1000000,
          638000,
          674000,
          433000,
          518000,
          840000,
          295000,
          740000,
          520000,
          470000,
          350000,
          400000,
          312000,
          383000,
          590000,
          758000,
          794000,
          2850000,
          327000,
          425000,
          434999.99999999994,
          800000,
          750000,
          495000,
          475000,
          2700000,
          785000,
          795000,
          660000,
          650000,
          270000,
          340000,
          1000000,
          295000,
          165000,
          475000,
          430000,
          145000,
          1076000,
          430000,
          495000,
          298000,
          425000,
          577000,
          600000,
          225000,
          675000,
          1475000,
          750000,
          150000,
          729000,
          840000,
          413999.99999999994,
          380000,
          428000,
          465000.00000000006,
          1034000,
          450000,
          409999.99999999994,
          325000,
          450000,
          280000,
          409999.99999999994,
          520000,
          560000,
          656000,
          525000,
          512000,
          250000,
          535000,
          170000,
          310000,
          725000,
          645000,
          440000.00000000006,
          975000,
          535000,
          433000,
          1044999.9999999999,
          518000,
          525000,
          647000,
          645000,
          252999.99999999997,
          1175000,
          405000,
          585000,
          1175000,
          385000,
          1750000,
          310000,
          916000,
          800000,
          699000,
          750000,
          626000,
          465000.00000000006,
          1268000,
          375000,
          509999.99999999994,
          9350000,
          660000,
          790000,
          690000,
          1450000,
          570000,
          827000,
          650000,
          815000,
          1100000,
          1150000,
          391000,
          1529000,
          5300000,
          860000,
          1145000,
          790000,
          1650000,
          475000,
          5700000,
          4950000,
          828999.9999999999,
          648000,
          964000,
          340000,
          335000,
          1800000,
          4900000,
          5750000,
          900000,
          900000,
          890000,
          265000,
          1200000,
          711000,
          960000,
          273000,
          1725000,
          735000,
          407000,
          5900000,
          459999.99999999994,
          360000,
          1650000,
          360000,
          700000,
          210000,
          1825000,
          484999.99999999994,
          9000000,
          520000,
          4800000,
          362000,
          459999.99999999994,
          451000,
          442000,
          430000,
          2290000,
          2089999.9999999998,
          7500000,
          6450000,
          5900000,
          950000,
          1750000,
          287000,
          310000,
          287000,
          1202000,
          975000,
          665000,
          279000,
          766000,
          380000,
          520000,
          2800000,
          450000,
          2425000,
          840000,
          459000,
          769000,
          900000,
          1277000,
          969000,
          6000000,
          942000,
          690000,
          1256000,
          3600000,
          950000,
          235000,
          890000,
          660000,
          3900000,
          675000,
          5000000,
          971000.0000000001,
          352000,
          2300000,
          866000,
          508000,
          796000,
          2480000,
          434000,
          782000,
          2089999.9999999998,
          2480000,
          1989999.9999999998,
          1090000,
          3375000,
          1950000,
          1621000,
          471000,
          1689999.9999999998,
          396000,
          1490000,
          2680000,
          1891000,
          555000,
          6000000,
          990000,
          850000,
          1050000,
          725000,
          890000,
          433000,
          715000,
          345000,
          855000.0000000001,
          365000,
          220000.00000000003,
          6075000,
          890000,
          1350000,
          1650000,
          1050000,
          295000,
          461000.00000000006,
          719000,
          550000,
          287000,
          1035000,
          875000,
          445000,
          1190000,
          1770000,
          990000,
          620000,
          890000,
          801000,
          2050000,
          3575000,
          1900000,
          5600000,
          765000,
          894999.9999999999,
          708000,
          400000,
          725000,
          663000,
          390000,
          784000,
          2100000,
          1350000,
          2350000,
          4600000,
          2250000,
          3500000,
          900000,
          5245000,
          350000,
          839000,
          120000,
          750000,
          1284000,
          869999.9999999999,
          634000,
          7500000,
          1250000,
          1325000,
          3215000,
          1300000,
          1000000,
          600000,
          495000,
          2050000,
          627000,
          340000,
          190000,
          300000,
          575000,
          743000,
          645000,
          1700000,
          120000,
          1121000,
          1375000,
          525000,
          375000,
          1698999.9999999998,
          894999.9999999999,
          409999.99999999994,
          525000,
          625000,
          340000,
          1750000,
          1295000,
          699000,
          387000,
          1475000,
          484999.99999999994,
          295000,
          425000,
          250000,
          350000,
          645000,
          459999.99999999994,
          1800000,
          580000,
          4200000,
          750000,
          213000,
          1450000,
          1100000,
          611000,
          745000,
          1851000.0000000002,
          415000.00000000006,
          1075000,
          550000,
          540000,
          540000,
          575000,
          6200000,
          890000,
          3449000,
          1280000,
          356000,
          1950000,
          2089999.9999999998,
          1500000,
          1190000,
          1000000,
          213000,
          300000,
          478000,
          450000,
          680000,
          385000,
          626000,
          1350000,
          345000,
          505000,
          749000,
          1500000,
          2995000,
          325000,
          430999.99999999994,
          780000,
          530000,
          949000,
          479000,
          562000,
          735000,
          549000,
          715000,
          220000.00000000003,
          900000,
          2550000,
          499000,
          857000,
          2350000,
          501000,
          400000,
          440000.00000000006,
          545000,
          243000.00000000003,
          546000,
          6475000,
          2800000,
          1090000,
          575000,
          13200000,
          800000,
          819999.9999999999,
          545000,
          800000,
          599000,
          13200000,
          725000,
          525000,
          6950000,
          480000,
          276000,
          8800000,
          335000,
          2290000,
          1150000,
          985000,
          567000,
          738000,
          3050000,
          469000.00000000006,
          935000,
          765000,
          765000,
          524000,
          549000,
          475000,
          775000,
          649000,
          551000,
          484999.99999999994,
          195000,
          5400000,
          1775000,
          825000,
          13799999.999999998,
          9100000,
          766000,
          859000,
          1910000.0000000002,
          6900000,
          704000,
          1443000,
          765000,
          675000,
          2095000,
          1400000,
          1975000,
          1095000,
          850000,
          1485000,
          621000,
          1725000,
          622000,
          1310000,
          625000,
          725000,
          532000,
          4300000,
          710000,
          1390000,
          690000,
          350000,
          1145000,
          518000,
          261000,
          866000,
          3850000,
          8900000,
          2125000,
          518000,
          574000,
          449000,
          1925000,
          6600000,
          6200000,
          2700000,
          4050000,
          3300000,
          507000,
          1500000,
          2349000,
          1052000,
          6700000,
          930000.0000000001,
          850000,
          5100000,
          1300000,
          625000,
          5600000,
          1499000,
          2450000,
          735000,
          1650000,
          39500000,
          627000,
          1798999.9999999998,
          335000,
          511000.00000000006,
          9300000,
          2099000,
          1950000,
          849000,
          7950000,
          500000,
          775000,
          11000000,
          486000.00000000006,
          450000,
          989000,
          5550000,
          5100000,
          526000,
          15500000,
          434000,
          300000,
          1103000,
          645000,
          5150000,
          2790000,
          1100000,
          300000,
          3750000,
          422000,
          1500000,
          495000,
          815000,
          215000,
          15900000,
          565000,
          280000,
          1650000,
          4400000,
          635000,
          1110000,
          450000,
          260000,
          346000,
          1475000,
          479000,
          300000,
          740000,
          750000,
          800000,
          1425000,
          1425000,
          660000,
          150000,
          1100000,
          2800000,
          676000,
          1125000,
          686000,
          798000,
          4890000,
          1450000,
          787000,
          484999.99999999994,
          1714999.9999999998,
          6100000,
          425000,
          700000,
          61000,
          24500000,
          711000,
          5250000,
          423000.00000000006,
          1500000,
          836999.9999999999,
          894000,
          6250000,
          950000,
          650000,
          4399000,
          595000,
          499000,
          6300000,
          5200000,
          459000,
          5190000,
          332000,
          1550000,
          426999.99999999994,
          1900000,
          4200000,
          183000,
          571000,
          806000,
          1700000,
          525000,
          120000,
          265000,
          6150000,
          519000.00000000006,
          558000,
          5590000,
          1025000,
          698000,
          275000,
          3950000,
          524000,
          675000,
          546000,
          775000,
          245000.00000000003,
          1000000,
          3090000,
          595000,
          592000,
          520000,
          352000,
          890000,
          258000,
          775000,
          1095000,
          800000,
          5600000,
          775000,
          575000,
          675000,
          1650000,
          6675000,
          568000,
          2350000,
          548000,
          5150000,
          1150000,
          11900000,
          41500000,
          379000,
          197000,
          4825000,
          1775000,
          1650000,
          540000,
          1839999.9999999998,
          885000,
          1800000,
          965000,
          208000,
          528000,
          2175000,
          555000,
          6200000,
          622000,
          1975000,
          733000,
          1075000,
          5999000,
          3100000,
          3100000,
          699000,
          250000,
          3965000,
          578000,
          265000,
          306000,
          549000,
          536000,
          26900000,
          304000,
          295000,
          1296000,
          295000,
          425000,
          350000,
          4375000,
          275000,
          415000.00000000006,
          465000.00000000006,
          545000,
          509999.99999999994,
          749000,
          434999.99999999994,
          346000,
          204999.99999999997,
          969999.9999999999,
          256999.99999999997,
          275000,
          229000,
          1250000,
          7750000,
          1725000,
          349000,
          5500000,
          3145000,
          699000,
          1275000,
          565000,
          722000,
          1685000.0000000002,
          803999.9999999999,
          4300000,
          2275000,
          742000,
          910000,
          4000000,
          315000,
          231000,
          557000,
          5775000,
          369000,
          5250000,
          2675000,
          1150000,
          700000,
          1300000,
          5490000,
          735000,
          5575000,
          397000,
          455000,
          3850000,
          737000,
          540000,
          1748999.9999999998,
          2200000,
          627000,
          1565000,
          4625000,
          772000,
          587000,
          409999.99999999994,
          699000,
          642000,
          2700000,
          447000,
          262000,
          265000,
          430000,
          401000,
          2950000,
          380000,
          825000,
          635000,
          2250000,
          340000,
          950000,
          1825000,
          7200000,
          392000,
          1205000,
          743000,
          3375000,
          484999.99999999994,
          878999.9999999999,
          1050000,
          1980000,
          530000,
          310000,
          440000.00000000006,
          400000,
          3050000,
          1575000,
          4995000,
          360000,
          3565000,
          600000,
          375000,
          2900000,
          313000,
          509999.99999999994,
          455000,
          300000,
          725000,
          2325000,
          515000.00000000006,
          4000000,
          418000,
          7600000,
          200000,
          685000,
          3600000,
          289000,
          1400000,
          323000,
          9500000,
          525000,
          725000,
          425000,
          350000,
          325000,
          675000,
          3875000,
          589000,
          650000,
          1027000,
          375000,
          1300000,
          350000,
          2850000,
          903999.9999999999,
          950000,
          949000,
          3900000,
          7400000,
          1511000,
          6475000,
          9200000,
          4000000,
          4250000,
          422000,
          678000,
          300000,
          496000,
          463000,
          455000,
          751000,
          775000,
          678000,
          550000,
          390000,
          395000,
          295000,
          599000,
          1748999.9999999998,
          399000,
          449000,
          300000,
          295000,
          649000,
          274000,
          375000,
          801000,
          591000,
          434000,
          699000,
          271000,
          555000,
          825000,
          599000,
          480999.99999999994,
          385000,
          699000,
          331000,
          290000,
          492000,
          351000,
          515000.00000000006,
          225000,
          620000,
          349000,
          1385000,
          290000,
          285000,
          330000,
          549000,
          365000,
          650000,
          449000,
          599000,
          499000,
          8800000,
          1358000,
          560000,
          586000,
          463000,
          699000,
          1750000,
          1650000,
          930000.0000000001,
          749000,
          249000.00000000003,
          899000,
          225000,
          399000,
          137000,
          389000,
          548000,
          1695000,
          874000,
          596000,
          575000,
          495000,
          500000,
          725000,
          1030000.0000000001,
          650000,
          450000,
          689000,
          1250000,
          1200000,
          1280000,
          2025000,
          473000.00000000006,
          950000,
          633000,
          875000,
          1100000,
          1250000,
          4150000,
          300000,
          5700000,
          713000,
          600000,
          2089999.9999999998,
          690000,
          513000,
          850000,
          835000,
          438999.99999999994,
          720000,
          538000,
          100000,
          491000,
          925000,
          1060000,
          670000,
          500000,
          240000,
          411000.00000000006,
          670000,
          724000,
          546000,
          799000,
          278000,
          1575000,
          261000,
          415000.00000000006,
          399000,
          220000.00000000003,
          330000,
          434999.99999999994,
          1750000,
          1475000,
          450000,
          4400000,
          380000,
          95000,
          675000,
          527000,
          2990000,
          380000,
          689000,
          2400000,
          474000,
          2550000,
          577000,
          2550000,
          894999.9999999999,
          250000,
          1025000,
          900000,
          650000,
          1175000,
          250000,
          425000,
          425000,
          523000.00000000006,
          240000,
          754000,
          1285000,
          1317000,
          1465000,
          550000,
          618000,
          775000,
          80000,
          775000,
          400000,
          3350000,
          869999.9999999999,
          1100000,
          547000,
          626000,
          1200000,
          445000,
          458000,
          507000,
          713000,
          890000,
          390000,
          575000,
          400000,
          350000,
          2050000,
          825000,
          1650000,
          950000,
          608000,
          922000.0000000001,
          525000,
          526000,
          655000,
          459000,
          1450000,
          865000,
          550000,
          1125000,
          1500000,
          261000,
          950000,
          484999.99999999994,
          509999.99999999994,
          2500000,
          664000,
          520000,
          590000,
          655000,
          699000,
          395000,
          217000,
          940000,
          886999.9999999999,
          425000,
          495000,
          137000,
          565000,
          1290000,
          386000,
          513999.99999999994,
          508000,
          670000,
          760000,
          3350000,
          398000,
          484999.99999999994,
          525000,
          375000,
          595000,
          200000,
          531000,
          1625000,
          503000,
          861999.9999999999,
          880000.0000000001,
          272000,
          627000,
          2850000,
          428000,
          175000,
          413999.99999999994,
          509999.99999999994,
          550000,
          2341000,
          170000,
          450000,
          33000,
          409999.99999999994,
          513999.99999999994,
          1150000,
          747000,
          593000,
          900000,
          539000,
          335000,
          910000,
          1925000,
          6000000,
          760000,
          490000.00000000006,
          521000,
          1400000,
          900000,
          950000,
          765000,
          555000,
          476999.99999999994,
          341000,
          476000,
          611000,
          825000,
          665000,
          6350000,
          475000,
          635000,
          399000,
          459999.99999999994,
          2375000,
          720000,
          846000.0000000001,
          500000,
          471000,
          446000,
          365000,
          354000,
          1650000,
          877999.9999999999,
          1910000.0000000002,
          525000,
          830000.0000000001,
          1345000,
          1345000,
          5495000,
          2300000,
          1600000,
          2890000,
          746000,
          639000,
          749000,
          2750000,
          275000,
          475000,
          2300000,
          665000,
          3500000,
          850000,
          1985000.0000000002,
          550000,
          525000,
          375000,
          1011999.9999999999,
          1350000,
          400000,
          1930000,
          525000,
          425000,
          525000,
          375000,
          2100000,
          409999.99999999994,
          434999.99999999994,
          645000,
          775000,
          2390000,
          300000,
          2400000,
          1678000,
          499000,
          3275000,
          206999.99999999997,
          603000,
          1400000,
          3150000,
          5000000,
          1725000,
          5240000,
          1250000,
          1925000,
          935000,
          551000,
          505999.99999999994,
          6300000,
          422000,
          631000,
          590000,
          499000,
          785000,
          3600000,
          925000,
          645000,
          760000,
          4200000,
          1245000,
          500000,
          280000,
          600000,
          1650000,
          418000,
          1850000,
          519000.00000000006,
          320000,
          700000,
          675000,
          550000,
          345000,
          541000,
          430000,
          860000,
          530000,
          1423000,
          1070000,
          173000,
          707000,
          819999.9999999999,
          827999.9999999999,
          1255000,
          616000,
          2099000,
          800000,
          2450000,
          315000,
          315000,
          650000,
          7800000,
          310000,
          825000,
          484999.99999999994,
          350000,
          795000,
          4090000,
          470000,
          625000,
          7290000.000000001,
          794000,
          266000,
          2390000,
          3090000,
          607000,
          4000000,
          2750000,
          740000,
          114999.99999999999,
          167000,
          1475000,
          1995000,
          1265000,
          835000,
          1095000,
          1950000,
          309000,
          204999.99999999997,
          1698999.9999999998,
          2395000,
          1541000,
          308000,
          5700000,
          240000,
          2450000,
          3250000,
          670000,
          800000,
          921000.0000000001,
          310000,
          358000,
          390000,
          1350000,
          345000,
          208000,
          320000,
          210000,
          675000,
          1100000,
          5200000,
          440000.00000000006,
          385000,
          720000,
          540000,
          825000,
          720000,
          229999.99999999997,
          1160000,
          723000,
          806000,
          507000,
          499000,
          1300000,
          639000,
          331000,
          790000,
          376000,
          2650000,
          2650000,
          570000,
          1065000,
          570000,
          419000.00000000006,
          505999.99999999994,
          608000,
          1750000,
          300000,
          1500000,
          1325000,
          2600000,
          3100000,
          944999.9999999999,
          700000,
          399000,
          894999.9999999999,
          324000,
          359000,
          348000,
          532000,
          1925000,
          227999.99999999997,
          295000,
          297000,
          350000,
          360000,
          1850000,
          580000,
          1250000,
          1600000,
          661000,
          350000,
          700000,
          457000,
          1000000,
          295000,
          3450000,
          196000,
          1100000,
          110000.00000000001,
          1875000,
          434999.99999999994,
          1775000,
          740000,
          308000,
          509000,
          1725000,
          305000,
          349000,
          1920000,
          901000,
          1575000,
          651000,
          1900000,
          530000,
          1575000,
          735000,
          701000,
          550000,
          120000,
          490000.00000000006,
          1013000.0000000001,
          2700000,
          615000,
          564000,
          524000,
          690000,
          730000,
          540000,
          210000,
          935000,
          380000,
          1450000,
          200000,
          1730000,
          791000,
          650000,
          482000,
          562000,
          310000,
          892000,
          530000,
          549000,
          595000,
          3850000,
          586000,
          2025000,
          385000,
          545000,
          295000,
          2775000,
          4975000,
          3950000,
          488999.99999999994,
          1549000,
          547000,
          614000,
          445000,
          2200000,
          285000,
          600000,
          2350000,
          1675000,
          875000,
          2850000,
          695000,
          725000,
          500000,
          1650000,
          252999.99999999997,
          496000,
          1425000,
          1425000,
          377000,
          1580000,
          86000,
          634000,
          525000,
          660000,
          562000,
          1114000,
          344000,
          530000,
          4500000,
          278000,
          4700000,
          3050000,
          690000,
          550000,
          819999.9999999999,
          399000,
          720000,
          340000,
          457000,
          653000,
          426000,
          465000.00000000006,
          245000.00000000003,
          844999.9999999999,
          580000,
          235000,
          270000,
          625000,
          1050000,
          740000,
          275000,
          1365000,
          429000,
          544000,
          3050000,
          449000,
          503000,
          350000,
          9600000,
          1755000,
          850000,
          1200000,
          221000,
          827999.9999999999,
          600000,
          517000,
          371000,
          475000,
          405999.99999999994,
          1090000,
          890000,
          1889999.9999999998,
          840000,
          900000,
          950000,
          418000,
          1195000,
          1044000,
          955000.0000000001,
          671000,
          1900000,
          1178000,
          488999.99999999994,
          1541000,
          465000.00000000006,
          728000,
          530000,
          466000,
          457000,
          290000,
          3800000,
          375000,
          600000,
          1400000,
          1900000,
          740000,
          440000.00000000006,
          519000.00000000006,
          1600000,
          525000,
          1108000,
          420000,
          326000,
          950000,
          639000,
          2250000,
          670000,
          1650000,
          875000,
          1600000,
          675000,
          3390000,
          926000,
          850000,
          577000,
          894999.9999999999,
          521000,
          650000,
          670000,
          775000,
          980000.0000000001,
          750000,
          450000,
          302000,
          480000,
          967000,
          432000,
          600000,
          610000,
          1250000,
          337000,
          527000,
          1750000,
          285000,
          975000,
          725000,
          955000.0000000001,
          1850000,
          1010000,
          1750000,
          621000,
          633000,
          6900000,
          679000,
          1388000,
          590000,
          570000,
          2650000,
          679000,
          1800000,
          640000,
          475000,
          430000,
          1700000,
          1950000,
          675000,
          430000,
          420000,
          580000,
          401999.99999999994,
          240000,
          795000,
          463000,
          625000,
          170000,
          1950000,
          325000,
          750000,
          275000,
          447000,
          578000,
          600000,
          524000,
          552000,
          265000,
          721000,
          1550000,
          1092000,
          890000,
          609000,
          1100000,
          844999.9999999999,
          1013000.0000000001,
          1124000,
          609000,
          1500000,
          585000,
          400000,
          4980000,
          1080000,
          520000,
          680000,
          1199000,
          498000.00000000006,
          633000,
          475000,
          601000,
          352000,
          2395000,
          720000,
          541000,
          513999.99999999994,
          780000,
          994999.9999999999,
          940000,
          1490000,
          580000,
          6695000,
          375000,
          3000000,
          2850000,
          787000,
          595000,
          790000,
          655000,
          336000,
          832000,
          1025000,
          1995000,
          2650000,
          2450000,
          2550000,
          595000,
          625000,
          599000,
          513999.99999999994,
          2375000,
          458000,
          700000,
          515000.00000000006,
          822000.0000000001,
          265000,
          579000,
          434999.99999999994,
          643000,
          750000,
          825000,
          2675000,
          610000,
          1090000,
          100000,
          625000,
          357000,
          547000,
          300000,
          332000,
          325000,
          644000,
          8200000,
          528000,
          1150000,
          740000,
          599000,
          1125000,
          1299000,
          1050000,
          416000,
          642000,
          849000,
          710000,
          580000,
          575000,
          699000,
          520000,
          720000,
          1800000,
          749000,
          2195000,
          700000,
          645000,
          391000,
          2275000,
          1975000,
          375000,
          432000,
          688000,
          350000,
          630000,
          685000,
          3200000,
          630000,
          520000,
          1000000,
          788000,
          994999.9999999999,
          416000,
          344000,
          450000,
          520000,
          628000,
          525000,
          513999.99999999994,
          1700000,
          290000,
          750000,
          300000,
          980000.0000000001,
          675000,
          616000,
          750000,
          450000,
          498000.00000000006,
          650000,
          350000,
          541000,
          1125000,
          1000000,
          1195000,
          440000.00000000006,
          503000,
          702000,
          690000,
          520000,
          699000,
          250000,
          501999.99999999994,
          509999.99999999994,
          660000,
          599000,
          3400000,
          1595000,
          310000,
          675000,
          3500000,
          392000,
          401000,
          4200000,
          909000,
          543000,
          1100000,
          743000,
          1599000,
          811000,
          250000,
          650000,
          975000,
          1199000,
          999000,
          525000,
          420000,
          600000,
          996000.0000000001,
          1700000,
          307000,
          454000,
          850000,
          907000,
          509000,
          4800000,
          940000,
          6200000,
          650000,
          580000,
          595000,
          1100000,
          770000,
          695000,
          1261000,
          875000,
          927999.9999999999,
          1100000,
          1275000,
          950000,
          400000,
          550000,
          475000,
          720000,
          4050000,
          3875000,
          532000,
          1150000,
          944000,
          501000,
          850000,
          472000,
          860000,
          469000.00000000006,
          289000,
          690000,
          321000,
          575000,
          890000,
          525000,
          900000,
          1650000,
          1120000,
          599000,
          1019999.9999999999,
          443000,
          644000,
          750000,
          519000.00000000006,
          695000,
          981000,
          425000,
          1537000,
          323000,
          700000,
          809000,
          1785000.0000000002,
          2650000,
          1195000,
          4800000,
          425000,
          385000,
          545000,
          747000,
          633000,
          814000,
          900000,
          605000,
          622000,
          317000,
          795000,
          575000,
          1998999.9999999998,
          750000,
          749000,
          550000,
          599000,
          570000,
          894999.9999999999,
          1011000,
          570000,
          605000,
          1798999.9999999998,
          894999.9999999999,
          1350000,
          1320000,
          1998999.9999999998,
          2499000,
          1800000,
          1750000,
          429000,
          376000,
          1015000,
          3700000,
          800000,
          165000,
          831000,
          691000,
          175000,
          599000,
          2395000,
          320000,
          3150000,
          825000,
          375000,
          487000,
          290000,
          983000,
          450000,
          672000,
          1350000,
          457000,
          311000,
          623000,
          1090000,
          1600000,
          200000,
          925000,
          1150000,
          1150000,
          2550000,
          1050000,
          441000,
          759000,
          425000,
          736000,
          840000,
          305000,
          629000,
          869000,
          300000,
          850000,
          869999.9999999999,
          775000,
          790000,
          855000.0000000001,
          229999.99999999997,
          599000,
          900000,
          362000,
          1295000,
          964000,
          459999.99999999994,
          1325000,
          1050000,
          465000.00000000006,
          295000,
          26000000,
          707000,
          605000,
          565000,
          608000,
          725000,
          360000,
          919999.9999999999,
          740000,
          625000,
          450000,
          650000,
          450000,
          2445000,
          675000,
          652000,
          496000,
          650000,
          789000,
          311000,
          1000000,
          613000,
          999000,
          740000,
          1650000,
          1320000,
          220000.00000000003,
          550000,
          550000,
          501999.99999999994,
          552000,
          830000.0000000001,
          579000,
          1215000,
          950000,
          1021000.0000000001,
          2595000,
          869999.9999999999,
          4500000,
          677000,
          725000,
          650000,
          980000.0000000001,
          1100000,
          290000,
          590000,
          299000,
          1252000,
          875000,
          550000,
          969999.9999999999,
          590000,
          771000,
          767000,
          581000,
          1025000,
          2150000,
          660000,
          662000,
          395000,
          680000,
          311000,
          2150000,
          1015000,
          2850000,
          461000.00000000006,
          1450000,
          802999.9999999999,
          220000.00000000003,
          1150000,
          2995000,
          6950000,
          900000,
          1400000,
          295000,
          1964999.9999999998,
          306000,
          2014999.9999999998,
          645000,
          299000,
          423000.00000000006,
          295000,
          565000,
          2250000,
          299000,
          490000.00000000006,
          340000,
          650000,
          1650000,
          750000,
          700000,
          466000,
          587000,
          677000,
          315000,
          114999.99999999999,
          1450000,
          800000,
          1550000,
          3000000,
          345000,
          750000,
          3000000,
          1698999.9999999998,
          1200000,
          401000,
          347000,
          764000,
          1400000,
          831000,
          465000.00000000006,
          415000.00000000006,
          320000,
          400000,
          1200000,
          1100000,
          850000,
          390000,
          1225000,
          749000,
          1001000,
          781000,
          1650000,
          490000.00000000006,
          2275000,
          670000,
          337000,
          1350000,
          611000,
          975000,
          400000,
          900000,
          650000,
          225000,
          2250000,
          707000,
          576000,
          685000,
          1205000,
          407000,
          300000,
          225000,
          475000,
          559000,
          789000,
          1297000,
          691000,
          775000,
          231999.99999999997,
          425000,
          281000,
          600000,
          950000,
          939000,
          777000,
          701000,
          625000,
          465000.00000000006,
          472000,
          604000,
          1050000,
          273000,
          499000,
          299000,
          425000,
          499000,
          1650000,
          750000,
          300000,
          800000,
          810000,
          750000,
          497000,
          577000,
          670000,
          690000,
          1700000,
          252000,
          1900000,
          700000,
          1350000,
          650000,
          529000,
          646000,
          607000,
          374000,
          817000,
          180000,
          680000,
          1000000,
          1000000,
          1080000,
          315000,
          760000,
          741000,
          365000,
          409999.99999999994,
          475000,
          459999.99999999994,
          594000,
          516000,
          760000,
          499000,
          1300000,
          450000,
          295000,
          790000,
          480000,
          1228000,
          420000,
          750000,
          1098000,
          650000,
          4550000,
          680000,
          2699000,
          499000,
          1250000,
          409000,
          991000,
          298000,
          720000,
          583000,
          1125000,
          982000,
          458000,
          852999.9999999999,
          390000,
          400000,
          2200000,
          750000,
          447000,
          330000,
          470000,
          297000,
          350000,
          765000,
          1998999.9999999998,
          850000,
          1000000,
          1050000,
          909000,
          734000,
          450000,
          356000,
          835000,
          3100000,
          549000,
          881000,
          325000,
          250000,
          810000,
          1200000,
          650000,
          315000,
          568000,
          650000,
          3250000,
          672000,
          981000,
          803999.9999999999,
          800000,
          600000,
          3595000.0000000005,
          1475000,
          245000.00000000003,
          777000,
          297000,
          1950000,
          916000,
          842000,
          290000,
          525000,
          894999.9999999999,
          3600000,
          385000,
          300000,
          515000.00000000006,
          299000,
          483000,
          1299000,
          618000,
          1000000,
          990000,
          252999.99999999997,
          399000,
          659000,
          370000,
          700000,
          750000,
          2000000,
          360000,
          426000,
          990000,
          951000,
          567000,
          298000,
          674000,
          1000000,
          1050000,
          1725000,
          1175000,
          940000,
          988000.0000000001,
          2675000,
          1157000,
          1598000,
          2675000,
          266000,
          3275000,
          210000,
          549000,
          345000,
          300000,
          495000,
          445000,
          165000,
          1491000,
          290000,
          860000,
          241000,
          185000,
          568000,
          470000,
          457000,
          1022000.0000000001,
          312000,
          869999.9999999999,
          2800000,
          520000,
          550000,
          631000,
          476000,
          1119000,
          1002000,
          685000,
          347000,
          756000,
          1581000,
          584000,
          1500000,
          535000,
          409999.99999999994,
          295000,
          2200000,
          2120000,
          310000,
          337000,
          1259000,
          1291000,
          498000.00000000006,
          470000,
          894999.9999999999,
          559000,
          480000,
          660000,
          145000,
          165000,
          380000,
          450000,
          2300000,
          531000,
          744000,
          200000,
          576000,
          760000,
          480000,
          922000.0000000001,
          2400000,
          490000.00000000006,
          459999.99999999994,
          1589000,
          930000.0000000001,
          702000,
          1008000,
          813000.0000000001,
          1485000,
          989000,
          1485000,
          492000,
          446000,
          1103000,
          550000,
          1500000,
          365000,
          1450000,
          900000,
          385000,
          1639000,
          765000,
          4500000,
          744000,
          825000,
          770000,
          745000,
          1775000,
          765000,
          835000,
          470000,
          200000,
          7500000,
          1299000,
          225000,
          249000.00000000003,
          279000,
          310000,
          418000,
          799000,
          365000,
          753000,
          520000,
          394000,
          991000,
          1400000,
          773000,
          465000.00000000006,
          1199000,
          1300000,
          3575000,
          700000,
          450000,
          3900000,
          403000,
          1192000,
          340000,
          925000,
          850000,
          225000,
          692000,
          1180000,
          420000,
          590000,
          960000,
          750000,
          1260000,
          770000,
          1800000,
          642000,
          620000,
          951000,
          900000,
          1807999.9999999998,
          669000,
          1050000,
          600000,
          880000.0000000001,
          640000,
          850000,
          900000,
          1700000,
          1268000,
          1120000,
          850000,
          408000,
          1750000,
          542000,
          810000,
          3180000,
          279000,
          339000,
          269000,
          400000,
          580000,
          860000,
          2100000,
          270000,
          732000,
          175000,
          1085000,
          279000,
          825000,
          387000,
          383000,
          600000,
          813000.0000000001,
          1050000,
          180000,
          700000,
          999000,
          286000,
          293000,
          753000,
          600000,
          325000,
          600000,
          600000,
          400000,
          1685000.0000000002,
          200000,
          720000,
          1064000,
          647000,
          1625000,
          846000.0000000001,
          458000,
          195000,
          650000,
          619000,
          700000,
          2000000,
          450000,
          2000000,
          631000,
          951000,
          301000,
          245000.00000000003,
          345000,
          574000,
          405000,
          827999.9999999999,
          779000,
          600000,
          785000,
          600000,
          630000,
          1000000,
          618000,
          490000.00000000006,
          585000,
          850000,
          1500000,
          1150000,
          630000,
          650000,
          850000,
          720000,
          350000,
          2300000,
          570000,
          450000,
          336000,
          798000,
          100000,
          362000,
          750000,
          830000.0000000001,
          1500000,
          280000,
          484999.99999999994,
          450000,
          716000,
          830000.0000000001,
          380000,
          200000,
          459999.99999999994,
          409999.99999999994,
          408000,
          400000,
          400000,
          1100000,
          350000,
          304000,
          254999.99999999997,
          836000,
          1175000,
          1450000,
          590000,
          582000,
          4850000,
          500000,
          800000,
          950000,
          819999.9999999999,
          180000,
          1300000,
          708000,
          1500000,
          765000,
          256999.99999999997,
          69000,
          1625000,
          1650000,
          1150000,
          499000,
          315000,
          980000.0000000001,
          2100000,
          446000,
          1850000,
          1050000,
          615000,
          1810000.0000000002,
          390000,
          560000,
          750000,
          1320000,
          220000.00000000003,
          850000,
          523000.00000000006,
          583000,
          1750000,
          824000,
          622000,
          450000,
          1019999.9999999999,
          325000,
          1499000,
          249000.00000000003,
          799000,
          390000,
          580000,
          380000,
          264000,
          531000,
          525000,
          1024000,
          552000,
          715000,
          635000,
          850000,
          1700000,
          327000,
          627000,
          350000,
          993000,
          1923999.9999999998,
          1321000,
          706000,
          245000.00000000003,
          5500000,
          700000,
          700000,
          2000000,
          1500000,
          381000,
          420000,
          350000,
          425000,
          1375000,
          450000,
          449000,
          295000,
          5890000,
          10500000,
          1989999.9999999998,
          475000,
          2000000,
          900000,
          950000,
          1900000,
          436000.00000000006,
          1000000,
          252000,
          550000,
          750000,
          325000,
          4600000,
          560000,
          590000,
          555000,
          4200000,
          600000,
          343000,
          544000,
          990000,
          469000.00000000006,
          716000,
          1000000,
          305000,
          910000,
          225000,
          725000,
          775000,
          740000,
          732000,
          5890000,
          850000,
          1650000,
          2150000,
          500000,
          1473000,
          750000,
          690000,
          714000,
          2680000,
          492000,
          1700000,
          1150000,
          934000,
          360000,
          710000,
          650000,
          2190000,
          1100000,
          625000,
          899000,
          675000,
          910000,
          830000.0000000001,
          9000000,
          850000,
          665000,
          360000,
          1850000,
          625000,
          740000,
          575000,
          321000,
          680000,
          825000,
          396000,
          851000,
          840000,
          851000,
          1300000,
          775000,
          1100000,
          700000,
          1100000,
          915000,
          1850000,
          600000,
          900000,
          385000,
          484999.99999999994,
          1000000,
          545000,
          621000,
          850000,
          980000.0000000001,
          3190000,
          899000,
          360000,
          1395000,
          453000,
          534000,
          709000,
          1000000,
          890000,
          725000,
          1150000,
          790000,
          888000.0000000001,
          425000,
          425000,
          1060000,
          2390000,
          2500000,
          400000,
          2190000,
          2190000,
          1019999.9999999999,
          200000,
          1425000,
          1789999.9999999998,
          630000,
          1450000,
          285000,
          535000,
          434999.99999999994,
          574000,
          589000,
          350000,
          377000,
          544000,
          1700000,
          869999.9999999999,
          2490000,
          800000,
          1500000,
          725000,
          625000,
          665000,
          453000,
          750000,
          692000,
          525000,
          480000,
          3600000,
          1750000,
          1325000,
          675000,
          100000,
          634000,
          458000,
          940000,
          1390000,
          295000,
          445000,
          1525000,
          700000,
          1300000,
          390000,
          350000,
          450000,
          950000,
          2990000,
          672000,
          500000,
          759000,
          825000,
          670000,
          200000,
          5890000,
          325000,
          1789999.9999999998,
          590000,
          409999.99999999994,
          700000,
          325000,
          1490000,
          311000,
          371000,
          5400000,
          349000,
          445000,
          690000,
          3000000,
          360000,
          750000,
          475000,
          2750000,
          525000,
          362000,
          380000,
          851000,
          690000,
          890000,
          811000,
          894999.9999999999,
          650000,
          590000,
          300000,
          1889999.9999999998,
          579000,
          595000,
          894999.9999999999,
          1555000,
          1525000,
          525000,
          650000,
          1325000,
          575000,
          170000,
          587000,
          400000,
          1595000,
          380000,
          525000,
          850000,
          1490000,
          375000,
          383000,
          713000,
          655000,
          313000,
          575000,
          675000,
          825000,
          445000,
          9000000,
          1300000,
          750000,
          750000,
          670000,
          894999.9999999999,
          90000,
          365000,
          1470000,
          309000,
          900000,
          1550000,
          355000,
          2500000,
          600000,
          475000,
          590000,
          532000,
          525000,
          225000,
          250000,
          1000000,
          420000,
          300000,
          675000,
          625000,
          1290000,
          250000,
          715000,
          356000,
          525000,
          443000,
          225000,
          750000,
          425000,
          65000,
          894999.9999999999,
          490000.00000000006,
          625000,
          850000,
          304000,
          371000,
          70000,
          695000,
          685000,
          1600000,
          1560000,
          2450000,
          1490000,
          379000,
          252999.99999999997,
          495000,
          338000,
          273000,
          150000,
          1000000,
          925000,
          1350000,
          350000,
          1370000,
          295000,
          75000,
          1500000,
          225000,
          332000,
          415000.00000000006,
          655000,
          775000,
          1050000,
          475000,
          325000,
          1400000,
          1025000,
          500000,
          300000,
          3000000,
          1000000,
          750000,
          459999.99999999994,
          1525000,
          650000,
          1140000,
          340000,
          1040000,
          334000,
          610000,
          349000,
          513999.99999999994,
          300000,
          850000,
          500000,
          560000,
          800000,
          180000,
          270000,
          735000,
          308000,
          380000,
          459999.99999999994,
          657000,
          254999.99999999997,
          450000,
          825000,
          894999.9999999999,
          810000,
          1789999.9999999998,
          1889999.9999999998,
          28001,
          270000,
          409999.99999999994,
          296000,
          576000,
          80000,
          3190000,
          1750000,
          35840,
          750000,
          1764999.9999999998,
          900000,
          950000,
          450000,
          894999.9999999999,
          250000,
          1285000,
          325000,
          350000,
          1390000,
          823000,
          1395000,
          790000,
          342000,
          270000,
          358000,
          500000,
          409999.99999999994,
          650000,
          2290000,
          1500000,
          380000,
          500000,
          944999.9999999999,
          525000,
          975000,
          564000,
          326000,
          465000.00000000006,
          180000,
          710000,
          794000,
          465000.00000000006,
          520000,
          390000,
          600000,
          395000,
          980000.0000000001,
          360000,
          1250000,
          1850000,
          450000,
          735000,
          500000,
          484999.99999999994,
          429000,
          347000,
          2450000,
          400000,
          900000,
          250000,
          1575000,
          1475000,
          1370000,
          900000,
          272000,
          509000,
          470000,
          539000,
          544000,
          965000,
          280000,
          450000,
          1130000,
          775000,
          216000,
          600000,
          2089999.9999999998,
          1011999.9999999999,
          630000,
          3800000,
          875000,
          1110000,
          280000,
          364000,
          352000,
          215000,
          231000,
          1156000,
          400000,
          500000,
          1420000,
          1200000,
          1400000,
          96295,
          570000,
          537000,
          2450000,
          541000,
          578000,
          1490000,
          200000,
          750000,
          675000,
          894999.9999999999,
          420000,
          550000,
          725000,
          420000,
          785000,
          459999.99999999994,
          750000,
          419000.00000000006,
          549000,
          710000,
          633000,
          470000,
          550000,
          545000,
          565000,
          409999.99999999994,
          650000,
          1260000,
          210000,
          990000,
          1059000,
          426000,
          175000,
          1000000,
          530000,
          700000,
          299000,
          250000,
          894999.9999999999,
          322000,
          1400000,
          310000,
          825000,
          810000,
          649000,
          670000,
          1525000,
          655000,
          493000,
          325000,
          550000,
          337000,
          1044999.9999999999,
          118000,
          436000.00000000006,
          75697,
          861000,
          590000,
          553000,
          429000,
          500000,
          108000,
          482000,
          206000,
          630000,
          1390000,
          525000,
          364000,
          200000,
          250000,
          1300000,
          200000,
          450000,
          150000,
          350000,
          100000,
          3100000,
          179000,
          900000,
          190000,
          547000,
          1650000,
          1000000,
          580000,
          250000,
          602000,
          900000,
          54000,
          325000,
          1200000,
          1450000,
          270000,
          300000,
          62000,
          415000.00000000006,
          755000,
          340000,
          900000,
          950000,
          731000,
          1200000,
          1000000,
          607000,
          1600000,
          1275000,
          994999.9999999999,
          1350000,
          1490000,
          750000,
          675000,
          1050000,
          276000,
          182000,
          50000,
          600000,
          130000,
          130000,
          130000,
          650000,
          250000,
          110000.00000000001,
          730000,
          130000,
          330000,
          600000,
          600000,
          600000,
          335000,
          1100000,
          300000,
          180000,
          1100000,
          900000,
          229999.99999999997,
          400000,
          700000,
          600000,
          745000,
          1166000,
          500000,
          225000,
          1000000,
          950000,
          150000,
          185000,
          800000,
          100000,
          200000,
          1600000,
          100000,
          1200000,
          1070000,
          248000,
          400000,
          400000,
          900000,
          310000,
          350000,
          1300000,
          850000,
          500000,
          950000,
          1214000,
          670000,
          850000,
          300000,
          330000,
          370000,
          325000,
          800000,
          325000,
          800000,
          780000,
          950000,
          425000,
          1450000,
          280000,
          500000,
          500000,
          142000,
          300000,
          650000,
          520000,
          750000,
          250000,
          350000,
          400000,
          459999.99999999994,
          425000,
          650000,
          455999.99999999994,
          350000,
          375000,
          400000,
          450000,
          640000,
          675000,
          300000,
          260000,
          850000,
          450000,
          450000,
          300000,
          225000,
          40000,
          400000,
          350000,
          250000,
          350000,
          300000,
          1000000,
          700000,
          800000,
          819999.9999999999,
          675000,
          350000,
          500000,
          320000,
          325000,
          950000,
          950000,
          300000,
          400000,
          500000,
          500000,
          500000,
          250000,
          400000,
          400000,
          500000,
          725000,
          400000,
          800000,
          450000,
          450000,
          500000,
          700000,
          550000,
          1525000,
          400000,
          630000,
          200000,
          370000,
          4000000,
          800000,
          300000,
          700000,
          650000,
          800000,
          800000,
          700000,
          750000,
          900000,
          730000,
          730000,
          810000,
          500000,
          3200000,
          200000,
          600000,
          400000,
          350000,
          700000,
          450000,
          600000,
          400000,
          830000.0000000001,
          500000,
          300000,
          450000,
          450000,
          300000,
          680000,
          350000,
          450000,
          525000,
          600000,
          79000,
          500000,
          700000,
          200000,
          200000,
          600000,
          130000,
          150000,
          72000,
          160000,
          40000,
          350000,
          108000,
          105000,
          850000,
          100000,
          500000,
          266000,
          595000,
          425000,
          250000,
          208000,
          311000,
          463999.99999999994,
          204999.99999999997,
          2175000,
          643000,
          3750000,
          545000,
          750000,
          1650000,
          315000,
          799000,
          526000,
          675000,
          189000,
          990000,
          534000,
          800000,
          983000,
          281000,
          535000,
          475000,
          5300000,
          695000,
          395000,
          750000,
          480000,
          245000.00000000003,
          719000,
          245000.00000000003,
          1214000,
          438999.99999999994,
          753000,
          300000,
          865000,
          3950000,
          6250000,
          620000,
          350000,
          463999.99999999994,
          621000,
          422000,
          550000,
          545000,
          597000,
          500000,
          1075000,
          835000,
          495000,
          550000,
          1025000,
          775000,
          306000,
          432000,
          1080000,
          521000,
          342000,
          407000,
          459999.99999999994,
          725000,
          340000,
          735000,
          1200000,
          1950000,
          300000,
          695000,
          5600000,
          2109000,
          2000000,
          217000,
          886000,
          550000,
          327000,
          1775000,
          487000,
          612000,
          310000,
          1980000,
          4500000,
          650000,
          750000,
          500000,
          790000,
          645000,
          403000,
          359000,
          511000.00000000006,
          425000,
          277000,
          750000,
          551000,
          254000,
          1275000,
          270000,
          2000000,
          254999.99999999997,
          3450000,
          535000,
          440000.00000000006,
          225000,
          1295000,
          1792000.0000000002,
          602000,
          743000,
          335000,
          750000,
          240000,
          474000,
          346000,
          745000,
          335000,
          550000,
          524000,
          850000,
          210000,
          999000,
          549000,
          520000,
          129000,
          466000,
          844999.9999999999,
          215000,
          725000,
          772000,
          254999.99999999997,
          1673999.9999999998,
          525000,
          295000,
          495000,
          685000,
          1265000,
          894999.9999999999,
          950000,
          727000,
          426999.99999999994,
          349000,
          646000,
          1057000,
          385000,
          875000,
          520000,
          675000,
          360000,
          1795000,
          900000,
          800000,
          357000,
          2350000,
          372000,
          275000,
          763000,
          735000,
          1015000,
          409999.99999999994,
          791000,
          745000,
          1850000,
          110000.00000000001,
          310000,
          3900000,
          650000,
          1600000,
          449000,
          517000,
          500000,
          400000,
          459999.99999999994,
          580000,
          643000,
          200000,
          411000.00000000006,
          500000,
          1475000,
          350000,
          1199000,
          518000,
          141000,
          800000,
          227000,
          1300000,
          437000,
          950000,
          421000,
          193000,
          750000,
          599000,
          335000,
          1050000,
          843000,
          50000,
          650000,
          180000,
          673000,
          198000,
          250000,
          1400000,
          283000,
          215000,
          749000,
          421000,
          465000.00000000006,
          1321000,
          450000,
          1199000,
          345000,
          421000,
          171000,
          172000,
          6600000,
          794000,
          881000,
          1735000.0000000002,
          852999.9999999999,
          325000,
          284000,
          936000,
          800000,
          650000,
          850000,
          161000,
          2750000,
          795000,
          900000,
          1800000,
          509999.99999999994,
          266000,
          150000,
          1375000,
          520000,
          925000,
          650000,
          285000,
          728000,
          210000,
          535000,
          824000,
          500000,
          526000,
          180000,
          969999.9999999999,
          951000,
          180000,
          975000,
          2250000,
          750000,
          2650000,
          1950000,
          614000,
          630000,
          241000,
          513000,
          1550000,
          1006000,
          718000,
          635000,
          475000,
          755000,
          800000,
          450000,
          290000,
          580000,
          600000,
          546000,
          588000,
          2300000,
          499000,
          623000,
          300000,
          338000,
          1750000,
          443000,
          3700000,
          4450000,
          234000,
          140000,
          534000,
          380000,
          565000,
          381000,
          749000,
          877000,
          1400000,
          335000,
          413999.99999999994,
          321000,
          925000,
          345000,
          259000,
          675000,
          1095000,
          1875000,
          325000,
          415000.00000000006,
          1695000,
          365000,
          333000,
          405999.99999999994,
          675000,
          329000,
          279000,
          622000,
          798000,
          618000,
          430999.99999999994,
          415000.00000000006,
          3700000,
          1675000,
          620000,
          380000,
          3500000,
          1550000,
          600000,
          868000,
          917000,
          100000,
          867000,
          827000,
          420000,
          942000,
          1300000,
          803999.9999999999,
          550000,
          449000,
          300000,
          663000,
          500000,
          934000,
          914000,
          840000,
          684000,
          524000,
          442000,
          580000,
          3800000,
          828999.9999999999,
          2649000,
          1950000,
          775000,
          1365000,
          850000,
          434999.99999999994,
          430999.99999999994,
          575000,
          432000,
          254999.99999999997,
          763000,
          846000.0000000001,
          999000,
          280000,
          775000,
          350000,
          445000,
          500000,
          21000000,
          825000,
          509999.99999999994,
          325000,
          500000,
          640000,
          334000,
          1250000,
          774000,
          326000,
          634000,
          825000,
          458000,
          413999.99999999994,
          310000,
          2025000,
          2460000,
          900000,
          400000,
          324000,
          356000,
          295000,
          229999.99999999997,
          268000,
          690000,
          549000,
          487000,
          1750000,
          425000,
          284000,
          430000,
          445000,
          1199000,
          170000,
          350000,
          525000,
          498000.00000000006,
          625000,
          494000.00000000006,
          462000,
          710000,
          889000,
          2099000,
          304000,
          308000,
          1550000,
          500000,
          150000,
          395000,
          1400000,
          450000,
          495000,
          1078000,
          459999.99999999994,
          560000,
          259000,
          130000,
          982000,
          425000,
          297000,
          750000,
          658000,
          750000,
          4600000,
          150000,
          99703,
          409999.99999999994,
          178000,
          894999.9999999999,
          239000,
          652000,
          550000,
          599000,
          199000,
          445000,
          620000,
          706000,
          2400000,
          1639999.9999999998,
          250000,
          3950000,
          373000,
          2200000,
          517000,
          455999.99999999994,
          1250000,
          311000,
          950000,
          305000,
          583000,
          250000,
          430000,
          150000,
          650000,
          330000,
          1499000,
          675000,
          775000,
          280000,
          588000,
          329000,
          459999.99999999994,
          479000,
          380000,
          235000,
          670000,
          269000,
          248000,
          300000,
          459999.99999999994,
          1075000,
          570000,
          975000,
          330000,
          220000.00000000003,
          495000,
          3500000,
          424000,
          595000,
          352000,
          480999.99999999994,
          1090000,
          340000,
          352000,
          319000,
          1075000,
          125000,
          1200000,
          975000,
          999000,
          2500000,
          196000,
          649000,
          386000,
          888000.0000000001,
          475000,
          320000,
          325000,
          400000,
          956000,
          240000,
          239000,
          861000,
          750000,
          559000,
          1035000,
          5895000,
          259000,
          650000,
          1099000,
          999000,
          553000,
          632000,
          330000,
          350000,
          500000,
          408000,
          289000,
          395000,
          1200000,
          725000,
          430000,
          200000,
          296000,
          527000,
          591000,
          480000,
          509999.99999999994,
          590000,
          170000,
          170000,
          3979999.9999999995,
          450000,
          450000,
          190000,
          535000,
          155000,
          557000,
          674000,
          180000,
          318000,
          500000,
          403000,
          1513000,
          1030000.0000000001,
          1530000,
          1050000,
          810000,
          210000,
          684000,
          800000,
          419000.00000000006,
          309000,
          525000,
          509999.99999999994,
          2000000,
          289000,
          273000,
          600000,
          300000,
          1400000,
          1500000,
          750000,
          296000,
          1399000,
          600000,
          342000,
          600000,
          1450000,
          400000,
          120000,
          625000,
          385000,
          335000,
          985000,
          480999.99999999994,
          555000,
          430000,
          1200000,
          286000,
          680000,
          349000,
          785000,
          490000.00000000006,
          1700000,
          350000,
          400000,
          365000,
          216000,
          670000,
          719000,
          3200000,
          1820000,
          750000,
          827000,
          475000,
          2490000,
          330000,
          1400000,
          280000,
          430000,
          114999.99999999999,
          271000,
          592000,
          341000,
          3600000,
          547000,
          566000,
          280000,
          285000,
          299000,
          270000,
          699000,
          850000,
          1250000,
          400000,
          354000,
          850000,
          669000,
          480999.99999999994,
          2400000,
          1170000,
          619000,
          875000,
          518000,
          450000,
          620000,
          3950000,
          450000,
          880000.0000000001,
          425000,
          6200000,
          1950000,
          580000,
          890000,
          626000,
          753000,
          355000,
          399000,
          125000,
          199000,
          354000,
          725000,
          1050000,
          500000,
          550000,
          225000,
          180000,
          165000,
          499000,
          570000,
          627000,
          471000,
          728000,
          659000,
          819999.9999999999,
          2600000,
          222000.00000000003,
          1850000,
          625000,
          650000,
          175000,
          899000,
          900000,
          2550000,
          1170000,
          384000,
          700000,
          647000,
          686000,
          375000,
          1400000,
          703000,
          364000,
          450000,
          400000,
          392000,
          2475000,
          860000,
          2850000,
          2500000,
          372000,
          323000,
          422000,
          1299000,
          1052000,
          227999.99999999997,
          312000,
          276000,
          300000,
          1599000,
          3499000,
          425000,
          1000000,
          399000,
          395000,
          1350000,
          168000,
          977999.9999999999,
          415000.00000000006,
          1700000,
          488999.99999999994,
          287000,
          951000,
          663000,
          179000,
          1350000,
          300000,
          900000,
          1550000,
          1350000,
          325000,
          1250000,
          270000,
          760000,
          754000,
          1050000,
          192000,
          679000,
          600000,
          287000,
          200000,
          3250000,
          340000,
          1900000,
          1500000,
          295000,
          99000,
          357000,
          544000,
          210000,
          140000,
          1195000,
          250000,
          100000,
          1025000,
          855000.0000000001,
          830000.0000000001,
          691000,
          799000,
          1550000,
          750000,
          178000,
          662000,
          280000,
          372000,
          600000,
          311000,
          200000,
          162000,
          527000,
          2750000,
          299000,
          725000,
          900000,
          275000,
          480000,
          130000,
          325000,
          509999.99999999994,
          712000,
          500000,
          811000,
          425000,
          694000,
          350000,
          1025000,
          430000,
          1049000,
          900000,
          300000,
          392000,
          578000,
          210000,
          409999.99999999994,
          616000,
          332000,
          1825000,
          379000,
          850000,
          379000,
          210000,
          2299000,
          1350000,
          1450000,
          650000,
          400000,
          1270000,
          969999.9999999999,
          330000,
          308000,
          285000,
          700000,
          367000,
          319000,
          499000,
          1000000,
          470000,
          340000,
          1450000,
          1595000,
          50000,
          270000,
          875000,
          300000,
          250000,
          540000,
          330000,
          409000,
          484000,
          1400000,
          239000,
          335000,
          315000,
          614000,
          250999.99999999997,
          575000,
          999000,
          699000,
          1750000,
          175000,
          599000,
          335000,
          450000,
          199000,
          399000,
          329000,
          550000,
          574000,
          522000,
          1400000,
          399000,
          185000,
          1299000,
          827999.9999999999,
          300000,
          395000,
          280000,
          4899000,
          850000,
          3200000,
          246000,
          480000,
          1121000,
          1050000,
          734000,
          565000,
          519000.00000000006,
          1607000,
          1100000,
          200000,
          850000,
          1000000,
          150000,
          239000,
          280000,
          2050000,
          450000,
          316000,
          336000,
          1600000,
          687000,
          327000,
          395000,
          894999.9999999999,
          274000,
          420000,
          1350000,
          290000,
          160000,
          3600000,
          40000,
          400000,
          787000,
          899000,
          125000,
          268000,
          340000,
          2800000,
          700000,
          450000,
          950000,
          200000,
          1800000,
          160000,
          1700000,
          500000,
          1220000,
          437000,
          1200000,
          420000,
          550000,
          1400000,
          650000,
          600000,
          450000,
          45000,
          1220000,
          599000,
          700000,
          550000,
          335000,
          1275000,
          300000,
          1350000,
          350000,
          765000,
          1150000,
          2100000,
          250000,
          165000,
          900000,
          350000,
          1700000,
          800000,
          4450000,
          4050000,
          1125000,
          300000,
          550000,
          200000,
          375000,
          499000,
          600000,
          775000,
          1800000,
          2525000,
          190000,
          1000000,
          790000,
          525000,
          724000,
          434999.99999999994,
          295000,
          1675000,
          575000,
          599000,
          650000,
          484999.99999999994,
          575000,
          650000,
          450000,
          625000,
          650000,
          545000,
          835000,
          415000.00000000006,
          545000,
          975000,
          950000,
          795000,
          725000,
          475000,
          799000,
          990000,
          625000,
          550000,
          525000,
          925000,
          325000,
          899000,
          289000,
          499000,
          1650000,
          455000,
          790000,
          599000,
          799000,
          2150000,
          575000,
          599000,
          465000.00000000006,
          950000,
          5541000,
          990000,
          350000,
          2290000,
          470000,
          395000,
          275000,
          349000,
          725000,
          440000.00000000006,
          1650000,
          380000,
          475000,
          450000,
          465000.00000000006,
          325000,
          195000,
          725000,
          455000,
          399000,
          950000,
          399000,
          450000,
          740000,
          325000,
          499000,
          450000,
          1750000,
          935000,
          1350000,
          199000,
          279000,
          599000,
          475000,
          499000,
          450000,
          2250000,
          2275000,
          225000,
          850000,
          990000,
          575000,
          799000,
          399000,
          1100000,
          399000,
          2370000,
          699000,
          1415000,
          455000,
          330000,
          2100000,
          1099000,
          1099000,
          199000,
          1190000,
          535000,
          250000,
          195000,
          425000,
          425000,
          114999.99999999999,
          75000,
          650000,
          80000,
          650000,
          190000,
          200000,
          120000,
          140000,
          114999.99999999999,
          250000,
          480000,
          175000,
          490000.00000000006,
          250000,
          400000,
          550000,
          125000,
          280000,
          150000,
          1082000,
          550000,
          475000,
          500000,
          525000,
          650000,
          650000,
          200000,
          400000,
          1200000,
          1825000,
          500000,
          600000,
          210000,
          1000000,
          550000,
          550000,
          1200000,
          160000,
          225000,
          674000,
          200000,
          290000,
          250000,
          400000,
          360000,
          150000,
          509999.99999999994,
          180000,
          140000
         ],
         "yaxis": "y"
        },
        {
         "hovertemplate": "owner=4th Owner<br>km=%{x}<br>price=%{y}<extra></extra>",
         "legendgroup": "4th Owner",
         "marker": {
          "color": "#ab63fa",
          "symbol": "circle"
         },
         "mode": "markers",
         "name": "4th Owner",
         "showlegend": true,
         "type": "scattergl",
         "x": [
          90000,
          70000,
          90000,
          150000,
          120000,
          100000,
          120000,
          120000,
          110000,
          25000,
          80000,
          120000,
          120000,
          120000,
          120000,
          110000,
          90000,
          120000,
          100000,
          80000,
          10000,
          60000,
          87000,
          90000,
          81000,
          90000,
          90000,
          80000,
          78210,
          100658,
          81000,
          96094,
          80000,
          120000,
          120000,
          50000,
          50000,
          80000,
          100000,
          90000,
          90000,
          120000,
          100000,
          100000,
          120000,
          120000,
          120000,
          80000,
          100000,
          120000,
          157312,
          137537,
          152783,
          92701,
          112097,
          108168,
          74953,
          80000,
          60000,
          120000,
          120000,
          80000,
          40000,
          150000,
          70000,
          120000,
          120000,
          90000,
          60000,
          90000,
          120000,
          120000,
          100000,
          70000,
          50000,
          85033,
          90000,
          80000,
          80000,
          120000
         ],
         "xaxis": "x",
         "y": [
          1000000,
          500000,
          219000,
          320000,
          400000,
          135000,
          475000,
          190000,
          110000.00000000001,
          575000,
          180000,
          960000,
          65000,
          375000,
          375000,
          60000,
          210000,
          600000,
          1600000,
          240000,
          1500000,
          250000,
          400000,
          175000,
          994999.9999999999,
          750000,
          180000,
          200000,
          135000,
          70000,
          994999.9999999999,
          120000,
          220000.00000000003,
          240000,
          135000,
          150000,
          425000,
          250000,
          650000,
          350000,
          120000,
          540000,
          180000,
          180000,
          190000,
          300000,
          217000,
          875000,
          320000,
          100000,
          450000,
          150000,
          68063,
          108000,
          476999.99999999994,
          150000,
          310000,
          50000,
          450000,
          70000,
          80000,
          50000,
          700000,
          150000,
          40000,
          200000,
          420000,
          420000,
          62000,
          670000,
          250000,
          350000,
          114999.99999999999,
          1450000,
          330000,
          1800000,
          145000,
          165000,
          165000,
          120000
         ],
         "yaxis": "y"
        },
        {
         "hovertemplate": "owner=5th Owner<br>km=%{x}<br>price=%{y}<extra></extra>",
         "legendgroup": "5th Owner",
         "marker": {
          "color": "#FFA15A",
          "symbol": "circle"
         },
         "mode": "markers",
         "name": "5th Owner",
         "showlegend": true,
         "type": "scattergl",
         "x": [
          110000,
          80000,
          70000,
          90000,
          120000,
          120000,
          100000,
          90000,
          90000,
          100000,
          100000,
          131561,
          90000,
          70000,
          90000,
          90000,
          120000,
          30000,
          60000
         ],
         "xaxis": "x",
         "y": [
          400000,
          58000,
          357000,
          800000,
          229999.99999999997,
          130000,
          120000,
          225000,
          145000,
          200000,
          200000,
          96000,
          300000,
          290000,
          175000,
          175000,
          320000,
          2000000,
          260000
         ],
         "yaxis": "y"
        },
        {
         "hovertemplate": "owner=0th Owner<br>km=%{x}<br>price=%{y}<extra></extra>",
         "legendgroup": "0th Owner",
         "marker": {
          "color": "#19d3f3",
          "symbol": "circle"
         },
         "mode": "markers",
         "name": "0th Owner",
         "showlegend": true,
         "type": "scattergl",
         "x": [
          95963,
          30428,
          60611,
          25284,
          36385,
          37942,
          73045,
          19252,
          31268,
          68767,
          13270,
          129306,
          167332,
          132724,
          65991,
          22421,
          83045,
          86715,
          77032,
          89545,
          15000,
          7087,
          7800,
          7800,
          35000,
          37000,
          7000,
          4140,
          5000,
          6000,
          14000,
          15400
         ],
         "xaxis": "x",
         "y": [
          630000,
          650000,
          520000,
          925000,
          165000,
          430000,
          395000,
          770000,
          425000,
          180000,
          710000,
          310000,
          445000,
          225000,
          395000,
          640000,
          135000,
          170000,
          195000,
          310000,
          4400000,
          972000.0000000001,
          4500000,
          4645000,
          10300000,
          1049000,
          4640000,
          1600000,
          1320000,
          449000,
          2220000,
          1250000
         ],
         "yaxis": "y"
        }
       ],
       "layout": {
        "font": {
         "color": "white"
        },
        "legend": {
         "title": {
          "text": "owner"
         },
         "tracegroupgap": 0
        },
        "margin": {
         "t": 60
        },
        "paper_bgcolor": "black",
        "plot_bgcolor": "black",
        "template": {
         "data": {
          "bar": [
           {
            "error_x": {
             "color": "#2a3f5f"
            },
            "error_y": {
             "color": "#2a3f5f"
            },
            "marker": {
             "line": {
              "color": "#E5ECF6",
              "width": 0.5
             },
             "pattern": {
              "fillmode": "overlay",
              "size": 10,
              "solidity": 0.2
             }
            },
            "type": "bar"
           }
          ],
          "barpolar": [
           {
            "marker": {
             "line": {
              "color": "#E5ECF6",
              "width": 0.5
             },
             "pattern": {
              "fillmode": "overlay",
              "size": 10,
              "solidity": 0.2
             }
            },
            "type": "barpolar"
           }
          ],
          "carpet": [
           {
            "aaxis": {
             "endlinecolor": "#2a3f5f",
             "gridcolor": "white",
             "linecolor": "white",
             "minorgridcolor": "white",
             "startlinecolor": "#2a3f5f"
            },
            "baxis": {
             "endlinecolor": "#2a3f5f",
             "gridcolor": "white",
             "linecolor": "white",
             "minorgridcolor": "white",
             "startlinecolor": "#2a3f5f"
            },
            "type": "carpet"
           }
          ],
          "choropleth": [
           {
            "colorbar": {
             "outlinewidth": 0,
             "ticks": ""
            },
            "type": "choropleth"
           }
          ],
          "contour": [
           {
            "colorbar": {
             "outlinewidth": 0,
             "ticks": ""
            },
            "colorscale": [
             [
              0,
              "#0d0887"
             ],
             [
              0.1111111111111111,
              "#46039f"
             ],
             [
              0.2222222222222222,
              "#7201a8"
             ],
             [
              0.3333333333333333,
              "#9c179e"
             ],
             [
              0.4444444444444444,
              "#bd3786"
             ],
             [
              0.5555555555555556,
              "#d8576b"
             ],
             [
              0.6666666666666666,
              "#ed7953"
             ],
             [
              0.7777777777777778,
              "#fb9f3a"
             ],
             [
              0.8888888888888888,
              "#fdca26"
             ],
             [
              1,
              "#f0f921"
             ]
            ],
            "type": "contour"
           }
          ],
          "contourcarpet": [
           {
            "colorbar": {
             "outlinewidth": 0,
             "ticks": ""
            },
            "type": "contourcarpet"
           }
          ],
          "heatmap": [
           {
            "colorbar": {
             "outlinewidth": 0,
             "ticks": ""
            },
            "colorscale": [
             [
              0,
              "#0d0887"
             ],
             [
              0.1111111111111111,
              "#46039f"
             ],
             [
              0.2222222222222222,
              "#7201a8"
             ],
             [
              0.3333333333333333,
              "#9c179e"
             ],
             [
              0.4444444444444444,
              "#bd3786"
             ],
             [
              0.5555555555555556,
              "#d8576b"
             ],
             [
              0.6666666666666666,
              "#ed7953"
             ],
             [
              0.7777777777777778,
              "#fb9f3a"
             ],
             [
              0.8888888888888888,
              "#fdca26"
             ],
             [
              1,
              "#f0f921"
             ]
            ],
            "type": "heatmap"
           }
          ],
          "heatmapgl": [
           {
            "colorbar": {
             "outlinewidth": 0,
             "ticks": ""
            },
            "colorscale": [
             [
              0,
              "#0d0887"
             ],
             [
              0.1111111111111111,
              "#46039f"
             ],
             [
              0.2222222222222222,
              "#7201a8"
             ],
             [
              0.3333333333333333,
              "#9c179e"
             ],
             [
              0.4444444444444444,
              "#bd3786"
             ],
             [
              0.5555555555555556,
              "#d8576b"
             ],
             [
              0.6666666666666666,
              "#ed7953"
             ],
             [
              0.7777777777777778,
              "#fb9f3a"
             ],
             [
              0.8888888888888888,
              "#fdca26"
             ],
             [
              1,
              "#f0f921"
             ]
            ],
            "type": "heatmapgl"
           }
          ],
          "histogram": [
           {
            "marker": {
             "pattern": {
              "fillmode": "overlay",
              "size": 10,
              "solidity": 0.2
             }
            },
            "type": "histogram"
           }
          ],
          "histogram2d": [
           {
            "colorbar": {
             "outlinewidth": 0,
             "ticks": ""
            },
            "colorscale": [
             [
              0,
              "#0d0887"
             ],
             [
              0.1111111111111111,
              "#46039f"
             ],
             [
              0.2222222222222222,
              "#7201a8"
             ],
             [
              0.3333333333333333,
              "#9c179e"
             ],
             [
              0.4444444444444444,
              "#bd3786"
             ],
             [
              0.5555555555555556,
              "#d8576b"
             ],
             [
              0.6666666666666666,
              "#ed7953"
             ],
             [
              0.7777777777777778,
              "#fb9f3a"
             ],
             [
              0.8888888888888888,
              "#fdca26"
             ],
             [
              1,
              "#f0f921"
             ]
            ],
            "type": "histogram2d"
           }
          ],
          "histogram2dcontour": [
           {
            "colorbar": {
             "outlinewidth": 0,
             "ticks": ""
            },
            "colorscale": [
             [
              0,
              "#0d0887"
             ],
             [
              0.1111111111111111,
              "#46039f"
             ],
             [
              0.2222222222222222,
              "#7201a8"
             ],
             [
              0.3333333333333333,
              "#9c179e"
             ],
             [
              0.4444444444444444,
              "#bd3786"
             ],
             [
              0.5555555555555556,
              "#d8576b"
             ],
             [
              0.6666666666666666,
              "#ed7953"
             ],
             [
              0.7777777777777778,
              "#fb9f3a"
             ],
             [
              0.8888888888888888,
              "#fdca26"
             ],
             [
              1,
              "#f0f921"
             ]
            ],
            "type": "histogram2dcontour"
           }
          ],
          "mesh3d": [
           {
            "colorbar": {
             "outlinewidth": 0,
             "ticks": ""
            },
            "type": "mesh3d"
           }
          ],
          "parcoords": [
           {
            "line": {
             "colorbar": {
              "outlinewidth": 0,
              "ticks": ""
             }
            },
            "type": "parcoords"
           }
          ],
          "pie": [
           {
            "automargin": true,
            "type": "pie"
           }
          ],
          "scatter": [
           {
            "fillpattern": {
             "fillmode": "overlay",
             "size": 10,
             "solidity": 0.2
            },
            "type": "scatter"
           }
          ],
          "scatter3d": [
           {
            "line": {
             "colorbar": {
              "outlinewidth": 0,
              "ticks": ""
             }
            },
            "marker": {
             "colorbar": {
              "outlinewidth": 0,
              "ticks": ""
             }
            },
            "type": "scatter3d"
           }
          ],
          "scattercarpet": [
           {
            "marker": {
             "colorbar": {
              "outlinewidth": 0,
              "ticks": ""
             }
            },
            "type": "scattercarpet"
           }
          ],
          "scattergeo": [
           {
            "marker": {
             "colorbar": {
              "outlinewidth": 0,
              "ticks": ""
             }
            },
            "type": "scattergeo"
           }
          ],
          "scattergl": [
           {
            "marker": {
             "colorbar": {
              "outlinewidth": 0,
              "ticks": ""
             }
            },
            "type": "scattergl"
           }
          ],
          "scattermapbox": [
           {
            "marker": {
             "colorbar": {
              "outlinewidth": 0,
              "ticks": ""
             }
            },
            "type": "scattermapbox"
           }
          ],
          "scatterpolar": [
           {
            "marker": {
             "colorbar": {
              "outlinewidth": 0,
              "ticks": ""
             }
            },
            "type": "scatterpolar"
           }
          ],
          "scatterpolargl": [
           {
            "marker": {
             "colorbar": {
              "outlinewidth": 0,
              "ticks": ""
             }
            },
            "type": "scatterpolargl"
           }
          ],
          "scatterternary": [
           {
            "marker": {
             "colorbar": {
              "outlinewidth": 0,
              "ticks": ""
             }
            },
            "type": "scatterternary"
           }
          ],
          "surface": [
           {
            "colorbar": {
             "outlinewidth": 0,
             "ticks": ""
            },
            "colorscale": [
             [
              0,
              "#0d0887"
             ],
             [
              0.1111111111111111,
              "#46039f"
             ],
             [
              0.2222222222222222,
              "#7201a8"
             ],
             [
              0.3333333333333333,
              "#9c179e"
             ],
             [
              0.4444444444444444,
              "#bd3786"
             ],
             [
              0.5555555555555556,
              "#d8576b"
             ],
             [
              0.6666666666666666,
              "#ed7953"
             ],
             [
              0.7777777777777778,
              "#fb9f3a"
             ],
             [
              0.8888888888888888,
              "#fdca26"
             ],
             [
              1,
              "#f0f921"
             ]
            ],
            "type": "surface"
           }
          ],
          "table": [
           {
            "cells": {
             "fill": {
              "color": "#EBF0F8"
             },
             "line": {
              "color": "white"
             }
            },
            "header": {
             "fill": {
              "color": "#C8D4E3"
             },
             "line": {
              "color": "white"
             }
            },
            "type": "table"
           }
          ]
         },
         "layout": {
          "annotationdefaults": {
           "arrowcolor": "#2a3f5f",
           "arrowhead": 0,
           "arrowwidth": 1
          },
          "autotypenumbers": "strict",
          "coloraxis": {
           "colorbar": {
            "outlinewidth": 0,
            "ticks": ""
           }
          },
          "colorscale": {
           "diverging": [
            [
             0,
             "#8e0152"
            ],
            [
             0.1,
             "#c51b7d"
            ],
            [
             0.2,
             "#de77ae"
            ],
            [
             0.3,
             "#f1b6da"
            ],
            [
             0.4,
             "#fde0ef"
            ],
            [
             0.5,
             "#f7f7f7"
            ],
            [
             0.6,
             "#e6f5d0"
            ],
            [
             0.7,
             "#b8e186"
            ],
            [
             0.8,
             "#7fbc41"
            ],
            [
             0.9,
             "#4d9221"
            ],
            [
             1,
             "#276419"
            ]
           ],
           "sequential": [
            [
             0,
             "#0d0887"
            ],
            [
             0.1111111111111111,
             "#46039f"
            ],
            [
             0.2222222222222222,
             "#7201a8"
            ],
            [
             0.3333333333333333,
             "#9c179e"
            ],
            [
             0.4444444444444444,
             "#bd3786"
            ],
            [
             0.5555555555555556,
             "#d8576b"
            ],
            [
             0.6666666666666666,
             "#ed7953"
            ],
            [
             0.7777777777777778,
             "#fb9f3a"
            ],
            [
             0.8888888888888888,
             "#fdca26"
            ],
            [
             1,
             "#f0f921"
            ]
           ],
           "sequentialminus": [
            [
             0,
             "#0d0887"
            ],
            [
             0.1111111111111111,
             "#46039f"
            ],
            [
             0.2222222222222222,
             "#7201a8"
            ],
            [
             0.3333333333333333,
             "#9c179e"
            ],
            [
             0.4444444444444444,
             "#bd3786"
            ],
            [
             0.5555555555555556,
             "#d8576b"
            ],
            [
             0.6666666666666666,
             "#ed7953"
            ],
            [
             0.7777777777777778,
             "#fb9f3a"
            ],
            [
             0.8888888888888888,
             "#fdca26"
            ],
            [
             1,
             "#f0f921"
            ]
           ]
          },
          "colorway": [
           "#636efa",
           "#EF553B",
           "#00cc96",
           "#ab63fa",
           "#FFA15A",
           "#19d3f3",
           "#FF6692",
           "#B6E880",
           "#FF97FF",
           "#FECB52"
          ],
          "font": {
           "color": "#2a3f5f"
          },
          "geo": {
           "bgcolor": "white",
           "lakecolor": "white",
           "landcolor": "#E5ECF6",
           "showlakes": true,
           "showland": true,
           "subunitcolor": "white"
          },
          "hoverlabel": {
           "align": "left"
          },
          "hovermode": "closest",
          "mapbox": {
           "style": "light"
          },
          "paper_bgcolor": "white",
          "plot_bgcolor": "#E5ECF6",
          "polar": {
           "angularaxis": {
            "gridcolor": "white",
            "linecolor": "white",
            "ticks": ""
           },
           "bgcolor": "#E5ECF6",
           "radialaxis": {
            "gridcolor": "white",
            "linecolor": "white",
            "ticks": ""
           }
          },
          "scene": {
           "xaxis": {
            "backgroundcolor": "#E5ECF6",
            "gridcolor": "white",
            "gridwidth": 2,
            "linecolor": "white",
            "showbackground": true,
            "ticks": "",
            "zerolinecolor": "white"
           },
           "yaxis": {
            "backgroundcolor": "#E5ECF6",
            "gridcolor": "white",
            "gridwidth": 2,
            "linecolor": "white",
            "showbackground": true,
            "ticks": "",
            "zerolinecolor": "white"
           },
           "zaxis": {
            "backgroundcolor": "#E5ECF6",
            "gridcolor": "white",
            "gridwidth": 2,
            "linecolor": "white",
            "showbackground": true,
            "ticks": "",
            "zerolinecolor": "white"
           }
          },
          "shapedefaults": {
           "line": {
            "color": "#2a3f5f"
           }
          },
          "ternary": {
           "aaxis": {
            "gridcolor": "white",
            "linecolor": "white",
            "ticks": ""
           },
           "baxis": {
            "gridcolor": "white",
            "linecolor": "white",
            "ticks": ""
           },
           "bgcolor": "#E5ECF6",
           "caxis": {
            "gridcolor": "white",
            "linecolor": "white",
            "ticks": ""
           }
          },
          "title": {
           "x": 0.05
          },
          "xaxis": {
           "automargin": true,
           "gridcolor": "white",
           "linecolor": "white",
           "ticks": "",
           "title": {
            "standoff": 15
           },
           "zerolinecolor": "white",
           "zerolinewidth": 2
          },
          "yaxis": {
           "automargin": true,
           "gridcolor": "white",
           "linecolor": "white",
           "ticks": "",
           "title": {
            "standoff": 15
           },
           "zerolinecolor": "white",
           "zerolinewidth": 2
          }
         }
        },
        "title": {
         "text": "Kilometers Driven vs Price vs Owner",
         "x": 0.45,
         "y": 0.95
        },
        "xaxis": {
         "anchor": "y",
         "domain": [
          0,
          1
         ],
         "title": {
          "text": "Kilometers Driven"
         }
        },
        "yaxis": {
         "anchor": "x",
         "domain": [
          0,
          1
         ],
         "title": {
          "text": "Price Of Cars"
         }
        }
       }
      }
     },
     "metadata": {},
     "output_type": "display_data"
    }
   ],
   "source": [
    "# Scatter plot of km vs price by owner\n",
    "\n",
    "fig = px.scatter(detail_frame, x=\"km\", y=\"price\", color='owner')\n",
    "\n",
    "fig.update_layout(title_text=\"Kilometers Driven vs Price vs Owner\")\n",
    "fig.update_layout(title=dict(x=0.45, y=0.95))\n",
    "\n",
    "fig.update_xaxes(title_text=\"Kilometers Driven\")\n",
    "fig.update_yaxes(title_text=\"Price Of Cars\")\n",
    "fig.update_layout(\n",
    "    plot_bgcolor='black',  # Set background color to black\n",
    "    paper_bgcolor='black',  # Set paper (outside plot area) color to black\n",
    "    font=dict(color='white')  # Set text color to white\n",
    ")\n",
    "fig.show()\n",
    "\n",
    "#Only Four vechicles are used maximum. More than 8 lac kms driven."
   ]
  },
  {
   "cell_type": "code",
   "execution_count": 133,
   "metadata": {},
   "outputs": [
    {
     "data": {
      "text/html": [
       "<div>\n",
       "<style scoped>\n",
       "    .dataframe tbody tr th:only-of-type {\n",
       "        vertical-align: middle;\n",
       "    }\n",
       "\n",
       "    .dataframe tbody tr th {\n",
       "        vertical-align: top;\n",
       "    }\n",
       "\n",
       "    .dataframe thead th {\n",
       "        text-align: right;\n",
       "    }\n",
       "</style>\n",
       "<table border=\"1\" class=\"dataframe\">\n",
       "  <thead>\n",
       "    <tr style=\"text-align: right;\">\n",
       "      <th></th>\n",
       "      <th>ft</th>\n",
       "      <th>bt</th>\n",
       "      <th>km</th>\n",
       "      <th>transmission</th>\n",
       "      <th>owner</th>\n",
       "      <th>oem</th>\n",
       "      <th>model</th>\n",
       "      <th>modelYear</th>\n",
       "      <th>variantName</th>\n",
       "      <th>price</th>\n",
       "      <th>place</th>\n",
       "    </tr>\n",
       "  </thead>\n",
       "  <tbody>\n",
       "    <tr>\n",
       "      <th>1539</th>\n",
       "      <td>Diesel</td>\n",
       "      <td>Sedan</td>\n",
       "      <td>5500000.0</td>\n",
       "      <td>Automatic</td>\n",
       "      <td>1st Owner</td>\n",
       "      <td>Mercedes-Benz</td>\n",
       "      <td>Mercedes-Benz C-Class</td>\n",
       "      <td>2018</td>\n",
       "      <td>C 220 CDI Style</td>\n",
       "      <td>3600000.0</td>\n",
       "      <td>chennai</td>\n",
       "    </tr>\n",
       "    <tr>\n",
       "      <th>1996</th>\n",
       "      <td>Diesel</td>\n",
       "      <td>SUV</td>\n",
       "      <td>1200000.0</td>\n",
       "      <td>Manual</td>\n",
       "      <td>1st Owner</td>\n",
       "      <td>Mahindra</td>\n",
       "      <td>Mahindra Scorpio</td>\n",
       "      <td>2019</td>\n",
       "      <td>S5</td>\n",
       "      <td>1150000.0</td>\n",
       "      <td>chennai</td>\n",
       "    </tr>\n",
       "    <tr>\n",
       "      <th>2679</th>\n",
       "      <td>Diesel</td>\n",
       "      <td>MUV</td>\n",
       "      <td>2000022.0</td>\n",
       "      <td>Manual</td>\n",
       "      <td>1st Owner</td>\n",
       "      <td>Toyota</td>\n",
       "      <td>Toyota Innova Crysta</td>\n",
       "      <td>2017</td>\n",
       "      <td>2.4 VX MT</td>\n",
       "      <td>1750000.0</td>\n",
       "      <td>chennai</td>\n",
       "    </tr>\n",
       "    <tr>\n",
       "      <th>7610</th>\n",
       "      <td>Petrol</td>\n",
       "      <td>SUV</td>\n",
       "      <td>975000.0</td>\n",
       "      <td>Manual</td>\n",
       "      <td>1st Owner</td>\n",
       "      <td>Kia</td>\n",
       "      <td>Kia Sonet</td>\n",
       "      <td>2021</td>\n",
       "      <td>HTX Turbo iMT BSVI</td>\n",
       "      <td>975000.0</td>\n",
       "      <td>kolkata</td>\n",
       "    </tr>\n",
       "  </tbody>\n",
       "</table>\n",
       "</div>"
      ],
      "text/plain": [
       "          ft     bt         km transmission      owner            oem  \\\n",
       "1539  Diesel  Sedan  5500000.0    Automatic  1st Owner  Mercedes-Benz   \n",
       "1996  Diesel    SUV  1200000.0       Manual  1st Owner       Mahindra   \n",
       "2679  Diesel    MUV  2000022.0       Manual  1st Owner         Toyota   \n",
       "7610  Petrol    SUV   975000.0       Manual  1st Owner            Kia   \n",
       "\n",
       "                      model  modelYear         variantName      price    place  \n",
       "1539  Mercedes-Benz C-Class       2018     C 220 CDI Style  3600000.0  chennai  \n",
       "1996       Mahindra Scorpio       2019                  S5  1150000.0  chennai  \n",
       "2679   Toyota Innova Crysta       2017           2.4 VX MT  1750000.0  chennai  \n",
       "7610              Kia Sonet       2021  HTX Turbo iMT BSVI   975000.0  kolkata  "
      ]
     },
     "execution_count": 133,
     "metadata": {},
     "output_type": "execute_result"
    }
   ],
   "source": [
    "detail_frame[detail_frame['km']>800000]"
   ]
  },
  {
   "cell_type": "markdown",
   "metadata": {},
   "source": [
    "### Transmission Vs OEM Vs Price"
   ]
  },
  {
   "cell_type": "code",
   "execution_count": null,
   "metadata": {},
   "outputs": [],
   "source": [
    "detail_frame.transmission.value_counts().plot(kind='bar')"
   ]
  },
  {
   "cell_type": "code",
   "execution_count": 151,
   "metadata": {},
   "outputs": [
    {
     "data": {
      "application/vnd.plotly.v1+json": {
       "config": {
        "plotlyServerURL": "https://plot.ly"
       },
       "data": [
        {
         "marker": {
          "color": "purple"
         },
         "type": "bar",
         "x": [
          "Manual",
          "Automatic"
         ],
         "y": [
          6052,
          2317
         ]
        }
       ],
       "layout": {
        "font": {
         "color": "white"
        },
        "paper_bgcolor": "black",
        "plot_bgcolor": "black",
        "template": {
         "data": {
          "bar": [
           {
            "error_x": {
             "color": "#2a3f5f"
            },
            "error_y": {
             "color": "#2a3f5f"
            },
            "marker": {
             "line": {
              "color": "#E5ECF6",
              "width": 0.5
             },
             "pattern": {
              "fillmode": "overlay",
              "size": 10,
              "solidity": 0.2
             }
            },
            "type": "bar"
           }
          ],
          "barpolar": [
           {
            "marker": {
             "line": {
              "color": "#E5ECF6",
              "width": 0.5
             },
             "pattern": {
              "fillmode": "overlay",
              "size": 10,
              "solidity": 0.2
             }
            },
            "type": "barpolar"
           }
          ],
          "carpet": [
           {
            "aaxis": {
             "endlinecolor": "#2a3f5f",
             "gridcolor": "white",
             "linecolor": "white",
             "minorgridcolor": "white",
             "startlinecolor": "#2a3f5f"
            },
            "baxis": {
             "endlinecolor": "#2a3f5f",
             "gridcolor": "white",
             "linecolor": "white",
             "minorgridcolor": "white",
             "startlinecolor": "#2a3f5f"
            },
            "type": "carpet"
           }
          ],
          "choropleth": [
           {
            "colorbar": {
             "outlinewidth": 0,
             "ticks": ""
            },
            "type": "choropleth"
           }
          ],
          "contour": [
           {
            "colorbar": {
             "outlinewidth": 0,
             "ticks": ""
            },
            "colorscale": [
             [
              0,
              "#0d0887"
             ],
             [
              0.1111111111111111,
              "#46039f"
             ],
             [
              0.2222222222222222,
              "#7201a8"
             ],
             [
              0.3333333333333333,
              "#9c179e"
             ],
             [
              0.4444444444444444,
              "#bd3786"
             ],
             [
              0.5555555555555556,
              "#d8576b"
             ],
             [
              0.6666666666666666,
              "#ed7953"
             ],
             [
              0.7777777777777778,
              "#fb9f3a"
             ],
             [
              0.8888888888888888,
              "#fdca26"
             ],
             [
              1,
              "#f0f921"
             ]
            ],
            "type": "contour"
           }
          ],
          "contourcarpet": [
           {
            "colorbar": {
             "outlinewidth": 0,
             "ticks": ""
            },
            "type": "contourcarpet"
           }
          ],
          "heatmap": [
           {
            "colorbar": {
             "outlinewidth": 0,
             "ticks": ""
            },
            "colorscale": [
             [
              0,
              "#0d0887"
             ],
             [
              0.1111111111111111,
              "#46039f"
             ],
             [
              0.2222222222222222,
              "#7201a8"
             ],
             [
              0.3333333333333333,
              "#9c179e"
             ],
             [
              0.4444444444444444,
              "#bd3786"
             ],
             [
              0.5555555555555556,
              "#d8576b"
             ],
             [
              0.6666666666666666,
              "#ed7953"
             ],
             [
              0.7777777777777778,
              "#fb9f3a"
             ],
             [
              0.8888888888888888,
              "#fdca26"
             ],
             [
              1,
              "#f0f921"
             ]
            ],
            "type": "heatmap"
           }
          ],
          "heatmapgl": [
           {
            "colorbar": {
             "outlinewidth": 0,
             "ticks": ""
            },
            "colorscale": [
             [
              0,
              "#0d0887"
             ],
             [
              0.1111111111111111,
              "#46039f"
             ],
             [
              0.2222222222222222,
              "#7201a8"
             ],
             [
              0.3333333333333333,
              "#9c179e"
             ],
             [
              0.4444444444444444,
              "#bd3786"
             ],
             [
              0.5555555555555556,
              "#d8576b"
             ],
             [
              0.6666666666666666,
              "#ed7953"
             ],
             [
              0.7777777777777778,
              "#fb9f3a"
             ],
             [
              0.8888888888888888,
              "#fdca26"
             ],
             [
              1,
              "#f0f921"
             ]
            ],
            "type": "heatmapgl"
           }
          ],
          "histogram": [
           {
            "marker": {
             "pattern": {
              "fillmode": "overlay",
              "size": 10,
              "solidity": 0.2
             }
            },
            "type": "histogram"
           }
          ],
          "histogram2d": [
           {
            "colorbar": {
             "outlinewidth": 0,
             "ticks": ""
            },
            "colorscale": [
             [
              0,
              "#0d0887"
             ],
             [
              0.1111111111111111,
              "#46039f"
             ],
             [
              0.2222222222222222,
              "#7201a8"
             ],
             [
              0.3333333333333333,
              "#9c179e"
             ],
             [
              0.4444444444444444,
              "#bd3786"
             ],
             [
              0.5555555555555556,
              "#d8576b"
             ],
             [
              0.6666666666666666,
              "#ed7953"
             ],
             [
              0.7777777777777778,
              "#fb9f3a"
             ],
             [
              0.8888888888888888,
              "#fdca26"
             ],
             [
              1,
              "#f0f921"
             ]
            ],
            "type": "histogram2d"
           }
          ],
          "histogram2dcontour": [
           {
            "colorbar": {
             "outlinewidth": 0,
             "ticks": ""
            },
            "colorscale": [
             [
              0,
              "#0d0887"
             ],
             [
              0.1111111111111111,
              "#46039f"
             ],
             [
              0.2222222222222222,
              "#7201a8"
             ],
             [
              0.3333333333333333,
              "#9c179e"
             ],
             [
              0.4444444444444444,
              "#bd3786"
             ],
             [
              0.5555555555555556,
              "#d8576b"
             ],
             [
              0.6666666666666666,
              "#ed7953"
             ],
             [
              0.7777777777777778,
              "#fb9f3a"
             ],
             [
              0.8888888888888888,
              "#fdca26"
             ],
             [
              1,
              "#f0f921"
             ]
            ],
            "type": "histogram2dcontour"
           }
          ],
          "mesh3d": [
           {
            "colorbar": {
             "outlinewidth": 0,
             "ticks": ""
            },
            "type": "mesh3d"
           }
          ],
          "parcoords": [
           {
            "line": {
             "colorbar": {
              "outlinewidth": 0,
              "ticks": ""
             }
            },
            "type": "parcoords"
           }
          ],
          "pie": [
           {
            "automargin": true,
            "type": "pie"
           }
          ],
          "scatter": [
           {
            "fillpattern": {
             "fillmode": "overlay",
             "size": 10,
             "solidity": 0.2
            },
            "type": "scatter"
           }
          ],
          "scatter3d": [
           {
            "line": {
             "colorbar": {
              "outlinewidth": 0,
              "ticks": ""
             }
            },
            "marker": {
             "colorbar": {
              "outlinewidth": 0,
              "ticks": ""
             }
            },
            "type": "scatter3d"
           }
          ],
          "scattercarpet": [
           {
            "marker": {
             "colorbar": {
              "outlinewidth": 0,
              "ticks": ""
             }
            },
            "type": "scattercarpet"
           }
          ],
          "scattergeo": [
           {
            "marker": {
             "colorbar": {
              "outlinewidth": 0,
              "ticks": ""
             }
            },
            "type": "scattergeo"
           }
          ],
          "scattergl": [
           {
            "marker": {
             "colorbar": {
              "outlinewidth": 0,
              "ticks": ""
             }
            },
            "type": "scattergl"
           }
          ],
          "scattermapbox": [
           {
            "marker": {
             "colorbar": {
              "outlinewidth": 0,
              "ticks": ""
             }
            },
            "type": "scattermapbox"
           }
          ],
          "scatterpolar": [
           {
            "marker": {
             "colorbar": {
              "outlinewidth": 0,
              "ticks": ""
             }
            },
            "type": "scatterpolar"
           }
          ],
          "scatterpolargl": [
           {
            "marker": {
             "colorbar": {
              "outlinewidth": 0,
              "ticks": ""
             }
            },
            "type": "scatterpolargl"
           }
          ],
          "scatterternary": [
           {
            "marker": {
             "colorbar": {
              "outlinewidth": 0,
              "ticks": ""
             }
            },
            "type": "scatterternary"
           }
          ],
          "surface": [
           {
            "colorbar": {
             "outlinewidth": 0,
             "ticks": ""
            },
            "colorscale": [
             [
              0,
              "#0d0887"
             ],
             [
              0.1111111111111111,
              "#46039f"
             ],
             [
              0.2222222222222222,
              "#7201a8"
             ],
             [
              0.3333333333333333,
              "#9c179e"
             ],
             [
              0.4444444444444444,
              "#bd3786"
             ],
             [
              0.5555555555555556,
              "#d8576b"
             ],
             [
              0.6666666666666666,
              "#ed7953"
             ],
             [
              0.7777777777777778,
              "#fb9f3a"
             ],
             [
              0.8888888888888888,
              "#fdca26"
             ],
             [
              1,
              "#f0f921"
             ]
            ],
            "type": "surface"
           }
          ],
          "table": [
           {
            "cells": {
             "fill": {
              "color": "#EBF0F8"
             },
             "line": {
              "color": "white"
             }
            },
            "header": {
             "fill": {
              "color": "#C8D4E3"
             },
             "line": {
              "color": "white"
             }
            },
            "type": "table"
           }
          ]
         },
         "layout": {
          "annotationdefaults": {
           "arrowcolor": "#2a3f5f",
           "arrowhead": 0,
           "arrowwidth": 1
          },
          "autotypenumbers": "strict",
          "coloraxis": {
           "colorbar": {
            "outlinewidth": 0,
            "ticks": ""
           }
          },
          "colorscale": {
           "diverging": [
            [
             0,
             "#8e0152"
            ],
            [
             0.1,
             "#c51b7d"
            ],
            [
             0.2,
             "#de77ae"
            ],
            [
             0.3,
             "#f1b6da"
            ],
            [
             0.4,
             "#fde0ef"
            ],
            [
             0.5,
             "#f7f7f7"
            ],
            [
             0.6,
             "#e6f5d0"
            ],
            [
             0.7,
             "#b8e186"
            ],
            [
             0.8,
             "#7fbc41"
            ],
            [
             0.9,
             "#4d9221"
            ],
            [
             1,
             "#276419"
            ]
           ],
           "sequential": [
            [
             0,
             "#0d0887"
            ],
            [
             0.1111111111111111,
             "#46039f"
            ],
            [
             0.2222222222222222,
             "#7201a8"
            ],
            [
             0.3333333333333333,
             "#9c179e"
            ],
            [
             0.4444444444444444,
             "#bd3786"
            ],
            [
             0.5555555555555556,
             "#d8576b"
            ],
            [
             0.6666666666666666,
             "#ed7953"
            ],
            [
             0.7777777777777778,
             "#fb9f3a"
            ],
            [
             0.8888888888888888,
             "#fdca26"
            ],
            [
             1,
             "#f0f921"
            ]
           ],
           "sequentialminus": [
            [
             0,
             "#0d0887"
            ],
            [
             0.1111111111111111,
             "#46039f"
            ],
            [
             0.2222222222222222,
             "#7201a8"
            ],
            [
             0.3333333333333333,
             "#9c179e"
            ],
            [
             0.4444444444444444,
             "#bd3786"
            ],
            [
             0.5555555555555556,
             "#d8576b"
            ],
            [
             0.6666666666666666,
             "#ed7953"
            ],
            [
             0.7777777777777778,
             "#fb9f3a"
            ],
            [
             0.8888888888888888,
             "#fdca26"
            ],
            [
             1,
             "#f0f921"
            ]
           ]
          },
          "colorway": [
           "#636efa",
           "#EF553B",
           "#00cc96",
           "#ab63fa",
           "#FFA15A",
           "#19d3f3",
           "#FF6692",
           "#B6E880",
           "#FF97FF",
           "#FECB52"
          ],
          "font": {
           "color": "#2a3f5f"
          },
          "geo": {
           "bgcolor": "white",
           "lakecolor": "white",
           "landcolor": "#E5ECF6",
           "showlakes": true,
           "showland": true,
           "subunitcolor": "white"
          },
          "hoverlabel": {
           "align": "left"
          },
          "hovermode": "closest",
          "mapbox": {
           "style": "light"
          },
          "paper_bgcolor": "white",
          "plot_bgcolor": "#E5ECF6",
          "polar": {
           "angularaxis": {
            "gridcolor": "white",
            "linecolor": "white",
            "ticks": ""
           },
           "bgcolor": "#E5ECF6",
           "radialaxis": {
            "gridcolor": "white",
            "linecolor": "white",
            "ticks": ""
           }
          },
          "scene": {
           "xaxis": {
            "backgroundcolor": "#E5ECF6",
            "gridcolor": "white",
            "gridwidth": 2,
            "linecolor": "white",
            "showbackground": true,
            "ticks": "",
            "zerolinecolor": "white"
           },
           "yaxis": {
            "backgroundcolor": "#E5ECF6",
            "gridcolor": "white",
            "gridwidth": 2,
            "linecolor": "white",
            "showbackground": true,
            "ticks": "",
            "zerolinecolor": "white"
           },
           "zaxis": {
            "backgroundcolor": "#E5ECF6",
            "gridcolor": "white",
            "gridwidth": 2,
            "linecolor": "white",
            "showbackground": true,
            "ticks": "",
            "zerolinecolor": "white"
           }
          },
          "shapedefaults": {
           "line": {
            "color": "#2a3f5f"
           }
          },
          "ternary": {
           "aaxis": {
            "gridcolor": "white",
            "linecolor": "white",
            "ticks": ""
           },
           "baxis": {
            "gridcolor": "white",
            "linecolor": "white",
            "ticks": ""
           },
           "bgcolor": "#E5ECF6",
           "caxis": {
            "gridcolor": "white",
            "linecolor": "white",
            "ticks": ""
           }
          },
          "title": {
           "x": 0.05
          },
          "xaxis": {
           "automargin": true,
           "gridcolor": "white",
           "linecolor": "white",
           "ticks": "",
           "title": {
            "standoff": 15
           },
           "zerolinecolor": "white",
           "zerolinewidth": 2
          },
          "yaxis": {
           "automargin": true,
           "gridcolor": "white",
           "linecolor": "white",
           "ticks": "",
           "title": {
            "standoff": 15
           },
           "zerolinecolor": "white",
           "zerolinewidth": 2
          }
         }
        },
        "title": {
         "text": "Transmission Types and Counts"
        }
       }
      }
     },
     "metadata": {},
     "output_type": "display_data"
    }
   ],
   "source": [
    "transmission_counts = detail_frame['transmission'].value_counts()\n",
    "\n",
    "fig = go.Figure(data=[\n",
    "    go.Bar(\n",
    "        x=transmission_counts.index,  # transmission types\n",
    "        y=transmission_counts.values,  # counts\n",
    "        marker=dict(color='purple')  # custom color for bars\n",
    "    )\n",
    "])\n",
    "\n",
    "fig.update_layout(\n",
    "    title_text=\"Transmission Types and Counts\",  # plot title\n",
    "    plot_bgcolor='black',  # Set background color to black\n",
    "    paper_bgcolor='black',  # Set paper (outside plot area) color to black\n",
    "    font=dict(color='white')  # Set text color to white\n",
    ")\n",
    "\n",
    "fig.show()"
   ]
  },
  {
   "cell_type": "code",
   "execution_count": 152,
   "metadata": {},
   "outputs": [
    {
     "data": {
      "application/vnd.plotly.v1+json": {
       "config": {
        "plotlyServerURL": "https://plot.ly"
       },
       "data": [
        {
         "alignmentgroup": "True",
         "hovertemplate": "transmission=Automatic<br>oem=%{x}<br>Avg Price=%{y}<extra></extra>",
         "legendgroup": "Automatic",
         "marker": {
          "color": "#636efa",
          "pattern": {
           "shape": ""
          }
         },
         "name": "Automatic",
         "offsetgroup": "Automatic",
         "orientation": "v",
         "showlegend": true,
         "textposition": "auto",
         "type": "bar",
         "x": [
          "Lexus",
          "Porsche",
          "Land Rover",
          "Mercedes-Benz",
          "BMW",
          "Jaguar",
          "Volvo",
          "Citroen",
          "Mini",
          "Jeep",
          "Audi",
          "Toyota",
          "MG",
          "Isuzu",
          "Kia",
          "Mahindra",
          "Ford",
          "Skoda",
          "Tata",
          "Volkswagen",
          "Mahindra Ssangyong",
          "Hyundai",
          "Honda",
          "Maruti",
          "Renault",
          "Nissan",
          "Mitsubishi",
          "Datsun",
          "Chevrolet"
         ],
         "xaxis": "x",
         "y": [
          6835000,
          6741666.666666667,
          5677931.818181818,
          4307863.07053942,
          3494733.695652174,
          3280142.8571428573,
          3188731.7073170734,
          3112500,
          3004166.6666666665,
          2401960,
          2382607.843137255,
          2161010.2040816327,
          2093307.6923076923,
          1799500,
          1719275.3623188406,
          1517787.878787879,
          1463246.3768115942,
          1303753.2467532468,
          1225989.898989899,
          1116257.142857143,
          1083333.3333333333,
          943562.5,
          811933.962264151,
          622391.9308357348,
          618041.6666666666,
          576600,
          485000,
          388166.6666666667,
          370000
         ],
         "yaxis": "y"
        },
        {
         "alignmentgroup": "True",
         "hovertemplate": "transmission=Manual<br>oem=%{x}<br>Avg Price=%{y}<extra></extra>",
         "legendgroup": "Manual",
         "marker": {
          "color": "#EF553B",
          "pattern": {
           "shape": ""
          }
         },
         "name": "Manual",
         "offsetgroup": "Manual",
         "orientation": "v",
         "showlegend": true,
         "textposition": "auto",
         "type": "bar",
         "x": [
          "Audi",
          "MG",
          "Jeep",
          "Isuzu",
          "Kia",
          "Mercedes-Benz",
          "Toyota",
          "Mahindra",
          "Citroen",
          "Skoda",
          "Tata",
          "Mitsubishi",
          "Nissan",
          "Volkswagen",
          "Honda",
          "Mahindra Ssangyong",
          "Hyundai",
          "Ford",
          "Renault",
          "Maruti",
          "Datsun",
          "Fiat",
          "Hindustan Motors",
          "Chevrolet",
          "Mahindra Renault",
          "Opel"
         ],
         "xaxis": "x",
         "y": [
          1931666.6666666667,
          1627320,
          1540677.4193548388,
          1240000,
          1237471.9101123596,
          1149750,
          1056863.436123348,
          861228.2958199357,
          790000,
          702095.2380952381,
          637812.843373494,
          610166.6666666666,
          579720.5882352941,
          573870.5357142857,
          563465.2986217458,
          550000,
          539358.9564902103,
          514024.79338842974,
          511525,
          483354.3900262467,
          344250,
          290967.7419354839,
          285000,
          249082.1780821918,
          121600,
          73333.33333333333
         ],
         "yaxis": "y"
        }
       ],
       "layout": {
        "barmode": "relative",
        "font": {
         "color": "white"
        },
        "legend": {
         "title": {
          "text": "transmission"
         },
         "tracegroupgap": 0
        },
        "margin": {
         "t": 60
        },
        "paper_bgcolor": "black",
        "plot_bgcolor": "black",
        "template": {
         "data": {
          "bar": [
           {
            "error_x": {
             "color": "#2a3f5f"
            },
            "error_y": {
             "color": "#2a3f5f"
            },
            "marker": {
             "line": {
              "color": "#E5ECF6",
              "width": 0.5
             },
             "pattern": {
              "fillmode": "overlay",
              "size": 10,
              "solidity": 0.2
             }
            },
            "type": "bar"
           }
          ],
          "barpolar": [
           {
            "marker": {
             "line": {
              "color": "#E5ECF6",
              "width": 0.5
             },
             "pattern": {
              "fillmode": "overlay",
              "size": 10,
              "solidity": 0.2
             }
            },
            "type": "barpolar"
           }
          ],
          "carpet": [
           {
            "aaxis": {
             "endlinecolor": "#2a3f5f",
             "gridcolor": "white",
             "linecolor": "white",
             "minorgridcolor": "white",
             "startlinecolor": "#2a3f5f"
            },
            "baxis": {
             "endlinecolor": "#2a3f5f",
             "gridcolor": "white",
             "linecolor": "white",
             "minorgridcolor": "white",
             "startlinecolor": "#2a3f5f"
            },
            "type": "carpet"
           }
          ],
          "choropleth": [
           {
            "colorbar": {
             "outlinewidth": 0,
             "ticks": ""
            },
            "type": "choropleth"
           }
          ],
          "contour": [
           {
            "colorbar": {
             "outlinewidth": 0,
             "ticks": ""
            },
            "colorscale": [
             [
              0,
              "#0d0887"
             ],
             [
              0.1111111111111111,
              "#46039f"
             ],
             [
              0.2222222222222222,
              "#7201a8"
             ],
             [
              0.3333333333333333,
              "#9c179e"
             ],
             [
              0.4444444444444444,
              "#bd3786"
             ],
             [
              0.5555555555555556,
              "#d8576b"
             ],
             [
              0.6666666666666666,
              "#ed7953"
             ],
             [
              0.7777777777777778,
              "#fb9f3a"
             ],
             [
              0.8888888888888888,
              "#fdca26"
             ],
             [
              1,
              "#f0f921"
             ]
            ],
            "type": "contour"
           }
          ],
          "contourcarpet": [
           {
            "colorbar": {
             "outlinewidth": 0,
             "ticks": ""
            },
            "type": "contourcarpet"
           }
          ],
          "heatmap": [
           {
            "colorbar": {
             "outlinewidth": 0,
             "ticks": ""
            },
            "colorscale": [
             [
              0,
              "#0d0887"
             ],
             [
              0.1111111111111111,
              "#46039f"
             ],
             [
              0.2222222222222222,
              "#7201a8"
             ],
             [
              0.3333333333333333,
              "#9c179e"
             ],
             [
              0.4444444444444444,
              "#bd3786"
             ],
             [
              0.5555555555555556,
              "#d8576b"
             ],
             [
              0.6666666666666666,
              "#ed7953"
             ],
             [
              0.7777777777777778,
              "#fb9f3a"
             ],
             [
              0.8888888888888888,
              "#fdca26"
             ],
             [
              1,
              "#f0f921"
             ]
            ],
            "type": "heatmap"
           }
          ],
          "heatmapgl": [
           {
            "colorbar": {
             "outlinewidth": 0,
             "ticks": ""
            },
            "colorscale": [
             [
              0,
              "#0d0887"
             ],
             [
              0.1111111111111111,
              "#46039f"
             ],
             [
              0.2222222222222222,
              "#7201a8"
             ],
             [
              0.3333333333333333,
              "#9c179e"
             ],
             [
              0.4444444444444444,
              "#bd3786"
             ],
             [
              0.5555555555555556,
              "#d8576b"
             ],
             [
              0.6666666666666666,
              "#ed7953"
             ],
             [
              0.7777777777777778,
              "#fb9f3a"
             ],
             [
              0.8888888888888888,
              "#fdca26"
             ],
             [
              1,
              "#f0f921"
             ]
            ],
            "type": "heatmapgl"
           }
          ],
          "histogram": [
           {
            "marker": {
             "pattern": {
              "fillmode": "overlay",
              "size": 10,
              "solidity": 0.2
             }
            },
            "type": "histogram"
           }
          ],
          "histogram2d": [
           {
            "colorbar": {
             "outlinewidth": 0,
             "ticks": ""
            },
            "colorscale": [
             [
              0,
              "#0d0887"
             ],
             [
              0.1111111111111111,
              "#46039f"
             ],
             [
              0.2222222222222222,
              "#7201a8"
             ],
             [
              0.3333333333333333,
              "#9c179e"
             ],
             [
              0.4444444444444444,
              "#bd3786"
             ],
             [
              0.5555555555555556,
              "#d8576b"
             ],
             [
              0.6666666666666666,
              "#ed7953"
             ],
             [
              0.7777777777777778,
              "#fb9f3a"
             ],
             [
              0.8888888888888888,
              "#fdca26"
             ],
             [
              1,
              "#f0f921"
             ]
            ],
            "type": "histogram2d"
           }
          ],
          "histogram2dcontour": [
           {
            "colorbar": {
             "outlinewidth": 0,
             "ticks": ""
            },
            "colorscale": [
             [
              0,
              "#0d0887"
             ],
             [
              0.1111111111111111,
              "#46039f"
             ],
             [
              0.2222222222222222,
              "#7201a8"
             ],
             [
              0.3333333333333333,
              "#9c179e"
             ],
             [
              0.4444444444444444,
              "#bd3786"
             ],
             [
              0.5555555555555556,
              "#d8576b"
             ],
             [
              0.6666666666666666,
              "#ed7953"
             ],
             [
              0.7777777777777778,
              "#fb9f3a"
             ],
             [
              0.8888888888888888,
              "#fdca26"
             ],
             [
              1,
              "#f0f921"
             ]
            ],
            "type": "histogram2dcontour"
           }
          ],
          "mesh3d": [
           {
            "colorbar": {
             "outlinewidth": 0,
             "ticks": ""
            },
            "type": "mesh3d"
           }
          ],
          "parcoords": [
           {
            "line": {
             "colorbar": {
              "outlinewidth": 0,
              "ticks": ""
             }
            },
            "type": "parcoords"
           }
          ],
          "pie": [
           {
            "automargin": true,
            "type": "pie"
           }
          ],
          "scatter": [
           {
            "fillpattern": {
             "fillmode": "overlay",
             "size": 10,
             "solidity": 0.2
            },
            "type": "scatter"
           }
          ],
          "scatter3d": [
           {
            "line": {
             "colorbar": {
              "outlinewidth": 0,
              "ticks": ""
             }
            },
            "marker": {
             "colorbar": {
              "outlinewidth": 0,
              "ticks": ""
             }
            },
            "type": "scatter3d"
           }
          ],
          "scattercarpet": [
           {
            "marker": {
             "colorbar": {
              "outlinewidth": 0,
              "ticks": ""
             }
            },
            "type": "scattercarpet"
           }
          ],
          "scattergeo": [
           {
            "marker": {
             "colorbar": {
              "outlinewidth": 0,
              "ticks": ""
             }
            },
            "type": "scattergeo"
           }
          ],
          "scattergl": [
           {
            "marker": {
             "colorbar": {
              "outlinewidth": 0,
              "ticks": ""
             }
            },
            "type": "scattergl"
           }
          ],
          "scattermapbox": [
           {
            "marker": {
             "colorbar": {
              "outlinewidth": 0,
              "ticks": ""
             }
            },
            "type": "scattermapbox"
           }
          ],
          "scatterpolar": [
           {
            "marker": {
             "colorbar": {
              "outlinewidth": 0,
              "ticks": ""
             }
            },
            "type": "scatterpolar"
           }
          ],
          "scatterpolargl": [
           {
            "marker": {
             "colorbar": {
              "outlinewidth": 0,
              "ticks": ""
             }
            },
            "type": "scatterpolargl"
           }
          ],
          "scatterternary": [
           {
            "marker": {
             "colorbar": {
              "outlinewidth": 0,
              "ticks": ""
             }
            },
            "type": "scatterternary"
           }
          ],
          "surface": [
           {
            "colorbar": {
             "outlinewidth": 0,
             "ticks": ""
            },
            "colorscale": [
             [
              0,
              "#0d0887"
             ],
             [
              0.1111111111111111,
              "#46039f"
             ],
             [
              0.2222222222222222,
              "#7201a8"
             ],
             [
              0.3333333333333333,
              "#9c179e"
             ],
             [
              0.4444444444444444,
              "#bd3786"
             ],
             [
              0.5555555555555556,
              "#d8576b"
             ],
             [
              0.6666666666666666,
              "#ed7953"
             ],
             [
              0.7777777777777778,
              "#fb9f3a"
             ],
             [
              0.8888888888888888,
              "#fdca26"
             ],
             [
              1,
              "#f0f921"
             ]
            ],
            "type": "surface"
           }
          ],
          "table": [
           {
            "cells": {
             "fill": {
              "color": "#EBF0F8"
             },
             "line": {
              "color": "white"
             }
            },
            "header": {
             "fill": {
              "color": "#C8D4E3"
             },
             "line": {
              "color": "white"
             }
            },
            "type": "table"
           }
          ]
         },
         "layout": {
          "annotationdefaults": {
           "arrowcolor": "#2a3f5f",
           "arrowhead": 0,
           "arrowwidth": 1
          },
          "autotypenumbers": "strict",
          "coloraxis": {
           "colorbar": {
            "outlinewidth": 0,
            "ticks": ""
           }
          },
          "colorscale": {
           "diverging": [
            [
             0,
             "#8e0152"
            ],
            [
             0.1,
             "#c51b7d"
            ],
            [
             0.2,
             "#de77ae"
            ],
            [
             0.3,
             "#f1b6da"
            ],
            [
             0.4,
             "#fde0ef"
            ],
            [
             0.5,
             "#f7f7f7"
            ],
            [
             0.6,
             "#e6f5d0"
            ],
            [
             0.7,
             "#b8e186"
            ],
            [
             0.8,
             "#7fbc41"
            ],
            [
             0.9,
             "#4d9221"
            ],
            [
             1,
             "#276419"
            ]
           ],
           "sequential": [
            [
             0,
             "#0d0887"
            ],
            [
             0.1111111111111111,
             "#46039f"
            ],
            [
             0.2222222222222222,
             "#7201a8"
            ],
            [
             0.3333333333333333,
             "#9c179e"
            ],
            [
             0.4444444444444444,
             "#bd3786"
            ],
            [
             0.5555555555555556,
             "#d8576b"
            ],
            [
             0.6666666666666666,
             "#ed7953"
            ],
            [
             0.7777777777777778,
             "#fb9f3a"
            ],
            [
             0.8888888888888888,
             "#fdca26"
            ],
            [
             1,
             "#f0f921"
            ]
           ],
           "sequentialminus": [
            [
             0,
             "#0d0887"
            ],
            [
             0.1111111111111111,
             "#46039f"
            ],
            [
             0.2222222222222222,
             "#7201a8"
            ],
            [
             0.3333333333333333,
             "#9c179e"
            ],
            [
             0.4444444444444444,
             "#bd3786"
            ],
            [
             0.5555555555555556,
             "#d8576b"
            ],
            [
             0.6666666666666666,
             "#ed7953"
            ],
            [
             0.7777777777777778,
             "#fb9f3a"
            ],
            [
             0.8888888888888888,
             "#fdca26"
            ],
            [
             1,
             "#f0f921"
            ]
           ]
          },
          "colorway": [
           "#636efa",
           "#EF553B",
           "#00cc96",
           "#ab63fa",
           "#FFA15A",
           "#19d3f3",
           "#FF6692",
           "#B6E880",
           "#FF97FF",
           "#FECB52"
          ],
          "font": {
           "color": "#2a3f5f"
          },
          "geo": {
           "bgcolor": "white",
           "lakecolor": "white",
           "landcolor": "#E5ECF6",
           "showlakes": true,
           "showland": true,
           "subunitcolor": "white"
          },
          "hoverlabel": {
           "align": "left"
          },
          "hovermode": "closest",
          "mapbox": {
           "style": "light"
          },
          "paper_bgcolor": "white",
          "plot_bgcolor": "#E5ECF6",
          "polar": {
           "angularaxis": {
            "gridcolor": "white",
            "linecolor": "white",
            "ticks": ""
           },
           "bgcolor": "#E5ECF6",
           "radialaxis": {
            "gridcolor": "white",
            "linecolor": "white",
            "ticks": ""
           }
          },
          "scene": {
           "xaxis": {
            "backgroundcolor": "#E5ECF6",
            "gridcolor": "white",
            "gridwidth": 2,
            "linecolor": "white",
            "showbackground": true,
            "ticks": "",
            "zerolinecolor": "white"
           },
           "yaxis": {
            "backgroundcolor": "#E5ECF6",
            "gridcolor": "white",
            "gridwidth": 2,
            "linecolor": "white",
            "showbackground": true,
            "ticks": "",
            "zerolinecolor": "white"
           },
           "zaxis": {
            "backgroundcolor": "#E5ECF6",
            "gridcolor": "white",
            "gridwidth": 2,
            "linecolor": "white",
            "showbackground": true,
            "ticks": "",
            "zerolinecolor": "white"
           }
          },
          "shapedefaults": {
           "line": {
            "color": "#2a3f5f"
           }
          },
          "ternary": {
           "aaxis": {
            "gridcolor": "white",
            "linecolor": "white",
            "ticks": ""
           },
           "baxis": {
            "gridcolor": "white",
            "linecolor": "white",
            "ticks": ""
           },
           "bgcolor": "#E5ECF6",
           "caxis": {
            "gridcolor": "white",
            "linecolor": "white",
            "ticks": ""
           }
          },
          "title": {
           "x": 0.05
          },
          "xaxis": {
           "automargin": true,
           "gridcolor": "white",
           "linecolor": "white",
           "ticks": "",
           "title": {
            "standoff": 15
           },
           "zerolinecolor": "white",
           "zerolinewidth": 2
          },
          "yaxis": {
           "automargin": true,
           "gridcolor": "white",
           "linecolor": "white",
           "ticks": "",
           "title": {
            "standoff": 15
           },
           "zerolinecolor": "white",
           "zerolinewidth": 2
          }
         }
        },
        "title": {
         "text": "OEM Wise Average Price Of Cars In Each Transmission Type",
         "x": 0.45,
         "y": 0.95
        },
        "xaxis": {
         "anchor": "y",
         "domain": [
          0,
          1
         ],
         "tickangle": -45,
         "title": {
          "text": "OEM Names"
         }
        },
        "yaxis": {
         "anchor": "x",
         "domain": [
          0,
          1
         ],
         "title": {
          "text": "Average Price Of Cars"
         }
        }
       }
      }
     },
     "metadata": {},
     "output_type": "display_data"
    }
   ],
   "source": [
    "OemPriceFrameTrans = detail_frame.groupby(['oem','transmission']).price.agg(['mean']).sort_values(by = 'mean',ascending = False).reset_index()\n",
    "#OemPriceFrameBT['mean'] = OemPriceFrameBT[\"mean\"].apply(lambda x : x/100000)\n",
    "\n",
    "OemPriceFrameTrans.rename(columns = {'mean':'Avg Price'}, inplace = True)\n",
    "fig = px.bar(OemPriceFrameTrans, x=\"oem\", y=\"Avg Price\",color = 'transmission', orientation='v')\n",
    "fig.update_layout( xaxis_tickangle=-45)\n",
    "\n",
    "fig.update_layout(title_text=\"OEM Wise Average Price Of Cars In Each Transmission Type\")\n",
    "fig.update_layout(title=dict(x=0.45, y=0.95))\n",
    "\n",
    "fig.update_xaxes(title_text=\"OEM Names\")\n",
    "fig.update_yaxes(title_text=\"Average Price Of Cars\")\n",
    "fig.update_layout(\n",
    "    plot_bgcolor='black',  # Set background color to black\n",
    "    paper_bgcolor='black',  # Set paper (outside plot area) color to black\n",
    "    font=dict(color='white')  # Set text color to white\n",
    ")\n",
    "fig.show()\n",
    "\n",
    "#No manual vehicles in lexus, Porsche, Land Rover, BMW, Jaguar, Volvo, Mini\n"
   ]
  },
  {
   "cell_type": "markdown",
   "metadata": {},
   "source": [
    "### Owner Vs OEM Vs Price"
   ]
  },
  {
   "cell_type": "code",
   "execution_count": 153,
   "metadata": {},
   "outputs": [
    {
     "data": {
      "application/vnd.plotly.v1+json": {
       "config": {
        "plotlyServerURL": "https://plot.ly"
       },
       "data": [
        {
         "marker": {
          "color": "blue"
         },
         "type": "bar",
         "x": [
          "1st Owner",
          "2nd Owner",
          "3rd Owner",
          "4th Owner",
          "0th Owner",
          "5th Owner"
         ],
         "y": [
          5882,
          1982,
          374,
          80,
          32,
          19
         ]
        }
       ],
       "layout": {
        "font": {
         "color": "white"
        },
        "paper_bgcolor": "black",
        "plot_bgcolor": "black",
        "template": {
         "data": {
          "bar": [
           {
            "error_x": {
             "color": "#2a3f5f"
            },
            "error_y": {
             "color": "#2a3f5f"
            },
            "marker": {
             "line": {
              "color": "#E5ECF6",
              "width": 0.5
             },
             "pattern": {
              "fillmode": "overlay",
              "size": 10,
              "solidity": 0.2
             }
            },
            "type": "bar"
           }
          ],
          "barpolar": [
           {
            "marker": {
             "line": {
              "color": "#E5ECF6",
              "width": 0.5
             },
             "pattern": {
              "fillmode": "overlay",
              "size": 10,
              "solidity": 0.2
             }
            },
            "type": "barpolar"
           }
          ],
          "carpet": [
           {
            "aaxis": {
             "endlinecolor": "#2a3f5f",
             "gridcolor": "white",
             "linecolor": "white",
             "minorgridcolor": "white",
             "startlinecolor": "#2a3f5f"
            },
            "baxis": {
             "endlinecolor": "#2a3f5f",
             "gridcolor": "white",
             "linecolor": "white",
             "minorgridcolor": "white",
             "startlinecolor": "#2a3f5f"
            },
            "type": "carpet"
           }
          ],
          "choropleth": [
           {
            "colorbar": {
             "outlinewidth": 0,
             "ticks": ""
            },
            "type": "choropleth"
           }
          ],
          "contour": [
           {
            "colorbar": {
             "outlinewidth": 0,
             "ticks": ""
            },
            "colorscale": [
             [
              0,
              "#0d0887"
             ],
             [
              0.1111111111111111,
              "#46039f"
             ],
             [
              0.2222222222222222,
              "#7201a8"
             ],
             [
              0.3333333333333333,
              "#9c179e"
             ],
             [
              0.4444444444444444,
              "#bd3786"
             ],
             [
              0.5555555555555556,
              "#d8576b"
             ],
             [
              0.6666666666666666,
              "#ed7953"
             ],
             [
              0.7777777777777778,
              "#fb9f3a"
             ],
             [
              0.8888888888888888,
              "#fdca26"
             ],
             [
              1,
              "#f0f921"
             ]
            ],
            "type": "contour"
           }
          ],
          "contourcarpet": [
           {
            "colorbar": {
             "outlinewidth": 0,
             "ticks": ""
            },
            "type": "contourcarpet"
           }
          ],
          "heatmap": [
           {
            "colorbar": {
             "outlinewidth": 0,
             "ticks": ""
            },
            "colorscale": [
             [
              0,
              "#0d0887"
             ],
             [
              0.1111111111111111,
              "#46039f"
             ],
             [
              0.2222222222222222,
              "#7201a8"
             ],
             [
              0.3333333333333333,
              "#9c179e"
             ],
             [
              0.4444444444444444,
              "#bd3786"
             ],
             [
              0.5555555555555556,
              "#d8576b"
             ],
             [
              0.6666666666666666,
              "#ed7953"
             ],
             [
              0.7777777777777778,
              "#fb9f3a"
             ],
             [
              0.8888888888888888,
              "#fdca26"
             ],
             [
              1,
              "#f0f921"
             ]
            ],
            "type": "heatmap"
           }
          ],
          "heatmapgl": [
           {
            "colorbar": {
             "outlinewidth": 0,
             "ticks": ""
            },
            "colorscale": [
             [
              0,
              "#0d0887"
             ],
             [
              0.1111111111111111,
              "#46039f"
             ],
             [
              0.2222222222222222,
              "#7201a8"
             ],
             [
              0.3333333333333333,
              "#9c179e"
             ],
             [
              0.4444444444444444,
              "#bd3786"
             ],
             [
              0.5555555555555556,
              "#d8576b"
             ],
             [
              0.6666666666666666,
              "#ed7953"
             ],
             [
              0.7777777777777778,
              "#fb9f3a"
             ],
             [
              0.8888888888888888,
              "#fdca26"
             ],
             [
              1,
              "#f0f921"
             ]
            ],
            "type": "heatmapgl"
           }
          ],
          "histogram": [
           {
            "marker": {
             "pattern": {
              "fillmode": "overlay",
              "size": 10,
              "solidity": 0.2
             }
            },
            "type": "histogram"
           }
          ],
          "histogram2d": [
           {
            "colorbar": {
             "outlinewidth": 0,
             "ticks": ""
            },
            "colorscale": [
             [
              0,
              "#0d0887"
             ],
             [
              0.1111111111111111,
              "#46039f"
             ],
             [
              0.2222222222222222,
              "#7201a8"
             ],
             [
              0.3333333333333333,
              "#9c179e"
             ],
             [
              0.4444444444444444,
              "#bd3786"
             ],
             [
              0.5555555555555556,
              "#d8576b"
             ],
             [
              0.6666666666666666,
              "#ed7953"
             ],
             [
              0.7777777777777778,
              "#fb9f3a"
             ],
             [
              0.8888888888888888,
              "#fdca26"
             ],
             [
              1,
              "#f0f921"
             ]
            ],
            "type": "histogram2d"
           }
          ],
          "histogram2dcontour": [
           {
            "colorbar": {
             "outlinewidth": 0,
             "ticks": ""
            },
            "colorscale": [
             [
              0,
              "#0d0887"
             ],
             [
              0.1111111111111111,
              "#46039f"
             ],
             [
              0.2222222222222222,
              "#7201a8"
             ],
             [
              0.3333333333333333,
              "#9c179e"
             ],
             [
              0.4444444444444444,
              "#bd3786"
             ],
             [
              0.5555555555555556,
              "#d8576b"
             ],
             [
              0.6666666666666666,
              "#ed7953"
             ],
             [
              0.7777777777777778,
              "#fb9f3a"
             ],
             [
              0.8888888888888888,
              "#fdca26"
             ],
             [
              1,
              "#f0f921"
             ]
            ],
            "type": "histogram2dcontour"
           }
          ],
          "mesh3d": [
           {
            "colorbar": {
             "outlinewidth": 0,
             "ticks": ""
            },
            "type": "mesh3d"
           }
          ],
          "parcoords": [
           {
            "line": {
             "colorbar": {
              "outlinewidth": 0,
              "ticks": ""
             }
            },
            "type": "parcoords"
           }
          ],
          "pie": [
           {
            "automargin": true,
            "type": "pie"
           }
          ],
          "scatter": [
           {
            "fillpattern": {
             "fillmode": "overlay",
             "size": 10,
             "solidity": 0.2
            },
            "type": "scatter"
           }
          ],
          "scatter3d": [
           {
            "line": {
             "colorbar": {
              "outlinewidth": 0,
              "ticks": ""
             }
            },
            "marker": {
             "colorbar": {
              "outlinewidth": 0,
              "ticks": ""
             }
            },
            "type": "scatter3d"
           }
          ],
          "scattercarpet": [
           {
            "marker": {
             "colorbar": {
              "outlinewidth": 0,
              "ticks": ""
             }
            },
            "type": "scattercarpet"
           }
          ],
          "scattergeo": [
           {
            "marker": {
             "colorbar": {
              "outlinewidth": 0,
              "ticks": ""
             }
            },
            "type": "scattergeo"
           }
          ],
          "scattergl": [
           {
            "marker": {
             "colorbar": {
              "outlinewidth": 0,
              "ticks": ""
             }
            },
            "type": "scattergl"
           }
          ],
          "scattermapbox": [
           {
            "marker": {
             "colorbar": {
              "outlinewidth": 0,
              "ticks": ""
             }
            },
            "type": "scattermapbox"
           }
          ],
          "scatterpolar": [
           {
            "marker": {
             "colorbar": {
              "outlinewidth": 0,
              "ticks": ""
             }
            },
            "type": "scatterpolar"
           }
          ],
          "scatterpolargl": [
           {
            "marker": {
             "colorbar": {
              "outlinewidth": 0,
              "ticks": ""
             }
            },
            "type": "scatterpolargl"
           }
          ],
          "scatterternary": [
           {
            "marker": {
             "colorbar": {
              "outlinewidth": 0,
              "ticks": ""
             }
            },
            "type": "scatterternary"
           }
          ],
          "surface": [
           {
            "colorbar": {
             "outlinewidth": 0,
             "ticks": ""
            },
            "colorscale": [
             [
              0,
              "#0d0887"
             ],
             [
              0.1111111111111111,
              "#46039f"
             ],
             [
              0.2222222222222222,
              "#7201a8"
             ],
             [
              0.3333333333333333,
              "#9c179e"
             ],
             [
              0.4444444444444444,
              "#bd3786"
             ],
             [
              0.5555555555555556,
              "#d8576b"
             ],
             [
              0.6666666666666666,
              "#ed7953"
             ],
             [
              0.7777777777777778,
              "#fb9f3a"
             ],
             [
              0.8888888888888888,
              "#fdca26"
             ],
             [
              1,
              "#f0f921"
             ]
            ],
            "type": "surface"
           }
          ],
          "table": [
           {
            "cells": {
             "fill": {
              "color": "#EBF0F8"
             },
             "line": {
              "color": "white"
             }
            },
            "header": {
             "fill": {
              "color": "#C8D4E3"
             },
             "line": {
              "color": "white"
             }
            },
            "type": "table"
           }
          ]
         },
         "layout": {
          "annotationdefaults": {
           "arrowcolor": "#2a3f5f",
           "arrowhead": 0,
           "arrowwidth": 1
          },
          "autotypenumbers": "strict",
          "coloraxis": {
           "colorbar": {
            "outlinewidth": 0,
            "ticks": ""
           }
          },
          "colorscale": {
           "diverging": [
            [
             0,
             "#8e0152"
            ],
            [
             0.1,
             "#c51b7d"
            ],
            [
             0.2,
             "#de77ae"
            ],
            [
             0.3,
             "#f1b6da"
            ],
            [
             0.4,
             "#fde0ef"
            ],
            [
             0.5,
             "#f7f7f7"
            ],
            [
             0.6,
             "#e6f5d0"
            ],
            [
             0.7,
             "#b8e186"
            ],
            [
             0.8,
             "#7fbc41"
            ],
            [
             0.9,
             "#4d9221"
            ],
            [
             1,
             "#276419"
            ]
           ],
           "sequential": [
            [
             0,
             "#0d0887"
            ],
            [
             0.1111111111111111,
             "#46039f"
            ],
            [
             0.2222222222222222,
             "#7201a8"
            ],
            [
             0.3333333333333333,
             "#9c179e"
            ],
            [
             0.4444444444444444,
             "#bd3786"
            ],
            [
             0.5555555555555556,
             "#d8576b"
            ],
            [
             0.6666666666666666,
             "#ed7953"
            ],
            [
             0.7777777777777778,
             "#fb9f3a"
            ],
            [
             0.8888888888888888,
             "#fdca26"
            ],
            [
             1,
             "#f0f921"
            ]
           ],
           "sequentialminus": [
            [
             0,
             "#0d0887"
            ],
            [
             0.1111111111111111,
             "#46039f"
            ],
            [
             0.2222222222222222,
             "#7201a8"
            ],
            [
             0.3333333333333333,
             "#9c179e"
            ],
            [
             0.4444444444444444,
             "#bd3786"
            ],
            [
             0.5555555555555556,
             "#d8576b"
            ],
            [
             0.6666666666666666,
             "#ed7953"
            ],
            [
             0.7777777777777778,
             "#fb9f3a"
            ],
            [
             0.8888888888888888,
             "#fdca26"
            ],
            [
             1,
             "#f0f921"
            ]
           ]
          },
          "colorway": [
           "#636efa",
           "#EF553B",
           "#00cc96",
           "#ab63fa",
           "#FFA15A",
           "#19d3f3",
           "#FF6692",
           "#B6E880",
           "#FF97FF",
           "#FECB52"
          ],
          "font": {
           "color": "#2a3f5f"
          },
          "geo": {
           "bgcolor": "white",
           "lakecolor": "white",
           "landcolor": "#E5ECF6",
           "showlakes": true,
           "showland": true,
           "subunitcolor": "white"
          },
          "hoverlabel": {
           "align": "left"
          },
          "hovermode": "closest",
          "mapbox": {
           "style": "light"
          },
          "paper_bgcolor": "white",
          "plot_bgcolor": "#E5ECF6",
          "polar": {
           "angularaxis": {
            "gridcolor": "white",
            "linecolor": "white",
            "ticks": ""
           },
           "bgcolor": "#E5ECF6",
           "radialaxis": {
            "gridcolor": "white",
            "linecolor": "white",
            "ticks": ""
           }
          },
          "scene": {
           "xaxis": {
            "backgroundcolor": "#E5ECF6",
            "gridcolor": "white",
            "gridwidth": 2,
            "linecolor": "white",
            "showbackground": true,
            "ticks": "",
            "zerolinecolor": "white"
           },
           "yaxis": {
            "backgroundcolor": "#E5ECF6",
            "gridcolor": "white",
            "gridwidth": 2,
            "linecolor": "white",
            "showbackground": true,
            "ticks": "",
            "zerolinecolor": "white"
           },
           "zaxis": {
            "backgroundcolor": "#E5ECF6",
            "gridcolor": "white",
            "gridwidth": 2,
            "linecolor": "white",
            "showbackground": true,
            "ticks": "",
            "zerolinecolor": "white"
           }
          },
          "shapedefaults": {
           "line": {
            "color": "#2a3f5f"
           }
          },
          "ternary": {
           "aaxis": {
            "gridcolor": "white",
            "linecolor": "white",
            "ticks": ""
           },
           "baxis": {
            "gridcolor": "white",
            "linecolor": "white",
            "ticks": ""
           },
           "bgcolor": "#E5ECF6",
           "caxis": {
            "gridcolor": "white",
            "linecolor": "white",
            "ticks": ""
           }
          },
          "title": {
           "x": 0.05
          },
          "xaxis": {
           "automargin": true,
           "gridcolor": "white",
           "linecolor": "white",
           "ticks": "",
           "title": {
            "standoff": 15
           },
           "zerolinecolor": "white",
           "zerolinewidth": 2
          },
          "yaxis": {
           "automargin": true,
           "gridcolor": "white",
           "linecolor": "white",
           "ticks": "",
           "title": {
            "standoff": 15
           },
           "zerolinecolor": "white",
           "zerolinewidth": 2
          }
         }
        },
        "title": {
         "text": "Count of Cars by Owner Type"
        },
        "xaxis": {
         "title": {
          "text": "Owner Type"
         }
        },
        "yaxis": {
         "title": {
          "text": "Count"
         }
        }
       }
      }
     },
     "metadata": {},
     "output_type": "display_data"
    }
   ],
   "source": [
    "# Get the value counts of the 'owner' column\n",
    "owner_counts = detail_frame['owner'].value_counts()\n",
    "\n",
    "# Create a bar plot\n",
    "fig = go.Figure(data=[\n",
    "    go.Bar(\n",
    "        x=owner_counts.index,  # categories (owners)\n",
    "        y=owner_counts.values,  # counts\n",
    "        marker=dict(color='blue')  # custom color for bars\n",
    "    )\n",
    "])\n",
    "\n",
    "# Update layout\n",
    "fig.update_layout(\n",
    "    title_text=\"Count of Cars by Owner Type\",  # plot title\n",
    "    xaxis=dict(title='Owner Type'),  # x-axis label\n",
    "    yaxis=dict(title='Count'),  # y-axis label\n",
    "    plot_bgcolor='black',  # Set background color to black\n",
    "    paper_bgcolor='black',  # Set paper (outside plot area) color to black\n",
    "    font=dict(color='white')  # Set text color to white\n",
    ")\n",
    "\n",
    "# Show the plot\n",
    "fig.show()\n"
   ]
  },
  {
   "cell_type": "code",
   "execution_count": 155,
   "metadata": {},
   "outputs": [
    {
     "data": {
      "application/vnd.plotly.v1+json": {
       "config": {
        "plotlyServerURL": "https://plot.ly"
       },
       "data": [
        {
         "alignmentgroup": "True",
         "hovertemplate": "owner=1st Owner<br>oem=%{x}<br>Total Cars=%{y}<extra></extra>",
         "legendgroup": "1st Owner",
         "marker": {
          "color": "#636efa",
          "pattern": {
           "shape": ""
          }
         },
         "name": "1st Owner",
         "offsetgroup": "1st Owner",
         "orientation": "v",
         "showlegend": true,
         "textposition": "auto",
         "type": "bar",
         "x": [
          "Maruti",
          "Hyundai",
          "Honda",
          "Tata",
          "Mahindra",
          "Renault",
          "Toyota",
          "Ford",
          "Volkswagen",
          "Mercedes-Benz",
          "Kia",
          "BMW",
          "Skoda",
          "Audi",
          "Jeep",
          "MG",
          "Datsun",
          "Nissan",
          "Chevrolet",
          "Volvo",
          "Land Rover",
          "Jaguar",
          "Fiat",
          "Mini",
          "Citroen",
          "Mitsubishi",
          "Lexus",
          "Hindustan Motors",
          "Isuzu",
          "Mahindra Ssangyong",
          "Mahindra Renault",
          "Opel",
          "Porsche"
         ],
         "xaxis": "x",
         "y": [
          1615,
          1120,
          601,
          328,
          256,
          239,
          232,
          194,
          179,
          170,
          149,
          125,
          114,
          102,
          101,
          81,
          61,
          52,
          36,
          30,
          25,
          20,
          16,
          7,
          7,
          5,
          5,
          3,
          3,
          2,
          2,
          1,
          1
         ],
         "yaxis": "y"
        },
        {
         "alignmentgroup": "True",
         "hovertemplate": "owner=2nd Owner<br>oem=%{x}<br>Total Cars=%{y}<extra></extra>",
         "legendgroup": "2nd Owner",
         "marker": {
          "color": "#EF553B",
          "pattern": {
           "shape": ""
          }
         },
         "name": "2nd Owner",
         "offsetgroup": "2nd Owner",
         "orientation": "v",
         "showlegend": true,
         "textposition": "auto",
         "type": "bar",
         "x": [
          "Maruti",
          "Hyundai",
          "Honda",
          "Volkswagen",
          "Mahindra",
          "Ford",
          "Tata",
          "Toyota",
          "Renault",
          "Mercedes-Benz",
          "Audi",
          "BMW",
          "Skoda",
          "Nissan",
          "Chevrolet",
          "Land Rover",
          "Jaguar",
          "Datsun",
          "Fiat",
          "Jeep",
          "Volvo",
          "Kia",
          "MG",
          "Mini",
          "Mitsubishi",
          "Porsche",
          "Mahindra Ssangyong",
          "Mahindra Renault",
          "Isuzu",
          "Citroen",
          "Hindustan Motors",
          "Opel"
         ],
         "xaxis": "x",
         "y": [
          519,
          423,
          209,
          94,
          88,
          88,
          83,
          72,
          62,
          62,
          46,
          45,
          38,
          22,
          20,
          17,
          13,
          12,
          11,
          11,
          10,
          9,
          6,
          5,
          4,
          4,
          2,
          2,
          2,
          1,
          1,
          1
         ],
         "yaxis": "y"
        },
        {
         "alignmentgroup": "True",
         "hovertemplate": "owner=3rd Owner<br>oem=%{x}<br>Total Cars=%{y}<extra></extra>",
         "legendgroup": "3rd Owner",
         "marker": {
          "color": "#00cc96",
          "pattern": {
           "shape": ""
          }
         },
         "name": "3rd Owner",
         "offsetgroup": "3rd Owner",
         "orientation": "v",
         "showlegend": true,
         "textposition": "auto",
         "type": "bar",
         "x": [
          "Maruti",
          "Hyundai",
          "Honda",
          "Mahindra",
          "Ford",
          "Toyota",
          "Tata",
          "Volkswagen",
          "Chevrolet",
          "BMW",
          "Mercedes-Benz",
          "Renault",
          "Skoda",
          "Audi",
          "Mitsubishi",
          "Nissan",
          "Fiat",
          "Porsche",
          "Datsun",
          "Jaguar",
          "Land Rover",
          "Mahindra Renault",
          "Volvo"
         ],
         "xaxis": "x",
         "y": [
          89,
          82,
          39,
          23,
          23,
          17,
          17,
          15,
          15,
          11,
          10,
          8,
          5,
          5,
          4,
          3,
          2,
          1,
          1,
          1,
          1,
          1,
          1
         ],
         "yaxis": "y"
        },
        {
         "alignmentgroup": "True",
         "hovertemplate": "owner=4th Owner<br>oem=%{x}<br>Total Cars=%{y}<extra></extra>",
         "legendgroup": "4th Owner",
         "marker": {
          "color": "#ab63fa",
          "pattern": {
           "shape": ""
          }
         },
         "name": "4th Owner",
         "offsetgroup": "4th Owner",
         "orientation": "v",
         "showlegend": true,
         "textposition": "auto",
         "type": "bar",
         "x": [
          "Maruti",
          "Hyundai",
          "Honda",
          "Mahindra",
          "Ford",
          "Chevrolet",
          "Volkswagen",
          "Toyota",
          "Mercedes-Benz",
          "BMW",
          "Audi",
          "Fiat",
          "Tata",
          "Skoda",
          "Jaguar",
          "Nissan",
          "Opel"
         ],
         "xaxis": "x",
         "y": [
          19,
          16,
          6,
          6,
          5,
          5,
          4,
          4,
          3,
          3,
          2,
          2,
          1,
          1,
          1,
          1,
          1
         ],
         "yaxis": "y"
        },
        {
         "alignmentgroup": "True",
         "hovertemplate": "owner=0th Owner<br>oem=%{x}<br>Total Cars=%{y}<extra></extra>",
         "legendgroup": "0th Owner",
         "marker": {
          "color": "#FFA15A",
          "pattern": {
           "shape": ""
          }
         },
         "name": "0th Owner",
         "offsetgroup": "0th Owner",
         "orientation": "v",
         "showlegend": true,
         "textposition": "auto",
         "type": "bar",
         "x": [
          "Maruti",
          "Honda",
          "MG",
          "Renault",
          "Hyundai",
          "Skoda",
          "Mahindra",
          "Tata",
          "Volkswagen",
          "Audi",
          "Land Rover"
         ],
         "xaxis": "x",
         "y": [
          8,
          6,
          3,
          3,
          3,
          2,
          2,
          2,
          1,
          1,
          1
         ],
         "yaxis": "y"
        },
        {
         "alignmentgroup": "True",
         "hovertemplate": "owner=5th Owner<br>oem=%{x}<br>Total Cars=%{y}<extra></extra>",
         "legendgroup": "5th Owner",
         "marker": {
          "color": "#19d3f3",
          "pattern": {
           "shape": ""
          }
         },
         "name": "5th Owner",
         "offsetgroup": "5th Owner",
         "orientation": "v",
         "showlegend": true,
         "textposition": "auto",
         "type": "bar",
         "x": [
          "Hyundai",
          "Honda",
          "Maruti",
          "Mahindra",
          "Volkswagen",
          "Skoda",
          "Ford",
          "Mitsubishi"
         ],
         "xaxis": "x",
         "y": [
          7,
          4,
          2,
          2,
          1,
          1,
          1,
          1
         ],
         "yaxis": "y"
        }
       ],
       "layout": {
        "barmode": "relative",
        "font": {
         "color": "white"
        },
        "legend": {
         "title": {
          "text": "owner"
         },
         "tracegroupgap": 0
        },
        "margin": {
         "t": 60
        },
        "paper_bgcolor": "black",
        "plot_bgcolor": "black",
        "template": {
         "data": {
          "bar": [
           {
            "error_x": {
             "color": "#2a3f5f"
            },
            "error_y": {
             "color": "#2a3f5f"
            },
            "marker": {
             "line": {
              "color": "#E5ECF6",
              "width": 0.5
             },
             "pattern": {
              "fillmode": "overlay",
              "size": 10,
              "solidity": 0.2
             }
            },
            "type": "bar"
           }
          ],
          "barpolar": [
           {
            "marker": {
             "line": {
              "color": "#E5ECF6",
              "width": 0.5
             },
             "pattern": {
              "fillmode": "overlay",
              "size": 10,
              "solidity": 0.2
             }
            },
            "type": "barpolar"
           }
          ],
          "carpet": [
           {
            "aaxis": {
             "endlinecolor": "#2a3f5f",
             "gridcolor": "white",
             "linecolor": "white",
             "minorgridcolor": "white",
             "startlinecolor": "#2a3f5f"
            },
            "baxis": {
             "endlinecolor": "#2a3f5f",
             "gridcolor": "white",
             "linecolor": "white",
             "minorgridcolor": "white",
             "startlinecolor": "#2a3f5f"
            },
            "type": "carpet"
           }
          ],
          "choropleth": [
           {
            "colorbar": {
             "outlinewidth": 0,
             "ticks": ""
            },
            "type": "choropleth"
           }
          ],
          "contour": [
           {
            "colorbar": {
             "outlinewidth": 0,
             "ticks": ""
            },
            "colorscale": [
             [
              0,
              "#0d0887"
             ],
             [
              0.1111111111111111,
              "#46039f"
             ],
             [
              0.2222222222222222,
              "#7201a8"
             ],
             [
              0.3333333333333333,
              "#9c179e"
             ],
             [
              0.4444444444444444,
              "#bd3786"
             ],
             [
              0.5555555555555556,
              "#d8576b"
             ],
             [
              0.6666666666666666,
              "#ed7953"
             ],
             [
              0.7777777777777778,
              "#fb9f3a"
             ],
             [
              0.8888888888888888,
              "#fdca26"
             ],
             [
              1,
              "#f0f921"
             ]
            ],
            "type": "contour"
           }
          ],
          "contourcarpet": [
           {
            "colorbar": {
             "outlinewidth": 0,
             "ticks": ""
            },
            "type": "contourcarpet"
           }
          ],
          "heatmap": [
           {
            "colorbar": {
             "outlinewidth": 0,
             "ticks": ""
            },
            "colorscale": [
             [
              0,
              "#0d0887"
             ],
             [
              0.1111111111111111,
              "#46039f"
             ],
             [
              0.2222222222222222,
              "#7201a8"
             ],
             [
              0.3333333333333333,
              "#9c179e"
             ],
             [
              0.4444444444444444,
              "#bd3786"
             ],
             [
              0.5555555555555556,
              "#d8576b"
             ],
             [
              0.6666666666666666,
              "#ed7953"
             ],
             [
              0.7777777777777778,
              "#fb9f3a"
             ],
             [
              0.8888888888888888,
              "#fdca26"
             ],
             [
              1,
              "#f0f921"
             ]
            ],
            "type": "heatmap"
           }
          ],
          "heatmapgl": [
           {
            "colorbar": {
             "outlinewidth": 0,
             "ticks": ""
            },
            "colorscale": [
             [
              0,
              "#0d0887"
             ],
             [
              0.1111111111111111,
              "#46039f"
             ],
             [
              0.2222222222222222,
              "#7201a8"
             ],
             [
              0.3333333333333333,
              "#9c179e"
             ],
             [
              0.4444444444444444,
              "#bd3786"
             ],
             [
              0.5555555555555556,
              "#d8576b"
             ],
             [
              0.6666666666666666,
              "#ed7953"
             ],
             [
              0.7777777777777778,
              "#fb9f3a"
             ],
             [
              0.8888888888888888,
              "#fdca26"
             ],
             [
              1,
              "#f0f921"
             ]
            ],
            "type": "heatmapgl"
           }
          ],
          "histogram": [
           {
            "marker": {
             "pattern": {
              "fillmode": "overlay",
              "size": 10,
              "solidity": 0.2
             }
            },
            "type": "histogram"
           }
          ],
          "histogram2d": [
           {
            "colorbar": {
             "outlinewidth": 0,
             "ticks": ""
            },
            "colorscale": [
             [
              0,
              "#0d0887"
             ],
             [
              0.1111111111111111,
              "#46039f"
             ],
             [
              0.2222222222222222,
              "#7201a8"
             ],
             [
              0.3333333333333333,
              "#9c179e"
             ],
             [
              0.4444444444444444,
              "#bd3786"
             ],
             [
              0.5555555555555556,
              "#d8576b"
             ],
             [
              0.6666666666666666,
              "#ed7953"
             ],
             [
              0.7777777777777778,
              "#fb9f3a"
             ],
             [
              0.8888888888888888,
              "#fdca26"
             ],
             [
              1,
              "#f0f921"
             ]
            ],
            "type": "histogram2d"
           }
          ],
          "histogram2dcontour": [
           {
            "colorbar": {
             "outlinewidth": 0,
             "ticks": ""
            },
            "colorscale": [
             [
              0,
              "#0d0887"
             ],
             [
              0.1111111111111111,
              "#46039f"
             ],
             [
              0.2222222222222222,
              "#7201a8"
             ],
             [
              0.3333333333333333,
              "#9c179e"
             ],
             [
              0.4444444444444444,
              "#bd3786"
             ],
             [
              0.5555555555555556,
              "#d8576b"
             ],
             [
              0.6666666666666666,
              "#ed7953"
             ],
             [
              0.7777777777777778,
              "#fb9f3a"
             ],
             [
              0.8888888888888888,
              "#fdca26"
             ],
             [
              1,
              "#f0f921"
             ]
            ],
            "type": "histogram2dcontour"
           }
          ],
          "mesh3d": [
           {
            "colorbar": {
             "outlinewidth": 0,
             "ticks": ""
            },
            "type": "mesh3d"
           }
          ],
          "parcoords": [
           {
            "line": {
             "colorbar": {
              "outlinewidth": 0,
              "ticks": ""
             }
            },
            "type": "parcoords"
           }
          ],
          "pie": [
           {
            "automargin": true,
            "type": "pie"
           }
          ],
          "scatter": [
           {
            "fillpattern": {
             "fillmode": "overlay",
             "size": 10,
             "solidity": 0.2
            },
            "type": "scatter"
           }
          ],
          "scatter3d": [
           {
            "line": {
             "colorbar": {
              "outlinewidth": 0,
              "ticks": ""
             }
            },
            "marker": {
             "colorbar": {
              "outlinewidth": 0,
              "ticks": ""
             }
            },
            "type": "scatter3d"
           }
          ],
          "scattercarpet": [
           {
            "marker": {
             "colorbar": {
              "outlinewidth": 0,
              "ticks": ""
             }
            },
            "type": "scattercarpet"
           }
          ],
          "scattergeo": [
           {
            "marker": {
             "colorbar": {
              "outlinewidth": 0,
              "ticks": ""
             }
            },
            "type": "scattergeo"
           }
          ],
          "scattergl": [
           {
            "marker": {
             "colorbar": {
              "outlinewidth": 0,
              "ticks": ""
             }
            },
            "type": "scattergl"
           }
          ],
          "scattermapbox": [
           {
            "marker": {
             "colorbar": {
              "outlinewidth": 0,
              "ticks": ""
             }
            },
            "type": "scattermapbox"
           }
          ],
          "scatterpolar": [
           {
            "marker": {
             "colorbar": {
              "outlinewidth": 0,
              "ticks": ""
             }
            },
            "type": "scatterpolar"
           }
          ],
          "scatterpolargl": [
           {
            "marker": {
             "colorbar": {
              "outlinewidth": 0,
              "ticks": ""
             }
            },
            "type": "scatterpolargl"
           }
          ],
          "scatterternary": [
           {
            "marker": {
             "colorbar": {
              "outlinewidth": 0,
              "ticks": ""
             }
            },
            "type": "scatterternary"
           }
          ],
          "surface": [
           {
            "colorbar": {
             "outlinewidth": 0,
             "ticks": ""
            },
            "colorscale": [
             [
              0,
              "#0d0887"
             ],
             [
              0.1111111111111111,
              "#46039f"
             ],
             [
              0.2222222222222222,
              "#7201a8"
             ],
             [
              0.3333333333333333,
              "#9c179e"
             ],
             [
              0.4444444444444444,
              "#bd3786"
             ],
             [
              0.5555555555555556,
              "#d8576b"
             ],
             [
              0.6666666666666666,
              "#ed7953"
             ],
             [
              0.7777777777777778,
              "#fb9f3a"
             ],
             [
              0.8888888888888888,
              "#fdca26"
             ],
             [
              1,
              "#f0f921"
             ]
            ],
            "type": "surface"
           }
          ],
          "table": [
           {
            "cells": {
             "fill": {
              "color": "#EBF0F8"
             },
             "line": {
              "color": "white"
             }
            },
            "header": {
             "fill": {
              "color": "#C8D4E3"
             },
             "line": {
              "color": "white"
             }
            },
            "type": "table"
           }
          ]
         },
         "layout": {
          "annotationdefaults": {
           "arrowcolor": "#2a3f5f",
           "arrowhead": 0,
           "arrowwidth": 1
          },
          "autotypenumbers": "strict",
          "coloraxis": {
           "colorbar": {
            "outlinewidth": 0,
            "ticks": ""
           }
          },
          "colorscale": {
           "diverging": [
            [
             0,
             "#8e0152"
            ],
            [
             0.1,
             "#c51b7d"
            ],
            [
             0.2,
             "#de77ae"
            ],
            [
             0.3,
             "#f1b6da"
            ],
            [
             0.4,
             "#fde0ef"
            ],
            [
             0.5,
             "#f7f7f7"
            ],
            [
             0.6,
             "#e6f5d0"
            ],
            [
             0.7,
             "#b8e186"
            ],
            [
             0.8,
             "#7fbc41"
            ],
            [
             0.9,
             "#4d9221"
            ],
            [
             1,
             "#276419"
            ]
           ],
           "sequential": [
            [
             0,
             "#0d0887"
            ],
            [
             0.1111111111111111,
             "#46039f"
            ],
            [
             0.2222222222222222,
             "#7201a8"
            ],
            [
             0.3333333333333333,
             "#9c179e"
            ],
            [
             0.4444444444444444,
             "#bd3786"
            ],
            [
             0.5555555555555556,
             "#d8576b"
            ],
            [
             0.6666666666666666,
             "#ed7953"
            ],
            [
             0.7777777777777778,
             "#fb9f3a"
            ],
            [
             0.8888888888888888,
             "#fdca26"
            ],
            [
             1,
             "#f0f921"
            ]
           ],
           "sequentialminus": [
            [
             0,
             "#0d0887"
            ],
            [
             0.1111111111111111,
             "#46039f"
            ],
            [
             0.2222222222222222,
             "#7201a8"
            ],
            [
             0.3333333333333333,
             "#9c179e"
            ],
            [
             0.4444444444444444,
             "#bd3786"
            ],
            [
             0.5555555555555556,
             "#d8576b"
            ],
            [
             0.6666666666666666,
             "#ed7953"
            ],
            [
             0.7777777777777778,
             "#fb9f3a"
            ],
            [
             0.8888888888888888,
             "#fdca26"
            ],
            [
             1,
             "#f0f921"
            ]
           ]
          },
          "colorway": [
           "#636efa",
           "#EF553B",
           "#00cc96",
           "#ab63fa",
           "#FFA15A",
           "#19d3f3",
           "#FF6692",
           "#B6E880",
           "#FF97FF",
           "#FECB52"
          ],
          "font": {
           "color": "#2a3f5f"
          },
          "geo": {
           "bgcolor": "white",
           "lakecolor": "white",
           "landcolor": "#E5ECF6",
           "showlakes": true,
           "showland": true,
           "subunitcolor": "white"
          },
          "hoverlabel": {
           "align": "left"
          },
          "hovermode": "closest",
          "mapbox": {
           "style": "light"
          },
          "paper_bgcolor": "white",
          "plot_bgcolor": "#E5ECF6",
          "polar": {
           "angularaxis": {
            "gridcolor": "white",
            "linecolor": "white",
            "ticks": ""
           },
           "bgcolor": "#E5ECF6",
           "radialaxis": {
            "gridcolor": "white",
            "linecolor": "white",
            "ticks": ""
           }
          },
          "scene": {
           "xaxis": {
            "backgroundcolor": "#E5ECF6",
            "gridcolor": "white",
            "gridwidth": 2,
            "linecolor": "white",
            "showbackground": true,
            "ticks": "",
            "zerolinecolor": "white"
           },
           "yaxis": {
            "backgroundcolor": "#E5ECF6",
            "gridcolor": "white",
            "gridwidth": 2,
            "linecolor": "white",
            "showbackground": true,
            "ticks": "",
            "zerolinecolor": "white"
           },
           "zaxis": {
            "backgroundcolor": "#E5ECF6",
            "gridcolor": "white",
            "gridwidth": 2,
            "linecolor": "white",
            "showbackground": true,
            "ticks": "",
            "zerolinecolor": "white"
           }
          },
          "shapedefaults": {
           "line": {
            "color": "#2a3f5f"
           }
          },
          "ternary": {
           "aaxis": {
            "gridcolor": "white",
            "linecolor": "white",
            "ticks": ""
           },
           "baxis": {
            "gridcolor": "white",
            "linecolor": "white",
            "ticks": ""
           },
           "bgcolor": "#E5ECF6",
           "caxis": {
            "gridcolor": "white",
            "linecolor": "white",
            "ticks": ""
           }
          },
          "title": {
           "x": 0.05
          },
          "xaxis": {
           "automargin": true,
           "gridcolor": "white",
           "linecolor": "white",
           "ticks": "",
           "title": {
            "standoff": 15
           },
           "zerolinecolor": "white",
           "zerolinewidth": 2
          },
          "yaxis": {
           "automargin": true,
           "gridcolor": "white",
           "linecolor": "white",
           "ticks": "",
           "title": {
            "standoff": 15
           },
           "zerolinecolor": "white",
           "zerolinewidth": 2
          }
         }
        },
        "title": {
         "text": "OEM Wise Total No Of Cars In Each Owner Type",
         "x": 0.45,
         "y": 0.95
        },
        "xaxis": {
         "anchor": "y",
         "domain": [
          0,
          1
         ],
         "tickangle": -45,
         "title": {
          "text": "OEM Names"
         }
        },
        "yaxis": {
         "anchor": "x",
         "domain": [
          0,
          1
         ],
         "title": {
          "text": "Total Cars Counts"
         }
        }
       }
      }
     },
     "metadata": {},
     "output_type": "display_data"
    }
   ],
   "source": [
    "OemCountFrameOwner = detail_frame.groupby(['oem','owner']).price.agg(['count']).sort_values(by = 'count',ascending = False).reset_index()\n",
    "\n",
    "OemCountFrameOwner.rename(columns = {'count':'Total Cars'}, inplace = True)\n",
    "fig = px.bar(OemCountFrameOwner, x=\"oem\", y=\"Total Cars\",color = 'owner', orientation='v')\n",
    "fig.update_layout( xaxis_tickangle=-45)\n",
    "\n",
    "fig.update_layout(title_text=\"OEM Wise Total No Of Cars In Each Owner Type\")\n",
    "fig.update_layout(title=dict(x=0.45, y=0.95))\n",
    "\n",
    "fig.update_xaxes(title_text=\"OEM Names\")\n",
    "fig.update_yaxes(title_text=\"Total Cars Counts\")\n",
    "fig.update_layout(\n",
    "    plot_bgcolor='black',  # Set background color to black\n",
    "    paper_bgcolor='black',  # Set paper (outside plot area) color to black\n",
    "    font=dict(color='white')  # Set text color to white\n",
    ")\n",
    "fig.show()\n",
    "\n",
    "#Single type owners are maximum"
   ]
  },
  {
   "cell_type": "code",
   "execution_count": 156,
   "metadata": {},
   "outputs": [
    {
     "data": {
      "application/vnd.plotly.v1+json": {
       "config": {
        "plotlyServerURL": "https://plot.ly"
       },
       "data": [
        {
         "alignmentgroup": "True",
         "hovertemplate": "owner=0th Owner<br>oem=%{x}<br>Avg Price=%{y}<extra></extra>",
         "legendgroup": "0th Owner",
         "marker": {
          "color": "#636efa",
          "pattern": {
           "shape": ""
          }
         },
         "name": "0th Owner",
         "offsetgroup": "0th Owner",
         "orientation": "v",
         "showlegend": true,
         "textposition": "auto",
         "type": "bar",
         "x": [
          "Land Rover",
          "MG",
          "Audi",
          "Mahindra",
          "Skoda",
          "Tata",
          "Renault",
          "Honda",
          "Maruti",
          "Hyundai",
          "Volkswagen"
         ],
         "xaxis": "x",
         "y": [
          10300000,
          4595000,
          4400000,
          1770000,
          1149500,
          867500,
          615333.3333333334,
          592500,
          383125,
          378333.3333333333,
          310000
         ],
         "yaxis": "y"
        },
        {
         "alignmentgroup": "True",
         "hovertemplate": "owner=2nd Owner<br>oem=%{x}<br>Avg Price=%{y}<extra></extra>",
         "legendgroup": "2nd Owner",
         "marker": {
          "color": "#EF553B",
          "pattern": {
           "shape": ""
          }
         },
         "name": "2nd Owner",
         "offsetgroup": "2nd Owner",
         "orientation": "v",
         "showlegend": true,
         "textposition": "auto",
         "type": "bar",
         "x": [
          "Porsche",
          "Land Rover",
          "Jaguar",
          "Mercedes-Benz",
          "Mini",
          "Volvo",
          "BMW",
          "Audi",
          "Kia",
          "MG",
          "Isuzu",
          "Jeep",
          "Toyota",
          "Mahindra",
          "Mahindra Ssangyong",
          "Citroen",
          "Skoda",
          "Ford",
          "Honda",
          "Tata",
          "Volkswagen",
          "Renault",
          "Hyundai",
          "Nissan",
          "Mitsubishi",
          "Maruti",
          "Hindustan Motors",
          "Datsun",
          "Fiat",
          "Chevrolet",
          "Mahindra Renault",
          "Opel"
         ],
         "xaxis": "x",
         "y": [
          7662500,
          4055588.2352941176,
          3157692.3076923075,
          2942241.935483871,
          2565000,
          2528000,
          2376333.3333333335,
          2021804.347826087,
          1588888.888888889,
          1546833.3333333333,
          1425000,
          1198272.7272727273,
          1032402.7777777778,
          797738.6363636364,
          775000,
          730000,
          707710.5263157894,
          613488.6363636364,
          554861.2440191387,
          551879.5180722892,
          535765.9574468085,
          494000,
          491579.1962174941,
          459545.45454545453,
          455250,
          434862.6300578035,
          425000,
          332666.6666666667,
          305909.0909090909,
          247349.95,
          106500,
          75000
         ],
         "yaxis": "y"
        },
        {
         "alignmentgroup": "True",
         "hovertemplate": "owner=1st Owner<br>oem=%{x}<br>Avg Price=%{y}<extra></extra>",
         "legendgroup": "1st Owner",
         "marker": {
          "color": "#00cc96",
          "pattern": {
           "shape": ""
          }
         },
         "name": "1st Owner",
         "offsetgroup": "1st Owner",
         "orientation": "v",
         "showlegend": true,
         "textposition": "auto",
         "type": "bar",
         "x": [
          "Lexus",
          "Land Rover",
          "Porsche",
          "Mercedes-Benz",
          "BMW",
          "Volvo",
          "Mini",
          "Jaguar",
          "Audi",
          "Citroen",
          "Jeep",
          "MG",
          "Toyota",
          "Isuzu",
          "Kia",
          "Mahindra Ssangyong",
          "Skoda",
          "Mahindra",
          "Tata",
          "Ford",
          "Volkswagen",
          "Hyundai",
          "Honda",
          "Nissan",
          "Mitsubishi",
          "Renault",
          "Maruti",
          "Datsun",
          "Fiat",
          "Chevrolet",
          "Hindustan Motors",
          "Mahindra Renault",
          "Opel"
         ],
         "xaxis": "x",
         "y": [
          6835000,
          6735760,
          5600000,
          4959882.352941177,
          4097128,
          3399433.3333333335,
          3317857.1428571427,
          3277750,
          2609225.4901960786,
          2125714.285714286,
          2004346.5346534653,
          1897308.6419753085,
          1562672.4137931035,
          1489666.6666666667,
          1439362.4161073826,
          1125000,
          1119701.754385965,
          1079167.96875,
          855639.3384146341,
          830206.1855670103,
          824681.56424581,
          676097.3223214286,
          672410.7154742096,
          645519.2307692308,
          598200,
          553062.7615062762,
          542368.4160990712,
          349426.2295081967,
          316562.5,
          286944.44444444444,
          238333.33333333334,
          125000,
          80000
         ],
         "yaxis": "y"
        },
        {
         "alignmentgroup": "True",
         "hovertemplate": "owner=3rd Owner<br>oem=%{x}<br>Avg Price=%{y}<extra></extra>",
         "legendgroup": "3rd Owner",
         "marker": {
          "color": "#ab63fa",
          "pattern": {
           "shape": ""
          }
         },
         "name": "3rd Owner",
         "offsetgroup": "3rd Owner",
         "orientation": "v",
         "showlegend": true,
         "textposition": "auto",
         "type": "bar",
         "x": [
          "Jaguar",
          "Porsche",
          "Volvo",
          "Land Rover",
          "BMW",
          "Mercedes-Benz",
          "Audi",
          "Mitsubishi",
          "Toyota",
          "Mahindra",
          "Nissan",
          "Volkswagen",
          "Datsun",
          "Ford",
          "Skoda",
          "Honda",
          "Hyundai",
          "Renault",
          "Maruti",
          "Tata",
          "Chevrolet",
          "Mahindra Renault",
          "Fiat"
         ],
         "xaxis": "x",
         "y": [
          6400000,
          4200000,
          3475000,
          2190000,
          1832272.7272727273,
          1489500,
          960000,
          837500,
          694941.1764705882,
          648260.8695652174,
          458333.3333333333,
          440266.6666666667,
          430999.99999999994,
          388956.52173913043,
          370000,
          342256.41025641025,
          326853.65853658534,
          326125,
          312734.30337078654,
          286833,
          199933.33333333334,
          145000,
          110000
         ],
         "yaxis": "y"
        },
        {
         "alignmentgroup": "True",
         "hovertemplate": "owner=4th Owner<br>oem=%{x}<br>Avg Price=%{y}<extra></extra>",
         "legendgroup": "4th Owner",
         "marker": {
          "color": "#FFA15A",
          "pattern": {
           "shape": ""
          }
         },
         "name": "4th Owner",
         "offsetgroup": "4th Owner",
         "orientation": "v",
         "showlegend": true,
         "textposition": "auto",
         "type": "bar",
         "x": [
          "Jaguar",
          "BMW",
          "Audi",
          "Mercedes-Benz",
          "Toyota",
          "Volkswagen",
          "Honda",
          "Mahindra",
          "Skoda",
          "Hyundai",
          "Ford",
          "Maruti",
          "Chevrolet",
          "Fiat",
          "Nissan",
          "Opel",
          "Tata"
         ],
         "xaxis": "x",
         "y": [
          1800000,
          1266666.6666666667,
          994999.9999999999,
          766666.6666666666,
          750000,
          372750,
          332500,
          329666.6666666667,
          320000,
          265312.5,
          249000,
          208161.2105263158,
          203400,
          185000,
          135000,
          65000,
          60000
         ],
         "yaxis": "y"
        },
        {
         "alignmentgroup": "True",
         "hovertemplate": "owner=5th Owner<br>oem=%{x}<br>Avg Price=%{y}<extra></extra>",
         "legendgroup": "5th Owner",
         "marker": {
          "color": "#19d3f3",
          "pattern": {
           "shape": ""
          }
         },
         "name": "5th Owner",
         "offsetgroup": "5th Owner",
         "orientation": "v",
         "showlegend": true,
         "textposition": "auto",
         "type": "bar",
         "x": [
          "Mahindra",
          "Hyundai",
          "Skoda",
          "Volkswagen",
          "Honda",
          "Maruti",
          "Mitsubishi",
          "Ford"
         ],
         "xaxis": "x",
         "y": [
          560000,
          439428.5714285714,
          357000,
          300000,
          272500,
          144000,
          130000,
          120000
         ],
         "yaxis": "y"
        }
       ],
       "layout": {
        "barmode": "relative",
        "font": {
         "color": "white"
        },
        "legend": {
         "title": {
          "text": "owner"
         },
         "tracegroupgap": 0
        },
        "margin": {
         "t": 60
        },
        "paper_bgcolor": "black",
        "plot_bgcolor": "black",
        "template": {
         "data": {
          "bar": [
           {
            "error_x": {
             "color": "#2a3f5f"
            },
            "error_y": {
             "color": "#2a3f5f"
            },
            "marker": {
             "line": {
              "color": "#E5ECF6",
              "width": 0.5
             },
             "pattern": {
              "fillmode": "overlay",
              "size": 10,
              "solidity": 0.2
             }
            },
            "type": "bar"
           }
          ],
          "barpolar": [
           {
            "marker": {
             "line": {
              "color": "#E5ECF6",
              "width": 0.5
             },
             "pattern": {
              "fillmode": "overlay",
              "size": 10,
              "solidity": 0.2
             }
            },
            "type": "barpolar"
           }
          ],
          "carpet": [
           {
            "aaxis": {
             "endlinecolor": "#2a3f5f",
             "gridcolor": "white",
             "linecolor": "white",
             "minorgridcolor": "white",
             "startlinecolor": "#2a3f5f"
            },
            "baxis": {
             "endlinecolor": "#2a3f5f",
             "gridcolor": "white",
             "linecolor": "white",
             "minorgridcolor": "white",
             "startlinecolor": "#2a3f5f"
            },
            "type": "carpet"
           }
          ],
          "choropleth": [
           {
            "colorbar": {
             "outlinewidth": 0,
             "ticks": ""
            },
            "type": "choropleth"
           }
          ],
          "contour": [
           {
            "colorbar": {
             "outlinewidth": 0,
             "ticks": ""
            },
            "colorscale": [
             [
              0,
              "#0d0887"
             ],
             [
              0.1111111111111111,
              "#46039f"
             ],
             [
              0.2222222222222222,
              "#7201a8"
             ],
             [
              0.3333333333333333,
              "#9c179e"
             ],
             [
              0.4444444444444444,
              "#bd3786"
             ],
             [
              0.5555555555555556,
              "#d8576b"
             ],
             [
              0.6666666666666666,
              "#ed7953"
             ],
             [
              0.7777777777777778,
              "#fb9f3a"
             ],
             [
              0.8888888888888888,
              "#fdca26"
             ],
             [
              1,
              "#f0f921"
             ]
            ],
            "type": "contour"
           }
          ],
          "contourcarpet": [
           {
            "colorbar": {
             "outlinewidth": 0,
             "ticks": ""
            },
            "type": "contourcarpet"
           }
          ],
          "heatmap": [
           {
            "colorbar": {
             "outlinewidth": 0,
             "ticks": ""
            },
            "colorscale": [
             [
              0,
              "#0d0887"
             ],
             [
              0.1111111111111111,
              "#46039f"
             ],
             [
              0.2222222222222222,
              "#7201a8"
             ],
             [
              0.3333333333333333,
              "#9c179e"
             ],
             [
              0.4444444444444444,
              "#bd3786"
             ],
             [
              0.5555555555555556,
              "#d8576b"
             ],
             [
              0.6666666666666666,
              "#ed7953"
             ],
             [
              0.7777777777777778,
              "#fb9f3a"
             ],
             [
              0.8888888888888888,
              "#fdca26"
             ],
             [
              1,
              "#f0f921"
             ]
            ],
            "type": "heatmap"
           }
          ],
          "heatmapgl": [
           {
            "colorbar": {
             "outlinewidth": 0,
             "ticks": ""
            },
            "colorscale": [
             [
              0,
              "#0d0887"
             ],
             [
              0.1111111111111111,
              "#46039f"
             ],
             [
              0.2222222222222222,
              "#7201a8"
             ],
             [
              0.3333333333333333,
              "#9c179e"
             ],
             [
              0.4444444444444444,
              "#bd3786"
             ],
             [
              0.5555555555555556,
              "#d8576b"
             ],
             [
              0.6666666666666666,
              "#ed7953"
             ],
             [
              0.7777777777777778,
              "#fb9f3a"
             ],
             [
              0.8888888888888888,
              "#fdca26"
             ],
             [
              1,
              "#f0f921"
             ]
            ],
            "type": "heatmapgl"
           }
          ],
          "histogram": [
           {
            "marker": {
             "pattern": {
              "fillmode": "overlay",
              "size": 10,
              "solidity": 0.2
             }
            },
            "type": "histogram"
           }
          ],
          "histogram2d": [
           {
            "colorbar": {
             "outlinewidth": 0,
             "ticks": ""
            },
            "colorscale": [
             [
              0,
              "#0d0887"
             ],
             [
              0.1111111111111111,
              "#46039f"
             ],
             [
              0.2222222222222222,
              "#7201a8"
             ],
             [
              0.3333333333333333,
              "#9c179e"
             ],
             [
              0.4444444444444444,
              "#bd3786"
             ],
             [
              0.5555555555555556,
              "#d8576b"
             ],
             [
              0.6666666666666666,
              "#ed7953"
             ],
             [
              0.7777777777777778,
              "#fb9f3a"
             ],
             [
              0.8888888888888888,
              "#fdca26"
             ],
             [
              1,
              "#f0f921"
             ]
            ],
            "type": "histogram2d"
           }
          ],
          "histogram2dcontour": [
           {
            "colorbar": {
             "outlinewidth": 0,
             "ticks": ""
            },
            "colorscale": [
             [
              0,
              "#0d0887"
             ],
             [
              0.1111111111111111,
              "#46039f"
             ],
             [
              0.2222222222222222,
              "#7201a8"
             ],
             [
              0.3333333333333333,
              "#9c179e"
             ],
             [
              0.4444444444444444,
              "#bd3786"
             ],
             [
              0.5555555555555556,
              "#d8576b"
             ],
             [
              0.6666666666666666,
              "#ed7953"
             ],
             [
              0.7777777777777778,
              "#fb9f3a"
             ],
             [
              0.8888888888888888,
              "#fdca26"
             ],
             [
              1,
              "#f0f921"
             ]
            ],
            "type": "histogram2dcontour"
           }
          ],
          "mesh3d": [
           {
            "colorbar": {
             "outlinewidth": 0,
             "ticks": ""
            },
            "type": "mesh3d"
           }
          ],
          "parcoords": [
           {
            "line": {
             "colorbar": {
              "outlinewidth": 0,
              "ticks": ""
             }
            },
            "type": "parcoords"
           }
          ],
          "pie": [
           {
            "automargin": true,
            "type": "pie"
           }
          ],
          "scatter": [
           {
            "fillpattern": {
             "fillmode": "overlay",
             "size": 10,
             "solidity": 0.2
            },
            "type": "scatter"
           }
          ],
          "scatter3d": [
           {
            "line": {
             "colorbar": {
              "outlinewidth": 0,
              "ticks": ""
             }
            },
            "marker": {
             "colorbar": {
              "outlinewidth": 0,
              "ticks": ""
             }
            },
            "type": "scatter3d"
           }
          ],
          "scattercarpet": [
           {
            "marker": {
             "colorbar": {
              "outlinewidth": 0,
              "ticks": ""
             }
            },
            "type": "scattercarpet"
           }
          ],
          "scattergeo": [
           {
            "marker": {
             "colorbar": {
              "outlinewidth": 0,
              "ticks": ""
             }
            },
            "type": "scattergeo"
           }
          ],
          "scattergl": [
           {
            "marker": {
             "colorbar": {
              "outlinewidth": 0,
              "ticks": ""
             }
            },
            "type": "scattergl"
           }
          ],
          "scattermapbox": [
           {
            "marker": {
             "colorbar": {
              "outlinewidth": 0,
              "ticks": ""
             }
            },
            "type": "scattermapbox"
           }
          ],
          "scatterpolar": [
           {
            "marker": {
             "colorbar": {
              "outlinewidth": 0,
              "ticks": ""
             }
            },
            "type": "scatterpolar"
           }
          ],
          "scatterpolargl": [
           {
            "marker": {
             "colorbar": {
              "outlinewidth": 0,
              "ticks": ""
             }
            },
            "type": "scatterpolargl"
           }
          ],
          "scatterternary": [
           {
            "marker": {
             "colorbar": {
              "outlinewidth": 0,
              "ticks": ""
             }
            },
            "type": "scatterternary"
           }
          ],
          "surface": [
           {
            "colorbar": {
             "outlinewidth": 0,
             "ticks": ""
            },
            "colorscale": [
             [
              0,
              "#0d0887"
             ],
             [
              0.1111111111111111,
              "#46039f"
             ],
             [
              0.2222222222222222,
              "#7201a8"
             ],
             [
              0.3333333333333333,
              "#9c179e"
             ],
             [
              0.4444444444444444,
              "#bd3786"
             ],
             [
              0.5555555555555556,
              "#d8576b"
             ],
             [
              0.6666666666666666,
              "#ed7953"
             ],
             [
              0.7777777777777778,
              "#fb9f3a"
             ],
             [
              0.8888888888888888,
              "#fdca26"
             ],
             [
              1,
              "#f0f921"
             ]
            ],
            "type": "surface"
           }
          ],
          "table": [
           {
            "cells": {
             "fill": {
              "color": "#EBF0F8"
             },
             "line": {
              "color": "white"
             }
            },
            "header": {
             "fill": {
              "color": "#C8D4E3"
             },
             "line": {
              "color": "white"
             }
            },
            "type": "table"
           }
          ]
         },
         "layout": {
          "annotationdefaults": {
           "arrowcolor": "#2a3f5f",
           "arrowhead": 0,
           "arrowwidth": 1
          },
          "autotypenumbers": "strict",
          "coloraxis": {
           "colorbar": {
            "outlinewidth": 0,
            "ticks": ""
           }
          },
          "colorscale": {
           "diverging": [
            [
             0,
             "#8e0152"
            ],
            [
             0.1,
             "#c51b7d"
            ],
            [
             0.2,
             "#de77ae"
            ],
            [
             0.3,
             "#f1b6da"
            ],
            [
             0.4,
             "#fde0ef"
            ],
            [
             0.5,
             "#f7f7f7"
            ],
            [
             0.6,
             "#e6f5d0"
            ],
            [
             0.7,
             "#b8e186"
            ],
            [
             0.8,
             "#7fbc41"
            ],
            [
             0.9,
             "#4d9221"
            ],
            [
             1,
             "#276419"
            ]
           ],
           "sequential": [
            [
             0,
             "#0d0887"
            ],
            [
             0.1111111111111111,
             "#46039f"
            ],
            [
             0.2222222222222222,
             "#7201a8"
            ],
            [
             0.3333333333333333,
             "#9c179e"
            ],
            [
             0.4444444444444444,
             "#bd3786"
            ],
            [
             0.5555555555555556,
             "#d8576b"
            ],
            [
             0.6666666666666666,
             "#ed7953"
            ],
            [
             0.7777777777777778,
             "#fb9f3a"
            ],
            [
             0.8888888888888888,
             "#fdca26"
            ],
            [
             1,
             "#f0f921"
            ]
           ],
           "sequentialminus": [
            [
             0,
             "#0d0887"
            ],
            [
             0.1111111111111111,
             "#46039f"
            ],
            [
             0.2222222222222222,
             "#7201a8"
            ],
            [
             0.3333333333333333,
             "#9c179e"
            ],
            [
             0.4444444444444444,
             "#bd3786"
            ],
            [
             0.5555555555555556,
             "#d8576b"
            ],
            [
             0.6666666666666666,
             "#ed7953"
            ],
            [
             0.7777777777777778,
             "#fb9f3a"
            ],
            [
             0.8888888888888888,
             "#fdca26"
            ],
            [
             1,
             "#f0f921"
            ]
           ]
          },
          "colorway": [
           "#636efa",
           "#EF553B",
           "#00cc96",
           "#ab63fa",
           "#FFA15A",
           "#19d3f3",
           "#FF6692",
           "#B6E880",
           "#FF97FF",
           "#FECB52"
          ],
          "font": {
           "color": "#2a3f5f"
          },
          "geo": {
           "bgcolor": "white",
           "lakecolor": "white",
           "landcolor": "#E5ECF6",
           "showlakes": true,
           "showland": true,
           "subunitcolor": "white"
          },
          "hoverlabel": {
           "align": "left"
          },
          "hovermode": "closest",
          "mapbox": {
           "style": "light"
          },
          "paper_bgcolor": "white",
          "plot_bgcolor": "#E5ECF6",
          "polar": {
           "angularaxis": {
            "gridcolor": "white",
            "linecolor": "white",
            "ticks": ""
           },
           "bgcolor": "#E5ECF6",
           "radialaxis": {
            "gridcolor": "white",
            "linecolor": "white",
            "ticks": ""
           }
          },
          "scene": {
           "xaxis": {
            "backgroundcolor": "#E5ECF6",
            "gridcolor": "white",
            "gridwidth": 2,
            "linecolor": "white",
            "showbackground": true,
            "ticks": "",
            "zerolinecolor": "white"
           },
           "yaxis": {
            "backgroundcolor": "#E5ECF6",
            "gridcolor": "white",
            "gridwidth": 2,
            "linecolor": "white",
            "showbackground": true,
            "ticks": "",
            "zerolinecolor": "white"
           },
           "zaxis": {
            "backgroundcolor": "#E5ECF6",
            "gridcolor": "white",
            "gridwidth": 2,
            "linecolor": "white",
            "showbackground": true,
            "ticks": "",
            "zerolinecolor": "white"
           }
          },
          "shapedefaults": {
           "line": {
            "color": "#2a3f5f"
           }
          },
          "ternary": {
           "aaxis": {
            "gridcolor": "white",
            "linecolor": "white",
            "ticks": ""
           },
           "baxis": {
            "gridcolor": "white",
            "linecolor": "white",
            "ticks": ""
           },
           "bgcolor": "#E5ECF6",
           "caxis": {
            "gridcolor": "white",
            "linecolor": "white",
            "ticks": ""
           }
          },
          "title": {
           "x": 0.05
          },
          "xaxis": {
           "automargin": true,
           "gridcolor": "white",
           "linecolor": "white",
           "ticks": "",
           "title": {
            "standoff": 15
           },
           "zerolinecolor": "white",
           "zerolinewidth": 2
          },
          "yaxis": {
           "automargin": true,
           "gridcolor": "white",
           "linecolor": "white",
           "ticks": "",
           "title": {
            "standoff": 15
           },
           "zerolinecolor": "white",
           "zerolinewidth": 2
          }
         }
        },
        "title": {
         "text": "OEM Wise Avg Price Of Cars In Each Owner Type",
         "x": 0.45,
         "y": 0.95
        },
        "xaxis": {
         "anchor": "y",
         "domain": [
          0,
          1
         ],
         "tickangle": -45,
         "title": {
          "text": "OEM Names"
         }
        },
        "yaxis": {
         "anchor": "x",
         "domain": [
          0,
          1
         ],
         "title": {
          "text": "Avg Price Of Cars"
         }
        }
       }
      }
     },
     "metadata": {},
     "output_type": "display_data"
    }
   ],
   "source": [
    "KMPriceFrame = detail_frame.groupby(['oem','owner']).price.agg(['mean']).sort_values(by = 'mean',ascending = False).reset_index()\n",
    "#KMPriceFrame['mean'] = KMPriceFrame[\"mean\"].apply(lambda x : x/100000)\n",
    "\n",
    "KMPriceFrame.rename(columns = {'mean':'Avg Price'}, inplace = True)\n",
    "fig = px.bar(KMPriceFrame, x=\"oem\", y=\"Avg Price\",color = 'owner', orientation='v')\n",
    "fig.update_layout( xaxis_tickangle=-45)\n",
    "\n",
    "fig.update_layout(title_text=\"OEM Wise Avg Price Of Cars In Each Owner Type\")\n",
    "fig.update_layout(title=dict(x=0.45, y=0.95))\n",
    "\n",
    "fig.update_xaxes(title_text=\"OEM Names\")\n",
    "fig.update_yaxes(title_text=\"Avg Price Of Cars\")\n",
    "fig.update_layout(\n",
    "    plot_bgcolor='black',  # Set background color to black\n",
    "    paper_bgcolor='black',  # Set paper (outside plot area) color to black\n",
    "    font=dict(color='white')  # Set text color to white\n",
    ")\n",
    "fig.show()"
   ]
  },
  {
   "cell_type": "code",
   "execution_count": 170,
   "metadata": {},
   "outputs": [
    {
     "data": {
      "image/png": "[encoded data removed]",
      "text/plain": [
       "<Figure size 1200x800 with 1 Axes>"
      ]
     },
     "metadata": {},
     "output_type": "display_data"
    }
   ],
   "source": [
    "var = 'owner'\n",
    "data = pd.concat([detail_frame['price'], detail_frame[var]], axis=1)\n",
    "plt.figure(figsize=(12, 8))\n",
    "sns.boxplot(x=var, y=\"price\", data=data)\n",
    "\n",
    "# Set background color and font color using Matplotlib\n",
    "\n",
    "plt.gca().set_facecolor('white')  # Set background color to black\n",
    "plt.gca().tick_params(colors='red')  # Set tick label color to white\n",
    "plt.xlabel(var, color='red')  # Set x-axis label color to white\n",
    "plt.ylabel('Price', color='red')  # Set y-axis label color to white\n",
    "\n",
    "plt.show()"
   ]
  },
  {
   "cell_type": "markdown",
   "metadata": {},
   "source": [
    "#### Most Available Cars Vs Avg Price"
   ]
  },
  {
   "cell_type": "code",
   "execution_count": 171,
   "metadata": {},
   "outputs": [
    {
     "name": "stderr",
     "output_type": "stream",
     "text": [
      "C:\\Users\\jesik\\AppData\\Local\\Temp\\ipykernel_11232\\1327429505.py:5: SettingWithCopyWarning:\n",
      "\n",
      "\n",
      "A value is trying to be set on a copy of a slice from a DataFrame\n",
      "\n",
      "See the caveats in the documentation: https://pandas.pydata.org/pandas-docs/stable/user_guide/indexing.html#returning-a-view-versus-a-copy\n",
      "\n"
     ]
    },
    {
     "data": {
      "application/vnd.plotly.v1+json": {
       "config": {
        "plotlyServerURL": "https://plot.ly"
       },
       "data": [
        {
         "alignmentgroup": "True",
         "hovertemplate": "model=%{x}<br>Total Cars=%{y}<br>Avg Price=%{marker.color}<extra></extra>",
         "legendgroup": "",
         "marker": {
          "color": [
           698310.8108108108,
           504714.28571428574,
           562661.6314199396,
           644264.406779661,
           471788.46153846156,
           520569.1699604743,
           345874.788,
           1096979.381443299,
           251672.131147541,
           722401.098901099,
           547228.5714285715,
           683341.3173652694,
           306130.64417177916,
           439980.2631578947,
           398006.6666666667,
           548299.3197278911,
           985031.007751938,
           697250,
           581642.8571428572,
           1693155.3398058251
          ],
          "coloraxis": "coloraxis",
          "pattern": {
           "shape": ""
          }
         },
         "name": "",
         "offsetgroup": "",
         "orientation": "v",
         "showlegend": false,
         "textposition": "auto",
         "type": "bar",
         "x": [
          "Honda City",
          "Maruti Swift",
          "Hyundai i20",
          "Maruti Baleno",
          "Hyundai Grand i10",
          "Maruti Swift Dzire",
          "Maruti Wagon R",
          "Hyundai Creta",
          "Hyundai i10",
          "Hyundai Verna",
          "Honda Amaze",
          "Ford Ecosport",
          "Maruti Alto 800",
          "Maruti Celerio",
          "Renault KWID",
          "Volkswagen Polo",
          "Mahindra XUV500",
          "Maruti Ciaz",
          "Honda Jazz",
          "Jeep Compass"
         ],
         "xaxis": "x",
         "y": [
          370,
          350,
          331,
          295,
          260,
          253,
          250,
          194,
          183,
          182,
          175,
          167,
          163,
          152,
          150,
          147,
          129,
          128,
          112,
          103
         ],
         "yaxis": "y"
        }
       ],
       "layout": {
        "barmode": "relative",
        "coloraxis": {
         "colorbar": {
          "title": {
           "text": "Avg Price"
          }
         },
         "colorscale": [
          [
           0,
           "#0d0887"
          ],
          [
           0.1111111111111111,
           "#46039f"
          ],
          [
           0.2222222222222222,
           "#7201a8"
          ],
          [
           0.3333333333333333,
           "#9c179e"
          ],
          [
           0.4444444444444444,
           "#bd3786"
          ],
          [
           0.5555555555555556,
           "#d8576b"
          ],
          [
           0.6666666666666666,
           "#ed7953"
          ],
          [
           0.7777777777777778,
           "#fb9f3a"
          ],
          [
           0.8888888888888888,
           "#fdca26"
          ],
          [
           1,
           "#f0f921"
          ]
         ]
        },
        "legend": {
         "tracegroupgap": 0
        },
        "margin": {
         "t": 60
        },
        "template": {
         "data": {
          "bar": [
           {
            "error_x": {
             "color": "#2a3f5f"
            },
            "error_y": {
             "color": "#2a3f5f"
            },
            "marker": {
             "line": {
              "color": "#E5ECF6",
              "width": 0.5
             },
             "pattern": {
              "fillmode": "overlay",
              "size": 10,
              "solidity": 0.2
             }
            },
            "type": "bar"
           }
          ],
          "barpolar": [
           {
            "marker": {
             "line": {
              "color": "#E5ECF6",
              "width": 0.5
             },
             "pattern": {
              "fillmode": "overlay",
              "size": 10,
              "solidity": 0.2
             }
            },
            "type": "barpolar"
           }
          ],
          "carpet": [
           {
            "aaxis": {
             "endlinecolor": "#2a3f5f",
             "gridcolor": "white",
             "linecolor": "white",
             "minorgridcolor": "white",
             "startlinecolor": "#2a3f5f"
            },
            "baxis": {
             "endlinecolor": "#2a3f5f",
             "gridcolor": "white",
             "linecolor": "white",
             "minorgridcolor": "white",
             "startlinecolor": "#2a3f5f"
            },
            "type": "carpet"
           }
          ],
          "choropleth": [
           {
            "colorbar": {
             "outlinewidth": 0,
             "ticks": ""
            },
            "type": "choropleth"
           }
          ],
          "contour": [
           {
            "colorbar": {
             "outlinewidth": 0,
             "ticks": ""
            },
            "colorscale": [
             [
              0,
              "#0d0887"
             ],
             [
              0.1111111111111111,
              "#46039f"
             ],
             [
              0.2222222222222222,
              "#7201a8"
             ],
             [
              0.3333333333333333,
              "#9c179e"
             ],
             [
              0.4444444444444444,
              "#bd3786"
             ],
             [
              0.5555555555555556,
              "#d8576b"
             ],
             [
              0.6666666666666666,
              "#ed7953"
             ],
             [
              0.7777777777777778,
              "#fb9f3a"
             ],
             [
              0.8888888888888888,
              "#fdca26"
             ],
             [
              1,
              "#f0f921"
             ]
            ],
            "type": "contour"
           }
          ],
          "contourcarpet": [
           {
            "colorbar": {
             "outlinewidth": 0,
             "ticks": ""
            },
            "type": "contourcarpet"
           }
          ],
          "heatmap": [
           {
            "colorbar": {
             "outlinewidth": 0,
             "ticks": ""
            },
            "colorscale": [
             [
              0,
              "#0d0887"
             ],
             [
              0.1111111111111111,
              "#46039f"
             ],
             [
              0.2222222222222222,
              "#7201a8"
             ],
             [
              0.3333333333333333,
              "#9c179e"
             ],
             [
              0.4444444444444444,
              "#bd3786"
             ],
             [
              0.5555555555555556,
              "#d8576b"
             ],
             [
              0.6666666666666666,
              "#ed7953"
             ],
             [
              0.7777777777777778,
              "#fb9f3a"
             ],
             [
              0.8888888888888888,
              "#fdca26"
             ],
             [
              1,
              "#f0f921"
             ]
            ],
            "type": "heatmap"
           }
          ],
          "heatmapgl": [
           {
            "colorbar": {
             "outlinewidth": 0,
             "ticks": ""
            },
            "colorscale": [
             [
              0,
              "#0d0887"
             ],
             [
              0.1111111111111111,
              "#46039f"
             ],
             [
              0.2222222222222222,
              "#7201a8"
             ],
             [
              0.3333333333333333,
              "#9c179e"
             ],
             [
              0.4444444444444444,
              "#bd3786"
             ],
             [
              0.5555555555555556,
              "#d8576b"
             ],
             [
              0.6666666666666666,
              "#ed7953"
             ],
             [
              0.7777777777777778,
              "#fb9f3a"
             ],
             [
              0.8888888888888888,
              "#fdca26"
             ],
             [
              1,
              "#f0f921"
             ]
            ],
            "type": "heatmapgl"
           }
          ],
          "histogram": [
           {
            "marker": {
             "pattern": {
              "fillmode": "overlay",
              "size": 10,
              "solidity": 0.2
             }
            },
            "type": "histogram"
           }
          ],
          "histogram2d": [
           {
            "colorbar": {
             "outlinewidth": 0,
             "ticks": ""
            },
            "colorscale": [
             [
              0,
              "#0d0887"
             ],
             [
              0.1111111111111111,
              "#46039f"
             ],
             [
              0.2222222222222222,
              "#7201a8"
             ],
             [
              0.3333333333333333,
              "#9c179e"
             ],
             [
              0.4444444444444444,
              "#bd3786"
             ],
             [
              0.5555555555555556,
              "#d8576b"
             ],
             [
              0.6666666666666666,
              "#ed7953"
             ],
             [
              0.7777777777777778,
              "#fb9f3a"
             ],
             [
              0.8888888888888888,
              "#fdca26"
             ],
             [
              1,
              "#f0f921"
             ]
            ],
            "type": "histogram2d"
           }
          ],
          "histogram2dcontour": [
           {
            "colorbar": {
             "outlinewidth": 0,
             "ticks": ""
            },
            "colorscale": [
             [
              0,
              "#0d0887"
             ],
             [
              0.1111111111111111,
              "#46039f"
             ],
             [
              0.2222222222222222,
              "#7201a8"
             ],
             [
              0.3333333333333333,
              "#9c179e"
             ],
             [
              0.4444444444444444,
              "#bd3786"
             ],
             [
              0.5555555555555556,
              "#d8576b"
             ],
             [
              0.6666666666666666,
              "#ed7953"
             ],
             [
              0.7777777777777778,
              "#fb9f3a"
             ],
             [
              0.8888888888888888,
              "#fdca26"
             ],
             [
              1,
              "#f0f921"
             ]
            ],
            "type": "histogram2dcontour"
           }
          ],
          "mesh3d": [
           {
            "colorbar": {
             "outlinewidth": 0,
             "ticks": ""
            },
            "type": "mesh3d"
           }
          ],
          "parcoords": [
           {
            "line": {
             "colorbar": {
              "outlinewidth": 0,
              "ticks": ""
             }
            },
            "type": "parcoords"
           }
          ],
          "pie": [
           {
            "automargin": true,
            "type": "pie"
           }
          ],
          "scatter": [
           {
            "fillpattern": {
             "fillmode": "overlay",
             "size": 10,
             "solidity": 0.2
            },
            "type": "scatter"
           }
          ],
          "scatter3d": [
           {
            "line": {
             "colorbar": {
              "outlinewidth": 0,
              "ticks": ""
             }
            },
            "marker": {
             "colorbar": {
              "outlinewidth": 0,
              "ticks": ""
             }
            },
            "type": "scatter3d"
           }
          ],
          "scattercarpet": [
           {
            "marker": {
             "colorbar": {
              "outlinewidth": 0,
              "ticks": ""
             }
            },
            "type": "scattercarpet"
           }
          ],
          "scattergeo": [
           {
            "marker": {
             "colorbar": {
              "outlinewidth": 0,
              "ticks": ""
             }
            },
            "type": "scattergeo"
           }
          ],
          "scattergl": [
           {
            "marker": {
             "colorbar": {
              "outlinewidth": 0,
              "ticks": ""
             }
            },
            "type": "scattergl"
           }
          ],
          "scattermapbox": [
           {
            "marker": {
             "colorbar": {
              "outlinewidth": 0,
              "ticks": ""
             }
            },
            "type": "scattermapbox"
           }
          ],
          "scatterpolar": [
           {
            "marker": {
             "colorbar": {
              "outlinewidth": 0,
              "ticks": ""
             }
            },
            "type": "scatterpolar"
           }
          ],
          "scatterpolargl": [
           {
            "marker": {
             "colorbar": {
              "outlinewidth": 0,
              "ticks": ""
             }
            },
            "type": "scatterpolargl"
           }
          ],
          "scatterternary": [
           {
            "marker": {
             "colorbar": {
              "outlinewidth": 0,
              "ticks": ""
             }
            },
            "type": "scatterternary"
           }
          ],
          "surface": [
           {
            "colorbar": {
             "outlinewidth": 0,
             "ticks": ""
            },
            "colorscale": [
             [
              0,
              "#0d0887"
             ],
             [
              0.1111111111111111,
              "#46039f"
             ],
             [
              0.2222222222222222,
              "#7201a8"
             ],
             [
              0.3333333333333333,
              "#9c179e"
             ],
             [
              0.4444444444444444,
              "#bd3786"
             ],
             [
              0.5555555555555556,
              "#d8576b"
             ],
             [
              0.6666666666666666,
              "#ed7953"
             ],
             [
              0.7777777777777778,
              "#fb9f3a"
             ],
             [
              0.8888888888888888,
              "#fdca26"
             ],
             [
              1,
              "#f0f921"
             ]
            ],
            "type": "surface"
           }
          ],
          "table": [
           {
            "cells": {
             "fill": {
              "color": "#EBF0F8"
             },
             "line": {
              "color": "white"
             }
            },
            "header": {
             "fill": {
              "color": "#C8D4E3"
             },
             "line": {
              "color": "white"
             }
            },
            "type": "table"
           }
          ]
         },
         "layout": {
          "annotationdefaults": {
           "arrowcolor": "#2a3f5f",
           "arrowhead": 0,
           "arrowwidth": 1
          },
          "autotypenumbers": "strict",
          "coloraxis": {
           "colorbar": {
            "outlinewidth": 0,
            "ticks": ""
           }
          },
          "colorscale": {
           "diverging": [
            [
             0,
             "#8e0152"
            ],
            [
             0.1,
             "#c51b7d"
            ],
            [
             0.2,
             "#de77ae"
            ],
            [
             0.3,
             "#f1b6da"
            ],
            [
             0.4,
             "#fde0ef"
            ],
            [
             0.5,
             "#f7f7f7"
            ],
            [
             0.6,
             "#e6f5d0"
            ],
            [
             0.7,
             "#b8e186"
            ],
            [
             0.8,
             "#7fbc41"
            ],
            [
             0.9,
             "#4d9221"
            ],
            [
             1,
             "#276419"
            ]
           ],
           "sequential": [
            [
             0,
             "#0d0887"
            ],
            [
             0.1111111111111111,
             "#46039f"
            ],
            [
             0.2222222222222222,
             "#7201a8"
            ],
            [
             0.3333333333333333,
             "#9c179e"
            ],
            [
             0.4444444444444444,
             "#bd3786"
            ],
            [
             0.5555555555555556,
             "#d8576b"
            ],
            [
             0.6666666666666666,
             "#ed7953"
            ],
            [
             0.7777777777777778,
             "#fb9f3a"
            ],
            [
             0.8888888888888888,
             "#fdca26"
            ],
            [
             1,
             "#f0f921"
            ]
           ],
           "sequentialminus": [
            [
             0,
             "#0d0887"
            ],
            [
             0.1111111111111111,
             "#46039f"
            ],
            [
             0.2222222222222222,
             "#7201a8"
            ],
            [
             0.3333333333333333,
             "#9c179e"
            ],
            [
             0.4444444444444444,
             "#bd3786"
            ],
            [
             0.5555555555555556,
             "#d8576b"
            ],
            [
             0.6666666666666666,
             "#ed7953"
            ],
            [
             0.7777777777777778,
             "#fb9f3a"
            ],
            [
             0.8888888888888888,
             "#fdca26"
            ],
            [
             1,
             "#f0f921"
            ]
           ]
          },
          "colorway": [
           "#636efa",
           "#EF553B",
           "#00cc96",
           "#ab63fa",
           "#FFA15A",
           "#19d3f3",
           "#FF6692",
           "#B6E880",
           "#FF97FF",
           "#FECB52"
          ],
          "font": {
           "color": "#2a3f5f"
          },
          "geo": {
           "bgcolor": "white",
           "lakecolor": "white",
           "landcolor": "#E5ECF6",
           "showlakes": true,
           "showland": true,
           "subunitcolor": "white"
          },
          "hoverlabel": {
           "align": "left"
          },
          "hovermode": "closest",
          "mapbox": {
           "style": "light"
          },
          "paper_bgcolor": "white",
          "plot_bgcolor": "#E5ECF6",
          "polar": {
           "angularaxis": {
            "gridcolor": "white",
            "linecolor": "white",
            "ticks": ""
           },
           "bgcolor": "#E5ECF6",
           "radialaxis": {
            "gridcolor": "white",
            "linecolor": "white",
            "ticks": ""
           }
          },
          "scene": {
           "xaxis": {
            "backgroundcolor": "#E5ECF6",
            "gridcolor": "white",
            "gridwidth": 2,
            "linecolor": "white",
            "showbackground": true,
            "ticks": "",
            "zerolinecolor": "white"
           },
           "yaxis": {
            "backgroundcolor": "#E5ECF6",
            "gridcolor": "white",
            "gridwidth": 2,
            "linecolor": "white",
            "showbackground": true,
            "ticks": "",
            "zerolinecolor": "white"
           },
           "zaxis": {
            "backgroundcolor": "#E5ECF6",
            "gridcolor": "white",
            "gridwidth": 2,
            "linecolor": "white",
            "showbackground": true,
            "ticks": "",
            "zerolinecolor": "white"
           }
          },
          "shapedefaults": {
           "line": {
            "color": "#2a3f5f"
           }
          },
          "ternary": {
           "aaxis": {
            "gridcolor": "white",
            "linecolor": "white",
            "ticks": ""
           },
           "baxis": {
            "gridcolor": "white",
            "linecolor": "white",
            "ticks": ""
           },
           "bgcolor": "#E5ECF6",
           "caxis": {
            "gridcolor": "white",
            "linecolor": "white",
            "ticks": ""
           }
          },
          "title": {
           "x": 0.05
          },
          "xaxis": {
           "automargin": true,
           "gridcolor": "white",
           "linecolor": "white",
           "ticks": "",
           "title": {
            "standoff": 15
           },
           "zerolinecolor": "white",
           "zerolinewidth": 2
          },
          "yaxis": {
           "automargin": true,
           "gridcolor": "white",
           "linecolor": "white",
           "ticks": "",
           "title": {
            "standoff": 15
           },
           "zerolinecolor": "white",
           "zerolinewidth": 2
          }
         }
        },
        "title": {
         "text": "Model Wise Most No Of Cars Available",
         "x": 0.45,
         "y": 0.95
        },
        "xaxis": {
         "anchor": "y",
         "domain": [
          0,
          1
         ],
         "tickangle": -45,
         "title": {
          "text": "Car Models"
         }
        },
        "yaxis": {
         "anchor": "x",
         "domain": [
          0,
          1
         ],
         "title": {
          "text": "Total No Of Cars Available"
         }
        }
       }
      }
     },
     "metadata": {},
     "output_type": "display_data"
    }
   ],
   "source": [
    "ModelCountFrame = detail_frame.groupby(['model']).price.agg(['count','mean']).sort_values(by = 'count',ascending = False).reset_index()\n",
    "\n",
    "MostModelFrame = ModelCountFrame[:20]\n",
    "\n",
    "MostModelFrame.rename(columns = {'count':'Total Cars','mean':'Avg Price'}, inplace = True)\n",
    "\n",
    "fig = px.bar(MostModelFrame, x=\"model\", y=\"Total Cars\", color= 'Avg Price', orientation='v')\n",
    "fig.update_layout( xaxis_tickangle=-45)\n",
    "\n",
    "fig.update_layout(title_text=\"Model Wise Most No Of Cars Available\")\n",
    "fig.update_layout(title=dict(x=0.45, y=0.95))\n",
    "\n",
    "fig.update_xaxes(title_text=\"Car Models\")\n",
    "fig.update_yaxes(title_text=\"Total No Of Cars Available\")"
   ]
  },
  {
   "cell_type": "markdown",
   "metadata": {},
   "source": [
    "#### Least Available Cars Vs Avg Price"
   ]
  },
  {
   "cell_type": "code",
   "execution_count": 172,
   "metadata": {},
   "outputs": [
    {
     "name": "stderr",
     "output_type": "stream",
     "text": [
      "C:\\Users\\jesik\\AppData\\Local\\Temp\\ipykernel_11232\\509540554.py:5: SettingWithCopyWarning:\n",
      "\n",
      "\n",
      "A value is trying to be set on a copy of a slice from a DataFrame\n",
      "\n",
      "See the caveats in the documentation: https://pandas.pydata.org/pandas-docs/stable/user_guide/indexing.html#returning-a-view-versus-a-copy\n",
      "\n"
     ]
    },
    {
     "data": {
      "application/vnd.plotly.v1+json": {
       "config": {
        "plotlyServerURL": "https://plot.ly"
       },
       "data": [
        {
         "alignmentgroup": "True",
         "hovertemplate": "model=%{x}<br>Total Cars=%{y}<br>Avg Price=%{marker.color}<extra></extra>",
         "legendgroup": "",
         "marker": {
          "color": [
           2000000,
           80000,
           340000,
           525000,
           409999.99999999994,
           110000.00000000001,
           80000,
           475000,
           4450000,
           1250000,
           6475000,
           1100000,
           26000000,
           150000,
           24500000,
           409999.99999999994,
           3675000,
           825000,
           950000,
           4300000
          ],
          "coloraxis": "coloraxis",
          "pattern": {
           "shape": ""
          }
         },
         "name": "",
         "offsetgroup": "",
         "orientation": "v",
         "showlegend": false,
         "textposition": "auto",
         "type": "bar",
         "x": [
          "Jeep Compass Trailhawk",
          "Maruti Versa",
          "Fiat Punto Pure",
          "Fiat Punto Abarth",
          "Chevrolet Captiva",
          "Fiat Palio",
          "Tata Indigo Marina",
          "Fiat Abarth Avventura",
          "Mini Cooper Convertible",
          "Maruti FRONX",
          "Mercedes-Benz SLC",
          "Maruti Ertiga Tour",
          "Land Rover Range Rover",
          "Tata Sumo",
          "Mercedes-Benz G",
          "Maruti Celerio Tour 2018-2021",
          "Mini 3 DOOR",
          "Tata Yodha Pickup",
          "MG Comet EV",
          "Mini Cooper Clubman"
         ],
         "xaxis": "x",
         "y": [
          1,
          1,
          1,
          1,
          1,
          1,
          1,
          1,
          1,
          1,
          1,
          1,
          1,
          1,
          1,
          1,
          1,
          1,
          1,
          1
         ],
         "yaxis": "y"
        }
       ],
       "layout": {
        "barmode": "relative",
        "coloraxis": {
         "colorbar": {
          "title": {
           "text": "Avg Price"
          }
         },
         "colorscale": [
          [
           0,
           "#0d0887"
          ],
          [
           0.1111111111111111,
           "#46039f"
          ],
          [
           0.2222222222222222,
           "#7201a8"
          ],
          [
           0.3333333333333333,
           "#9c179e"
          ],
          [
           0.4444444444444444,
           "#bd3786"
          ],
          [
           0.5555555555555556,
           "#d8576b"
          ],
          [
           0.6666666666666666,
           "#ed7953"
          ],
          [
           0.7777777777777778,
           "#fb9f3a"
          ],
          [
           0.8888888888888888,
           "#fdca26"
          ],
          [
           1,
           "#f0f921"
          ]
         ]
        },
        "legend": {
         "tracegroupgap": 0
        },
        "margin": {
         "t": 60
        },
        "template": {
         "data": {
          "bar": [
           {
            "error_x": {
             "color": "#2a3f5f"
            },
            "error_y": {
             "color": "#2a3f5f"
            },
            "marker": {
             "line": {
              "color": "#E5ECF6",
              "width": 0.5
             },
             "pattern": {
              "fillmode": "overlay",
              "size": 10,
              "solidity": 0.2
             }
            },
            "type": "bar"
           }
          ],
          "barpolar": [
           {
            "marker": {
             "line": {
              "color": "#E5ECF6",
              "width": 0.5
             },
             "pattern": {
              "fillmode": "overlay",
              "size": 10,
              "solidity": 0.2
             }
            },
            "type": "barpolar"
           }
          ],
          "carpet": [
           {
            "aaxis": {
             "endlinecolor": "#2a3f5f",
             "gridcolor": "white",
             "linecolor": "white",
             "minorgridcolor": "white",
             "startlinecolor": "#2a3f5f"
            },
            "baxis": {
             "endlinecolor": "#2a3f5f",
             "gridcolor": "white",
             "linecolor": "white",
             "minorgridcolor": "white",
             "startlinecolor": "#2a3f5f"
            },
            "type": "carpet"
           }
          ],
          "choropleth": [
           {
            "colorbar": {
             "outlinewidth": 0,
             "ticks": ""
            },
            "type": "choropleth"
           }
          ],
          "contour": [
           {
            "colorbar": {
             "outlinewidth": 0,
             "ticks": ""
            },
            "colorscale": [
             [
              0,
              "#0d0887"
             ],
             [
              0.1111111111111111,
              "#46039f"
             ],
             [
              0.2222222222222222,
              "#7201a8"
             ],
             [
              0.3333333333333333,
              "#9c179e"
             ],
             [
              0.4444444444444444,
              "#bd3786"
             ],
             [
              0.5555555555555556,
              "#d8576b"
             ],
             [
              0.6666666666666666,
              "#ed7953"
             ],
             [
              0.7777777777777778,
              "#fb9f3a"
             ],
             [
              0.8888888888888888,
              "#fdca26"
             ],
             [
              1,
              "#f0f921"
             ]
            ],
            "type": "contour"
           }
          ],
          "contourcarpet": [
           {
            "colorbar": {
             "outlinewidth": 0,
             "ticks": ""
            },
            "type": "contourcarpet"
           }
          ],
          "heatmap": [
           {
            "colorbar": {
             "outlinewidth": 0,
             "ticks": ""
            },
            "colorscale": [
             [
              0,
              "#0d0887"
             ],
             [
              0.1111111111111111,
              "#46039f"
             ],
             [
              0.2222222222222222,
              "#7201a8"
             ],
             [
              0.3333333333333333,
              "#9c179e"
             ],
             [
              0.4444444444444444,
              "#bd3786"
             ],
             [
              0.5555555555555556,
              "#d8576b"
             ],
             [
              0.6666666666666666,
              "#ed7953"
             ],
             [
              0.7777777777777778,
              "#fb9f3a"
             ],
             [
              0.8888888888888888,
              "#fdca26"
             ],
             [
              1,
              "#f0f921"
             ]
            ],
            "type": "heatmap"
           }
          ],
          "heatmapgl": [
           {
            "colorbar": {
             "outlinewidth": 0,
             "ticks": ""
            },
            "colorscale": [
             [
              0,
              "#0d0887"
             ],
             [
              0.1111111111111111,
              "#46039f"
             ],
             [
              0.2222222222222222,
              "#7201a8"
             ],
             [
              0.3333333333333333,
              "#9c179e"
             ],
             [
              0.4444444444444444,
              "#bd3786"
             ],
             [
              0.5555555555555556,
              "#d8576b"
             ],
             [
              0.6666666666666666,
              "#ed7953"
             ],
             [
              0.7777777777777778,
              "#fb9f3a"
             ],
             [
              0.8888888888888888,
              "#fdca26"
             ],
             [
              1,
              "#f0f921"
             ]
            ],
            "type": "heatmapgl"
           }
          ],
          "histogram": [
           {
            "marker": {
             "pattern": {
              "fillmode": "overlay",
              "size": 10,
              "solidity": 0.2
             }
            },
            "type": "histogram"
           }
          ],
          "histogram2d": [
           {
            "colorbar": {
             "outlinewidth": 0,
             "ticks": ""
            },
            "colorscale": [
             [
              0,
              "#0d0887"
             ],
             [
              0.1111111111111111,
              "#46039f"
             ],
             [
              0.2222222222222222,
              "#7201a8"
             ],
             [
              0.3333333333333333,
              "#9c179e"
             ],
             [
              0.4444444444444444,
              "#bd3786"
             ],
             [
              0.5555555555555556,
              "#d8576b"
             ],
             [
              0.6666666666666666,
              "#ed7953"
             ],
             [
              0.7777777777777778,
              "#fb9f3a"
             ],
             [
              0.8888888888888888,
              "#fdca26"
             ],
             [
              1,
              "#f0f921"
             ]
            ],
            "type": "histogram2d"
           }
          ],
          "histogram2dcontour": [
           {
            "colorbar": {
             "outlinewidth": 0,
             "ticks": ""
            },
            "colorscale": [
             [
              0,
              "#0d0887"
             ],
             [
              0.1111111111111111,
              "#46039f"
             ],
             [
              0.2222222222222222,
              "#7201a8"
             ],
             [
              0.3333333333333333,
              "#9c179e"
             ],
             [
              0.4444444444444444,
              "#bd3786"
             ],
             [
              0.5555555555555556,
              "#d8576b"
             ],
             [
              0.6666666666666666,
              "#ed7953"
             ],
             [
              0.7777777777777778,
              "#fb9f3a"
             ],
             [
              0.8888888888888888,
              "#fdca26"
             ],
             [
              1,
              "#f0f921"
             ]
            ],
            "type": "histogram2dcontour"
           }
          ],
          "mesh3d": [
           {
            "colorbar": {
             "outlinewidth": 0,
             "ticks": ""
            },
            "type": "mesh3d"
           }
          ],
          "parcoords": [
           {
            "line": {
             "colorbar": {
              "outlinewidth": 0,
              "ticks": ""
             }
            },
            "type": "parcoords"
           }
          ],
          "pie": [
           {
            "automargin": true,
            "type": "pie"
           }
          ],
          "scatter": [
           {
            "fillpattern": {
             "fillmode": "overlay",
             "size": 10,
             "solidity": 0.2
            },
            "type": "scatter"
           }
          ],
          "scatter3d": [
           {
            "line": {
             "colorbar": {
              "outlinewidth": 0,
              "ticks": ""
             }
            },
            "marker": {
             "colorbar": {
              "outlinewidth": 0,
              "ticks": ""
             }
            },
            "type": "scatter3d"
           }
          ],
          "scattercarpet": [
           {
            "marker": {
             "colorbar": {
              "outlinewidth": 0,
              "ticks": ""
             }
            },
            "type": "scattercarpet"
           }
          ],
          "scattergeo": [
           {
            "marker": {
             "colorbar": {
              "outlinewidth": 0,
              "ticks": ""
             }
            },
            "type": "scattergeo"
           }
          ],
          "scattergl": [
           {
            "marker": {
             "colorbar": {
              "outlinewidth": 0,
              "ticks": ""
             }
            },
            "type": "scattergl"
           }
          ],
          "scattermapbox": [
           {
            "marker": {
             "colorbar": {
              "outlinewidth": 0,
              "ticks": ""
             }
            },
            "type": "scattermapbox"
           }
          ],
          "scatterpolar": [
           {
            "marker": {
             "colorbar": {
              "outlinewidth": 0,
              "ticks": ""
             }
            },
            "type": "scatterpolar"
           }
          ],
          "scatterpolargl": [
           {
            "marker": {
             "colorbar": {
              "outlinewidth": 0,
              "ticks": ""
             }
            },
            "type": "scatterpolargl"
           }
          ],
          "scatterternary": [
           {
            "marker": {
             "colorbar": {
              "outlinewidth": 0,
              "ticks": ""
             }
            },
            "type": "scatterternary"
           }
          ],
          "surface": [
           {
            "colorbar": {
             "outlinewidth": 0,
             "ticks": ""
            },
            "colorscale": [
             [
              0,
              "#0d0887"
             ],
             [
              0.1111111111111111,
              "#46039f"
             ],
             [
              0.2222222222222222,
              "#7201a8"
             ],
             [
              0.3333333333333333,
              "#9c179e"
             ],
             [
              0.4444444444444444,
              "#bd3786"
             ],
             [
              0.5555555555555556,
              "#d8576b"
             ],
             [
              0.6666666666666666,
              "#ed7953"
             ],
             [
              0.7777777777777778,
              "#fb9f3a"
             ],
             [
              0.8888888888888888,
              "#fdca26"
             ],
             [
              1,
              "#f0f921"
             ]
            ],
            "type": "surface"
           }
          ],
          "table": [
           {
            "cells": {
             "fill": {
              "color": "#EBF0F8"
             },
             "line": {
              "color": "white"
             }
            },
            "header": {
             "fill": {
              "color": "#C8D4E3"
             },
             "line": {
              "color": "white"
             }
            },
            "type": "table"
           }
          ]
         },
         "layout": {
          "annotationdefaults": {
           "arrowcolor": "#2a3f5f",
           "arrowhead": 0,
           "arrowwidth": 1
          },
          "autotypenumbers": "strict",
          "coloraxis": {
           "colorbar": {
            "outlinewidth": 0,
            "ticks": ""
           }
          },
          "colorscale": {
           "diverging": [
            [
             0,
             "#8e0152"
            ],
            [
             0.1,
             "#c51b7d"
            ],
            [
             0.2,
             "#de77ae"
            ],
            [
             0.3,
             "#f1b6da"
            ],
            [
             0.4,
             "#fde0ef"
            ],
            [
             0.5,
             "#f7f7f7"
            ],
            [
             0.6,
             "#e6f5d0"
            ],
            [
             0.7,
             "#b8e186"
            ],
            [
             0.8,
             "#7fbc41"
            ],
            [
             0.9,
             "#4d9221"
            ],
            [
             1,
             "#276419"
            ]
           ],
           "sequential": [
            [
             0,
             "#0d0887"
            ],
            [
             0.1111111111111111,
             "#46039f"
            ],
            [
             0.2222222222222222,
             "#7201a8"
            ],
            [
             0.3333333333333333,
             "#9c179e"
            ],
            [
             0.4444444444444444,
             "#bd3786"
            ],
            [
             0.5555555555555556,
             "#d8576b"
            ],
            [
             0.6666666666666666,
             "#ed7953"
            ],
            [
             0.7777777777777778,
             "#fb9f3a"
            ],
            [
             0.8888888888888888,
             "#fdca26"
            ],
            [
             1,
             "#f0f921"
            ]
           ],
           "sequentialminus": [
            [
             0,
             "#0d0887"
            ],
            [
             0.1111111111111111,
             "#46039f"
            ],
            [
             0.2222222222222222,
             "#7201a8"
            ],
            [
             0.3333333333333333,
             "#9c179e"
            ],
            [
             0.4444444444444444,
             "#bd3786"
            ],
            [
             0.5555555555555556,
             "#d8576b"
            ],
            [
             0.6666666666666666,
             "#ed7953"
            ],
            [
             0.7777777777777778,
             "#fb9f3a"
            ],
            [
             0.8888888888888888,
             "#fdca26"
            ],
            [
             1,
             "#f0f921"
            ]
           ]
          },
          "colorway": [
           "#636efa",
           "#EF553B",
           "#00cc96",
           "#ab63fa",
           "#FFA15A",
           "#19d3f3",
           "#FF6692",
           "#B6E880",
           "#FF97FF",
           "#FECB52"
          ],
          "font": {
           "color": "#2a3f5f"
          },
          "geo": {
           "bgcolor": "white",
           "lakecolor": "white",
           "landcolor": "#E5ECF6",
           "showlakes": true,
           "showland": true,
           "subunitcolor": "white"
          },
          "hoverlabel": {
           "align": "left"
          },
          "hovermode": "closest",
          "mapbox": {
           "style": "light"
          },
          "paper_bgcolor": "white",
          "plot_bgcolor": "#E5ECF6",
          "polar": {
           "angularaxis": {
            "gridcolor": "white",
            "linecolor": "white",
            "ticks": ""
           },
           "bgcolor": "#E5ECF6",
           "radialaxis": {
            "gridcolor": "white",
            "linecolor": "white",
            "ticks": ""
           }
          },
          "scene": {
           "xaxis": {
            "backgroundcolor": "#E5ECF6",
            "gridcolor": "white",
            "gridwidth": 2,
            "linecolor": "white",
            "showbackground": true,
            "ticks": "",
            "zerolinecolor": "white"
           },
           "yaxis": {
            "backgroundcolor": "#E5ECF6",
            "gridcolor": "white",
            "gridwidth": 2,
            "linecolor": "white",
            "showbackground": true,
            "ticks": "",
            "zerolinecolor": "white"
           },
           "zaxis": {
            "backgroundcolor": "#E5ECF6",
            "gridcolor": "white",
            "gridwidth": 2,
            "linecolor": "white",
            "showbackground": true,
            "ticks": "",
            "zerolinecolor": "white"
           }
          },
          "shapedefaults": {
           "line": {
            "color": "#2a3f5f"
           }
          },
          "ternary": {
           "aaxis": {
            "gridcolor": "white",
            "linecolor": "white",
            "ticks": ""
           },
           "baxis": {
            "gridcolor": "white",
            "linecolor": "white",
            "ticks": ""
           },
           "bgcolor": "#E5ECF6",
           "caxis": {
            "gridcolor": "white",
            "linecolor": "white",
            "ticks": ""
           }
          },
          "title": {
           "x": 0.05
          },
          "xaxis": {
           "automargin": true,
           "gridcolor": "white",
           "linecolor": "white",
           "ticks": "",
           "title": {
            "standoff": 15
           },
           "zerolinecolor": "white",
           "zerolinewidth": 2
          },
          "yaxis": {
           "automargin": true,
           "gridcolor": "white",
           "linecolor": "white",
           "ticks": "",
           "title": {
            "standoff": 15
           },
           "zerolinecolor": "white",
           "zerolinewidth": 2
          }
         }
        },
        "title": {
         "text": "Model Wise Least No Of Cars Available",
         "x": 0.45,
         "y": 0.95
        },
        "xaxis": {
         "anchor": "y",
         "domain": [
          0,
          1
         ],
         "tickangle": -45,
         "title": {
          "text": "Car Models"
         }
        },
        "yaxis": {
         "anchor": "x",
         "domain": [
          0,
          1
         ],
         "title": {
          "text": "Total No Of Cars Available"
         }
        }
       }
      }
     },
     "metadata": {},
     "output_type": "display_data"
    }
   ],
   "source": [
    "ModelCountFrame = detail_frame.groupby(['model']).price.agg(['count','mean']).sort_values(by = 'count',ascending = False).reset_index()\n",
    "\n",
    "MostModelFrame = ModelCountFrame.tail(20)\n",
    "\n",
    "MostModelFrame.rename(columns = {'count':'Total Cars','mean':'Avg Price'}, inplace = True)\n",
    "\n",
    "fig = px.bar(MostModelFrame, x=\"model\", y=\"Total Cars\", color= 'Avg Price', orientation='v')\n",
    "fig.update_layout( xaxis_tickangle=-45)\n",
    "\n",
    "fig.update_layout(title_text=\"Model Wise Least No Of Cars Available\")\n",
    "fig.update_layout(title=dict(x=0.45, y=0.95))\n",
    "\n",
    "fig.update_xaxes(title_text=\"Car Models\")\n",
    "fig.update_yaxes(title_text=\"Total No Of Cars Available\")"
   ]
  },
  {
   "cell_type": "markdown",
   "metadata": {},
   "source": [
    "#### ModelYear Vs OEM Vs Total Counts"
   ]
  },
  {
   "cell_type": "code",
   "execution_count": 174,
   "metadata": {},
   "outputs": [
    {
     "data": {
      "application/vnd.plotly.v1+json": {
       "config": {
        "plotlyServerURL": "https://plot.ly"
       },
       "data": [
        {
         "alignmentgroup": "True",
         "hovertemplate": "oem=%{x}<br>Total Cars=%{y}<br>modelYear=%{marker.color}<extra></extra>",
         "legendgroup": "",
         "marker": {
          "color": [
           2017,
           2018,
           2016,
           2019,
           2017,
           2018,
           2016,
           2019,
           2015,
           2020,
           2014,
           2021,
           2017,
           2015,
           2022,
           2014,
           2013,
           2018,
           2016,
           2021,
           2014,
           2015,
           2020,
           2012,
           2021,
           2013,
           2010,
           2022,
           2012,
           2011,
           2022,
           2010,
           2019,
           2018,
           2018,
           2021,
           2016,
           2009,
           2020,
           2020,
           2017,
           2021,
           2011,
           2018,
           2022,
           2020,
           2022,
           2017,
           2022,
           2009,
           2019,
           2019,
           2020,
           2012,
           2019,
           2017,
           2018,
           2013,
           2017,
           2014,
           2015,
           2018,
           2021,
           2018,
           2021,
           2016,
           2016,
           2019,
           2021,
           2021,
           2014,
           2018,
           2015,
           2019,
           2015,
           2014,
           2018,
           2008,
           2019,
           2020,
           2017,
           2017,
           2015,
           2020,
           2016,
           2018,
           2013,
           2022,
           2022,
           2016,
           2020,
           2010,
           2016,
           2021,
           2023,
           2016,
           2019,
           2015,
           2021,
           2012,
           2013,
           2022,
           2016,
           2014,
           2011,
           2019,
           2022,
           2018,
           2017,
           2011,
           2014,
           2020,
           2021,
           2013,
           2011,
           2013,
           2022,
           2011,
           2015,
           2018,
           2022,
           2008,
           2013,
           2014,
           2012,
           2014,
           2007,
           2019,
           2012,
           2010,
           2019,
           2016,
           2017,
           2017,
           2012,
           2011,
           2015,
           2006,
           2007,
           2017,
           2022,
           2012,
           2017,
           2021,
           2011,
           2021,
           2020,
           2019,
           2019,
           2013,
           2006,
           2020,
           2022,
           2010,
           2017,
           2023,
           2013,
           2020,
           2010,
           2011,
           2020,
           2008,
           2011,
           2023,
           2019,
           2009,
           2021,
           2015,
           2021,
           2023,
           2020,
           2018,
           2014,
           2012,
           2012,
           2004,
           2008,
           2014,
           2011,
           2013,
           2009,
           2021,
           2022,
           2012,
           2020,
           2010,
           2018,
           2018,
           2016,
           2005,
           2009,
           2012,
           2014,
           2023,
           2016,
           2014,
           2013,
           2019,
           2023,
           2016,
           2015,
           2017,
           2020,
           2021,
           2002,
           2013,
           2017,
           2017,
           2018,
           2009,
           2009,
           2012,
           2013,
           2019,
           2023,
           2013,
           2020,
           2014,
           2010,
           2010,
           2023,
           2023,
           2003,
           2015,
           2014,
           2007,
           2006,
           2012,
           2019,
           2004,
           2015,
           2022,
           2015,
           2014,
           2019,
           2010,
           2016,
           2008,
           2007,
           2005,
           2022,
           2001,
           2012,
           2008,
           2021,
           2020,
           2012,
           2023,
           2017,
           2009,
           2010,
           2016,
           2019,
           2010,
           2007,
           2007,
           2013,
           2011,
           2020,
           2021,
           2008,
           2006,
           2016,
           2004,
           2023,
           2023,
           2017,
           2013,
           2004,
           2015,
           2009,
           2008,
           1998,
           2021,
           2011,
           2015,
           2007,
           2010,
           2011,
           2010,
           2011,
           2023,
           2006,
           2020,
           2020,
           2009,
           2008,
           2023,
           2012,
           2007,
           2011,
           2018,
           2016,
           2002,
           2006,
           2006,
           2013,
           2007,
           2005,
           2015,
           2016,
           2023,
           2009,
           2014,
           2008,
           2018,
           2004,
           2003,
           2013,
           2012,
           1995,
           2020,
           2014,
           2011,
           2020,
           2014,
           2010,
           2016,
           2018,
           2009,
           2008,
           2017,
           2010,
           2000,
           2003,
           2012,
           2019,
           2016,
           1985,
           1997,
           2005,
           2014,
           2021,
           2014,
           2022,
           2010,
           2006,
           2007,
           2009,
           2014,
           2013,
           2010,
           2007,
           2003,
           2002,
           2001,
           2023,
           2023,
           2014,
           2015,
           2013,
           2013,
           1999,
           2003,
           2016,
           2006,
           2005,
           2018,
           2003,
           2019,
           2001,
           2004,
           2002,
           2005,
           1985,
           2008,
           2018,
           2013,
           2007,
           2008,
           2001,
           2022,
           2005,
           2003,
           2005,
           1999,
           2001,
           2005,
           2004,
           2003,
           2001,
           2004,
           2008,
           2013,
           2019,
           2009,
           2015,
           2011,
           2007,
           2006,
           2009
          ],
          "coloraxis": "coloraxis",
          "pattern": {
           "shape": ""
          }
         },
         "name": "",
         "offsetgroup": "",
         "orientation": "v",
         "showlegend": false,
         "textposition": "auto",
         "type": "bar",
         "x": [
          "Maruti",
          "Maruti",
          "Maruti",
          "Maruti",
          "Hyundai",
          "Hyundai",
          "Hyundai",
          "Hyundai",
          "Maruti",
          "Maruti",
          "Maruti",
          "Maruti",
          "Honda",
          "Hyundai",
          "Maruti",
          "Hyundai",
          "Maruti",
          "Honda",
          "Honda",
          "Hyundai",
          "Honda",
          "Honda",
          "Hyundai",
          "Maruti",
          "Tata",
          "Hyundai",
          "Hyundai",
          "Hyundai",
          "Hyundai",
          "Hyundai",
          "Tata",
          "Maruti",
          "Honda",
          "Ford",
          "Tata",
          "Honda",
          "Mahindra",
          "Maruti",
          "Kia",
          "Tata",
          "Ford",
          "Renault",
          "Maruti",
          "Mahindra",
          "Mahindra",
          "Renault",
          "Kia",
          "Volkswagen",
          "Renault",
          "Hyundai",
          "Tata",
          "Renault",
          "Honda",
          "Honda",
          "Mahindra",
          "Mahindra",
          "Renault",
          "Honda",
          "Mercedes-Benz",
          "Toyota",
          "Ford",
          "Toyota",
          "Kia",
          "Jeep",
          "Mahindra",
          "Renault",
          "Volkswagen",
          "Ford",
          "MG",
          "Toyota",
          "Volkswagen",
          "Mercedes-Benz",
          "Toyota",
          "Kia",
          "Mahindra",
          "Audi",
          "BMW",
          "Maruti",
          "Toyota",
          "Mercedes-Benz",
          "Tata",
          "Renault",
          "Audi",
          "Mahindra",
          "Ford",
          "Volkswagen",
          "Volkswagen",
          "Toyota",
          "Volkswagen",
          "Tata",
          "MG",
          "Honda",
          "Mercedes-Benz",
          "Volkswagen",
          "Maruti",
          "BMW",
          "BMW",
          "Volkswagen",
          "Nissan",
          "Toyota",
          "Audi",
          "Skoda",
          "Toyota",
          "Mahindra",
          "Volkswagen",
          "Jeep",
          "MG",
          "Datsun",
          "BMW",
          "Ford",
          "Ford",
          "Ford",
          "Jeep",
          "Toyota",
          "Toyota",
          "Renault",
          "Mercedes-Benz",
          "Tata",
          "Mercedes-Benz",
          "Skoda",
          "Honda",
          "Hyundai",
          "Mahindra",
          "Mercedes-Benz",
          "Skoda",
          "Renault",
          "Maruti",
          "Volkswagen",
          "Volkswagen",
          "Ford",
          "Mercedes-Benz",
          "Audi",
          "Toyota",
          "Audi",
          "BMW",
          "Mercedes-Benz",
          "Tata",
          "Maruti",
          "Hyundai",
          "Jeep",
          "BMW",
          "Mahindra",
          "Skoda",
          "Mercedes-Benz",
          "Honda",
          "Skoda",
          "Toyota",
          "Skoda",
          "Datsun",
          "Mercedes-Benz",
          "Hyundai",
          "BMW",
          "Jeep",
          "Volkswagen",
          "Datsun",
          "Tata",
          "Ford",
          "Jeep",
          "Chevrolet",
          "Chevrolet",
          "Volkswagen",
          "Honda",
          "BMW",
          "Hyundai",
          "Audi",
          "Honda",
          "Ford",
          "Skoda",
          "Datsun",
          "MG",
          "Datsun",
          "Audi",
          "Tata",
          "Tata",
          "Chevrolet",
          "Maruti",
          "Toyota",
          "Nissan",
          "Skoda",
          "Chevrolet",
          "Toyota",
          "BMW",
          "Nissan",
          "Ford",
          "Skoda",
          "Toyota",
          "Jaguar",
          "Land Rover",
          "Skoda",
          "Maruti",
          "Chevrolet",
          "Mercedes-Benz",
          "BMW",
          "Toyota",
          "Datsun",
          "Skoda",
          "BMW",
          "MG",
          "Mahindra",
          "Chevrolet",
          "Fiat",
          "Land Rover",
          "Audi",
          "Audi",
          "Maruti",
          "Nissan",
          "Nissan",
          "Volvo",
          "Volvo",
          "Tata",
          "Fiat",
          "Volvo",
          "Jaguar",
          "Jaguar",
          "Kia",
          "Tata",
          "Land Rover",
          "Jaguar",
          "Skoda",
          "Mahindra",
          "Mercedes-Benz",
          "BMW",
          "Hyundai",
          "Renault",
          "Chevrolet",
          "Honda",
          "Honda",
          "Audi",
          "Volvo",
          "Ford",
          "Nissan",
          "Audi",
          "BMW",
          "Fiat",
          "Nissan",
          "Fiat",
          "Nissan",
          "Chevrolet",
          "Toyota",
          "Hyundai",
          "Citroen",
          "Maruti",
          "Nissan",
          "BMW",
          "Land Rover",
          "Volvo",
          "Renault",
          "Renault",
          "Jaguar",
          "Skoda",
          "Mercedes-Benz",
          "Land Rover",
          "Land Rover",
          "Tata",
          "Skoda",
          "Tata",
          "Skoda",
          "Nissan",
          "Nissan",
          "Volvo",
          "Skoda",
          "Toyota",
          "Porsche",
          "Tata",
          "Volvo",
          "Honda",
          "Chevrolet",
          "Land Rover",
          "Honda",
          "Mini",
          "Ford",
          "Ford",
          "Maruti",
          "Citroen",
          "Fiat",
          "Chevrolet",
          "Mahindra",
          "BMW",
          "Mahindra",
          "Audi",
          "Audi",
          "Jeep",
          "Mahindra",
          "Jaguar",
          "Lexus",
          "Mahindra",
          "Tata",
          "Land Rover",
          "Land Rover",
          "Mitsubishi",
          "Jaguar",
          "Isuzu",
          "Isuzu",
          "Hyundai",
          "Skoda",
          "Ford",
          "Fiat",
          "Chevrolet",
          "Chevrolet",
          "Volvo",
          "Volvo",
          "Audi",
          "Mahindra Renault",
          "Land Rover",
          "Mercedes-Benz",
          "Nissan",
          "Opel",
          "Maruti",
          "Mitsubishi",
          "Mitsubishi",
          "Maruti",
          "Mini",
          "Mahindra Ssangyong",
          "Mitsubishi",
          "Porsche",
          "Mini",
          "Nissan",
          "Fiat",
          "Fiat",
          "Volkswagen",
          "Volkswagen",
          "Fiat",
          "Mahindra Renault",
          "Ford",
          "Ford",
          "Fiat",
          "Mini",
          "Mini",
          "Hindustan Motors",
          "Hindustan Motors",
          "Ford",
          "Datsun",
          "Mini",
          "Mitsubishi",
          "Volvo",
          "Mitsubishi",
          "BMW",
          "BMW",
          "BMW",
          "Volvo",
          "Volvo",
          "Volvo",
          "Fiat",
          "Mitsubishi",
          "Mitsubishi",
          "Mitsubishi",
          "Mini",
          "Citroen",
          "Hindustan Motors",
          "Datsun",
          "Hindustan Motors",
          "Mini",
          "Honda",
          "Mahindra",
          "Lexus",
          "Tata",
          "Tata",
          "Lexus",
          "Tata",
          "Lexus",
          "Mahindra",
          "Mahindra",
          "Mercedes-Benz",
          "Mahindra",
          "Maruti",
          "Mahindra",
          "Mahindra Ssangyong",
          "Mahindra Ssangyong",
          "Mahindra Renault",
          "Mahindra Renault",
          "Mercedes-Benz",
          "Land Rover",
          "Honda",
          "Opel",
          "Skoda",
          "Hyundai",
          "Hyundai",
          "Toyota",
          "Toyota",
          "Toyota",
          "Toyota",
          "Hyundai",
          "Mitsubishi",
          "Porsche",
          "Isuzu",
          "Mercedes-Benz",
          "Jaguar",
          "Land Rover",
          "Mercedes-Benz",
          "Mercedes-Benz",
          "Audi"
         ],
         "xaxis": "x",
         "y": [
          301,
          282,
          250,
          211,
          183,
          182,
          178,
          174,
          169,
          160,
          153,
          140,
          131,
          131,
          115,
          114,
          112,
          108,
          108,
          108,
          100,
          98,
          86,
          83,
          82,
          79,
          79,
          77,
          77,
          74,
          70,
          69,
          66,
          54,
          51,
          50,
          49,
          49,
          48,
          48,
          48,
          47,
          46,
          46,
          45,
          45,
          44,
          42,
          41,
          40,
          40,
          39,
          38,
          37,
          37,
          37,
          36,
          35,
          35,
          33,
          33,
          33,
          33,
          32,
          32,
          31,
          30,
          30,
          30,
          29,
          29,
          28,
          27,
          27,
          27,
          27,
          27,
          26,
          26,
          26,
          26,
          26,
          26,
          25,
          25,
          25,
          24,
          24,
          24,
          23,
          23,
          23,
          23,
          22,
          21,
          21,
          21,
          21,
          21,
          21,
          21,
          21,
          21,
          20,
          20,
          20,
          20,
          19,
          19,
          19,
          19,
          19,
          19,
          19,
          19,
          18,
          18,
          18,
          18,
          18,
          18,
          17,
          17,
          17,
          16,
          16,
          16,
          16,
          16,
          16,
          16,
          15,
          15,
          15,
          15,
          14,
          14,
          14,
          14,
          14,
          14,
          14,
          14,
          13,
          13,
          13,
          13,
          13,
          13,
          13,
          13,
          12,
          12,
          12,
          12,
          12,
          12,
          12,
          12,
          12,
          11,
          11,
          11,
          11,
          11,
          11,
          11,
          10,
          10,
          10,
          10,
          10,
          10,
          10,
          9,
          9,
          9,
          9,
          9,
          9,
          9,
          9,
          9,
          9,
          9,
          8,
          8,
          8,
          8,
          8,
          8,
          8,
          8,
          8,
          8,
          8,
          8,
          7,
          7,
          7,
          7,
          7,
          6,
          6,
          6,
          6,
          6,
          6,
          6,
          6,
          6,
          6,
          6,
          6,
          6,
          6,
          6,
          6,
          6,
          6,
          5,
          5,
          5,
          5,
          5,
          5,
          5,
          5,
          5,
          5,
          5,
          5,
          4,
          4,
          4,
          4,
          4,
          4,
          4,
          4,
          4,
          4,
          4,
          4,
          4,
          4,
          4,
          4,
          4,
          4,
          4,
          4,
          4,
          4,
          3,
          3,
          3,
          3,
          3,
          3,
          3,
          3,
          3,
          3,
          3,
          3,
          3,
          3,
          3,
          3,
          3,
          3,
          3,
          3,
          3,
          3,
          3,
          3,
          3,
          3,
          3,
          3,
          2,
          2,
          2,
          2,
          2,
          2,
          2,
          2,
          2,
          2,
          2,
          2,
          2,
          2,
          2,
          2,
          2,
          2,
          2,
          2,
          2,
          2,
          2,
          2,
          2,
          2,
          2,
          2,
          2,
          2,
          2,
          2,
          2,
          2,
          2,
          1,
          1,
          1,
          1,
          1,
          1,
          1,
          1,
          1,
          1,
          1,
          1,
          1,
          1,
          1,
          1,
          1,
          1,
          1,
          1,
          1,
          1,
          1,
          1,
          1,
          1,
          1,
          1,
          1,
          1,
          1,
          1,
          1,
          1,
          1,
          1,
          1,
          1,
          1,
          1,
          1,
          1,
          1,
          1,
          1,
          1,
          1,
          1,
          1,
          1,
          1,
          1,
          1,
          1,
          1,
          1,
          1,
          1,
          1,
          1,
          1,
          1,
          1,
          1,
          1,
          1,
          1,
          1,
          1,
          1,
          1,
          1,
          1,
          1
         ],
         "yaxis": "y"
        }
       ],
       "layout": {
        "barmode": "relative",
        "coloraxis": {
         "colorbar": {
          "title": {
           "text": "modelYear"
          }
         },
         "colorscale": [
          [
           0,
           "#0d0887"
          ],
          [
           0.1111111111111111,
           "#46039f"
          ],
          [
           0.2222222222222222,
           "#7201a8"
          ],
          [
           0.3333333333333333,
           "#9c179e"
          ],
          [
           0.4444444444444444,
           "#bd3786"
          ],
          [
           0.5555555555555556,
           "#d8576b"
          ],
          [
           0.6666666666666666,
           "#ed7953"
          ],
          [
           0.7777777777777778,
           "#fb9f3a"
          ],
          [
           0.8888888888888888,
           "#fdca26"
          ],
          [
           1,
           "#f0f921"
          ]
         ]
        },
        "font": {
         "color": "white"
        },
        "legend": {
         "tracegroupgap": 0
        },
        "margin": {
         "t": 60
        },
        "paper_bgcolor": "black",
        "plot_bgcolor": "black",
        "template": {
         "data": {
          "bar": [
           {
            "error_x": {
             "color": "#2a3f5f"
            },
            "error_y": {
             "color": "#2a3f5f"
            },
            "marker": {
             "line": {
              "color": "#E5ECF6",
              "width": 0.5
             },
             "pattern": {
              "fillmode": "overlay",
              "size": 10,
              "solidity": 0.2
             }
            },
            "type": "bar"
           }
          ],
          "barpolar": [
           {
            "marker": {
             "line": {
              "color": "#E5ECF6",
              "width": 0.5
             },
             "pattern": {
              "fillmode": "overlay",
              "size": 10,
              "solidity": 0.2
             }
            },
            "type": "barpolar"
           }
          ],
          "carpet": [
           {
            "aaxis": {
             "endlinecolor": "#2a3f5f",
             "gridcolor": "white",
             "linecolor": "white",
             "minorgridcolor": "white",
             "startlinecolor": "#2a3f5f"
            },
            "baxis": {
             "endlinecolor": "#2a3f5f",
             "gridcolor": "white",
             "linecolor": "white",
             "minorgridcolor": "white",
             "startlinecolor": "#2a3f5f"
            },
            "type": "carpet"
           }
          ],
          "choropleth": [
           {
            "colorbar": {
             "outlinewidth": 0,
             "ticks": ""
            },
            "type": "choropleth"
           }
          ],
          "contour": [
           {
            "colorbar": {
             "outlinewidth": 0,
             "ticks": ""
            },
            "colorscale": [
             [
              0,
              "#0d0887"
             ],
             [
              0.1111111111111111,
              "#46039f"
             ],
             [
              0.2222222222222222,
              "#7201a8"
             ],
             [
              0.3333333333333333,
              "#9c179e"
             ],
             [
              0.4444444444444444,
              "#bd3786"
             ],
             [
              0.5555555555555556,
              "#d8576b"
             ],
             [
              0.6666666666666666,
              "#ed7953"
             ],
             [
              0.7777777777777778,
              "#fb9f3a"
             ],
             [
              0.8888888888888888,
              "#fdca26"
             ],
             [
              1,
              "#f0f921"
             ]
            ],
            "type": "contour"
           }
          ],
          "contourcarpet": [
           {
            "colorbar": {
             "outlinewidth": 0,
             "ticks": ""
            },
            "type": "contourcarpet"
           }
          ],
          "heatmap": [
           {
            "colorbar": {
             "outlinewidth": 0,
             "ticks": ""
            },
            "colorscale": [
             [
              0,
              "#0d0887"
             ],
             [
              0.1111111111111111,
              "#46039f"
             ],
             [
              0.2222222222222222,
              "#7201a8"
             ],
             [
              0.3333333333333333,
              "#9c179e"
             ],
             [
              0.4444444444444444,
              "#bd3786"
             ],
             [
              0.5555555555555556,
              "#d8576b"
             ],
             [
              0.6666666666666666,
              "#ed7953"
             ],
             [
              0.7777777777777778,
              "#fb9f3a"
             ],
             [
              0.8888888888888888,
              "#fdca26"
             ],
             [
              1,
              "#f0f921"
             ]
            ],
            "type": "heatmap"
           }
          ],
          "heatmapgl": [
           {
            "colorbar": {
             "outlinewidth": 0,
             "ticks": ""
            },
            "colorscale": [
             [
              0,
              "#0d0887"
             ],
             [
              0.1111111111111111,
              "#46039f"
             ],
             [
              0.2222222222222222,
              "#7201a8"
             ],
             [
              0.3333333333333333,
              "#9c179e"
             ],
             [
              0.4444444444444444,
              "#bd3786"
             ],
             [
              0.5555555555555556,
              "#d8576b"
             ],
             [
              0.6666666666666666,
              "#ed7953"
             ],
             [
              0.7777777777777778,
              "#fb9f3a"
             ],
             [
              0.8888888888888888,
              "#fdca26"
             ],
             [
              1,
              "#f0f921"
             ]
            ],
            "type": "heatmapgl"
           }
          ],
          "histogram": [
           {
            "marker": {
             "pattern": {
              "fillmode": "overlay",
              "size": 10,
              "solidity": 0.2
             }
            },
            "type": "histogram"
           }
          ],
          "histogram2d": [
           {
            "colorbar": {
             "outlinewidth": 0,
             "ticks": ""
            },
            "colorscale": [
             [
              0,
              "#0d0887"
             ],
             [
              0.1111111111111111,
              "#46039f"
             ],
             [
              0.2222222222222222,
              "#7201a8"
             ],
             [
              0.3333333333333333,
              "#9c179e"
             ],
             [
              0.4444444444444444,
              "#bd3786"
             ],
             [
              0.5555555555555556,
              "#d8576b"
             ],
             [
              0.6666666666666666,
              "#ed7953"
             ],
             [
              0.7777777777777778,
              "#fb9f3a"
             ],
             [
              0.8888888888888888,
              "#fdca26"
             ],
             [
              1,
              "#f0f921"
             ]
            ],
            "type": "histogram2d"
           }
          ],
          "histogram2dcontour": [
           {
            "colorbar": {
             "outlinewidth": 0,
             "ticks": ""
            },
            "colorscale": [
             [
              0,
              "#0d0887"
             ],
             [
              0.1111111111111111,
              "#46039f"
             ],
             [
              0.2222222222222222,
              "#7201a8"
             ],
             [
              0.3333333333333333,
              "#9c179e"
             ],
             [
              0.4444444444444444,
              "#bd3786"
             ],
             [
              0.5555555555555556,
              "#d8576b"
             ],
             [
              0.6666666666666666,
              "#ed7953"
             ],
             [
              0.7777777777777778,
              "#fb9f3a"
             ],
             [
              0.8888888888888888,
              "#fdca26"
             ],
             [
              1,
              "#f0f921"
             ]
            ],
            "type": "histogram2dcontour"
           }
          ],
          "mesh3d": [
           {
            "colorbar": {
             "outlinewidth": 0,
             "ticks": ""
            },
            "type": "mesh3d"
           }
          ],
          "parcoords": [
           {
            "line": {
             "colorbar": {
              "outlinewidth": 0,
              "ticks": ""
             }
            },
            "type": "parcoords"
           }
          ],
          "pie": [
           {
            "automargin": true,
            "type": "pie"
           }
          ],
          "scatter": [
           {
            "fillpattern": {
             "fillmode": "overlay",
             "size": 10,
             "solidity": 0.2
            },
            "type": "scatter"
           }
          ],
          "scatter3d": [
           {
            "line": {
             "colorbar": {
              "outlinewidth": 0,
              "ticks": ""
             }
            },
            "marker": {
             "colorbar": {
              "outlinewidth": 0,
              "ticks": ""
             }
            },
            "type": "scatter3d"
           }
          ],
          "scattercarpet": [
           {
            "marker": {
             "colorbar": {
              "outlinewidth": 0,
              "ticks": ""
             }
            },
            "type": "scattercarpet"
           }
          ],
          "scattergeo": [
           {
            "marker": {
             "colorbar": {
              "outlinewidth": 0,
              "ticks": ""
             }
            },
            "type": "scattergeo"
           }
          ],
          "scattergl": [
           {
            "marker": {
             "colorbar": {
              "outlinewidth": 0,
              "ticks": ""
             }
            },
            "type": "scattergl"
           }
          ],
          "scattermapbox": [
           {
            "marker": {
             "colorbar": {
              "outlinewidth": 0,
              "ticks": ""
             }
            },
            "type": "scattermapbox"
           }
          ],
          "scatterpolar": [
           {
            "marker": {
             "colorbar": {
              "outlinewidth": 0,
              "ticks": ""
             }
            },
            "type": "scatterpolar"
           }
          ],
          "scatterpolargl": [
           {
            "marker": {
             "colorbar": {
              "outlinewidth": 0,
              "ticks": ""
             }
            },
            "type": "scatterpolargl"
           }
          ],
          "scatterternary": [
           {
            "marker": {
             "colorbar": {
              "outlinewidth": 0,
              "ticks": ""
             }
            },
            "type": "scatterternary"
           }
          ],
          "surface": [
           {
            "colorbar": {
             "outlinewidth": 0,
             "ticks": ""
            },
            "colorscale": [
             [
              0,
              "#0d0887"
             ],
             [
              0.1111111111111111,
              "#46039f"
             ],
             [
              0.2222222222222222,
              "#7201a8"
             ],
             [
              0.3333333333333333,
              "#9c179e"
             ],
             [
              0.4444444444444444,
              "#bd3786"
             ],
             [
              0.5555555555555556,
              "#d8576b"
             ],
             [
              0.6666666666666666,
              "#ed7953"
             ],
             [
              0.7777777777777778,
              "#fb9f3a"
             ],
             [
              0.8888888888888888,
              "#fdca26"
             ],
             [
              1,
              "#f0f921"
             ]
            ],
            "type": "surface"
           }
          ],
          "table": [
           {
            "cells": {
             "fill": {
              "color": "#EBF0F8"
             },
             "line": {
              "color": "white"
             }
            },
            "header": {
             "fill": {
              "color": "#C8D4E3"
             },
             "line": {
              "color": "white"
             }
            },
            "type": "table"
           }
          ]
         },
         "layout": {
          "annotationdefaults": {
           "arrowcolor": "#2a3f5f",
           "arrowhead": 0,
           "arrowwidth": 1
          },
          "autotypenumbers": "strict",
          "coloraxis": {
           "colorbar": {
            "outlinewidth": 0,
            "ticks": ""
           }
          },
          "colorscale": {
           "diverging": [
            [
             0,
             "#8e0152"
            ],
            [
             0.1,
             "#c51b7d"
            ],
            [
             0.2,
             "#de77ae"
            ],
            [
             0.3,
             "#f1b6da"
            ],
            [
             0.4,
             "#fde0ef"
            ],
            [
             0.5,
             "#f7f7f7"
            ],
            [
             0.6,
             "#e6f5d0"
            ],
            [
             0.7,
             "#b8e186"
            ],
            [
             0.8,
             "#7fbc41"
            ],
            [
             0.9,
             "#4d9221"
            ],
            [
             1,
             "#276419"
            ]
           ],
           "sequential": [
            [
             0,
             "#0d0887"
            ],
            [
             0.1111111111111111,
             "#46039f"
            ],
            [
             0.2222222222222222,
             "#7201a8"
            ],
            [
             0.3333333333333333,
             "#9c179e"
            ],
            [
             0.4444444444444444,
             "#bd3786"
            ],
            [
             0.5555555555555556,
             "#d8576b"
            ],
            [
             0.6666666666666666,
             "#ed7953"
            ],
            [
             0.7777777777777778,
             "#fb9f3a"
            ],
            [
             0.8888888888888888,
             "#fdca26"
            ],
            [
             1,
             "#f0f921"
            ]
           ],
           "sequentialminus": [
            [
             0,
             "#0d0887"
            ],
            [
             0.1111111111111111,
             "#46039f"
            ],
            [
             0.2222222222222222,
             "#7201a8"
            ],
            [
             0.3333333333333333,
             "#9c179e"
            ],
            [
             0.4444444444444444,
             "#bd3786"
            ],
            [
             0.5555555555555556,
             "#d8576b"
            ],
            [
             0.6666666666666666,
             "#ed7953"
            ],
            [
             0.7777777777777778,
             "#fb9f3a"
            ],
            [
             0.8888888888888888,
             "#fdca26"
            ],
            [
             1,
             "#f0f921"
            ]
           ]
          },
          "colorway": [
           "#636efa",
           "#EF553B",
           "#00cc96",
           "#ab63fa",
           "#FFA15A",
           "#19d3f3",
           "#FF6692",
           "#B6E880",
           "#FF97FF",
           "#FECB52"
          ],
          "font": {
           "color": "#2a3f5f"
          },
          "geo": {
           "bgcolor": "white",
           "lakecolor": "white",
           "landcolor": "#E5ECF6",
           "showlakes": true,
           "showland": true,
           "subunitcolor": "white"
          },
          "hoverlabel": {
           "align": "left"
          },
          "hovermode": "closest",
          "mapbox": {
           "style": "light"
          },
          "paper_bgcolor": "white",
          "plot_bgcolor": "#E5ECF6",
          "polar": {
           "angularaxis": {
            "gridcolor": "white",
            "linecolor": "white",
            "ticks": ""
           },
           "bgcolor": "#E5ECF6",
           "radialaxis": {
            "gridcolor": "white",
            "linecolor": "white",
            "ticks": ""
           }
          },
          "scene": {
           "xaxis": {
            "backgroundcolor": "#E5ECF6",
            "gridcolor": "white",
            "gridwidth": 2,
            "linecolor": "white",
            "showbackground": true,
            "ticks": "",
            "zerolinecolor": "white"
           },
           "yaxis": {
            "backgroundcolor": "#E5ECF6",
            "gridcolor": "white",
            "gridwidth": 2,
            "linecolor": "white",
            "showbackground": true,
            "ticks": "",
            "zerolinecolor": "white"
           },
           "zaxis": {
            "backgroundcolor": "#E5ECF6",
            "gridcolor": "white",
            "gridwidth": 2,
            "linecolor": "white",
            "showbackground": true,
            "ticks": "",
            "zerolinecolor": "white"
           }
          },
          "shapedefaults": {
           "line": {
            "color": "#2a3f5f"
           }
          },
          "ternary": {
           "aaxis": {
            "gridcolor": "white",
            "linecolor": "white",
            "ticks": ""
           },
           "baxis": {
            "gridcolor": "white",
            "linecolor": "white",
            "ticks": ""
           },
           "bgcolor": "#E5ECF6",
           "caxis": {
            "gridcolor": "white",
            "linecolor": "white",
            "ticks": ""
           }
          },
          "title": {
           "x": 0.05
          },
          "xaxis": {
           "automargin": true,
           "gridcolor": "white",
           "linecolor": "white",
           "ticks": "",
           "title": {
            "standoff": 15
           },
           "zerolinecolor": "white",
           "zerolinewidth": 2
          },
          "yaxis": {
           "automargin": true,
           "gridcolor": "white",
           "linecolor": "white",
           "ticks": "",
           "title": {
            "standoff": 15
           },
           "zerolinecolor": "white",
           "zerolinewidth": 2
          }
         }
        },
        "title": {
         "text": "OEM Wise Total No Of Cars In Years",
         "x": 0.45,
         "y": 0.95
        },
        "xaxis": {
         "anchor": "y",
         "domain": [
          0,
          1
         ],
         "tickangle": -45,
         "title": {
          "text": "OEM Names"
         }
        },
        "yaxis": {
         "anchor": "x",
         "domain": [
          0,
          1
         ],
         "title": {
          "text": "Total Cars Counts"
         }
        }
       }
      }
     },
     "metadata": {},
     "output_type": "display_data"
    }
   ],
   "source": [
    "OemCountFrameYear = detail_frame.groupby(['oem','modelYear']).price.agg(['count']).sort_values(by = 'count',ascending = False).reset_index()\n",
    "\n",
    "OemCountFrameYear.rename(columns = {'count':'Total Cars'}, inplace = True)\n",
    "fig = px.bar(OemCountFrameYear, x=\"oem\", y=\"Total Cars\",color = 'modelYear', orientation='v')\n",
    "fig.update_layout( xaxis_tickangle=-45)\n",
    "\n",
    "fig.update_layout(title_text=\"OEM Wise Total No Of Cars In Years\")\n",
    "fig.update_layout(title=dict(x=0.45, y=0.95))\n",
    "\n",
    "fig.update_xaxes(title_text=\"OEM Names\")\n",
    "fig.update_yaxes(title_text=\"Total Cars Counts\")\n",
    "fig.update_layout(\n",
    "    plot_bgcolor='black',  # Set background color to black\n",
    "    paper_bgcolor='black',  # Set paper (outside plot area) color to black\n",
    "    font=dict(color='white')  # Set text color to white\n",
    ")\n",
    "fig.show()"
   ]
  },
  {
   "cell_type": "markdown",
   "metadata": {},
   "source": [
    "#### Total Cars Available Vs Years"
   ]
  },
  {
   "cell_type": "code",
   "execution_count": 175,
   "metadata": {},
   "outputs": [
    {
     "data": {
      "application/vnd.plotly.v1+json": {
       "config": {
        "plotlyServerURL": "https://plot.ly"
       },
       "data": [
        {
         "alignmentgroup": "True",
         "hovertemplate": "modelYear=%{x}<br>Total Cars=%{y}<extra></extra>",
         "legendgroup": "",
         "marker": {
          "color": "#636efa",
          "pattern": {
           "shape": ""
          }
         },
         "name": "",
         "offsetgroup": "",
         "orientation": "v",
         "showlegend": false,
         "textposition": "auto",
         "type": "bar",
         "x": [
          2018,
          2017,
          2016,
          2019,
          2021,
          2020,
          2015,
          2014,
          2022,
          2013,
          2012,
          2011,
          2010,
          2009,
          2023,
          2008,
          2007,
          2006,
          2004,
          2005,
          2003,
          2002,
          2001,
          1998,
          1995,
          1985,
          1999,
          2000,
          1997
         ],
         "xaxis": "x",
         "y": [
          980,
          945,
          815,
          789,
          686,
          612,
          605,
          588,
          563,
          400,
          339,
          272,
          254,
          144,
          104,
          85,
          56,
          44,
          25,
          20,
          13,
          10,
          9,
          3,
          2,
          2,
          2,
          1,
          1
         ],
         "yaxis": "y"
        }
       ],
       "layout": {
        "barmode": "relative",
        "font": {
         "color": "white"
        },
        "legend": {
         "tracegroupgap": 0
        },
        "margin": {
         "t": 60
        },
        "paper_bgcolor": "black",
        "plot_bgcolor": "black",
        "template": {
         "data": {
          "bar": [
           {
            "error_x": {
             "color": "#2a3f5f"
            },
            "error_y": {
             "color": "#2a3f5f"
            },
            "marker": {
             "line": {
              "color": "#E5ECF6",
              "width": 0.5
             },
             "pattern": {
              "fillmode": "overlay",
              "size": 10,
              "solidity": 0.2
             }
            },
            "type": "bar"
           }
          ],
          "barpolar": [
           {
            "marker": {
             "line": {
              "color": "#E5ECF6",
              "width": 0.5
             },
             "pattern": {
              "fillmode": "overlay",
              "size": 10,
              "solidity": 0.2
             }
            },
            "type": "barpolar"
           }
          ],
          "carpet": [
           {
            "aaxis": {
             "endlinecolor": "#2a3f5f",
             "gridcolor": "white",
             "linecolor": "white",
             "minorgridcolor": "white",
             "startlinecolor": "#2a3f5f"
            },
            "baxis": {
             "endlinecolor": "#2a3f5f",
             "gridcolor": "white",
             "linecolor": "white",
             "minorgridcolor": "white",
             "startlinecolor": "#2a3f5f"
            },
            "type": "carpet"
           }
          ],
          "choropleth": [
           {
            "colorbar": {
             "outlinewidth": 0,
             "ticks": ""
            },
            "type": "choropleth"
           }
          ],
          "contour": [
           {
            "colorbar": {
             "outlinewidth": 0,
             "ticks": ""
            },
            "colorscale": [
             [
              0,
              "#0d0887"
             ],
             [
              0.1111111111111111,
              "#46039f"
             ],
             [
              0.2222222222222222,
              "#7201a8"
             ],
             [
              0.3333333333333333,
              "#9c179e"
             ],
             [
              0.4444444444444444,
              "#bd3786"
             ],
             [
              0.5555555555555556,
              "#d8576b"
             ],
             [
              0.6666666666666666,
              "#ed7953"
             ],
             [
              0.7777777777777778,
              "#fb9f3a"
             ],
             [
              0.8888888888888888,
              "#fdca26"
             ],
             [
              1,
              "#f0f921"
             ]
            ],
            "type": "contour"
           }
          ],
          "contourcarpet": [
           {
            "colorbar": {
             "outlinewidth": 0,
             "ticks": ""
            },
            "type": "contourcarpet"
           }
          ],
          "heatmap": [
           {
            "colorbar": {
             "outlinewidth": 0,
             "ticks": ""
            },
            "colorscale": [
             [
              0,
              "#0d0887"
             ],
             [
              0.1111111111111111,
              "#46039f"
             ],
             [
              0.2222222222222222,
              "#7201a8"
             ],
             [
              0.3333333333333333,
              "#9c179e"
             ],
             [
              0.4444444444444444,
              "#bd3786"
             ],
             [
              0.5555555555555556,
              "#d8576b"
             ],
             [
              0.6666666666666666,
              "#ed7953"
             ],
             [
              0.7777777777777778,
              "#fb9f3a"
             ],
             [
              0.8888888888888888,
              "#fdca26"
             ],
             [
              1,
              "#f0f921"
             ]
            ],
            "type": "heatmap"
           }
          ],
          "heatmapgl": [
           {
            "colorbar": {
             "outlinewidth": 0,
             "ticks": ""
            },
            "colorscale": [
             [
              0,
              "#0d0887"
             ],
             [
              0.1111111111111111,
              "#46039f"
             ],
             [
              0.2222222222222222,
              "#7201a8"
             ],
             [
              0.3333333333333333,
              "#9c179e"
             ],
             [
              0.4444444444444444,
              "#bd3786"
             ],
             [
              0.5555555555555556,
              "#d8576b"
             ],
             [
              0.6666666666666666,
              "#ed7953"
             ],
             [
              0.7777777777777778,
              "#fb9f3a"
             ],
             [
              0.8888888888888888,
              "#fdca26"
             ],
             [
              1,
              "#f0f921"
             ]
            ],
            "type": "heatmapgl"
           }
          ],
          "histogram": [
           {
            "marker": {
             "pattern": {
              "fillmode": "overlay",
              "size": 10,
              "solidity": 0.2
             }
            },
            "type": "histogram"
           }
          ],
          "histogram2d": [
           {
            "colorbar": {
             "outlinewidth": 0,
             "ticks": ""
            },
            "colorscale": [
             [
              0,
              "#0d0887"
             ],
             [
              0.1111111111111111,
              "#46039f"
             ],
             [
              0.2222222222222222,
              "#7201a8"
             ],
             [
              0.3333333333333333,
              "#9c179e"
             ],
             [
              0.4444444444444444,
              "#bd3786"
             ],
             [
              0.5555555555555556,
              "#d8576b"
             ],
             [
              0.6666666666666666,
              "#ed7953"
             ],
             [
              0.7777777777777778,
              "#fb9f3a"
             ],
             [
              0.8888888888888888,
              "#fdca26"
             ],
             [
              1,
              "#f0f921"
             ]
            ],
            "type": "histogram2d"
           }
          ],
          "histogram2dcontour": [
           {
            "colorbar": {
             "outlinewidth": 0,
             "ticks": ""
            },
            "colorscale": [
             [
              0,
              "#0d0887"
             ],
             [
              0.1111111111111111,
              "#46039f"
             ],
             [
              0.2222222222222222,
              "#7201a8"
             ],
             [
              0.3333333333333333,
              "#9c179e"
             ],
             [
              0.4444444444444444,
              "#bd3786"
             ],
             [
              0.5555555555555556,
              "#d8576b"
             ],
             [
              0.6666666666666666,
              "#ed7953"
             ],
             [
              0.7777777777777778,
              "#fb9f3a"
             ],
             [
              0.8888888888888888,
              "#fdca26"
             ],
             [
              1,
              "#f0f921"
             ]
            ],
            "type": "histogram2dcontour"
           }
          ],
          "mesh3d": [
           {
            "colorbar": {
             "outlinewidth": 0,
             "ticks": ""
            },
            "type": "mesh3d"
           }
          ],
          "parcoords": [
           {
            "line": {
             "colorbar": {
              "outlinewidth": 0,
              "ticks": ""
             }
            },
            "type": "parcoords"
           }
          ],
          "pie": [
           {
            "automargin": true,
            "type": "pie"
           }
          ],
          "scatter": [
           {
            "fillpattern": {
             "fillmode": "overlay",
             "size": 10,
             "solidity": 0.2
            },
            "type": "scatter"
           }
          ],
          "scatter3d": [
           {
            "line": {
             "colorbar": {
              "outlinewidth": 0,
              "ticks": ""
             }
            },
            "marker": {
             "colorbar": {
              "outlinewidth": 0,
              "ticks": ""
             }
            },
            "type": "scatter3d"
           }
          ],
          "scattercarpet": [
           {
            "marker": {
             "colorbar": {
              "outlinewidth": 0,
              "ticks": ""
             }
            },
            "type": "scattercarpet"
           }
          ],
          "scattergeo": [
           {
            "marker": {
             "colorbar": {
              "outlinewidth": 0,
              "ticks": ""
             }
            },
            "type": "scattergeo"
           }
          ],
          "scattergl": [
           {
            "marker": {
             "colorbar": {
              "outlinewidth": 0,
              "ticks": ""
             }
            },
            "type": "scattergl"
           }
          ],
          "scattermapbox": [
           {
            "marker": {
             "colorbar": {
              "outlinewidth": 0,
              "ticks": ""
             }
            },
            "type": "scattermapbox"
           }
          ],
          "scatterpolar": [
           {
            "marker": {
             "colorbar": {
              "outlinewidth": 0,
              "ticks": ""
             }
            },
            "type": "scatterpolar"
           }
          ],
          "scatterpolargl": [
           {
            "marker": {
             "colorbar": {
              "outlinewidth": 0,
              "ticks": ""
             }
            },
            "type": "scatterpolargl"
           }
          ],
          "scatterternary": [
           {
            "marker": {
             "colorbar": {
              "outlinewidth": 0,
              "ticks": ""
             }
            },
            "type": "scatterternary"
           }
          ],
          "surface": [
           {
            "colorbar": {
             "outlinewidth": 0,
             "ticks": ""
            },
            "colorscale": [
             [
              0,
              "#0d0887"
             ],
             [
              0.1111111111111111,
              "#46039f"
             ],
             [
              0.2222222222222222,
              "#7201a8"
             ],
             [
              0.3333333333333333,
              "#9c179e"
             ],
             [
              0.4444444444444444,
              "#bd3786"
             ],
             [
              0.5555555555555556,
              "#d8576b"
             ],
             [
              0.6666666666666666,
              "#ed7953"
             ],
             [
              0.7777777777777778,
              "#fb9f3a"
             ],
             [
              0.8888888888888888,
              "#fdca26"
             ],
             [
              1,
              "#f0f921"
             ]
            ],
            "type": "surface"
           }
          ],
          "table": [
           {
            "cells": {
             "fill": {
              "color": "#EBF0F8"
             },
             "line": {
              "color": "white"
             }
            },
            "header": {
             "fill": {
              "color": "#C8D4E3"
             },
             "line": {
              "color": "white"
             }
            },
            "type": "table"
           }
          ]
         },
         "layout": {
          "annotationdefaults": {
           "arrowcolor": "#2a3f5f",
           "arrowhead": 0,
           "arrowwidth": 1
          },
          "autotypenumbers": "strict",
          "coloraxis": {
           "colorbar": {
            "outlinewidth": 0,
            "ticks": ""
           }
          },
          "colorscale": {
           "diverging": [
            [
             0,
             "#8e0152"
            ],
            [
             0.1,
             "#c51b7d"
            ],
            [
             0.2,
             "#de77ae"
            ],
            [
             0.3,
             "#f1b6da"
            ],
            [
             0.4,
             "#fde0ef"
            ],
            [
             0.5,
             "#f7f7f7"
            ],
            [
             0.6,
             "#e6f5d0"
            ],
            [
             0.7,
             "#b8e186"
            ],
            [
             0.8,
             "#7fbc41"
            ],
            [
             0.9,
             "#4d9221"
            ],
            [
             1,
             "#276419"
            ]
           ],
           "sequential": [
            [
             0,
             "#0d0887"
            ],
            [
             0.1111111111111111,
             "#46039f"
            ],
            [
             0.2222222222222222,
             "#7201a8"
            ],
            [
             0.3333333333333333,
             "#9c179e"
            ],
            [
             0.4444444444444444,
             "#bd3786"
            ],
            [
             0.5555555555555556,
             "#d8576b"
            ],
            [
             0.6666666666666666,
             "#ed7953"
            ],
            [
             0.7777777777777778,
             "#fb9f3a"
            ],
            [
             0.8888888888888888,
             "#fdca26"
            ],
            [
             1,
             "#f0f921"
            ]
           ],
           "sequentialminus": [
            [
             0,
             "#0d0887"
            ],
            [
             0.1111111111111111,
             "#46039f"
            ],
            [
             0.2222222222222222,
             "#7201a8"
            ],
            [
             0.3333333333333333,
             "#9c179e"
            ],
            [
             0.4444444444444444,
             "#bd3786"
            ],
            [
             0.5555555555555556,
             "#d8576b"
            ],
            [
             0.6666666666666666,
             "#ed7953"
            ],
            [
             0.7777777777777778,
             "#fb9f3a"
            ],
            [
             0.8888888888888888,
             "#fdca26"
            ],
            [
             1,
             "#f0f921"
            ]
           ]
          },
          "colorway": [
           "#636efa",
           "#EF553B",
           "#00cc96",
           "#ab63fa",
           "#FFA15A",
           "#19d3f3",
           "#FF6692",
           "#B6E880",
           "#FF97FF",
           "#FECB52"
          ],
          "font": {
           "color": "#2a3f5f"
          },
          "geo": {
           "bgcolor": "white",
           "lakecolor": "white",
           "landcolor": "#E5ECF6",
           "showlakes": true,
           "showland": true,
           "subunitcolor": "white"
          },
          "hoverlabel": {
           "align": "left"
          },
          "hovermode": "closest",
          "mapbox": {
           "style": "light"
          },
          "paper_bgcolor": "white",
          "plot_bgcolor": "#E5ECF6",
          "polar": {
           "angularaxis": {
            "gridcolor": "white",
            "linecolor": "white",
            "ticks": ""
           },
           "bgcolor": "#E5ECF6",
           "radialaxis": {
            "gridcolor": "white",
            "linecolor": "white",
            "ticks": ""
           }
          },
          "scene": {
           "xaxis": {
            "backgroundcolor": "#E5ECF6",
            "gridcolor": "white",
            "gridwidth": 2,
            "linecolor": "white",
            "showbackground": true,
            "ticks": "",
            "zerolinecolor": "white"
           },
           "yaxis": {
            "backgroundcolor": "#E5ECF6",
            "gridcolor": "white",
            "gridwidth": 2,
            "linecolor": "white",
            "showbackground": true,
            "ticks": "",
            "zerolinecolor": "white"
           },
           "zaxis": {
            "backgroundcolor": "#E5ECF6",
            "gridcolor": "white",
            "gridwidth": 2,
            "linecolor": "white",
            "showbackground": true,
            "ticks": "",
            "zerolinecolor": "white"
           }
          },
          "shapedefaults": {
           "line": {
            "color": "#2a3f5f"
           }
          },
          "ternary": {
           "aaxis": {
            "gridcolor": "white",
            "linecolor": "white",
            "ticks": ""
           },
           "baxis": {
            "gridcolor": "white",
            "linecolor": "white",
            "ticks": ""
           },
           "bgcolor": "#E5ECF6",
           "caxis": {
            "gridcolor": "white",
            "linecolor": "white",
            "ticks": ""
           }
          },
          "title": {
           "x": 0.05
          },
          "xaxis": {
           "automargin": true,
           "gridcolor": "white",
           "linecolor": "white",
           "ticks": "",
           "title": {
            "standoff": 15
           },
           "zerolinecolor": "white",
           "zerolinewidth": 2
          },
          "yaxis": {
           "automargin": true,
           "gridcolor": "white",
           "linecolor": "white",
           "ticks": "",
           "title": {
            "standoff": 15
           },
           "zerolinecolor": "white",
           "zerolinewidth": 2
          }
         }
        },
        "title": {
         "text": "Year Wise Total No Of Cars Available",
         "x": 0.45,
         "y": 0.95
        },
        "xaxis": {
         "anchor": "y",
         "domain": [
          0,
          1
         ],
         "tickangle": -45,
         "title": {
          "text": "Years Of Model"
         }
        },
        "yaxis": {
         "anchor": "x",
         "domain": [
          0,
          1
         ],
         "title": {
          "text": "Total No Of Cars Available"
         }
        }
       }
      }
     },
     "metadata": {},
     "output_type": "display_data"
    }
   ],
   "source": [
    "CarCountByYear = detail_frame.modelYear.value_counts().to_frame().reset_index()\n",
    "CarCountByYear.rename(columns = {'count':'Total Cars'}, inplace = True)\n",
    "\n",
    "fig = px.bar(CarCountByYear, x=\"modelYear\", y=\"Total Cars\", orientation='v')\n",
    "fig.update_layout( xaxis_tickangle=-45)\n",
    "\n",
    "fig.update_layout(title_text=\"Year Wise Total No Of Cars Available\")\n",
    "fig.update_layout(title=dict(x=0.45, y=0.95))\n",
    "\n",
    "fig.update_xaxes(title_text=\"Years Of Model\")\n",
    "fig.update_yaxes(title_text=\"Total No Of Cars Available\")\n",
    "fig.update_layout(\n",
    "    plot_bgcolor='black',  # Set background color to black\n",
    "    paper_bgcolor='black',  # Set paper (outside plot area) color to black\n",
    "    font=dict(color='white')  # Set text color to white\n",
    ")"
   ]
  },
  {
   "cell_type": "code",
   "execution_count": null,
   "metadata": {},
   "outputs": [],
   "source": []
  }
 ],
 "metadata": {
  "kernelspec": {
   "display_name": ".venv",
   "language": "python",
   "name": "python3"
  },
  "language_info": {
   "codemirror_mode": {
    "name": "ipython",
    "version": 3
   },
   "file_extension": ".py",
   "mimetype": "text/x-python",
   "name": "python",
   "nbconvert_exporter": "python",
   "pygments_lexer": "ipython3",
   "version": "3.11.5"
  }
 },
 "nbformat": 4,
 "nbformat_minor": 2
}
